{
 "cells": [
  {
   "cell_type": "markdown",
   "metadata": {},
   "source": [
    "<img src=\"Canada.jpeg\" style=\"height: 250px\">\n",
    "<center style=\"color:#888\">Siniestros en Canadá"
   ]
  },
  {
   "cell_type": "markdown",
   "metadata": {
    "id": "c7YoOLWjyPji"
   },
   "source": [
    "Trabajo elaborado por: Sara Arranz Armesto, Fátima Fontenla González, Jorge García Hernandez, Daniel Muñoz Plaza, Javier Pedrazuela Flor, Mario Retuerta Jiménez.\n",
    "\n"
   ]
  },
  {
   "cell_type": "markdown",
   "metadata": {
    "id": "19eaeb98"
   },
   "source": [
    "### Problema abordado:"
   ]
  },
  {
   "cell_type": "markdown",
   "metadata": {
    "id": "ThKt60SKuGVw"
   },
   "source": [
    "El trabajo consta de dos partes, la primera de ellas trata un problema de análisis supervisado en el que se ajusta un modelo para predecir si un accidente es mortal o no, al igual que si se necesitará tratamiento médico en el caso de haber heridos. Para ello, utilizaremos distintos modelos viendo cual de ellos se comporta mejor.\n",
    "\n",
    "La siguiente parte consistirá en un problema de análisis no supervisado en el que clasificaremos los datos en distintos grupos a partir de diferentes algoritmos de clustering, para su posterior estudio.\n",
    "\n",
    "\n",
    "El dataset elegido trata sobre los siniestros que han ocurrido en Canada desde 1999 a 2014. Al tratarse de datos reales, requieren una limpieza y procesamiento previo mas exhaustivo, en consecuencia en las siguientes celdas se refleja cómo hemos abordado el preprocesamiento de los datos:"
   ]
  },
  {
   "cell_type": "markdown",
   "metadata": {
    "id": "VTk9JjLTlyqH"
   },
   "source": [
    "### Preprocessing:"
   ]
  },
  {
   "cell_type": "markdown",
   "metadata": {
    "id": "wtOH_iKuyv3l"
   },
   "source": [
    "Importamos todas las librerías necesarias:  "
   ]
  },
  {
   "cell_type": "code",
   "execution_count": 375,
   "metadata": {
    "id": "41ae3128"
   },
   "outputs": [],
   "source": [
    "import pandas as pd \n",
    "import numpy as np\n",
    "import matplotlib.pyplot as plt\n",
    "from numpy.random import rand, seed\n",
    "from sklearn.neighbors import kneighbors_graph\n",
    "from matplotlib.colors import ListedColormap\n",
    "from sklearn.cluster import KMeans, SpectralClustering, DBSCAN, AgglomerativeClustering\n",
    "from sklearn.mixture import GaussianMixture\n",
    "from sklearn.metrics import adjusted_mutual_info_score\n",
    "import seaborn as sns"
   ]
  },
  {
   "cell_type": "markdown",
   "metadata": {
    "id": "IA2Q4G72y9jE"
   },
   "source": [
    "Ahora bien, introducimos los datos cuyo dataset se encuentra en el siguiente enlace:\n",
    "https://www.kaggle.com/datasets/tbsteal/canadian-car-accidents-19942014?select=drivingLegend.pdf  \n",
    "\n",
    "\n",
    "\n"
   ]
  },
  {
   "cell_type": "code",
   "execution_count": 376,
   "metadata": {
    "colab": {
     "base_uri": "https://localhost:8080/"
    },
    "id": "eb2b28b8",
    "outputId": "83bcabf1-9244-41c1-8edf-a5be8cabe66e"
   },
   "outputs": [
    {
     "name": "stderr",
     "output_type": "stream",
     "text": [
      "D:\\ANACONDA\\lib\\site-packages\\IPython\\core\\interactiveshell.py:3146: DtypeWarning: Columns (1,2,5,12) have mixed types.Specify dtype option on import or set low_memory=False.\n",
      "  has_raised = await self.run_ast_nodes(code_ast.body, cell_name,\n"
     ]
    }
   ],
   "source": [
    "ncdb= pd.read_csv('NCDB_1999_to_2014.csv')"
   ]
  },
  {
   "cell_type": "code",
   "execution_count": 377,
   "metadata": {
    "colab": {
     "base_uri": "https://localhost:8080/"
    },
    "id": "01f89e01",
    "outputId": "6d4faed8-1f02-4f1c-deeb-f8721cd1a4fd"
   },
   "outputs": [
    {
     "data": {
      "text/plain": [
       "(5860405, 22)"
      ]
     },
     "execution_count": 377,
     "metadata": {},
     "output_type": "execute_result"
    }
   ],
   "source": [
    "ncdb.shape"
   ]
  },
  {
   "cell_type": "markdown",
   "metadata": {
    "id": "5QWqS2cU0AK0"
   },
   "source": [
    "A través del enlace hemos obtenido el pdf llamado: _drivingLegend_ donde nos indican los valores que toma cada variable. Analizando el documento observamos que si las variables toman los valores 'U','UU' o 'UUUU' indica que en ese caso no se han proporcionado los datos, en consecuencia definiremos estos valores como datos faltantes o missing:"
   ]
  },
  {
   "cell_type": "code",
   "execution_count": 378,
   "metadata": {
    "id": "5fd0716c"
   },
   "outputs": [],
   "source": [
    "ncdb.loc[ncdb['C_MNTH']=='UU', 'C_MNTH']= np.nan\n",
    "ncdb.loc[ncdb['C_HOUR']=='UU', 'C_HOUR']= np.nan\n",
    "ncdb.loc[ncdb['C_VEHS']=='UU', 'C_VEHS']= np.nan\n",
    "ncdb.loc[ncdb['C_CONF']=='UU', 'C_CONF']= np.nan\n",
    "ncdb.loc[ncdb['C_RCFG']=='UU', 'C_RCFG']= np.nan\n",
    "ncdb.loc[ncdb['C_TRAF']=='UU', 'C_TRAF']= np.nan\n",
    "ncdb.loc[ncdb['V_ID']=='UU', 'V_ID']= np.nan\n",
    "ncdb.loc[ncdb['V_TYPE']=='UU', 'V_TYPE']= np.nan\n",
    "ncdb.loc[ncdb['P_ID']=='UU', 'P_ID']= np.nan\n",
    "ncdb.loc[ncdb['P_AGE']=='UU', 'P_AGE']= np.nan\n",
    "ncdb.loc[ncdb['P_PSN']=='UU', 'P_PSN']= np.nan\n",
    "ncdb.loc[ncdb['P_SAFE']=='UU', 'P_SAFE']= np.nan"
   ]
  },
  {
   "cell_type": "code",
   "execution_count": 379,
   "metadata": {
    "id": "1a4af648"
   },
   "outputs": [],
   "source": [
    "ncdb.loc[ncdb['C_WDAY']=='U', 'C_WDAY']= np.nan\n",
    "ncdb.loc[ncdb['C_WTHR']=='U', 'C_WTHR']= np.nan\n",
    "ncdb.loc[ncdb['C_RSUR']=='U', 'C_RSUR']= np.nan\n",
    "ncdb.loc[ncdb['C_RALN']=='U', 'C_RALN']= np.nan\n",
    "ncdb.loc[ncdb['P_ISEV']=='U', 'P_ISEV']= np.nan\n",
    "ncdb.loc[ncdb['C_SEV']=='U', 'C_SEV']= np.nan\n",
    "ncdb.loc[ncdb['P_SEX']=='U', 'P_SEX']= np.nan"
   ]
  },
  {
   "cell_type": "code",
   "execution_count": 380,
   "metadata": {
    "id": "0bc6a77f"
   },
   "outputs": [],
   "source": [
    "ncdb.loc[ncdb['V_YEAR']=='UUUU', 'V_YEAR']= np.nan"
   ]
  },
  {
   "cell_type": "code",
   "execution_count": 381,
   "metadata": {
    "colab": {
     "base_uri": "https://localhost:8080/"
    },
    "id": "9f462b1e",
    "outputId": "91e2f406-0249-4cc5-8d6f-6b52a6b99bd0"
   },
   "outputs": [
    {
     "data": {
      "text/plain": [
       "C_YEAR         0\n",
       "C_MNTH       385\n",
       "C_WDAY      1323\n",
       "C_HOUR     59409\n",
       "C_SEV          0\n",
       "C_VEHS       544\n",
       "C_CONF    179019\n",
       "C_RCFG    504648\n",
       "C_WTHR     87975\n",
       "C_RSUR     78451\n",
       "C_RALN    434710\n",
       "C_TRAF    223483\n",
       "V_ID         433\n",
       "V_TYPE     29754\n",
       "V_YEAR    324122\n",
       "P_ID          16\n",
       "P_SEX     234954\n",
       "P_AGE     377140\n",
       "P_PSN      57662\n",
       "P_ISEV     80701\n",
       "P_SAFE    615188\n",
       "P_USER         0\n",
       "dtype: int64"
      ]
     },
     "execution_count": 381,
     "metadata": {},
     "output_type": "execute_result"
    }
   ],
   "source": [
    "ncdb.isna().sum() "
   ]
  },
  {
   "cell_type": "code",
   "execution_count": 382,
   "metadata": {
    "colab": {
     "base_uri": "https://localhost:8080/"
    },
    "id": "507d8d6c",
    "outputId": "2639da85-3e0a-4b99-8ae2-510ed5a0034e"
   },
   "outputs": [
    {
     "data": {
      "text/plain": [
       "5860405"
      ]
     },
     "execution_count": 382,
     "metadata": {},
     "output_type": "execute_result"
    }
   ],
   "source": [
    "ncdb.shape[0]"
   ]
  },
  {
   "cell_type": "markdown",
   "metadata": {
    "id": "32a3b3fa"
   },
   "source": [
    "Debido a la gran cantidad de observaciones vamos a tomar una submuestra ya que trabajar con tantos datos supone un coste computacional muy elevado que nos imposibilita trabajar correctamente."
   ]
  },
  {
   "cell_type": "code",
   "execution_count": 383,
   "metadata": {
    "id": "af417cf2"
   },
   "outputs": [],
   "source": [
    "a = ncdb.isna().sum()/ncdb.shape[0]"
   ]
  },
  {
   "cell_type": "code",
   "execution_count": 384,
   "metadata": {
    "id": "d32338ab"
   },
   "outputs": [],
   "source": [
    "ncdb=ncdb.sample(frac=0.01,random_state=0,axis=0)"
   ]
  },
  {
   "cell_type": "code",
   "execution_count": 385,
   "metadata": {
    "id": "ca172a8d"
   },
   "outputs": [],
   "source": [
    "b = ncdb.isna().sum()/ncdb.shape[0]"
   ]
  },
  {
   "cell_type": "code",
   "execution_count": 386,
   "metadata": {
    "colab": {
     "base_uri": "https://localhost:8080/"
    },
    "id": "e2dc2c5c",
    "outputId": "f00f5e0e-fa94-4b4c-b9ff-a8cc62e0c234",
    "scrolled": true
   },
   "outputs": [
    {
     "data": {
      "text/plain": [
       "C_YEAR    0.000000\n",
       "C_MNTH   -0.000037\n",
       "C_WDAY   -0.000081\n",
       "C_HOUR    0.000138\n",
       "C_SEV     0.000000\n",
       "C_VEHS   -0.000078\n",
       "C_CONF    0.000976\n",
       "C_RCFG   -0.001630\n",
       "C_WTHR   -0.000636\n",
       "C_RSUR    0.000179\n",
       "C_RALN   -0.001159\n",
       "C_TRAF   -0.001044\n",
       "V_ID     -0.000011\n",
       "V_TYPE   -0.000537\n",
       "V_YEAR   -0.000867\n",
       "P_ID      0.000003\n",
       "P_SEX     0.000845\n",
       "P_AGE     0.000502\n",
       "P_PSN    -0.000245\n",
       "P_ISEV   -0.000887\n",
       "P_SAFE   -0.001367\n",
       "P_USER    0.000000\n",
       "dtype: float64"
      ]
     },
     "execution_count": 386,
     "metadata": {},
     "output_type": "execute_result"
    }
   ],
   "source": [
    "a-b"
   ]
  },
  {
   "cell_type": "markdown",
   "metadata": {
    "id": "eOLTFYkm2WF-"
   },
   "source": [
    "Observamos que aproximadamente tienen una media parecida de valores faltantes, por tanto continuamos el estudio con la submuestra generada:"
   ]
  },
  {
   "cell_type": "code",
   "execution_count": 387,
   "metadata": {
    "colab": {
     "base_uri": "https://localhost:8080/"
    },
    "id": "e3adad56",
    "outputId": "f90d53a5-c962-424c-a27c-bbd5e337773e"
   },
   "outputs": [
    {
     "data": {
      "text/plain": [
       "(58604, 22)"
      ]
     },
     "execution_count": 387,
     "metadata": {},
     "output_type": "execute_result"
    }
   ],
   "source": [
    "ncdb.shape"
   ]
  },
  {
   "cell_type": "code",
   "execution_count": 388,
   "metadata": {
    "colab": {
     "base_uri": "https://localhost:8080/",
     "height": 456
    },
    "id": "24187114",
    "outputId": "99cf9c86-8ae0-4a7c-a3f0-b7d6970ce692",
    "scrolled": false
   },
   "outputs": [
    {
     "data": {
      "text/html": [
       "<div>\n",
       "<style scoped>\n",
       "    .dataframe tbody tr th:only-of-type {\n",
       "        vertical-align: middle;\n",
       "    }\n",
       "\n",
       "    .dataframe tbody tr th {\n",
       "        vertical-align: top;\n",
       "    }\n",
       "\n",
       "    .dataframe thead th {\n",
       "        text-align: right;\n",
       "    }\n",
       "</style>\n",
       "<table border=\"1\" class=\"dataframe\">\n",
       "  <thead>\n",
       "    <tr style=\"text-align: right;\">\n",
       "      <th></th>\n",
       "      <th>C_YEAR</th>\n",
       "      <th>C_MNTH</th>\n",
       "      <th>C_WDAY</th>\n",
       "      <th>C_HOUR</th>\n",
       "      <th>C_SEV</th>\n",
       "      <th>C_VEHS</th>\n",
       "      <th>C_CONF</th>\n",
       "      <th>C_RCFG</th>\n",
       "      <th>C_WTHR</th>\n",
       "      <th>C_RSUR</th>\n",
       "      <th>...</th>\n",
       "      <th>V_ID</th>\n",
       "      <th>V_TYPE</th>\n",
       "      <th>V_YEAR</th>\n",
       "      <th>P_ID</th>\n",
       "      <th>P_SEX</th>\n",
       "      <th>P_AGE</th>\n",
       "      <th>P_PSN</th>\n",
       "      <th>P_ISEV</th>\n",
       "      <th>P_SAFE</th>\n",
       "      <th>P_USER</th>\n",
       "    </tr>\n",
       "  </thead>\n",
       "  <tbody>\n",
       "    <tr>\n",
       "      <th>3875526</th>\n",
       "      <td>2008</td>\n",
       "      <td>11</td>\n",
       "      <td>1</td>\n",
       "      <td>13</td>\n",
       "      <td>2.0</td>\n",
       "      <td>2</td>\n",
       "      <td>NaN</td>\n",
       "      <td>02</td>\n",
       "      <td>2</td>\n",
       "      <td>3</td>\n",
       "      <td>...</td>\n",
       "      <td>1</td>\n",
       "      <td>01</td>\n",
       "      <td>1997</td>\n",
       "      <td>01</td>\n",
       "      <td>M</td>\n",
       "      <td>73</td>\n",
       "      <td>11</td>\n",
       "      <td>1</td>\n",
       "      <td>NaN</td>\n",
       "      <td>1</td>\n",
       "    </tr>\n",
       "    <tr>\n",
       "      <th>5184676</th>\n",
       "      <td>2012</td>\n",
       "      <td>10</td>\n",
       "      <td>6</td>\n",
       "      <td>12</td>\n",
       "      <td>2.0</td>\n",
       "      <td>1</td>\n",
       "      <td>06</td>\n",
       "      <td>02</td>\n",
       "      <td>3</td>\n",
       "      <td>2</td>\n",
       "      <td>...</td>\n",
       "      <td>01</td>\n",
       "      <td>01</td>\n",
       "      <td>1999</td>\n",
       "      <td>01</td>\n",
       "      <td>M</td>\n",
       "      <td>17</td>\n",
       "      <td>11</td>\n",
       "      <td>2</td>\n",
       "      <td>02</td>\n",
       "      <td>1</td>\n",
       "    </tr>\n",
       "    <tr>\n",
       "      <th>5109095</th>\n",
       "      <td>2012</td>\n",
       "      <td>8</td>\n",
       "      <td>2</td>\n",
       "      <td>00</td>\n",
       "      <td>2.0</td>\n",
       "      <td>1</td>\n",
       "      <td>04</td>\n",
       "      <td>01</td>\n",
       "      <td>1</td>\n",
       "      <td>1</td>\n",
       "      <td>...</td>\n",
       "      <td>01</td>\n",
       "      <td>01</td>\n",
       "      <td>1999</td>\n",
       "      <td>01</td>\n",
       "      <td>M</td>\n",
       "      <td>33</td>\n",
       "      <td>11</td>\n",
       "      <td>2</td>\n",
       "      <td>02</td>\n",
       "      <td>1</td>\n",
       "    </tr>\n",
       "    <tr>\n",
       "      <th>4268397</th>\n",
       "      <td>2010</td>\n",
       "      <td>01</td>\n",
       "      <td>2</td>\n",
       "      <td>10</td>\n",
       "      <td>2.0</td>\n",
       "      <td>02</td>\n",
       "      <td>21</td>\n",
       "      <td>02</td>\n",
       "      <td>1</td>\n",
       "      <td>2</td>\n",
       "      <td>...</td>\n",
       "      <td>1</td>\n",
       "      <td>01</td>\n",
       "      <td>2005</td>\n",
       "      <td>01</td>\n",
       "      <td>M</td>\n",
       "      <td>50</td>\n",
       "      <td>11</td>\n",
       "      <td>1</td>\n",
       "      <td>02</td>\n",
       "      <td>1</td>\n",
       "    </tr>\n",
       "    <tr>\n",
       "      <th>4655495</th>\n",
       "      <td>2011</td>\n",
       "      <td>3</td>\n",
       "      <td>2</td>\n",
       "      <td>02</td>\n",
       "      <td>2.0</td>\n",
       "      <td>2</td>\n",
       "      <td>06</td>\n",
       "      <td>01</td>\n",
       "      <td>1</td>\n",
       "      <td>1</td>\n",
       "      <td>...</td>\n",
       "      <td>1</td>\n",
       "      <td>01</td>\n",
       "      <td>2009</td>\n",
       "      <td>02</td>\n",
       "      <td>M</td>\n",
       "      <td>36</td>\n",
       "      <td>13</td>\n",
       "      <td>1</td>\n",
       "      <td>02</td>\n",
       "      <td>2</td>\n",
       "    </tr>\n",
       "    <tr>\n",
       "      <th>5493879</th>\n",
       "      <td>2013</td>\n",
       "      <td>10</td>\n",
       "      <td>4</td>\n",
       "      <td>22</td>\n",
       "      <td>2.0</td>\n",
       "      <td>2</td>\n",
       "      <td>36</td>\n",
       "      <td>02</td>\n",
       "      <td>3</td>\n",
       "      <td>2</td>\n",
       "      <td>...</td>\n",
       "      <td>1</td>\n",
       "      <td>01</td>\n",
       "      <td>NaN</td>\n",
       "      <td>02</td>\n",
       "      <td>M</td>\n",
       "      <td>11</td>\n",
       "      <td>23</td>\n",
       "      <td>2</td>\n",
       "      <td>02</td>\n",
       "      <td>2</td>\n",
       "    </tr>\n",
       "    <tr>\n",
       "      <th>1104880</th>\n",
       "      <td>2001</td>\n",
       "      <td>9</td>\n",
       "      <td>1</td>\n",
       "      <td>16</td>\n",
       "      <td>2.0</td>\n",
       "      <td>2</td>\n",
       "      <td>35</td>\n",
       "      <td>02</td>\n",
       "      <td>1</td>\n",
       "      <td>1</td>\n",
       "      <td>...</td>\n",
       "      <td>01</td>\n",
       "      <td>01</td>\n",
       "      <td>1965</td>\n",
       "      <td>02</td>\n",
       "      <td>F</td>\n",
       "      <td>25</td>\n",
       "      <td>13</td>\n",
       "      <td>2</td>\n",
       "      <td>02</td>\n",
       "      <td>2</td>\n",
       "    </tr>\n",
       "    <tr>\n",
       "      <th>4776704</th>\n",
       "      <td>2011</td>\n",
       "      <td>7</td>\n",
       "      <td>7</td>\n",
       "      <td>16</td>\n",
       "      <td>2.0</td>\n",
       "      <td>3</td>\n",
       "      <td>35</td>\n",
       "      <td>02</td>\n",
       "      <td>1</td>\n",
       "      <td>1</td>\n",
       "      <td>...</td>\n",
       "      <td>02</td>\n",
       "      <td>01</td>\n",
       "      <td>1997</td>\n",
       "      <td>02</td>\n",
       "      <td>F</td>\n",
       "      <td>32</td>\n",
       "      <td>13</td>\n",
       "      <td>1</td>\n",
       "      <td>02</td>\n",
       "      <td>2</td>\n",
       "    </tr>\n",
       "    <tr>\n",
       "      <th>4254445</th>\n",
       "      <td>2009</td>\n",
       "      <td>12</td>\n",
       "      <td>5</td>\n",
       "      <td>11</td>\n",
       "      <td>2.0</td>\n",
       "      <td>2</td>\n",
       "      <td>36</td>\n",
       "      <td>02</td>\n",
       "      <td>1</td>\n",
       "      <td>1</td>\n",
       "      <td>...</td>\n",
       "      <td>1</td>\n",
       "      <td>01</td>\n",
       "      <td>2007</td>\n",
       "      <td>01</td>\n",
       "      <td>F</td>\n",
       "      <td>26</td>\n",
       "      <td>11</td>\n",
       "      <td>2</td>\n",
       "      <td>02</td>\n",
       "      <td>1</td>\n",
       "    </tr>\n",
       "    <tr>\n",
       "      <th>4797261</th>\n",
       "      <td>2011</td>\n",
       "      <td>8</td>\n",
       "      <td>5</td>\n",
       "      <td>11</td>\n",
       "      <td>2.0</td>\n",
       "      <td>01</td>\n",
       "      <td>03</td>\n",
       "      <td>NaN</td>\n",
       "      <td>1</td>\n",
       "      <td>1</td>\n",
       "      <td>...</td>\n",
       "      <td>01</td>\n",
       "      <td>01</td>\n",
       "      <td>2008</td>\n",
       "      <td>02</td>\n",
       "      <td>F</td>\n",
       "      <td>52</td>\n",
       "      <td>13</td>\n",
       "      <td>2</td>\n",
       "      <td>02</td>\n",
       "      <td>2</td>\n",
       "    </tr>\n",
       "  </tbody>\n",
       "</table>\n",
       "<p>10 rows × 22 columns</p>\n",
       "</div>"
      ],
      "text/plain": [
       "         C_YEAR C_MNTH C_WDAY C_HOUR  C_SEV C_VEHS C_CONF C_RCFG C_WTHR  \\\n",
       "3875526    2008     11      1     13    2.0      2    NaN     02      2   \n",
       "5184676    2012     10      6     12    2.0      1     06     02      3   \n",
       "5109095    2012      8      2     00    2.0      1     04     01      1   \n",
       "4268397    2010     01      2     10    2.0     02     21     02      1   \n",
       "4655495    2011      3      2     02    2.0      2     06     01      1   \n",
       "5493879    2013     10      4     22    2.0      2     36     02      3   \n",
       "1104880    2001      9      1     16    2.0      2     35     02      1   \n",
       "4776704    2011      7      7     16    2.0      3     35     02      1   \n",
       "4254445    2009     12      5     11    2.0      2     36     02      1   \n",
       "4797261    2011      8      5     11    2.0     01     03    NaN      1   \n",
       "\n",
       "        C_RSUR  ... V_ID V_TYPE V_YEAR P_ID P_SEX P_AGE P_PSN P_ISEV P_SAFE  \\\n",
       "3875526      3  ...    1     01   1997   01     M    73    11      1    NaN   \n",
       "5184676      2  ...   01     01   1999   01     M    17    11      2     02   \n",
       "5109095      1  ...   01     01   1999   01     M    33    11      2     02   \n",
       "4268397      2  ...    1     01   2005   01     M    50    11      1     02   \n",
       "4655495      1  ...    1     01   2009   02     M    36    13      1     02   \n",
       "5493879      2  ...    1     01    NaN   02     M    11    23      2     02   \n",
       "1104880      1  ...   01     01   1965   02     F    25    13      2     02   \n",
       "4776704      1  ...   02     01   1997   02     F    32    13      1     02   \n",
       "4254445      1  ...    1     01   2007   01     F    26    11      2     02   \n",
       "4797261      1  ...   01     01   2008   02     F    52    13      2     02   \n",
       "\n",
       "        P_USER  \n",
       "3875526      1  \n",
       "5184676      1  \n",
       "5109095      1  \n",
       "4268397      1  \n",
       "4655495      2  \n",
       "5493879      2  \n",
       "1104880      2  \n",
       "4776704      2  \n",
       "4254445      1  \n",
       "4797261      2  \n",
       "\n",
       "[10 rows x 22 columns]"
      ]
     },
     "execution_count": 388,
     "metadata": {},
     "output_type": "execute_result"
    }
   ],
   "source": [
    "ncdb.head(10)"
   ]
  },
  {
   "cell_type": "markdown",
   "metadata": {
    "id": "gsgYJ4MB1wza"
   },
   "source": [
    "Al tomar una submuestra los índices que se reflejan en la tabla anterior son los correspondientes al dataset completo. Por tanto, cambiamos los índices para que correspondan con la fila actual del dataset de la submuestra:"
   ]
  },
  {
   "cell_type": "code",
   "execution_count": 389,
   "metadata": {
    "id": "ddea9567"
   },
   "outputs": [],
   "source": [
    "ncdb.reset_index(drop=True,inplace=True)"
   ]
  },
  {
   "cell_type": "code",
   "execution_count": 390,
   "metadata": {
    "colab": {
     "base_uri": "https://localhost:8080/",
     "height": 280
    },
    "id": "099c10c0",
    "outputId": "ba4ec47a-cd37-4a7e-96a4-08f09041bca6"
   },
   "outputs": [
    {
     "data": {
      "text/html": [
       "<div>\n",
       "<style scoped>\n",
       "    .dataframe tbody tr th:only-of-type {\n",
       "        vertical-align: middle;\n",
       "    }\n",
       "\n",
       "    .dataframe tbody tr th {\n",
       "        vertical-align: top;\n",
       "    }\n",
       "\n",
       "    .dataframe thead th {\n",
       "        text-align: right;\n",
       "    }\n",
       "</style>\n",
       "<table border=\"1\" class=\"dataframe\">\n",
       "  <thead>\n",
       "    <tr style=\"text-align: right;\">\n",
       "      <th></th>\n",
       "      <th>C_YEAR</th>\n",
       "      <th>C_MNTH</th>\n",
       "      <th>C_WDAY</th>\n",
       "      <th>C_HOUR</th>\n",
       "      <th>C_SEV</th>\n",
       "      <th>C_VEHS</th>\n",
       "      <th>C_CONF</th>\n",
       "      <th>C_RCFG</th>\n",
       "      <th>C_WTHR</th>\n",
       "      <th>C_RSUR</th>\n",
       "      <th>...</th>\n",
       "      <th>V_ID</th>\n",
       "      <th>V_TYPE</th>\n",
       "      <th>V_YEAR</th>\n",
       "      <th>P_ID</th>\n",
       "      <th>P_SEX</th>\n",
       "      <th>P_AGE</th>\n",
       "      <th>P_PSN</th>\n",
       "      <th>P_ISEV</th>\n",
       "      <th>P_SAFE</th>\n",
       "      <th>P_USER</th>\n",
       "    </tr>\n",
       "  </thead>\n",
       "  <tbody>\n",
       "    <tr>\n",
       "      <th>0</th>\n",
       "      <td>2008</td>\n",
       "      <td>11</td>\n",
       "      <td>1</td>\n",
       "      <td>13</td>\n",
       "      <td>2.0</td>\n",
       "      <td>2</td>\n",
       "      <td>NaN</td>\n",
       "      <td>02</td>\n",
       "      <td>2</td>\n",
       "      <td>3</td>\n",
       "      <td>...</td>\n",
       "      <td>1</td>\n",
       "      <td>01</td>\n",
       "      <td>1997</td>\n",
       "      <td>01</td>\n",
       "      <td>M</td>\n",
       "      <td>73</td>\n",
       "      <td>11</td>\n",
       "      <td>1</td>\n",
       "      <td>NaN</td>\n",
       "      <td>1</td>\n",
       "    </tr>\n",
       "    <tr>\n",
       "      <th>1</th>\n",
       "      <td>2012</td>\n",
       "      <td>10</td>\n",
       "      <td>6</td>\n",
       "      <td>12</td>\n",
       "      <td>2.0</td>\n",
       "      <td>1</td>\n",
       "      <td>06</td>\n",
       "      <td>02</td>\n",
       "      <td>3</td>\n",
       "      <td>2</td>\n",
       "      <td>...</td>\n",
       "      <td>01</td>\n",
       "      <td>01</td>\n",
       "      <td>1999</td>\n",
       "      <td>01</td>\n",
       "      <td>M</td>\n",
       "      <td>17</td>\n",
       "      <td>11</td>\n",
       "      <td>2</td>\n",
       "      <td>02</td>\n",
       "      <td>1</td>\n",
       "    </tr>\n",
       "    <tr>\n",
       "      <th>2</th>\n",
       "      <td>2012</td>\n",
       "      <td>8</td>\n",
       "      <td>2</td>\n",
       "      <td>00</td>\n",
       "      <td>2.0</td>\n",
       "      <td>1</td>\n",
       "      <td>04</td>\n",
       "      <td>01</td>\n",
       "      <td>1</td>\n",
       "      <td>1</td>\n",
       "      <td>...</td>\n",
       "      <td>01</td>\n",
       "      <td>01</td>\n",
       "      <td>1999</td>\n",
       "      <td>01</td>\n",
       "      <td>M</td>\n",
       "      <td>33</td>\n",
       "      <td>11</td>\n",
       "      <td>2</td>\n",
       "      <td>02</td>\n",
       "      <td>1</td>\n",
       "    </tr>\n",
       "    <tr>\n",
       "      <th>3</th>\n",
       "      <td>2010</td>\n",
       "      <td>01</td>\n",
       "      <td>2</td>\n",
       "      <td>10</td>\n",
       "      <td>2.0</td>\n",
       "      <td>02</td>\n",
       "      <td>21</td>\n",
       "      <td>02</td>\n",
       "      <td>1</td>\n",
       "      <td>2</td>\n",
       "      <td>...</td>\n",
       "      <td>1</td>\n",
       "      <td>01</td>\n",
       "      <td>2005</td>\n",
       "      <td>01</td>\n",
       "      <td>M</td>\n",
       "      <td>50</td>\n",
       "      <td>11</td>\n",
       "      <td>1</td>\n",
       "      <td>02</td>\n",
       "      <td>1</td>\n",
       "    </tr>\n",
       "    <tr>\n",
       "      <th>4</th>\n",
       "      <td>2011</td>\n",
       "      <td>3</td>\n",
       "      <td>2</td>\n",
       "      <td>02</td>\n",
       "      <td>2.0</td>\n",
       "      <td>2</td>\n",
       "      <td>06</td>\n",
       "      <td>01</td>\n",
       "      <td>1</td>\n",
       "      <td>1</td>\n",
       "      <td>...</td>\n",
       "      <td>1</td>\n",
       "      <td>01</td>\n",
       "      <td>2009</td>\n",
       "      <td>02</td>\n",
       "      <td>M</td>\n",
       "      <td>36</td>\n",
       "      <td>13</td>\n",
       "      <td>1</td>\n",
       "      <td>02</td>\n",
       "      <td>2</td>\n",
       "    </tr>\n",
       "  </tbody>\n",
       "</table>\n",
       "<p>5 rows × 22 columns</p>\n",
       "</div>"
      ],
      "text/plain": [
       "   C_YEAR C_MNTH C_WDAY C_HOUR  C_SEV C_VEHS C_CONF C_RCFG C_WTHR C_RSUR  ...  \\\n",
       "0    2008     11      1     13    2.0      2    NaN     02      2      3  ...   \n",
       "1    2012     10      6     12    2.0      1     06     02      3      2  ...   \n",
       "2    2012      8      2     00    2.0      1     04     01      1      1  ...   \n",
       "3    2010     01      2     10    2.0     02     21     02      1      2  ...   \n",
       "4    2011      3      2     02    2.0      2     06     01      1      1  ...   \n",
       "\n",
       "  V_ID V_TYPE V_YEAR P_ID P_SEX P_AGE P_PSN P_ISEV P_SAFE P_USER  \n",
       "0    1     01   1997   01     M    73    11      1    NaN      1  \n",
       "1   01     01   1999   01     M    17    11      2     02      1  \n",
       "2   01     01   1999   01     M    33    11      2     02      1  \n",
       "3    1     01   2005   01     M    50    11      1     02      1  \n",
       "4    1     01   2009   02     M    36    13      1     02      2  \n",
       "\n",
       "[5 rows x 22 columns]"
      ]
     },
     "execution_count": 390,
     "metadata": {},
     "output_type": "execute_result"
    }
   ],
   "source": [
    "ncdb.head()"
   ]
  },
  {
   "cell_type": "markdown",
   "metadata": {
    "id": "gz9NfUMY0Baw"
   },
   "source": [
    "En el enlace de kaggle el usuario que proporcionó los datos comentó que hay variables que toman las cifras 01 y 1, siendo el mismo valor, al igual que hay números tomados como string y otros como enteros. \n",
    "\n",
    "Además hay variables que pueden tomar el valor 'QQ' en la observación, indicando que es un valor distinto a los que se contemplan en la escala creada por Stats Canada. Otro valor no numérico que pueden tomar es 'NN' que nos indica que no procede tener un valor que identifique esa variable en esa observación, por ejemplo indicar el sexo cuando la observación hace referencia a un coche aparcado. Por tanto, definiremos un nuevo valor según como sean las variables para esos casos.\n",
    "\n",
    "Por consiguiente, analizaremos los valores de cada una de las variables y en algunos casos modificaremos los valores para que se pueda ajustar mejor a los modelos:"
   ]
  },
  {
   "cell_type": "code",
   "execution_count": 391,
   "metadata": {
    "colab": {
     "base_uri": "https://localhost:8080/"
    },
    "id": "eec93205",
    "outputId": "b591713f-11bb-4fbb-c875-34753c219dda"
   },
   "outputs": [
    {
     "data": {
      "text/plain": [
       "1999    0.071429\n",
       "2000    0.071207\n",
       "2002    0.070678\n",
       "2001    0.069705\n",
       "2003    0.069398\n",
       "2005    0.066139\n",
       "2004    0.065866\n",
       "2006    0.065132\n",
       "2007    0.061463\n",
       "2009    0.058426\n",
       "2010    0.058034\n",
       "2008    0.056293\n",
       "2011    0.055713\n",
       "2012    0.055303\n",
       "2013    0.054689\n",
       "2014    0.050526\n",
       "Name: C_YEAR, dtype: float64"
      ]
     },
     "execution_count": 391,
     "metadata": {},
     "output_type": "execute_result"
    }
   ],
   "source": [
    "ncdb['C_YEAR'].value_counts(normalize=True)"
   ]
  },
  {
   "cell_type": "code",
   "execution_count": 392,
   "metadata": {
    "colab": {
     "base_uri": "https://localhost:8080/"
    },
    "id": "f279f5be",
    "outputId": "7fc71c18-9b52-4715-cc23-65a2489c4d0a",
    "scrolled": false
   },
   "outputs": [
    {
     "data": {
      "text/plain": [
       "8     0.094611\n",
       "7     0.091880\n",
       "6     0.089867\n",
       "9     0.087853\n",
       "10    0.085686\n",
       "11    0.083501\n",
       "5     0.081351\n",
       "3     0.071078\n",
       "2     0.068398\n",
       "4     0.066709\n",
       "12    0.047101\n",
       "01    0.044507\n",
       "12    0.043619\n",
       "1     0.041640\n",
       "02    0.001843\n",
       "11    0.000358\n",
       "Name: C_MNTH, dtype: float64"
      ]
     },
     "execution_count": 392,
     "metadata": {},
     "output_type": "execute_result"
    }
   ],
   "source": [
    "ncdb['C_MNTH'].value_counts(normalize=True)"
   ]
  },
  {
   "cell_type": "code",
   "execution_count": 393,
   "metadata": {
    "id": "df2ed4f3"
   },
   "outputs": [],
   "source": [
    "for i in list(range(0,10)):\n",
    "    ncdb.loc[ncdb['C_MNTH']==f'0{i}', 'C_MNTH']=i"
   ]
  },
  {
   "cell_type": "code",
   "execution_count": 394,
   "metadata": {
    "colab": {
     "base_uri": "https://localhost:8080/"
    },
    "id": "195b8d69",
    "outputId": "858ad514-1fdb-4e7e-f2d5-9e6b8c64ab7d"
   },
   "outputs": [
    {
     "data": {
      "text/plain": [
       "8     0.094611\n",
       "7     0.091880\n",
       "6     0.089867\n",
       "9     0.087853\n",
       "1     0.086146\n",
       "10    0.085686\n",
       "11    0.083501\n",
       "5     0.081351\n",
       "3     0.071078\n",
       "2     0.070241\n",
       "4     0.066709\n",
       "12    0.047101\n",
       "12    0.043619\n",
       "11    0.000358\n",
       "Name: C_MNTH, dtype: float64"
      ]
     },
     "execution_count": 394,
     "metadata": {},
     "output_type": "execute_result"
    }
   ],
   "source": [
    "ncdb['C_MNTH'].value_counts(normalize=True)"
   ]
  },
  {
   "cell_type": "code",
   "execution_count": 395,
   "metadata": {
    "colab": {
     "base_uri": "https://localhost:8080/"
    },
    "id": "45ef3a23",
    "outputId": "17c70905-5114-432c-9ac0-8405751173bf"
   },
   "outputs": [
    {
     "data": {
      "text/plain": [
       "5    0.088451\n",
       "5    0.081350\n",
       "6    0.075940\n",
       "4    0.074642\n",
       "4    0.074557\n",
       "1    0.072150\n",
       "2    0.071860\n",
       "3    0.071553\n",
       "2    0.071229\n",
       "6    0.070119\n",
       "3    0.067149\n",
       "7    0.066739\n",
       "1    0.059758\n",
       "7    0.054501\n",
       "Name: C_WDAY, dtype: float64"
      ]
     },
     "execution_count": 395,
     "metadata": {},
     "output_type": "execute_result"
    }
   ],
   "source": [
    "ncdb['C_WDAY'].value_counts(normalize=True)"
   ]
  },
  {
   "cell_type": "code",
   "execution_count": 396,
   "metadata": {
    "id": "3dd31202"
   },
   "outputs": [],
   "source": [
    "for i in list(range(0,8)):\n",
    "    ncdb.loc[ncdb['C_WDAY']==f'{i}', 'C_WDAY']=i"
   ]
  },
  {
   "cell_type": "code",
   "execution_count": 397,
   "metadata": {
    "colab": {
     "base_uri": "https://localhost:8080/"
    },
    "id": "040a819a",
    "outputId": "d6c0f31a-34e5-4856-ed7a-95f33fe455bb"
   },
   "outputs": [
    {
     "data": {
      "text/plain": [
       "5    0.169802\n",
       "4    0.149199\n",
       "6    0.146059\n",
       "2    0.143089\n",
       "3    0.138702\n",
       "1    0.131909\n",
       "7    0.121241\n",
       "Name: C_WDAY, dtype: float64"
      ]
     },
     "execution_count": 397,
     "metadata": {},
     "output_type": "execute_result"
    }
   ],
   "source": [
    "ncdb['C_WDAY'].value_counts(normalize=True)"
   ]
  },
  {
   "cell_type": "code",
   "execution_count": 398,
   "metadata": {
    "colab": {
     "base_uri": "https://localhost:8080/"
    },
    "id": "18b192b4",
    "outputId": "aa496216-4b96-41e7-dabf-15ea3ad5834d",
    "scrolled": false
   },
   "outputs": [
    {
     "data": {
      "text/plain": [
       "16    0.089851\n",
       "17    0.086077\n",
       "15    0.083922\n",
       "14    0.068479\n",
       "13    0.063894\n",
       "18    0.063549\n",
       "12    0.063101\n",
       "11    0.052553\n",
       "08    0.051915\n",
       "19    0.047933\n",
       "10    0.042539\n",
       "20    0.039091\n",
       "09    0.038040\n",
       "07    0.036075\n",
       "21    0.035368\n",
       "22    0.030594\n",
       "23    0.022700\n",
       "06    0.017357\n",
       "00    0.014995\n",
       "01    0.013685\n",
       "02    0.013444\n",
       "03    0.010773\n",
       "05    0.007394\n",
       "04    0.006670\n",
       "Name: C_HOUR, dtype: float64"
      ]
     },
     "execution_count": 398,
     "metadata": {},
     "output_type": "execute_result"
    }
   ],
   "source": [
    "ncdb['C_HOUR'].value_counts(normalize=True)"
   ]
  },
  {
   "cell_type": "code",
   "execution_count": 399,
   "metadata": {
    "colab": {
     "base_uri": "https://localhost:8080/"
    },
    "id": "f563b527",
    "outputId": "c281974d-3cc5-4649-ef36-9dba397d8b80"
   },
   "outputs": [
    {
     "data": {
      "text/plain": [
       "2.0    0.98268\n",
       "1.0    0.01732\n",
       "Name: C_SEV, dtype: float64"
      ]
     },
     "execution_count": 399,
     "metadata": {},
     "output_type": "execute_result"
    }
   ],
   "source": [
    "ncdb['C_SEV'].value_counts(normalize=True)"
   ]
  },
  {
   "cell_type": "code",
   "execution_count": 400,
   "metadata": {
    "colab": {
     "base_uri": "https://localhost:8080/"
    },
    "id": "f2156bc0",
    "outputId": "c5c8e65f-b94d-4098-8023-92a46d8d6ce4",
    "scrolled": true
   },
   "outputs": [
    {
     "data": {
      "text/plain": [
       "2     0.322798\n",
       "02    0.293733\n",
       "1     0.112930\n",
       "01    0.101273\n",
       "3     0.066543\n",
       "03    0.059238\n",
       "4     0.016742\n",
       "04    0.014370\n",
       "5     0.003601\n",
       "05    0.003243\n",
       "06    0.001348\n",
       "6     0.001195\n",
       "7     0.000580\n",
       "07    0.000529\n",
       "8     0.000273\n",
       "10    0.000188\n",
       "08    0.000154\n",
       "09    0.000154\n",
       "11    0.000119\n",
       "9     0.000102\n",
       "11    0.000085\n",
       "15    0.000068\n",
       "36    0.000051\n",
       "12    0.000051\n",
       "14    0.000051\n",
       "14    0.000051\n",
       "21    0.000034\n",
       "39    0.000034\n",
       "37    0.000034\n",
       "38    0.000034\n",
       "Name: C_VEHS, dtype: float64"
      ]
     },
     "execution_count": 400,
     "metadata": {},
     "output_type": "execute_result"
    }
   ],
   "source": [
    "ncdb['C_VEHS'].value_counts(normalize=True).head(30)"
   ]
  },
  {
   "cell_type": "code",
   "execution_count": 401,
   "metadata": {
    "id": "0bd8df46"
   },
   "outputs": [],
   "source": [
    "for i in list(range(0,10)):\n",
    "    ncdb.loc[ncdb['C_VEHS']==f'0{i}', 'C_VEHS']=i"
   ]
  },
  {
   "cell_type": "code",
   "execution_count": 402,
   "metadata": {
    "colab": {
     "base_uri": "https://localhost:8080/"
    },
    "id": "b80fa203",
    "outputId": "b9ff5eb5-6360-4cd8-9236-6d941c14c4dc",
    "scrolled": true
   },
   "outputs": [
    {
     "data": {
      "text/plain": [
       "2     0.616531\n",
       "1     0.214203\n",
       "3     0.125781\n",
       "4     0.031112\n",
       "5     0.006844\n",
       "6     0.002543\n",
       "7     0.001109\n",
       "8     0.000427\n",
       "9     0.000256\n",
       "10    0.000188\n",
       "11    0.000119\n",
       "11    0.000085\n",
       "15    0.000068\n",
       "36    0.000051\n",
       "12    0.000051\n",
       "14    0.000051\n",
       "14    0.000051\n",
       "21    0.000034\n",
       "20    0.000034\n",
       "38    0.000034\n",
       "24    0.000034\n",
       "10    0.000034\n",
       "37    0.000034\n",
       "39    0.000034\n",
       "22    0.000017\n",
       "18    0.000017\n",
       "17    0.000017\n",
       "20    0.000017\n",
       "19    0.000017\n",
       "71    0.000017\n",
       "30    0.000017\n",
       "58    0.000017\n",
       "12    0.000017\n",
       "27    0.000017\n",
       "26    0.000017\n",
       "43    0.000017\n",
       "13    0.000017\n",
       "72    0.000017\n",
       "16    0.000017\n",
       "17    0.000017\n",
       "44    0.000017\n",
       "Name: C_VEHS, dtype: float64"
      ]
     },
     "execution_count": 402,
     "metadata": {},
     "output_type": "execute_result"
    }
   ],
   "source": [
    "ncdb['C_VEHS'].value_counts(normalize=True).head(60)"
   ]
  },
  {
   "cell_type": "code",
   "execution_count": 403,
   "metadata": {
    "id": "01fab83e"
   },
   "outputs": [],
   "source": [
    "for i in list(range(10,100)):\n",
    "    ncdb.loc[ncdb['C_VEHS']==f'{i}', 'C_VEHS']=i"
   ]
  },
  {
   "cell_type": "code",
   "execution_count": 404,
   "metadata": {
    "colab": {
     "base_uri": "https://localhost:8080/"
    },
    "id": "e99bbe37",
    "outputId": "df4e2cbb-0125-4910-acf1-0aac27ccbb2b"
   },
   "outputs": [
    {
     "data": {
      "text/plain": [
       "2     0.616531\n",
       "1     0.214203\n",
       "3     0.125781\n",
       "4     0.031112\n",
       "5     0.006844\n",
       "6     0.002543\n",
       "7     0.001109\n",
       "8     0.000427\n",
       "9     0.000256\n",
       "10    0.000222\n",
       "11    0.000205\n",
       "14    0.000102\n",
       "12    0.000068\n",
       "15    0.000068\n",
       "36    0.000051\n",
       "20    0.000051\n",
       "37    0.000034\n",
       "38    0.000034\n",
       "39    0.000034\n",
       "24    0.000034\n",
       "21    0.000034\n",
       "17    0.000034\n",
       "72    0.000017\n",
       "13    0.000017\n",
       "16    0.000017\n",
       "71    0.000017\n",
       "19    0.000017\n",
       "22    0.000017\n",
       "26    0.000017\n",
       "27    0.000017\n",
       "30    0.000017\n",
       "43    0.000017\n",
       "44    0.000017\n",
       "58    0.000017\n",
       "18    0.000017\n",
       "Name: C_VEHS, dtype: float64"
      ]
     },
     "execution_count": 404,
     "metadata": {},
     "output_type": "execute_result"
    }
   ],
   "source": [
    "ncdb['C_VEHS'].value_counts(normalize=True)"
   ]
  },
  {
   "cell_type": "code",
   "execution_count": 405,
   "metadata": {
    "colab": {
     "base_uri": "https://localhost:8080/"
    },
    "id": "b597a05e",
    "outputId": "9e3ac1d7-da78-447f-a2bc-4e52627b1143",
    "scrolled": true
   },
   "outputs": [
    {
     "data": {
      "text/plain": [
       "21    0.310703\n",
       "35    0.155387\n",
       "06    0.090151\n",
       "36    0.075786\n",
       "33    0.074854\n",
       "QQ    0.048988\n",
       "04    0.037998\n",
       "31    0.035712\n",
       "22    0.033796\n",
       "02    0.033743\n",
       "03    0.029523\n",
       "01    0.016353\n",
       "41    0.013557\n",
       "23    0.011605\n",
       "34    0.009988\n",
       "32    0.008862\n",
       "24    0.008809\n",
       "25    0.002145\n",
       "05    0.002040\n",
       "Name: C_CONF, dtype: float64"
      ]
     },
     "execution_count": 405,
     "metadata": {},
     "output_type": "execute_result"
    }
   ],
   "source": [
    "ncdb['C_CONF'].value_counts(normalize=True)"
   ]
  },
  {
   "cell_type": "markdown",
   "metadata": {
    "id": "a3feb7a6"
   },
   "source": [
    "En la variable `C_CONF` tomaremos el valor 'QQ' como el número 45, indicando que los objetos implicados en la colisión son otros distintos a los considerados por el estado de Canada."
   ]
  },
  {
   "cell_type": "code",
   "execution_count": 406,
   "metadata": {
    "id": "626c1ee6"
   },
   "outputs": [],
   "source": [
    "ncdb.loc[ncdb['C_CONF']=='QQ', 'C_CONF']=45"
   ]
  },
  {
   "cell_type": "code",
   "execution_count": 407,
   "metadata": {
    "colab": {
     "base_uri": "https://localhost:8080/"
    },
    "id": "85acd4dc",
    "outputId": "4642bcfe-998b-49b5-a355-7d63f0f296f9",
    "scrolled": false
   },
   "outputs": [
    {
     "data": {
      "text/plain": [
       "21    0.310703\n",
       "35    0.155387\n",
       "06    0.090151\n",
       "36    0.075786\n",
       "33    0.074854\n",
       "45    0.048988\n",
       "04    0.037998\n",
       "31    0.035712\n",
       "22    0.033796\n",
       "02    0.033743\n",
       "03    0.029523\n",
       "01    0.016353\n",
       "41    0.013557\n",
       "23    0.011605\n",
       "34    0.009988\n",
       "32    0.008862\n",
       "24    0.008809\n",
       "25    0.002145\n",
       "05    0.002040\n",
       "Name: C_CONF, dtype: float64"
      ]
     },
     "execution_count": 407,
     "metadata": {},
     "output_type": "execute_result"
    }
   ],
   "source": [
    "ncdb['C_CONF'].value_counts(normalize=True)"
   ]
  },
  {
   "cell_type": "code",
   "execution_count": 408,
   "metadata": {
    "colab": {
     "base_uri": "https://localhost:8080/"
    },
    "id": "be7802ac",
    "outputId": "90e8e656-378f-4401-c32e-9f70bd53957f",
    "scrolled": true
   },
   "outputs": [
    {
     "data": {
      "text/plain": [
       "02    0.511765\n",
       "01    0.388463\n",
       "03    0.054974\n",
       "QQ    0.027234\n",
       "05    0.009203\n",
       "04    0.004639\n",
       "08    0.002095\n",
       "06    0.001010\n",
       "09    0.000337\n",
       "07    0.000187\n",
       "10    0.000094\n",
       "Name: C_RCFG, dtype: float64"
      ]
     },
     "execution_count": 408,
     "metadata": {},
     "output_type": "execute_result"
    }
   ],
   "source": [
    "ncdb['C_RCFG'].value_counts(normalize=True)"
   ]
  },
  {
   "cell_type": "markdown",
   "metadata": {
    "id": "30d7abf7"
   },
   "source": [
    "Definiremos el valor de 'QQ' como 13 en la variable `C_RCFG` , indicando que es un escenario distinto a los contemplados."
   ]
  },
  {
   "cell_type": "code",
   "execution_count": 409,
   "metadata": {
    "id": "48a0d37b"
   },
   "outputs": [],
   "source": [
    "ncdb.loc[ncdb['C_RCFG']=='QQ', 'C_RCFG']=13"
   ]
  },
  {
   "cell_type": "code",
   "execution_count": 410,
   "metadata": {
    "colab": {
     "base_uri": "https://localhost:8080/"
    },
    "id": "377593a6",
    "outputId": "d9c89540-f742-4346-8d2f-1448c58e7180"
   },
   "outputs": [
    {
     "data": {
      "text/plain": [
       "02    0.511765\n",
       "01    0.388463\n",
       "03    0.054974\n",
       "13    0.027234\n",
       "05    0.009203\n",
       "04    0.004639\n",
       "08    0.002095\n",
       "06    0.001010\n",
       "09    0.000337\n",
       "07    0.000187\n",
       "10    0.000094\n",
       "Name: C_RCFG, dtype: float64"
      ]
     },
     "execution_count": 410,
     "metadata": {},
     "output_type": "execute_result"
    }
   ],
   "source": [
    "ncdb['C_RCFG'].value_counts(normalize=True)"
   ]
  },
  {
   "cell_type": "code",
   "execution_count": 411,
   "metadata": {
    "colab": {
     "base_uri": "https://localhost:8080/"
    },
    "id": "a42979fe",
    "outputId": "bbdfe572-edb3-4352-8f40-4b2efb08aefe",
    "scrolled": false
   },
   "outputs": [
    {
     "data": {
      "text/plain": [
       "1    0.703313\n",
       "3    0.105674\n",
       "2    0.105119\n",
       "4    0.062094\n",
       "6    0.013625\n",
       "5    0.005530\n",
       "Q    0.002340\n",
       "7    0.002306\n",
       "Name: C_WTHR, dtype: float64"
      ]
     },
     "execution_count": 411,
     "metadata": {},
     "output_type": "execute_result"
    }
   ],
   "source": [
    "ncdb['C_WTHR'].value_counts(normalize=True)"
   ]
  },
  {
   "cell_type": "markdown",
   "metadata": {
    "id": "85391ff7"
   },
   "source": [
    "Este caso es el mismo que los anteriores y definiremos 'Q' con el valor 8."
   ]
  },
  {
   "cell_type": "code",
   "execution_count": 412,
   "metadata": {
    "id": "c59aa2eb"
   },
   "outputs": [],
   "source": [
    "ncdb.loc[ncdb['C_WTHR']=='Q', 'C_WTHR']=8"
   ]
  },
  {
   "cell_type": "code",
   "execution_count": 413,
   "metadata": {
    "colab": {
     "base_uri": "https://localhost:8080/"
    },
    "id": "1e1eca21",
    "outputId": "938e62f5-14aa-4752-8f07-f44d092301cb",
    "scrolled": true
   },
   "outputs": [
    {
     "data": {
      "text/plain": [
       "1    0.703313\n",
       "3    0.105674\n",
       "2    0.105119\n",
       "4    0.062094\n",
       "6    0.013625\n",
       "5    0.005530\n",
       "8    0.002340\n",
       "7    0.002306\n",
       "Name: C_WTHR, dtype: float64"
      ]
     },
     "execution_count": 413,
     "metadata": {},
     "output_type": "execute_result"
    }
   ],
   "source": [
    "ncdb['C_WTHR'].value_counts(normalize=True)"
   ]
  },
  {
   "cell_type": "code",
   "execution_count": 414,
   "metadata": {
    "colab": {
     "base_uri": "https://localhost:8080/"
    },
    "id": "62170707",
    "outputId": "ea18c85b-62c6-4a48-997a-cd4777569149",
    "scrolled": true
   },
   "outputs": [
    {
     "data": {
      "text/plain": [
       "1    0.663514\n",
       "2    0.189642\n",
       "5    0.054055\n",
       "3    0.044492\n",
       "Q    0.029327\n",
       "4    0.012710\n",
       "6    0.004859\n",
       "7    0.001107\n",
       "8    0.000190\n",
       "9    0.000104\n",
       "Name: C_RSUR, dtype: float64"
      ]
     },
     "execution_count": 414,
     "metadata": {},
     "output_type": "execute_result"
    }
   ],
   "source": [
    "ncdb['C_RSUR'].value_counts(normalize=True)"
   ]
  },
  {
   "cell_type": "markdown",
   "metadata": {
    "id": "4a0fc189"
   },
   "source": [
    "Aqui 'Q' tomará el valor 10:"
   ]
  },
  {
   "cell_type": "code",
   "execution_count": 415,
   "metadata": {
    "id": "2572f8be"
   },
   "outputs": [],
   "source": [
    "ncdb.loc[ncdb['C_RSUR']=='Q', 'C_RSUR']=10"
   ]
  },
  {
   "cell_type": "code",
   "execution_count": 416,
   "metadata": {
    "colab": {
     "base_uri": "https://localhost:8080/"
    },
    "id": "a98db373",
    "outputId": "49b14a4d-de54-41f5-9b07-9a399c2facda"
   },
   "outputs": [
    {
     "data": {
      "text/plain": [
       "1     0.663514\n",
       "2     0.189642\n",
       "5     0.054055\n",
       "3     0.044492\n",
       "10    0.029327\n",
       "4     0.012710\n",
       "6     0.004859\n",
       "7     0.001107\n",
       "8     0.000190\n",
       "9     0.000104\n",
       "Name: C_RSUR, dtype: float64"
      ]
     },
     "execution_count": 416,
     "metadata": {},
     "output_type": "execute_result"
    }
   ],
   "source": [
    "ncdb['C_RSUR'].value_counts(normalize=True)"
   ]
  },
  {
   "cell_type": "code",
   "execution_count": 417,
   "metadata": {
    "colab": {
     "base_uri": "https://localhost:8080/"
    },
    "id": "63e47d90",
    "outputId": "38dae7be-5bcd-493e-b3c5-80cee3ff3ae9",
    "scrolled": false
   },
   "outputs": [
    {
     "data": {
      "text/plain": [
       "1    0.764288\n",
       "2    0.108989\n",
       "3    0.067228\n",
       "4    0.042832\n",
       "5    0.006939\n",
       "Q    0.005259\n",
       "6    0.004466\n",
       "Name: C_RALN, dtype: float64"
      ]
     },
     "execution_count": 417,
     "metadata": {},
     "output_type": "execute_result"
    }
   ],
   "source": [
    "ncdb['C_RALN'].value_counts(normalize=True)"
   ]
  },
  {
   "cell_type": "markdown",
   "metadata": {
    "id": "0218b02d"
   },
   "source": [
    "En esta variable, 'Q' tomará el valor más alto que sería 7."
   ]
  },
  {
   "cell_type": "code",
   "execution_count": 418,
   "metadata": {
    "id": "277b2b93"
   },
   "outputs": [],
   "source": [
    "ncdb.loc[ncdb['C_RALN']=='Q', 'C_RALN']=7"
   ]
  },
  {
   "cell_type": "code",
   "execution_count": 419,
   "metadata": {
    "colab": {
     "base_uri": "https://localhost:8080/"
    },
    "id": "5235916d",
    "outputId": "b6bf4d5d-fe56-4410-e408-0f5a04bee38b"
   },
   "outputs": [
    {
     "data": {
      "text/plain": [
       "1    0.764288\n",
       "2    0.108989\n",
       "3    0.067228\n",
       "4    0.042832\n",
       "5    0.006939\n",
       "7    0.005259\n",
       "6    0.004466\n",
       "Name: C_RALN, dtype: float64"
      ]
     },
     "execution_count": 419,
     "metadata": {},
     "output_type": "execute_result"
    }
   ],
   "source": [
    "ncdb['C_RALN'].value_counts(normalize=True)"
   ]
  },
  {
   "cell_type": "code",
   "execution_count": 420,
   "metadata": {
    "colab": {
     "base_uri": "https://localhost:8080/"
    },
    "id": "adc988d2",
    "outputId": "87b5515a-e1c6-477c-fec4-910c74d68e2d",
    "scrolled": true
   },
   "outputs": [
    {
     "data": {
      "text/plain": [
       "18    0.543244\n",
       "01    0.288787\n",
       "03    0.115135\n",
       "04    0.015699\n",
       "QQ    0.015575\n",
       "06    0.007299\n",
       "08    0.004777\n",
       "02    0.003836\n",
       "15    0.000870\n",
       "13    0.000817\n",
       "05    0.000799\n",
       "11    0.000728\n",
       "10    0.000604\n",
       "12    0.000604\n",
       "17    0.000515\n",
       "07    0.000391\n",
       "16    0.000178\n",
       "09    0.000142\n",
       "Name: C_TRAF, dtype: float64"
      ]
     },
     "execution_count": 420,
     "metadata": {},
     "output_type": "execute_result"
    }
   ],
   "source": [
    "ncdb['C_TRAF'].value_counts(normalize=True)"
   ]
  },
  {
   "cell_type": "markdown",
   "metadata": {
    "id": "5525526f"
   },
   "source": [
    "En este caso definiremos 'QQ' con el valor 19:"
   ]
  },
  {
   "cell_type": "code",
   "execution_count": 421,
   "metadata": {
    "id": "987cbda5"
   },
   "outputs": [],
   "source": [
    "ncdb.loc[ncdb['C_TRAF']=='QQ', 'C_TRAF']=19"
   ]
  },
  {
   "cell_type": "code",
   "execution_count": 422,
   "metadata": {
    "colab": {
     "base_uri": "https://localhost:8080/"
    },
    "id": "e080ffca",
    "outputId": "76ad6caf-f7af-4323-9525-405c65bab48f"
   },
   "outputs": [
    {
     "data": {
      "text/plain": [
       "18    0.543244\n",
       "01    0.288787\n",
       "03    0.115135\n",
       "04    0.015699\n",
       "19    0.015575\n",
       "06    0.007299\n",
       "08    0.004777\n",
       "02    0.003836\n",
       "15    0.000870\n",
       "13    0.000817\n",
       "05    0.000799\n",
       "11    0.000728\n",
       "12    0.000604\n",
       "10    0.000604\n",
       "17    0.000515\n",
       "07    0.000391\n",
       "16    0.000178\n",
       "09    0.000142\n",
       "Name: C_TRAF, dtype: float64"
      ]
     },
     "execution_count": 422,
     "metadata": {},
     "output_type": "execute_result"
    }
   ],
   "source": [
    "ncdb['C_TRAF'].value_counts(normalize=True)"
   ]
  },
  {
   "cell_type": "code",
   "execution_count": 423,
   "metadata": {
    "colab": {
     "base_uri": "https://localhost:8080/"
    },
    "id": "d2d3899f",
    "outputId": "70d64b06-8157-4bd8-d13e-a89e40fcbdf6",
    "scrolled": true
   },
   "outputs": [
    {
     "data": {
      "text/plain": [
       "01    0.341678\n",
       "02    0.235874\n",
       "1     0.190891\n",
       "2     0.129712\n",
       "03    0.031519\n",
       "99    0.024028\n",
       "3     0.017731\n",
       "99    0.015051\n",
       "04    0.006843\n",
       "4     0.002935\n",
       "05    0.001246\n",
       "5     0.000785\n",
       "06    0.000358\n",
       "6     0.000256\n",
       "8     0.000137\n",
       "07    0.000137\n",
       "7     0.000137\n",
       "09    0.000102\n",
       "13    0.000068\n",
       "10    0.000051\n",
       "9     0.000051\n",
       "14    0.000034\n",
       "11    0.000034\n",
       "35    0.000034\n",
       "16    0.000034\n",
       "12    0.000034\n",
       "54    0.000017\n",
       "29    0.000017\n",
       "17    0.000017\n",
       "24    0.000017\n",
       "15    0.000017\n",
       "30    0.000017\n",
       "16    0.000017\n",
       "10    0.000017\n",
       "08    0.000017\n",
       "13    0.000017\n",
       "18    0.000017\n",
       "19    0.000017\n",
       "33    0.000017\n",
       "11    0.000017\n",
       "Name: V_ID, dtype: float64"
      ]
     },
     "execution_count": 423,
     "metadata": {},
     "output_type": "execute_result"
    }
   ],
   "source": [
    "ncdb['V_ID'].value_counts(normalize=True)"
   ]
  },
  {
   "cell_type": "code",
   "execution_count": 424,
   "metadata": {
    "id": "8aab7f95",
    "scrolled": true
   },
   "outputs": [],
   "source": [
    "for i in list(range(0,10)):\n",
    "    ncdb.loc[ncdb['V_ID']==f'0{i}', 'V_ID']=i"
   ]
  },
  {
   "cell_type": "code",
   "execution_count": 425,
   "metadata": {
    "colab": {
     "base_uri": "https://localhost:8080/"
    },
    "id": "1a503a53",
    "outputId": "b26366db-2b5e-4968-a61b-b9b920734859",
    "scrolled": true
   },
   "outputs": [
    {
     "data": {
      "text/plain": [
       "1     0.532569\n",
       "2     0.365586\n",
       "3     0.049250\n",
       "99    0.024028\n",
       "99    0.015051\n",
       "4     0.009778\n",
       "5     0.002031\n",
       "6     0.000614\n",
       "7     0.000273\n",
       "8     0.000154\n",
       "9     0.000154\n",
       "13    0.000068\n",
       "10    0.000051\n",
       "16    0.000034\n",
       "12    0.000034\n",
       "14    0.000034\n",
       "35    0.000034\n",
       "11    0.000034\n",
       "18    0.000017\n",
       "54    0.000017\n",
       "13    0.000017\n",
       "33    0.000017\n",
       "11    0.000017\n",
       "10    0.000017\n",
       "16    0.000017\n",
       "30    0.000017\n",
       "15    0.000017\n",
       "24    0.000017\n",
       "17    0.000017\n",
       "29    0.000017\n",
       "19    0.000017\n",
       "Name: V_ID, dtype: float64"
      ]
     },
     "execution_count": 425,
     "metadata": {},
     "output_type": "execute_result"
    }
   ],
   "source": [
    "ncdb['V_ID'].value_counts(normalize=True)"
   ]
  },
  {
   "cell_type": "markdown",
   "metadata": {
    "id": "84bb5867"
   },
   "source": [
    "Esta variable sigue tomando los mismos valores como si fuesen distintos (véase el caso del 99), en consecuencia redifiniremos dichos valores para que sean del mismo tipo:"
   ]
  },
  {
   "cell_type": "code",
   "execution_count": 426,
   "metadata": {
    "id": "e1248632"
   },
   "outputs": [],
   "source": [
    "for i in list(range(10,100)):\n",
    "    ncdb.loc[ncdb['V_ID']==f'{i}', 'V_ID']=i"
   ]
  },
  {
   "cell_type": "code",
   "execution_count": 427,
   "metadata": {
    "colab": {
     "base_uri": "https://localhost:8080/"
    },
    "id": "7a35b5ee",
    "outputId": "b9dd3753-6add-4294-cb9a-ce5c15f30fbf",
    "scrolled": true
   },
   "outputs": [
    {
     "data": {
      "text/plain": [
       "1     0.532569\n",
       "2     0.365586\n",
       "3     0.049250\n",
       "99    0.039079\n",
       "4     0.009778\n",
       "5     0.002031\n",
       "6     0.000614\n",
       "7     0.000273\n",
       "8     0.000154\n",
       "9     0.000154\n",
       "13    0.000085\n",
       "10    0.000068\n",
       "11    0.000051\n",
       "16    0.000051\n",
       "12    0.000034\n",
       "14    0.000034\n",
       "35    0.000034\n",
       "54    0.000017\n",
       "29    0.000017\n",
       "15    0.000017\n",
       "17    0.000017\n",
       "18    0.000017\n",
       "19    0.000017\n",
       "24    0.000017\n",
       "33    0.000017\n",
       "30    0.000017\n",
       "Name: V_ID, dtype: float64"
      ]
     },
     "execution_count": 427,
     "metadata": {},
     "output_type": "execute_result"
    }
   ],
   "source": [
    "ncdb['V_ID'].value_counts(normalize=True).head(60)"
   ]
  },
  {
   "cell_type": "code",
   "execution_count": 428,
   "metadata": {
    "colab": {
     "base_uri": "https://localhost:8080/"
    },
    "id": "87103a4d",
    "outputId": "1ae14f2b-2d84-4463-9d82-83d23f4f9311",
    "scrolled": true
   },
   "outputs": [
    {
     "data": {
      "text/plain": [
       "01    0.823732\n",
       "NN    0.040807\n",
       "06    0.030854\n",
       "14    0.022171\n",
       "17    0.021467\n",
       "07    0.015444\n",
       "08    0.012218\n",
       "05    0.010879\n",
       "11    0.008185\n",
       "QQ    0.004873\n",
       "09    0.004015\n",
       "16    0.001682\n",
       "20    0.001390\n",
       "22    0.000669\n",
       "18    0.000635\n",
       "23    0.000446\n",
       "19    0.000223\n",
       "10    0.000189\n",
       "21    0.000120\n",
       "Name: V_TYPE, dtype: float64"
      ]
     },
     "execution_count": 428,
     "metadata": {},
     "output_type": "execute_result"
    }
   ],
   "source": [
    "ncdb['V_TYPE'].value_counts(normalize=True)"
   ]
  },
  {
   "cell_type": "markdown",
   "metadata": {
    "id": "de30205d"
   },
   "source": [
    "La variable `V_TYPE` hace referencia al tipo de vehículo, en consecuencia han creado una variable denominada 'NN' indicando que es un elemento que no se ajusta a la variable, es decir no es un tipo de coche sino que por ejemplo indica que es un peatón. Para considerar este valor sin que sea un string lo definiremos con el valor 00, indicando que no es un vehículo.\n",
    "\n",
    "En cuanto al valor 'QQ' tomará el valor 24, ya que es un vehículo pero no corresponde con las características de los distintos tipos que han considerado."
   ]
  },
  {
   "cell_type": "code",
   "execution_count": 429,
   "metadata": {
    "id": "1c3cef47"
   },
   "outputs": [],
   "source": [
    "ncdb.loc[ncdb['V_TYPE']=='NN', 'V_TYPE']= 00\n",
    "ncdb.loc[ncdb['V_TYPE']=='QQ', 'V_TYPE']= 24"
   ]
  },
  {
   "cell_type": "code",
   "execution_count": 430,
   "metadata": {
    "colab": {
     "base_uri": "https://localhost:8080/"
    },
    "id": "edfa9396",
    "outputId": "18bf9966-aa09-4157-894d-988d9a2eac15"
   },
   "outputs": [
    {
     "data": {
      "text/plain": [
       "01    0.823732\n",
       "0     0.040807\n",
       "06    0.030854\n",
       "14    0.022171\n",
       "17    0.021467\n",
       "07    0.015444\n",
       "08    0.012218\n",
       "05    0.010879\n",
       "11    0.008185\n",
       "24    0.004873\n",
       "09    0.004015\n",
       "16    0.001682\n",
       "20    0.001390\n",
       "22    0.000669\n",
       "18    0.000635\n",
       "23    0.000446\n",
       "19    0.000223\n",
       "10    0.000189\n",
       "21    0.000120\n",
       "Name: V_TYPE, dtype: float64"
      ]
     },
     "execution_count": 430,
     "metadata": {},
     "output_type": "execute_result"
    }
   ],
   "source": [
    "ncdb['V_TYPE'].value_counts(normalize=True)"
   ]
  },
  {
   "cell_type": "code",
   "execution_count": 431,
   "metadata": {
    "colab": {
     "base_uri": "https://localhost:8080/"
    },
    "id": "2a17ca28",
    "outputId": "4da914d3-33b0-4d4a-f4ed-2afbfbf63bba",
    "scrolled": true
   },
   "outputs": [
    {
     "data": {
      "text/plain": [
       "2000    0.059390\n",
       "1998    0.052755\n",
       "2001    0.051815\n",
       "2002    0.051743\n",
       "1999    0.051689\n",
       "2003    0.050947\n",
       "NNNN    0.049121\n",
       "1997    0.046861\n",
       "2004    0.041727\n",
       "2005    0.040389\n",
       "1995    0.038888\n",
       "1994    0.036683\n",
       "1996    0.036339\n",
       "2006    0.035218\n",
       "1992    0.034712\n",
       "1993    0.033266\n",
       "2007    0.033121\n",
       "1991    0.030355\n",
       "1990    0.028186\n",
       "2008    0.025998\n",
       "1989    0.024588\n",
       "1988    0.022002\n",
       "2009    0.018585\n",
       "2010    0.015765\n",
       "1987    0.015566\n",
       "1986    0.012710\n",
       "2011    0.011571\n",
       "2012    0.009329\n",
       "1985    0.008823\n",
       "1984    0.005785\n",
       "2013    0.005568\n",
       "1983    0.003363\n",
       "1981    0.003164\n",
       "2014    0.002603\n",
       "1982    0.002513\n",
       "1979    0.001934\n",
       "1980    0.001808\n",
       "1978    0.001157\n",
       "1977    0.000615\n",
       "1976    0.000542\n",
       "1975    0.000325\n",
       "1973    0.000289\n",
       "1972    0.000289\n",
       "1974    0.000253\n",
       "2015    0.000253\n",
       "1970    0.000199\n",
       "1968    0.000163\n",
       "1971    0.000163\n",
       "1969    0.000145\n",
       "1967    0.000090\n",
       "1965    0.000090\n",
       "1962    0.000054\n",
       "1956    0.000054\n",
       "1964    0.000036\n",
       "1930    0.000036\n",
       "1925    0.000036\n",
       "1960    0.000036\n",
       "1966    0.000036\n",
       "1928    0.000036\n",
       "1957    0.000036\n",
       "Name: V_YEAR, dtype: float64"
      ]
     },
     "execution_count": 431,
     "metadata": {},
     "output_type": "execute_result"
    }
   ],
   "source": [
    "ncdb['V_YEAR'].value_counts(normalize=True).head(60)"
   ]
  },
  {
   "cell_type": "markdown",
   "metadata": {
    "id": "a5f6dfe2"
   },
   "source": [
    "Como el valor 'NNNN' indica que el año no procede, lo tomaremos como 0000:"
   ]
  },
  {
   "cell_type": "code",
   "execution_count": 432,
   "metadata": {
    "id": "623c585b"
   },
   "outputs": [],
   "source": [
    "ncdb.loc[ncdb['V_YEAR']=='NNNN', 'V_YEAR']= 0000"
   ]
  },
  {
   "cell_type": "code",
   "execution_count": 433,
   "metadata": {
    "colab": {
     "base_uri": "https://localhost:8080/"
    },
    "id": "c6e80a7a",
    "outputId": "54875882-2c07-40e6-8c29-3173c0d426c6",
    "scrolled": false
   },
   "outputs": [
    {
     "data": {
      "text/plain": [
       "01    0.710719\n",
       "02    0.194424\n",
       "03    0.057846\n",
       "04    0.022865\n",
       "05    0.006979\n",
       "06    0.001962\n",
       "NN    0.001945\n",
       "07    0.000700\n",
       "08    0.000461\n",
       "09    0.000222\n",
       "10    0.000205\n",
       "11    0.000188\n",
       "14    0.000188\n",
       "13    0.000137\n",
       "18    0.000119\n",
       "12    0.000119\n",
       "17    0.000119\n",
       "16    0.000102\n",
       "22    0.000085\n",
       "15    0.000085\n",
       "21    0.000068\n",
       "29    0.000068\n",
       "30    0.000051\n",
       "28    0.000051\n",
       "31    0.000034\n",
       "20    0.000034\n",
       "19    0.000034\n",
       "23    0.000034\n",
       "26    0.000034\n",
       "32    0.000017\n",
       "39    0.000017\n",
       "35    0.000017\n",
       "34    0.000017\n",
       "25    0.000017\n",
       "40    0.000017\n",
       "43    0.000017\n",
       "Name: P_ID, dtype: float64"
      ]
     },
     "execution_count": 433,
     "metadata": {},
     "output_type": "execute_result"
    }
   ],
   "source": [
    "ncdb['P_ID'].value_counts(normalize=True).head(50)"
   ]
  },
  {
   "cell_type": "markdown",
   "metadata": {
    "id": "54511176"
   },
   "source": [
    "En este caso tomaremos los valores 'NN' como 00 ya que es un elemento que no esta acorde con la variable `P_ID` que corresponde con la identificación de personas,por ejemplo, toman el valor 'NN' los coches que están aparcados."
   ]
  },
  {
   "cell_type": "code",
   "execution_count": 434,
   "metadata": {
    "id": "0221d26d"
   },
   "outputs": [],
   "source": [
    "ncdb.loc[ncdb['P_ID']=='NN', 'P_ID']= 00"
   ]
  },
  {
   "cell_type": "code",
   "execution_count": 435,
   "metadata": {
    "colab": {
     "base_uri": "https://localhost:8080/"
    },
    "id": "86254a21",
    "outputId": "0764b599-ea27-4909-efd7-ae8f43128893"
   },
   "outputs": [
    {
     "data": {
      "text/plain": [
       "01    0.710719\n",
       "02    0.194424\n",
       "03    0.057846\n",
       "04    0.022865\n",
       "05    0.006979\n",
       "06    0.001962\n",
       "0     0.001945\n",
       "07    0.000700\n",
       "08    0.000461\n",
       "09    0.000222\n",
       "10    0.000205\n",
       "14    0.000188\n",
       "11    0.000188\n",
       "13    0.000137\n",
       "12    0.000119\n",
       "17    0.000119\n",
       "18    0.000119\n",
       "16    0.000102\n",
       "22    0.000085\n",
       "15    0.000085\n",
       "21    0.000068\n",
       "29    0.000068\n",
       "30    0.000051\n",
       "28    0.000051\n",
       "26    0.000034\n",
       "19    0.000034\n",
       "31    0.000034\n",
       "23    0.000034\n",
       "20    0.000034\n",
       "43    0.000017\n",
       "34    0.000017\n",
       "25    0.000017\n",
       "32    0.000017\n",
       "40    0.000017\n",
       "35    0.000017\n",
       "39    0.000017\n",
       "Name: P_ID, dtype: float64"
      ]
     },
     "execution_count": 435,
     "metadata": {},
     "output_type": "execute_result"
    }
   ],
   "source": [
    "ncdb['P_ID'].value_counts(normalize=True)"
   ]
  },
  {
   "cell_type": "code",
   "execution_count": 436,
   "metadata": {
    "id": "bVgLiRS-Q7vS",
    "outputId": "aecfb4a6-403c-440a-a575-1687696d76bc"
   },
   "outputs": [
    {
     "data": {
      "text/plain": [
       "18    0.031370\n",
       "19    0.030841\n",
       "20    0.030039\n",
       "17    0.028727\n",
       "21    0.026302\n",
       "        ...   \n",
       "93    0.000073\n",
       "95    0.000073\n",
       "94    0.000073\n",
       "98    0.000055\n",
       "97    0.000036\n",
       "Name: P_AGE, Length: 99, dtype: float64"
      ]
     },
     "execution_count": 436,
     "metadata": {},
     "output_type": "execute_result"
    }
   ],
   "source": [
    "ncdb['P_AGE'].value_counts(normalize=True)"
   ]
  },
  {
   "cell_type": "markdown",
   "metadata": {
    "id": "f2615cf6"
   },
   "source": [
    "En este caso tomaremos el valor 'NN' como 111, ya que el valor 99 indica que tienen 99 años o más y el valor 00 que tiene menos de un año."
   ]
  },
  {
   "cell_type": "code",
   "execution_count": 437,
   "metadata": {
    "id": "336d2d59"
   },
   "outputs": [],
   "source": [
    "ncdb.loc[ncdb['P_AGE']=='NN', 'P_AGE']= 111"
   ]
  },
  {
   "cell_type": "code",
   "execution_count": 438,
   "metadata": {
    "colab": {
     "base_uri": "https://localhost:8080/"
    },
    "id": "f3075a3c",
    "outputId": "e6192cf0-6757-47ff-b300-9e326818cf7e",
    "scrolled": true
   },
   "outputs": [
    {
     "data": {
      "text/plain": [
       "11    0.673694\n",
       "13    0.153483\n",
       "23    0.045317\n",
       "21    0.037957\n",
       "99    0.037785\n",
       "22    0.015652\n",
       "12    0.014118\n",
       "96    0.007860\n",
       "32    0.005016\n",
       "QQ    0.004034\n",
       "NN    0.002655\n",
       "98    0.001172\n",
       "31    0.000621\n",
       "33    0.000603\n",
       "97    0.000034\n",
       "Name: P_PSN, dtype: float64"
      ]
     },
     "execution_count": 438,
     "metadata": {},
     "output_type": "execute_result"
    }
   ],
   "source": [
    "ncdb['P_PSN'].value_counts(normalize=True)"
   ]
  },
  {
   "cell_type": "code",
   "execution_count": 439,
   "metadata": {
    "id": "cdad33eb"
   },
   "outputs": [],
   "source": [
    "ncdb.loc[ncdb['P_PSN']=='NN', 'P_PSN']= 00\n",
    "ncdb.loc[ncdb['P_PSN']=='QQ', 'P_PSN']= 100 "
   ]
  },
  {
   "cell_type": "code",
   "execution_count": 440,
   "metadata": {
    "colab": {
     "base_uri": "https://localhost:8080/"
    },
    "id": "01be5748",
    "outputId": "c0daf25d-ebe8-4310-efda-adcc040255fa"
   },
   "outputs": [
    {
     "data": {
      "text/plain": [
       "11     0.673694\n",
       "13     0.153483\n",
       "23     0.045317\n",
       "21     0.037957\n",
       "99     0.037785\n",
       "22     0.015652\n",
       "12     0.014118\n",
       "96     0.007860\n",
       "32     0.005016\n",
       "100    0.004034\n",
       "0      0.002655\n",
       "98     0.001172\n",
       "31     0.000621\n",
       "33     0.000603\n",
       "97     0.000034\n",
       "Name: P_PSN, dtype: float64"
      ]
     },
     "execution_count": 440,
     "metadata": {},
     "output_type": "execute_result"
    }
   ],
   "source": [
    "ncdb['P_PSN'].value_counts(normalize=True)"
   ]
  },
  {
   "cell_type": "code",
   "execution_count": 441,
   "metadata": {
    "colab": {
     "base_uri": "https://localhost:8080/"
    },
    "id": "5b3e4638",
    "outputId": "961ac79c-5101-41f3-f621-828bc0228f49",
    "scrolled": true
   },
   "outputs": [
    {
     "data": {
      "text/plain": [
       "2    0.533553\n",
       "1    0.410010\n",
       "N    0.048887\n",
       "3    0.007550\n",
       "Name: P_ISEV, dtype: float64"
      ]
     },
     "execution_count": 441,
     "metadata": {},
     "output_type": "execute_result"
    }
   ],
   "source": [
    "ncdb['P_ISEV'].value_counts(normalize=True)"
   ]
  },
  {
   "cell_type": "code",
   "execution_count": 442,
   "metadata": {
    "id": "c40b20fe"
   },
   "outputs": [],
   "source": [
    "ncdb.loc[ncdb['P_ISEV']=='N', 'P_ISEV']= 0"
   ]
  },
  {
   "cell_type": "code",
   "execution_count": 443,
   "metadata": {
    "colab": {
     "base_uri": "https://localhost:8080/"
    },
    "id": "a5a16600",
    "outputId": "05fff9d3-d0b8-405b-e401-ddfdb72f05a0",
    "scrolled": true
   },
   "outputs": [
    {
     "data": {
      "text/plain": [
       "2    0.533553\n",
       "1    0.410010\n",
       "0    0.048887\n",
       "3    0.007550\n",
       "Name: P_ISEV, dtype: float64"
      ]
     },
     "execution_count": 443,
     "metadata": {},
     "output_type": "execute_result"
    }
   ],
   "source": [
    "ncdb['P_ISEV'].value_counts(normalize=True)"
   ]
  },
  {
   "cell_type": "code",
   "execution_count": 444,
   "metadata": {
    "colab": {
     "base_uri": "https://localhost:8080/"
    },
    "id": "468c92ec",
    "outputId": "bafa3633-ce54-4819-9302-3fc09bf3de0e",
    "scrolled": true
   },
   "outputs": [
    {
     "data": {
      "text/plain": [
       "02    0.793306\n",
       "NN    0.109753\n",
       "01    0.037845\n",
       "13    0.028909\n",
       "09    0.018311\n",
       "QQ    0.008440\n",
       "12    0.003418\n",
       "10    0.000019\n",
       "Name: P_SAFE, dtype: float64"
      ]
     },
     "execution_count": 444,
     "metadata": {},
     "output_type": "execute_result"
    }
   ],
   "source": [
    "ncdb['P_SAFE'].value_counts(normalize=True)"
   ]
  },
  {
   "cell_type": "code",
   "execution_count": 445,
   "metadata": {
    "id": "a4533e32"
   },
   "outputs": [],
   "source": [
    "ncdb.loc[ncdb['P_SAFE']=='NN', 'P_SAFE']= 00\n",
    "ncdb.loc[ncdb['P_SAFE']=='QQ', 'P_SAFE']= 14 "
   ]
  },
  {
   "cell_type": "code",
   "execution_count": 446,
   "metadata": {
    "colab": {
     "base_uri": "https://localhost:8080/"
    },
    "id": "cc300538",
    "outputId": "9877f2de-e0cb-424e-e6e4-2fbd22b9e9ff",
    "scrolled": true
   },
   "outputs": [
    {
     "data": {
      "text/plain": [
       "1    0.619241\n",
       "2    0.267286\n",
       "3    0.039076\n",
       "U    0.031005\n",
       "5    0.022046\n",
       "4    0.021347\n",
       "Name: P_USER, dtype: float64"
      ]
     },
     "execution_count": 446,
     "metadata": {},
     "output_type": "execute_result"
    }
   ],
   "source": [
    "ncdb['P_USER'].value_counts(normalize=True)"
   ]
  },
  {
   "cell_type": "markdown",
   "metadata": {
    "id": "f20c7bef"
   },
   "source": [
    "En la variable `P_USER` el valor 'U' nos indica que es un usuario que el cual no se ha empezado el proceso, otro o desconocido. En consecuencia lo imputamos con el valor 0, dando importancia a que no se ha empezado el proceso o es otro tipo."
   ]
  },
  {
   "cell_type": "code",
   "execution_count": 447,
   "metadata": {
    "id": "632abb9c"
   },
   "outputs": [],
   "source": [
    "ncdb.loc[ncdb['P_USER']=='U', 'P_USER']= 0"
   ]
  },
  {
   "cell_type": "markdown",
   "metadata": {
    "id": "18ed41dc"
   },
   "source": [
    "Imputamos los valores faltantes por la moda para que tomen el valor que se suele esperar. Antes de ello modificaremos la variable `P_SEX` a valores enteros para que se puedan imputar los missing con la moda:"
   ]
  },
  {
   "cell_type": "code",
   "execution_count": 448,
   "metadata": {
    "colab": {
     "base_uri": "https://localhost:8080/"
    },
    "id": "A6E6_vhMKeUD",
    "outputId": "60ad7959-f91e-4fb5-d909-ec6bb9f12016"
   },
   "outputs": [
    {
     "data": {
      "text/plain": [
       "M    31648\n",
       "F    24496\n",
       "N      160\n",
       "Name: P_SEX, dtype: int64"
      ]
     },
     "execution_count": 448,
     "metadata": {},
     "output_type": "execute_result"
    }
   ],
   "source": [
    "ncdb['P_SEX'].value_counts()"
   ]
  },
  {
   "cell_type": "code",
   "execution_count": 449,
   "metadata": {
    "id": "p5nTZhkGKZjY"
   },
   "outputs": [],
   "source": [
    "ncdb.loc[ncdb['P_SEX']=='N', 'P_SEX']= 0\n",
    "ncdb.loc[ncdb['P_SEX']=='M', 'P_SEX']= 1\n",
    "ncdb.loc[ncdb['P_SEX']=='F', 'P_SEX']= 2"
   ]
  },
  {
   "cell_type": "code",
   "execution_count": 450,
   "metadata": {
    "id": "d0a3a78b"
   },
   "outputs": [],
   "source": [
    "cols = ncdb.columns\n",
    "for i in range(0,len(cols)):\n",
    "    ncdb.loc[ncdb[cols[i]].isna() == True, cols[i]]= int(ncdb[cols[i]].mode())"
   ]
  },
  {
   "cell_type": "code",
   "execution_count": 451,
   "metadata": {
    "colab": {
     "base_uri": "https://localhost:8080/"
    },
    "id": "e6abc062",
    "outputId": "8a890afb-4c03-40d3-a890-e8d889e456e2"
   },
   "outputs": [
    {
     "data": {
      "text/plain": [
       "C_YEAR    0\n",
       "C_MNTH    0\n",
       "C_WDAY    0\n",
       "C_HOUR    0\n",
       "C_SEV     0\n",
       "C_VEHS    0\n",
       "C_CONF    0\n",
       "C_RCFG    0\n",
       "C_WTHR    0\n",
       "C_RSUR    0\n",
       "C_RALN    0\n",
       "C_TRAF    0\n",
       "V_ID      0\n",
       "V_TYPE    0\n",
       "V_YEAR    0\n",
       "P_ID      0\n",
       "P_SEX     0\n",
       "P_AGE     0\n",
       "P_PSN     0\n",
       "P_ISEV    0\n",
       "P_SAFE    0\n",
       "P_USER    0\n",
       "dtype: int64"
      ]
     },
     "execution_count": 451,
     "metadata": {},
     "output_type": "execute_result"
    }
   ],
   "source": [
    "ncdb.isna().sum()"
   ]
  },
  {
   "cell_type": "code",
   "execution_count": 452,
   "metadata": {
    "colab": {
     "base_uri": "https://localhost:8080/",
     "height": 280
    },
    "id": "f2255f35",
    "outputId": "ff36c47a-91e2-4e89-8c5e-5ceae8cb5f5a"
   },
   "outputs": [
    {
     "data": {
      "text/html": [
       "<div>\n",
       "<style scoped>\n",
       "    .dataframe tbody tr th:only-of-type {\n",
       "        vertical-align: middle;\n",
       "    }\n",
       "\n",
       "    .dataframe tbody tr th {\n",
       "        vertical-align: top;\n",
       "    }\n",
       "\n",
       "    .dataframe thead th {\n",
       "        text-align: right;\n",
       "    }\n",
       "</style>\n",
       "<table border=\"1\" class=\"dataframe\">\n",
       "  <thead>\n",
       "    <tr style=\"text-align: right;\">\n",
       "      <th></th>\n",
       "      <th>C_YEAR</th>\n",
       "      <th>C_MNTH</th>\n",
       "      <th>C_WDAY</th>\n",
       "      <th>C_HOUR</th>\n",
       "      <th>C_SEV</th>\n",
       "      <th>C_VEHS</th>\n",
       "      <th>C_CONF</th>\n",
       "      <th>C_RCFG</th>\n",
       "      <th>C_WTHR</th>\n",
       "      <th>C_RSUR</th>\n",
       "      <th>...</th>\n",
       "      <th>V_ID</th>\n",
       "      <th>V_TYPE</th>\n",
       "      <th>V_YEAR</th>\n",
       "      <th>P_ID</th>\n",
       "      <th>P_SEX</th>\n",
       "      <th>P_AGE</th>\n",
       "      <th>P_PSN</th>\n",
       "      <th>P_ISEV</th>\n",
       "      <th>P_SAFE</th>\n",
       "      <th>P_USER</th>\n",
       "    </tr>\n",
       "  </thead>\n",
       "  <tbody>\n",
       "    <tr>\n",
       "      <th>0</th>\n",
       "      <td>2008</td>\n",
       "      <td>11</td>\n",
       "      <td>1</td>\n",
       "      <td>13</td>\n",
       "      <td>2.0</td>\n",
       "      <td>2</td>\n",
       "      <td>21</td>\n",
       "      <td>02</td>\n",
       "      <td>2</td>\n",
       "      <td>3</td>\n",
       "      <td>...</td>\n",
       "      <td>1</td>\n",
       "      <td>01</td>\n",
       "      <td>1997</td>\n",
       "      <td>01</td>\n",
       "      <td>1</td>\n",
       "      <td>73</td>\n",
       "      <td>11</td>\n",
       "      <td>1</td>\n",
       "      <td>2</td>\n",
       "      <td>1</td>\n",
       "    </tr>\n",
       "    <tr>\n",
       "      <th>1</th>\n",
       "      <td>2012</td>\n",
       "      <td>10</td>\n",
       "      <td>6</td>\n",
       "      <td>12</td>\n",
       "      <td>2.0</td>\n",
       "      <td>1</td>\n",
       "      <td>06</td>\n",
       "      <td>02</td>\n",
       "      <td>3</td>\n",
       "      <td>2</td>\n",
       "      <td>...</td>\n",
       "      <td>1</td>\n",
       "      <td>01</td>\n",
       "      <td>1999</td>\n",
       "      <td>01</td>\n",
       "      <td>1</td>\n",
       "      <td>17</td>\n",
       "      <td>11</td>\n",
       "      <td>2</td>\n",
       "      <td>02</td>\n",
       "      <td>1</td>\n",
       "    </tr>\n",
       "    <tr>\n",
       "      <th>2</th>\n",
       "      <td>2012</td>\n",
       "      <td>8</td>\n",
       "      <td>2</td>\n",
       "      <td>00</td>\n",
       "      <td>2.0</td>\n",
       "      <td>1</td>\n",
       "      <td>04</td>\n",
       "      <td>01</td>\n",
       "      <td>1</td>\n",
       "      <td>1</td>\n",
       "      <td>...</td>\n",
       "      <td>1</td>\n",
       "      <td>01</td>\n",
       "      <td>1999</td>\n",
       "      <td>01</td>\n",
       "      <td>1</td>\n",
       "      <td>33</td>\n",
       "      <td>11</td>\n",
       "      <td>2</td>\n",
       "      <td>02</td>\n",
       "      <td>1</td>\n",
       "    </tr>\n",
       "    <tr>\n",
       "      <th>3</th>\n",
       "      <td>2010</td>\n",
       "      <td>1</td>\n",
       "      <td>2</td>\n",
       "      <td>10</td>\n",
       "      <td>2.0</td>\n",
       "      <td>2</td>\n",
       "      <td>21</td>\n",
       "      <td>02</td>\n",
       "      <td>1</td>\n",
       "      <td>2</td>\n",
       "      <td>...</td>\n",
       "      <td>1</td>\n",
       "      <td>01</td>\n",
       "      <td>2005</td>\n",
       "      <td>01</td>\n",
       "      <td>1</td>\n",
       "      <td>50</td>\n",
       "      <td>11</td>\n",
       "      <td>1</td>\n",
       "      <td>02</td>\n",
       "      <td>1</td>\n",
       "    </tr>\n",
       "    <tr>\n",
       "      <th>4</th>\n",
       "      <td>2011</td>\n",
       "      <td>3</td>\n",
       "      <td>2</td>\n",
       "      <td>02</td>\n",
       "      <td>2.0</td>\n",
       "      <td>2</td>\n",
       "      <td>06</td>\n",
       "      <td>01</td>\n",
       "      <td>1</td>\n",
       "      <td>1</td>\n",
       "      <td>...</td>\n",
       "      <td>1</td>\n",
       "      <td>01</td>\n",
       "      <td>2009</td>\n",
       "      <td>02</td>\n",
       "      <td>1</td>\n",
       "      <td>36</td>\n",
       "      <td>13</td>\n",
       "      <td>1</td>\n",
       "      <td>02</td>\n",
       "      <td>2</td>\n",
       "    </tr>\n",
       "  </tbody>\n",
       "</table>\n",
       "<p>5 rows × 22 columns</p>\n",
       "</div>"
      ],
      "text/plain": [
       "   C_YEAR C_MNTH C_WDAY C_HOUR  C_SEV C_VEHS C_CONF C_RCFG C_WTHR C_RSUR  ...  \\\n",
       "0    2008     11      1     13    2.0      2     21     02      2      3  ...   \n",
       "1    2012     10      6     12    2.0      1     06     02      3      2  ...   \n",
       "2    2012      8      2     00    2.0      1     04     01      1      1  ...   \n",
       "3    2010      1      2     10    2.0      2     21     02      1      2  ...   \n",
       "4    2011      3      2     02    2.0      2     06     01      1      1  ...   \n",
       "\n",
       "  V_ID V_TYPE V_YEAR P_ID P_SEX P_AGE P_PSN P_ISEV P_SAFE P_USER  \n",
       "0    1     01   1997   01     1    73    11      1      2      1  \n",
       "1    1     01   1999   01     1    17    11      2     02      1  \n",
       "2    1     01   1999   01     1    33    11      2     02      1  \n",
       "3    1     01   2005   01     1    50    11      1     02      1  \n",
       "4    1     01   2009   02     1    36    13      1     02      2  \n",
       "\n",
       "[5 rows x 22 columns]"
      ]
     },
     "execution_count": 452,
     "metadata": {},
     "output_type": "execute_result"
    }
   ],
   "source": [
    "ncdb.head()"
   ]
  },
  {
   "cell_type": "markdown",
   "metadata": {
    "id": "pqlufDAR67IA"
   },
   "source": [
    "Como los datos toman valores muy distintos y esto puede ocasionar problemas a la hora de ajustar los modelos, aplicaremos un label encoder a todas las variables menos a `P_AGE`, ya que no queremos que nos modifique la edad, para que estén aproximadamente en la misma escala:"
   ]
  },
  {
   "cell_type": "code",
   "execution_count": 453,
   "metadata": {
    "id": "84797363"
   },
   "outputs": [],
   "source": [
    "cols=ncdb.columns\n",
    "cols = cols.tolist()\n",
    "for i in ['P_AGE']:\n",
    "    cols.remove(i)"
   ]
  },
  {
   "cell_type": "code",
   "execution_count": 454,
   "metadata": {
    "colab": {
     "base_uri": "https://localhost:8080/"
    },
    "id": "f32db0e0",
    "outputId": "27cd1e86-91e0-4cf3-c00d-be8b26a914b3"
   },
   "outputs": [
    {
     "data": {
      "text/plain": [
       "['C_YEAR',\n",
       " 'C_MNTH',\n",
       " 'C_WDAY',\n",
       " 'C_HOUR',\n",
       " 'C_SEV',\n",
       " 'C_VEHS',\n",
       " 'C_CONF',\n",
       " 'C_RCFG',\n",
       " 'C_WTHR',\n",
       " 'C_RSUR',\n",
       " 'C_RALN',\n",
       " 'C_TRAF',\n",
       " 'V_ID',\n",
       " 'V_TYPE',\n",
       " 'V_YEAR',\n",
       " 'P_ID',\n",
       " 'P_SEX',\n",
       " 'P_PSN',\n",
       " 'P_ISEV',\n",
       " 'P_SAFE',\n",
       " 'P_USER']"
      ]
     },
     "execution_count": 454,
     "metadata": {},
     "output_type": "execute_result"
    }
   ],
   "source": [
    "cols"
   ]
  },
  {
   "cell_type": "code",
   "execution_count": 455,
   "metadata": {
    "id": "FXAXAdeQQIxu"
   },
   "outputs": [],
   "source": [
    "ncdb_l=ncdb"
   ]
  },
  {
   "cell_type": "code",
   "execution_count": 456,
   "metadata": {
    "id": "3b717625"
   },
   "outputs": [],
   "source": [
    "from sklearn.preprocessing import LabelEncoder\n",
    "ncdb_l[cols] = (ncdb_l[cols].astype(int)).apply(LabelEncoder().fit_transform)"
   ]
  },
  {
   "cell_type": "code",
   "execution_count": 457,
   "metadata": {
    "colab": {
     "base_uri": "https://localhost:8080/",
     "height": 280
    },
    "id": "3d8fd793",
    "outputId": "4fd9f16a-9d16-42a4-9f32-16e1f1456482"
   },
   "outputs": [
    {
     "data": {
      "text/html": [
       "<div>\n",
       "<style scoped>\n",
       "    .dataframe tbody tr th:only-of-type {\n",
       "        vertical-align: middle;\n",
       "    }\n",
       "\n",
       "    .dataframe tbody tr th {\n",
       "        vertical-align: top;\n",
       "    }\n",
       "\n",
       "    .dataframe thead th {\n",
       "        text-align: right;\n",
       "    }\n",
       "</style>\n",
       "<table border=\"1\" class=\"dataframe\">\n",
       "  <thead>\n",
       "    <tr style=\"text-align: right;\">\n",
       "      <th></th>\n",
       "      <th>C_YEAR</th>\n",
       "      <th>C_MNTH</th>\n",
       "      <th>C_WDAY</th>\n",
       "      <th>C_HOUR</th>\n",
       "      <th>C_SEV</th>\n",
       "      <th>C_VEHS</th>\n",
       "      <th>C_CONF</th>\n",
       "      <th>C_RCFG</th>\n",
       "      <th>C_WTHR</th>\n",
       "      <th>C_RSUR</th>\n",
       "      <th>...</th>\n",
       "      <th>V_ID</th>\n",
       "      <th>V_TYPE</th>\n",
       "      <th>V_YEAR</th>\n",
       "      <th>P_ID</th>\n",
       "      <th>P_SEX</th>\n",
       "      <th>P_AGE</th>\n",
       "      <th>P_PSN</th>\n",
       "      <th>P_ISEV</th>\n",
       "      <th>P_SAFE</th>\n",
       "      <th>P_USER</th>\n",
       "    </tr>\n",
       "  </thead>\n",
       "  <tbody>\n",
       "    <tr>\n",
       "      <th>0</th>\n",
       "      <td>9</td>\n",
       "      <td>10</td>\n",
       "      <td>0</td>\n",
       "      <td>13</td>\n",
       "      <td>1</td>\n",
       "      <td>1</td>\n",
       "      <td>6</td>\n",
       "      <td>1</td>\n",
       "      <td>1</td>\n",
       "      <td>2</td>\n",
       "      <td>...</td>\n",
       "      <td>0</td>\n",
       "      <td>1</td>\n",
       "      <td>51</td>\n",
       "      <td>1</td>\n",
       "      <td>1</td>\n",
       "      <td>73</td>\n",
       "      <td>1</td>\n",
       "      <td>1</td>\n",
       "      <td>2</td>\n",
       "      <td>1</td>\n",
       "    </tr>\n",
       "    <tr>\n",
       "      <th>1</th>\n",
       "      <td>13</td>\n",
       "      <td>9</td>\n",
       "      <td>5</td>\n",
       "      <td>12</td>\n",
       "      <td>1</td>\n",
       "      <td>0</td>\n",
       "      <td>5</td>\n",
       "      <td>1</td>\n",
       "      <td>2</td>\n",
       "      <td>1</td>\n",
       "      <td>...</td>\n",
       "      <td>0</td>\n",
       "      <td>1</td>\n",
       "      <td>53</td>\n",
       "      <td>1</td>\n",
       "      <td>1</td>\n",
       "      <td>17</td>\n",
       "      <td>1</td>\n",
       "      <td>2</td>\n",
       "      <td>2</td>\n",
       "      <td>1</td>\n",
       "    </tr>\n",
       "    <tr>\n",
       "      <th>2</th>\n",
       "      <td>13</td>\n",
       "      <td>7</td>\n",
       "      <td>1</td>\n",
       "      <td>0</td>\n",
       "      <td>1</td>\n",
       "      <td>0</td>\n",
       "      <td>3</td>\n",
       "      <td>0</td>\n",
       "      <td>0</td>\n",
       "      <td>0</td>\n",
       "      <td>...</td>\n",
       "      <td>0</td>\n",
       "      <td>1</td>\n",
       "      <td>53</td>\n",
       "      <td>1</td>\n",
       "      <td>1</td>\n",
       "      <td>33</td>\n",
       "      <td>1</td>\n",
       "      <td>2</td>\n",
       "      <td>2</td>\n",
       "      <td>1</td>\n",
       "    </tr>\n",
       "    <tr>\n",
       "      <th>3</th>\n",
       "      <td>11</td>\n",
       "      <td>0</td>\n",
       "      <td>1</td>\n",
       "      <td>10</td>\n",
       "      <td>1</td>\n",
       "      <td>1</td>\n",
       "      <td>6</td>\n",
       "      <td>1</td>\n",
       "      <td>0</td>\n",
       "      <td>1</td>\n",
       "      <td>...</td>\n",
       "      <td>0</td>\n",
       "      <td>1</td>\n",
       "      <td>59</td>\n",
       "      <td>1</td>\n",
       "      <td>1</td>\n",
       "      <td>50</td>\n",
       "      <td>1</td>\n",
       "      <td>1</td>\n",
       "      <td>2</td>\n",
       "      <td>1</td>\n",
       "    </tr>\n",
       "    <tr>\n",
       "      <th>4</th>\n",
       "      <td>12</td>\n",
       "      <td>2</td>\n",
       "      <td>1</td>\n",
       "      <td>2</td>\n",
       "      <td>1</td>\n",
       "      <td>1</td>\n",
       "      <td>5</td>\n",
       "      <td>0</td>\n",
       "      <td>0</td>\n",
       "      <td>0</td>\n",
       "      <td>...</td>\n",
       "      <td>0</td>\n",
       "      <td>1</td>\n",
       "      <td>63</td>\n",
       "      <td>2</td>\n",
       "      <td>1</td>\n",
       "      <td>36</td>\n",
       "      <td>3</td>\n",
       "      <td>1</td>\n",
       "      <td>2</td>\n",
       "      <td>2</td>\n",
       "    </tr>\n",
       "  </tbody>\n",
       "</table>\n",
       "<p>5 rows × 22 columns</p>\n",
       "</div>"
      ],
      "text/plain": [
       "   C_YEAR  C_MNTH  C_WDAY  C_HOUR  C_SEV  C_VEHS  C_CONF  C_RCFG  C_WTHR  \\\n",
       "0       9      10       0      13      1       1       6       1       1   \n",
       "1      13       9       5      12      1       0       5       1       2   \n",
       "2      13       7       1       0      1       0       3       0       0   \n",
       "3      11       0       1      10      1       1       6       1       0   \n",
       "4      12       2       1       2      1       1       5       0       0   \n",
       "\n",
       "   C_RSUR  ...  V_ID  V_TYPE  V_YEAR  P_ID  P_SEX  P_AGE  P_PSN P_ISEV  \\\n",
       "0       2  ...     0       1      51     1      1     73      1      1   \n",
       "1       1  ...     0       1      53     1      1     17      1      2   \n",
       "2       0  ...     0       1      53     1      1     33      1      2   \n",
       "3       1  ...     0       1      59     1      1     50      1      1   \n",
       "4       0  ...     0       1      63     2      1     36      3      1   \n",
       "\n",
       "   P_SAFE  P_USER  \n",
       "0       2       1  \n",
       "1       2       1  \n",
       "2       2       1  \n",
       "3       2       1  \n",
       "4       2       2  \n",
       "\n",
       "[5 rows x 22 columns]"
      ]
     },
     "execution_count": 457,
     "metadata": {},
     "output_type": "execute_result"
    }
   ],
   "source": [
    "ncdb_l.head()"
   ]
  },
  {
   "cell_type": "markdown",
   "metadata": {
    "id": "08807c2d"
   },
   "source": [
    "Generamos un archivo csv con los valores missing imputados para guardarlos y que sea más comódo trabajar con ellos y no compilar el código todas las veces."
   ]
  },
  {
   "cell_type": "code",
   "execution_count": 458,
   "metadata": {
    "id": "6772af91"
   },
   "outputs": [],
   "source": [
    "ncdb_l.to_csv(\"ncdb_sinmissing_p.csv\")"
   ]
  },
  {
   "cell_type": "markdown",
   "metadata": {
    "id": "KCNIL1Iil50u"
   },
   "source": [
    "## Análisis:\n",
    "Importamos los datos generados en el apartado anterior:"
   ]
  },
  {
   "cell_type": "code",
   "execution_count": 459,
   "metadata": {
    "id": "28ede3a1",
    "scrolled": true
   },
   "outputs": [],
   "source": [
    "data= pd.read_csv('ncdb_sinmissing_p.csv')"
   ]
  },
  {
   "cell_type": "code",
   "execution_count": 460,
   "metadata": {
    "colab": {
     "base_uri": "https://localhost:8080/"
    },
    "id": "49b6ff7e",
    "outputId": "5aa287d7-7098-44e2-ea51-727eb0a34e61"
   },
   "outputs": [
    {
     "data": {
      "text/plain": [
       "(58604, 23)"
      ]
     },
     "execution_count": 460,
     "metadata": {},
     "output_type": "execute_result"
    }
   ],
   "source": [
    "data.shape"
   ]
  },
  {
   "cell_type": "code",
   "execution_count": 461,
   "metadata": {
    "colab": {
     "base_uri": "https://localhost:8080/"
    },
    "id": "ef030680",
    "outputId": "437a5242-0457-4d20-ab95-1e4350112359"
   },
   "outputs": [
    {
     "data": {
      "text/html": [
       "<div>\n",
       "<style scoped>\n",
       "    .dataframe tbody tr th:only-of-type {\n",
       "        vertical-align: middle;\n",
       "    }\n",
       "\n",
       "    .dataframe tbody tr th {\n",
       "        vertical-align: top;\n",
       "    }\n",
       "\n",
       "    .dataframe thead th {\n",
       "        text-align: right;\n",
       "    }\n",
       "</style>\n",
       "<table border=\"1\" class=\"dataframe\">\n",
       "  <thead>\n",
       "    <tr style=\"text-align: right;\">\n",
       "      <th></th>\n",
       "      <th>Unnamed: 0</th>\n",
       "      <th>C_YEAR</th>\n",
       "      <th>C_MNTH</th>\n",
       "      <th>C_WDAY</th>\n",
       "      <th>C_HOUR</th>\n",
       "      <th>C_SEV</th>\n",
       "      <th>C_VEHS</th>\n",
       "      <th>C_CONF</th>\n",
       "      <th>C_RCFG</th>\n",
       "      <th>C_WTHR</th>\n",
       "      <th>...</th>\n",
       "      <th>V_ID</th>\n",
       "      <th>V_TYPE</th>\n",
       "      <th>V_YEAR</th>\n",
       "      <th>P_ID</th>\n",
       "      <th>P_SEX</th>\n",
       "      <th>P_AGE</th>\n",
       "      <th>P_PSN</th>\n",
       "      <th>P_ISEV</th>\n",
       "      <th>P_SAFE</th>\n",
       "      <th>P_USER</th>\n",
       "    </tr>\n",
       "  </thead>\n",
       "  <tbody>\n",
       "    <tr>\n",
       "      <th>0</th>\n",
       "      <td>0</td>\n",
       "      <td>9</td>\n",
       "      <td>10</td>\n",
       "      <td>0</td>\n",
       "      <td>13</td>\n",
       "      <td>1</td>\n",
       "      <td>1</td>\n",
       "      <td>6</td>\n",
       "      <td>1</td>\n",
       "      <td>1</td>\n",
       "      <td>...</td>\n",
       "      <td>0</td>\n",
       "      <td>1</td>\n",
       "      <td>51</td>\n",
       "      <td>1</td>\n",
       "      <td>1</td>\n",
       "      <td>73</td>\n",
       "      <td>1</td>\n",
       "      <td>1</td>\n",
       "      <td>2</td>\n",
       "      <td>1</td>\n",
       "    </tr>\n",
       "    <tr>\n",
       "      <th>1</th>\n",
       "      <td>1</td>\n",
       "      <td>13</td>\n",
       "      <td>9</td>\n",
       "      <td>5</td>\n",
       "      <td>12</td>\n",
       "      <td>1</td>\n",
       "      <td>0</td>\n",
       "      <td>5</td>\n",
       "      <td>1</td>\n",
       "      <td>2</td>\n",
       "      <td>...</td>\n",
       "      <td>0</td>\n",
       "      <td>1</td>\n",
       "      <td>53</td>\n",
       "      <td>1</td>\n",
       "      <td>1</td>\n",
       "      <td>17</td>\n",
       "      <td>1</td>\n",
       "      <td>2</td>\n",
       "      <td>2</td>\n",
       "      <td>1</td>\n",
       "    </tr>\n",
       "    <tr>\n",
       "      <th>2</th>\n",
       "      <td>2</td>\n",
       "      <td>13</td>\n",
       "      <td>7</td>\n",
       "      <td>1</td>\n",
       "      <td>0</td>\n",
       "      <td>1</td>\n",
       "      <td>0</td>\n",
       "      <td>3</td>\n",
       "      <td>0</td>\n",
       "      <td>0</td>\n",
       "      <td>...</td>\n",
       "      <td>0</td>\n",
       "      <td>1</td>\n",
       "      <td>53</td>\n",
       "      <td>1</td>\n",
       "      <td>1</td>\n",
       "      <td>33</td>\n",
       "      <td>1</td>\n",
       "      <td>2</td>\n",
       "      <td>2</td>\n",
       "      <td>1</td>\n",
       "    </tr>\n",
       "    <tr>\n",
       "      <th>3</th>\n",
       "      <td>3</td>\n",
       "      <td>11</td>\n",
       "      <td>0</td>\n",
       "      <td>1</td>\n",
       "      <td>10</td>\n",
       "      <td>1</td>\n",
       "      <td>1</td>\n",
       "      <td>6</td>\n",
       "      <td>1</td>\n",
       "      <td>0</td>\n",
       "      <td>...</td>\n",
       "      <td>0</td>\n",
       "      <td>1</td>\n",
       "      <td>59</td>\n",
       "      <td>1</td>\n",
       "      <td>1</td>\n",
       "      <td>50</td>\n",
       "      <td>1</td>\n",
       "      <td>1</td>\n",
       "      <td>2</td>\n",
       "      <td>1</td>\n",
       "    </tr>\n",
       "    <tr>\n",
       "      <th>4</th>\n",
       "      <td>4</td>\n",
       "      <td>12</td>\n",
       "      <td>2</td>\n",
       "      <td>1</td>\n",
       "      <td>2</td>\n",
       "      <td>1</td>\n",
       "      <td>1</td>\n",
       "      <td>5</td>\n",
       "      <td>0</td>\n",
       "      <td>0</td>\n",
       "      <td>...</td>\n",
       "      <td>0</td>\n",
       "      <td>1</td>\n",
       "      <td>63</td>\n",
       "      <td>2</td>\n",
       "      <td>1</td>\n",
       "      <td>36</td>\n",
       "      <td>3</td>\n",
       "      <td>1</td>\n",
       "      <td>2</td>\n",
       "      <td>2</td>\n",
       "    </tr>\n",
       "  </tbody>\n",
       "</table>\n",
       "<p>5 rows × 23 columns</p>\n",
       "</div>"
      ],
      "text/plain": [
       "   Unnamed: 0  C_YEAR  C_MNTH  C_WDAY  C_HOUR  C_SEV  C_VEHS  C_CONF  C_RCFG  \\\n",
       "0           0       9      10       0      13      1       1       6       1   \n",
       "1           1      13       9       5      12      1       0       5       1   \n",
       "2           2      13       7       1       0      1       0       3       0   \n",
       "3           3      11       0       1      10      1       1       6       1   \n",
       "4           4      12       2       1       2      1       1       5       0   \n",
       "\n",
       "   C_WTHR  ...  V_ID  V_TYPE  V_YEAR  P_ID  P_SEX  P_AGE  P_PSN  P_ISEV  \\\n",
       "0       1  ...     0       1      51     1      1     73      1       1   \n",
       "1       2  ...     0       1      53     1      1     17      1       2   \n",
       "2       0  ...     0       1      53     1      1     33      1       2   \n",
       "3       0  ...     0       1      59     1      1     50      1       1   \n",
       "4       0  ...     0       1      63     2      1     36      3       1   \n",
       "\n",
       "   P_SAFE  P_USER  \n",
       "0       2       1  \n",
       "1       2       1  \n",
       "2       2       1  \n",
       "3       2       1  \n",
       "4       2       2  \n",
       "\n",
       "[5 rows x 23 columns]"
      ]
     },
     "execution_count": 461,
     "metadata": {},
     "output_type": "execute_result"
    }
   ],
   "source": [
    "data.head()"
   ]
  },
  {
   "cell_type": "markdown",
   "metadata": {
    "id": "lXRWcqaN9Po-"
   },
   "source": [
    "Observamos que se ha guardado el índice de las observaciones, a la hora de leer el documento csv generado lo toma como una columna más, eliminamos dicha columna:"
   ]
  },
  {
   "cell_type": "code",
   "execution_count": 462,
   "metadata": {
    "id": "7908c850"
   },
   "outputs": [],
   "source": [
    "data=data.drop(['Unnamed: 0'],axis=1)"
   ]
  },
  {
   "cell_type": "code",
   "execution_count": 463,
   "metadata": {
    "colab": {
     "base_uri": "https://localhost:8080/"
    },
    "id": "6ffc1250",
    "outputId": "6f32d110-96fc-4a15-f59f-793dfdbd92b2"
   },
   "outputs": [
    {
     "data": {
      "text/plain": [
       "(58604, 22)"
      ]
     },
     "execution_count": 463,
     "metadata": {},
     "output_type": "execute_result"
    }
   ],
   "source": [
    "data.shape"
   ]
  },
  {
   "cell_type": "markdown",
   "metadata": {
    "id": "3UAS9STojOFc"
   },
   "source": [
    "# PROBLEMA SUPERVISADO:\n",
    "En esta sección vamos a tomar como variable obetivo `C_SEV` para llegar a predecir con el resto de variables si se produce un accidente mortal o no:"
   ]
  },
  {
   "cell_type": "markdown",
   "metadata": {
    "id": "MIK7HP-HDrQu"
   },
   "source": [
    "Al realizar el Label Encoder observamos que `C_SEV` toma el valor 1 cuando en el accidente producido no hay víctimas mortales, y el valor 0 en caso contrario.\n",
    "\n",
    "Ahora bien, consideramos todas las variables como variables predictoras excepto `P_ISEV` ya que nos indica los heridos y fallecidos tras la colisión, ya que nos condicionará el modelo."
   ]
  },
  {
   "cell_type": "code",
   "execution_count": 464,
   "metadata": {
    "id": "quG4BIMgc2iA"
   },
   "outputs": [],
   "source": [
    "data1=data.drop(['P_ISEV'],axis=1)"
   ]
  },
  {
   "cell_type": "markdown",
   "metadata": {
    "id": "le13RwvZhPeV"
   },
   "source": [
    "### Estudio previo de fallecidos:"
   ]
  },
  {
   "cell_type": "code",
   "execution_count": 465,
   "metadata": {
    "colab": {
     "base_uri": "https://localhost:8080/"
    },
    "id": "gu2XX0L1EPBS",
    "outputId": "15c0c71f-567f-4dfb-8958-13ed3adf22dc"
   },
   "outputs": [
    {
     "name": "stdout",
     "output_type": "stream",
     "text": [
      "Número de observaciones por clase\n",
      "1    57589\n",
      "0     1015\n",
      "Name: C_SEV, dtype: int64\n",
      "\n",
      "Porcentaje de observaciones por clase\n",
      "1    98.268036\n",
      "0     1.731964\n",
      "Name: C_SEV, dtype: float64\n"
     ]
    }
   ],
   "source": [
    "print(\"Número de observaciones por clase\")\n",
    "print(data1['C_SEV'].value_counts())\n",
    "print(\"\")\n",
    "\n",
    "print(\"Porcentaje de observaciones por clase\")\n",
    "print(100 * data1['C_SEV'].value_counts(normalize=True))"
   ]
  },
  {
   "cell_type": "markdown",
   "metadata": {
    "id": "OcHkLEA5vu7_"
   },
   "source": [
    "Como están desbalanceados, balancearemos los datos para que sea mejor la predicción:"
   ]
  },
  {
   "cell_type": "code",
   "execution_count": 466,
   "metadata": {
    "colab": {
     "base_uri": "https://localhost:8080/",
     "height": 299
    },
    "id": "5HcmFQ9Tvupd",
    "outputId": "133a701e-ef13-4c2e-c29e-7bada8defc60"
   },
   "outputs": [
    {
     "name": "stdout",
     "output_type": "stream",
     "text": [
      "Filas que nos quedamos: 115178\n"
     ]
    },
    {
     "data": {
      "text/plain": [
       "<AxesSubplot:>"
      ]
     },
     "execution_count": 466,
     "metadata": {},
     "output_type": "execute_result"
    },
    {
     "data": {
      "image/png": "[encoded data removed]",
      "text/plain": [
       "<Figure size 1080x576 with 1 Axes>"
      ]
     },
     "metadata": {},
     "output_type": "display_data"
    }
   ],
   "source": [
    "from imblearn.over_sampling import RandomOverSampler\n",
    "over = RandomOverSampler(sampling_strategy='minority',random_state=0)\n",
    "X,y=over.fit_resample(data1.drop(columns='C_SEV'),data1['C_SEV'].values)\n",
    "print('Filas que nos quedamos:', len(over.sample_indices_))\n",
    "indicadores_undersampled = data1.iloc[over.sample_indices_]\n",
    "indicadores_undersampled['C_SEV'].value_counts().plot.bar()"
   ]
  },
  {
   "cell_type": "markdown",
   "metadata": {
    "id": "ATAd5UlJhedE"
   },
   "source": [
    "Separamos en train y test, tomando el 30% de los datos como test:"
   ]
  },
  {
   "cell_type": "code",
   "execution_count": 467,
   "metadata": {
    "colab": {
     "base_uri": "https://localhost:8080/"
    },
    "id": "6SLBrMMKAo2Q",
    "outputId": "86404067-cad3-40c8-ea7d-42f6f3b7e258"
   },
   "outputs": [
    {
     "name": "stdout",
     "output_type": "stream",
     "text": [
      "(80624, 20) (34554, 20) (80624,) (34554,)\n"
     ]
    }
   ],
   "source": [
    "from sklearn.model_selection import train_test_split\n",
    "\n",
    "X_train, X_test, y_train, y_test = train_test_split(X.astype(float), y.astype(int), test_size=0.30, random_state=0)\n",
    "print(X_train.shape, X_test.shape,y_train.shape, y_test.shape)"
   ]
  },
  {
   "cell_type": "markdown",
   "metadata": {
    "id": "35j3ycV_ljaW"
   },
   "source": [
    "Utilizaremos diferentes modelos para realizar el ajuste, viendo cual sería el más acertado."
   ]
  },
  {
   "cell_type": "markdown",
   "metadata": {
    "id": "nC60q6cjnwGX"
   },
   "source": [
    "### Predicción de fallecidos con Regresión Logística:\n",
    "\n"
   ]
  },
  {
   "cell_type": "code",
   "execution_count": 468,
   "metadata": {
    "colab": {
     "base_uri": "https://localhost:8080/"
    },
    "id": "22BDROXTEo56",
    "outputId": "a0a68c70-f1a6-435a-9b96-c275c0358d10"
   },
   "outputs": [
    {
     "name": "stdout",
     "output_type": "stream",
     "text": [
      "Optimization terminated successfully.\n",
      "         Current function value: 0.616634\n",
      "         Iterations 6\n",
      "                           Logit Regression Results                           \n",
      "==============================================================================\n",
      "Dep. Variable:                      y   No. Observations:                80624\n",
      "Model:                          Logit   Df Residuals:                    80603\n",
      "Method:                           MLE   Df Model:                           20\n",
      "Date:                Thu, 02 Jun 2022   Pseudo R-squ.:                  0.1104\n",
      "Time:                        16:23:45   Log-Likelihood:                -49715.\n",
      "converged:                       True   LL-Null:                       -55884.\n",
      "Covariance Type:            nonrobust   LLR p-value:                     0.000\n",
      "==============================================================================\n",
      "                 coef    std err          z      P>|z|      [0.025      0.975]\n",
      "------------------------------------------------------------------------------\n",
      "const          0.9987      0.069     14.468      0.000       0.863       1.134\n",
      "C_YEAR         0.0223      0.002     11.716      0.000       0.019       0.026\n",
      "C_MNTH         0.0007      0.002      0.289      0.773      -0.004       0.005\n",
      "C_WDAY        -0.0906      0.004    -23.115      0.000      -0.098      -0.083\n",
      "C_HOUR         0.0309      0.001     23.577      0.000       0.028       0.034\n",
      "C_VEHS         0.0040      0.005      0.758      0.449      -0.006       0.014\n",
      "C_CONF        -0.0410      0.002    -26.029      0.000      -0.044      -0.038\n",
      "C_RCFG         0.0762      0.004     17.212      0.000       0.068       0.085\n",
      "C_WTHR        -0.0371      0.007     -5.499      0.000      -0.050      -0.024\n",
      "C_RSUR         0.0014      0.005      0.315      0.753      -0.008       0.010\n",
      "C_RALN        -0.2728      0.007    -36.452      0.000      -0.287      -0.258\n",
      "C_TRAF        -0.0694      0.001    -58.799      0.000      -0.072      -0.067\n",
      "V_ID          -0.0185      0.004     -4.984      0.000      -0.026      -0.011\n",
      "V_TYPE        -0.0492      0.003    -14.192      0.000      -0.056      -0.042\n",
      "V_YEAR         0.0074      0.001      6.869      0.000       0.005       0.010\n",
      "P_ID          -0.2048      0.010    -20.408      0.000      -0.224      -0.185\n",
      "P_SEX          0.4453      0.016     27.269      0.000       0.413       0.477\n",
      "P_AGE         -0.0131      0.000    -31.803      0.000      -0.014      -0.012\n",
      "P_PSN         -0.0328      0.006     -5.596      0.000      -0.044      -0.021\n",
      "P_SAFE         0.0183      0.007      2.700      0.007       0.005       0.032\n",
      "P_USER         0.0122      0.011      1.153      0.249      -0.009       0.033\n",
      "==============================================================================\n"
     ]
    }
   ],
   "source": [
    "from sklearn.linear_model import LogisticRegression\n",
    "from sklearn.metrics import accuracy_score\n",
    "from sklearn.metrics import plot_confusion_matrix\n",
    "import statsmodels.api as sm\n",
    "import statsmodels.formula.api as smf\n",
    "\n",
    "X_train = sm.add_constant(X_train, prepend=True)\n",
    "modelo = sm.Logit(endog=y_train, exog=X_train,)\n",
    "modelo = modelo.fit()\n",
    "print(modelo.summary())"
   ]
  },
  {
   "cell_type": "markdown",
   "metadata": {
    "id": "A-j11eIJJqgp"
   },
   "source": [
    "Observamos que en el resumen de los coeficientes de las variables, la variable que cobra más importancia para predecir si es una colisión que puede ocasionar fallecidos es `P_SEX`. Es decir, dependiendo del sexo habrá mas o menos colisiones mortales, sin ser esta una variable determinante.\n"
   ]
  },
  {
   "cell_type": "code",
   "execution_count": 469,
   "metadata": {
    "id": "2Rnrgt6OIT11"
   },
   "outputs": [],
   "source": [
    "pred = modelo.predict(exog = X_train)\n",
    "clasificacion = np.where(pred<0.5, 0, 1)"
   ]
  },
  {
   "cell_type": "code",
   "execution_count": 470,
   "metadata": {
    "colab": {
     "base_uri": "https://localhost:8080/"
    },
    "id": "205iCPC8Iie_",
    "outputId": "b261a9d7-a5ec-4031-bba9-6afc3391ce18"
   },
   "outputs": [
    {
     "name": "stdout",
     "output_type": "stream",
     "text": [
      "\n",
      "El accuracy de train es: 65.41104385790831%\n"
     ]
    }
   ],
   "source": [
    "accuracy = accuracy_score(\n",
    "            y_true    = y_train,\n",
    "            y_pred    = clasificacion,\n",
    "            normalize = True\n",
    "           )\n",
    "print(\"\")\n",
    "print(f\"El accuracy de train es: {100*accuracy}%\")"
   ]
  },
  {
   "cell_type": "markdown",
   "metadata": {
    "id": "u2yB_XVwI9BF"
   },
   "source": [
    "Ahora bien, hemos definido un umbral de 0.5 a partir del cual consideraremos que si el valor que toma Y es mayor se clasifica como una colisión donde no hay fallecidos:"
   ]
  },
  {
   "cell_type": "code",
   "execution_count": 471,
   "metadata": {
    "id": "1HzVLbXeGwdc"
   },
   "outputs": [],
   "source": [
    "X_test = sm.add_constant(X_test, prepend=True)\n",
    "predicciones = modelo.predict(exog = X_test)\n",
    "clasificacion = np.where(predicciones<0.5, 0, 1)"
   ]
  },
  {
   "cell_type": "code",
   "execution_count": 472,
   "metadata": {
    "colab": {
     "base_uri": "https://localhost:8080/",
     "height": 350
    },
    "id": "fIbLl-OrG259",
    "outputId": "ba168862-285c-40d6-f775-e3dc3fc60ebb"
   },
   "outputs": [
    {
     "data": {
      "image/png": "[encoded data removed]",
      "text/plain": [
       "<Figure size 432x360 with 2 Axes>"
      ]
     },
     "metadata": {},
     "output_type": "display_data"
    }
   ],
   "source": [
    "from sklearn.metrics import confusion_matrix\n",
    "conf_matrix= confusion_matrix(y_test, clasificacion)\n",
    "plt.figure(figsize=(6,5))\n",
    "labels= ['Fatal collision', 'Non-fatal collision']\n",
    "sns.heatmap(conf_matrix, xticklabels=labels, yticklabels=labels, annot= True, fmt='d')\n",
    "plt.title('Confusión matrix Regresión Logística')\n",
    "plt.ylabel('True class')\n",
    "plt.xlabel('Predicted class')\n",
    "plt.show()"
   ]
  },
  {
   "cell_type": "code",
   "execution_count": 473,
   "metadata": {
    "colab": {
     "base_uri": "https://localhost:8080/"
    },
    "id": "zDNn5jxDG28t",
    "outputId": "0816b048-3849-46fd-a6cd-ad92ed4c5f1c"
   },
   "outputs": [
    {
     "name": "stdout",
     "output_type": "stream",
     "text": [
      "\n",
      "El accuracy de test es: 65.43381374081149%\n"
     ]
    }
   ],
   "source": [
    "accuracy = accuracy_score(\n",
    "            y_true    = y_test,\n",
    "            y_pred    = clasificacion,\n",
    "            normalize = True\n",
    "           )\n",
    "print(\"\")\n",
    "print(f\"El accuracy de test es: {100*accuracy}%\")"
   ]
  },
  {
   "cell_type": "markdown",
   "metadata": {
    "id": "PlLOoi8wkDkN"
   },
   "source": [
    "Observamos que la precisión de test es de 65% aproximadamente, una precisión aceptable. \n",
    "\n",
    "En la matriz de confusión vemos que a la hora de predecir se equivoca de igual manera, tanto para una clasificación como para la otra.  "
   ]
  },
  {
   "cell_type": "markdown",
   "metadata": {
    "id": "I_jJrobgcr2H"
   },
   "source": [
    "### Predicción de fallecimientos con Árboles de Decisión:"
   ]
  },
  {
   "cell_type": "markdown",
   "metadata": {
    "id": "xNBt79Iomr0F"
   },
   "source": [
    "Realizamos una búsqueda de hiperparámetros antes de ajustar los datos:"
   ]
  },
  {
   "cell_type": "code",
   "execution_count": 474,
   "metadata": {
    "id": "lmXOzhCzdMc3",
    "outputId": "1efbbddf-49bc-481f-f3ad-c8192bd818ea"
   },
   "outputs": [
    {
     "data": {
      "text/plain": [
       "GridSearchCV(cv=10, estimator=DecisionTreeClassifier(random_state=0), n_jobs=-1,\n",
       "             param_grid={'max_depth': [1, 2, 3, 4, 5, 6, 7, 8, 9, 10, 11],\n",
       "                         'max_features': [1, 2, 3, 4, 5, 6, 7, 8, 9, 10, 11]},\n",
       "             scoring='accuracy')"
      ]
     },
     "execution_count": 474,
     "metadata": {},
     "output_type": "execute_result"
    }
   ],
   "source": [
    "from sklearn import metrics\n",
    "from sklearn.model_selection import GridSearchCV\n",
    "from sklearn.tree import DecisionTreeClassifier\n",
    "\n",
    "arbol = DecisionTreeClassifier(random_state=0)\n",
    "\n",
    "# Definimos la rejilla\n",
    "ps = np.linspace(1, 2, 10)\n",
    "md = list(range(1, 12))\n",
    "mf = list(range(1, 12))\n",
    "h_parameters = {'max_depth':md,\n",
    "               \"max_features\":mf}\n",
    "\n",
    "cv = GridSearchCV(arbol, h_parameters, cv=10, n_jobs=-1, scoring='accuracy')\n",
    "\n",
    "\n",
    "cv.fit(X_train, y_train)"
   ]
  },
  {
   "cell_type": "code",
   "execution_count": 475,
   "metadata": {
    "id": "L46cBSQnevQC",
    "outputId": "4ea7ea55-fc8f-4a31-8d05-8580ab75c50b"
   },
   "outputs": [
    {
     "data": {
      "text/plain": [
       "DecisionTreeClassifier(max_depth=11, max_features=11, random_state=0)"
      ]
     },
     "execution_count": 475,
     "metadata": {},
     "output_type": "execute_result"
    }
   ],
   "source": [
    "cv.best_estimator_"
   ]
  },
  {
   "cell_type": "code",
   "execution_count": 476,
   "metadata": {
    "id": "cCt3MLdwevNj",
    "outputId": "96fc8b32-c9ad-4a6e-fe84-7b2fafb0f04e"
   },
   "outputs": [
    {
     "name": "stdout",
     "output_type": "stream",
     "text": [
      "0.8597846848411183\n"
     ]
    }
   ],
   "source": [
    "treeModel = cv.best_estimator_\n",
    "treeModel.fit(X_train, y_train)\n",
    "\n",
    "y_test_pred = treeModel.predict(X_test)\n",
    "print(treeModel.score(X_test,y_test))"
   ]
  },
  {
   "cell_type": "code",
   "execution_count": 477,
   "metadata": {
    "id": "k-HjEz1TevLK",
    "outputId": "9e558f25-6ca8-4f5f-b291-898a0e370239"
   },
   "outputs": [
    {
     "data": {
      "image/png": "[encoded data removed]",
      "text/plain": [
       "<Figure size 432x360 with 2 Axes>"
      ]
     },
     "metadata": {},
     "output_type": "display_data"
    }
   ],
   "source": [
    "from sklearn.metrics import confusion_matrix\n",
    "conf_matrix= confusion_matrix(y_test, y_test_pred)\n",
    "plt.figure(figsize=(6,5))\n",
    "labels= ['Fatal collision', 'Non-fatal collision']\n",
    "sns.heatmap(conf_matrix, xticklabels=labels, yticklabels=labels, annot= True, fmt='d')\n",
    "plt.title('Confusión matrix Árboles de decisión')\n",
    "plt.ylabel('True class')\n",
    "plt.xlabel('Predicted class')\n",
    "plt.show()"
   ]
  },
  {
   "cell_type": "markdown",
   "metadata": {
    "id": "29uIJtpym0dB"
   },
   "source": [
    "A partir de la métrica vemos que este modelo es más preciso pero analizando la matriz de confusión vemos que predice peor los accidentes que no son mortales."
   ]
  },
  {
   "cell_type": "markdown",
   "metadata": {
    "id": "mFVb8TfbfjqF"
   },
   "source": [
    "### Predicción de fallecimientos con Random Forest:"
   ]
  },
  {
   "cell_type": "markdown",
   "metadata": {
    "id": "OxrZVy6tn6EE"
   },
   "source": [
    "Antes de realizar el ajuste, hacemos una búsqueda de hiperparámetros."
   ]
  },
  {
   "cell_type": "code",
   "execution_count": 478,
   "metadata": {
    "colab": {
     "base_uri": "https://localhost:8080/",
     "height": 319
    },
    "id": "tSMk1TT0evIq",
    "outputId": "9df6c1f7-5c61-4f92-e91b-70863d84c546"
   },
   "outputs": [
    {
     "name": "stdout",
     "output_type": "stream",
     "text": [
      "best mean cross-validation score: 0.915\n",
      "best parameters: {'max_depth': 11}\n"
     ]
    },
    {
     "data": {
      "image/png": "[encoded data removed]",
      "text/plain": [
       "<Figure size 1080x576 with 1 Axes>"
      ]
     },
     "metadata": {},
     "output_type": "display_data"
    }
   ],
   "source": [
    "from sklearn.model_selection import GridSearchCV\n",
    "from sklearn.ensemble import RandomForestClassifier\n",
    "maxDepth   = range(1,12)\n",
    "param_grid = {'max_depth': maxDepth}\n",
    "\n",
    "grid = GridSearchCV(RandomForestClassifier(n_estimators = 200), scoring= 'accuracy', param_grid=param_grid, cv = 5)\n",
    "grid.fit(X_train, y_train)\n",
    "print(\"best mean cross-validation score: {:.3f}\".format(grid.best_score_))\n",
    "print(\"best parameters: {}\".format(grid.best_params_))\n",
    "\n",
    "scores = np.array(grid.cv_results_['mean_test_score'])\n",
    "plt.plot(maxDepth,scores,'-o')\n",
    "plt.xlabel('max depth',fontsize=16)\n",
    "plt.ylabel('5-Fold Acc')\n",
    "plt.show()"
   ]
  },
  {
   "cell_type": "code",
   "execution_count": 479,
   "metadata": {
    "id": "LJRmhAMKevGK"
   },
   "outputs": [],
   "source": [
    "y_pred = grid.best_estimator_.predict(X_test)"
   ]
  },
  {
   "cell_type": "code",
   "execution_count": 480,
   "metadata": {
    "colab": {
     "base_uri": "https://localhost:8080/",
     "height": 350
    },
    "id": "HsgDIs_nf0Ad",
    "outputId": "d09326e2-d7b5-40d9-8045-08387fb56e48"
   },
   "outputs": [
    {
     "data": {
      "image/png": "[encoded data removed]",
      "text/plain": [
       "<Figure size 432x360 with 2 Axes>"
      ]
     },
     "metadata": {},
     "output_type": "display_data"
    }
   ],
   "source": [
    "from sklearn.metrics import confusion_matrix\n",
    "conf_matrix= confusion_matrix(y_test, y_pred)\n",
    "plt.figure(figsize=(6,5))\n",
    "labels= ['Fatal collision', 'Non-fatal collision']\n",
    "sns.heatmap(conf_matrix, xticklabels=labels, yticklabels=labels, annot= True, fmt='d')\n",
    "plt.title('Confusión matrix Random Forest')\n",
    "plt.ylabel('True class')\n",
    "plt.xlabel('Predicted class')\n",
    "plt.show()"
   ]
  },
  {
   "cell_type": "markdown",
   "metadata": {
    "id": "pifSzaesogPM"
   },
   "source": [
    "Este ajuste mejora la precisión a la hora de predecir, pero por otro lado en la matriz de confusión vemos que hay mas error cuando se predice los accidentes que no son mortales. "
   ]
  },
  {
   "cell_type": "markdown",
   "metadata": {
    "id": "IxiRQJH5sAta"
   },
   "source": [
    "### Estudio previo de heridos:\n",
    "Para predecir si hay heridos o no vamos a seleccionar las observaciones en las cuales las colisiones no son mortales:"
   ]
  },
  {
   "cell_type": "code",
   "execution_count": 481,
   "metadata": {
    "id": "jwQ8HY_Nz5IK"
   },
   "outputs": [],
   "source": [
    "data_heridos= data[data['C_SEV']==1]\n",
    "data_heridos=data_heridos.drop(columns='C_SEV')"
   ]
  },
  {
   "cell_type": "code",
   "execution_count": 482,
   "metadata": {
    "colab": {
     "base_uri": "https://localhost:8080/"
    },
    "id": "3wLxLNkQ0gX9",
    "outputId": "b3c19d7d-be6d-42d0-ddb8-981563d4729b"
   },
   "outputs": [
    {
     "data": {
      "text/plain": [
       "(57589, 21)"
      ]
     },
     "execution_count": 482,
     "metadata": {},
     "output_type": "execute_result"
    }
   ],
   "source": [
    "data_heridos.shape"
   ]
  },
  {
   "cell_type": "markdown",
   "metadata": {
    "id": "iolLNVjgqKcv"
   },
   "source": [
    "Tomaremos la variable `P_ISEV` como la variable objetivo, ya que refleja los accidentes con heridos, es decir, los que necesitarían tratamiento médico."
   ]
  },
  {
   "cell_type": "code",
   "execution_count": 483,
   "metadata": {
    "colab": {
     "base_uri": "https://localhost:8080/"
    },
    "id": "LuDn2ZV-05xc",
    "outputId": "8a9ef247-d0bd-4b77-b753-98b6201f08df"
   },
   "outputs": [
    {
     "data": {
      "text/plain": [
       "2    31310\n",
       "1    23484\n",
       "0     2795\n",
       "Name: P_ISEV, dtype: int64"
      ]
     },
     "execution_count": 483,
     "metadata": {},
     "output_type": "execute_result"
    }
   ],
   "source": [
    "data_heridos['P_ISEV'].value_counts()"
   ]
  },
  {
   "cell_type": "markdown",
   "metadata": {
    "id": "NXEVhaH4OT0a"
   },
   "source": [
    "Observamos que el Label Encoder no ha cambiado la codificación.\n",
    "\n",
    "La variable que toma el valor 0 nos indica que hace referencia a objetos que no son personas, por ejemplo un coche aparcado. Eliminamos las observaciones con dicho valor:"
   ]
  },
  {
   "cell_type": "code",
   "execution_count": 484,
   "metadata": {
    "id": "5wF5DZeu5FHW"
   },
   "outputs": [],
   "source": [
    "data_heridos= data_heridos[data_heridos['P_ISEV']!=0]"
   ]
  },
  {
   "cell_type": "code",
   "execution_count": 485,
   "metadata": {
    "colab": {
     "base_uri": "https://localhost:8080/"
    },
    "id": "LsDFaE5Y6CVB",
    "outputId": "617edaf7-1a1b-4987-e747-56ad8222fa90"
   },
   "outputs": [
    {
     "data": {
      "text/plain": [
       "(54794, 21)"
      ]
     },
     "execution_count": 485,
     "metadata": {},
     "output_type": "execute_result"
    }
   ],
   "source": [
    "data_heridos.shape"
   ]
  },
  {
   "cell_type": "markdown",
   "metadata": {
    "id": "m3pwUXshN5kj"
   },
   "source": [
    "Ahora bien, definiremos los valores 2 y 3 como el valor 1, dado que son las observaciones que han resultado heridos tras la colisión, en concreto el valor 3 refleja los muertos en el acto o los que han fallecido tiempo después. En este caso le damos más peso al segundo escenario ya que existe la esperanza de que se salven con asistencia médica.\n",
    "\n",
    "El valor 1 tomará el valor 0 ya que nos proporciona las personas que no han sufrido heridas tras el accidente:"
   ]
  },
  {
   "cell_type": "code",
   "execution_count": 486,
   "metadata": {
    "id": "jP0aTS0i5eSt"
   },
   "outputs": [],
   "source": [
    "def heridos(x):\n",
    "    if x != 1:\n",
    "        return 1\n",
    "    else:\n",
    "        return 0"
   ]
  },
  {
   "cell_type": "code",
   "execution_count": 487,
   "metadata": {
    "colab": {
     "base_uri": "https://localhost:8080/",
     "height": 280
    },
    "id": "BWwADijz6Roo",
    "outputId": "d91b65a6-942e-45e1-fa68-5f178e7df48e"
   },
   "outputs": [
    {
     "data": {
      "text/html": [
       "<div>\n",
       "<style scoped>\n",
       "    .dataframe tbody tr th:only-of-type {\n",
       "        vertical-align: middle;\n",
       "    }\n",
       "\n",
       "    .dataframe tbody tr th {\n",
       "        vertical-align: top;\n",
       "    }\n",
       "\n",
       "    .dataframe thead th {\n",
       "        text-align: right;\n",
       "    }\n",
       "</style>\n",
       "<table border=\"1\" class=\"dataframe\">\n",
       "  <thead>\n",
       "    <tr style=\"text-align: right;\">\n",
       "      <th></th>\n",
       "      <th>C_YEAR</th>\n",
       "      <th>C_MNTH</th>\n",
       "      <th>C_WDAY</th>\n",
       "      <th>C_HOUR</th>\n",
       "      <th>C_VEHS</th>\n",
       "      <th>C_CONF</th>\n",
       "      <th>C_RCFG</th>\n",
       "      <th>C_WTHR</th>\n",
       "      <th>C_RSUR</th>\n",
       "      <th>C_RALN</th>\n",
       "      <th>...</th>\n",
       "      <th>V_TYPE</th>\n",
       "      <th>V_YEAR</th>\n",
       "      <th>P_ID</th>\n",
       "      <th>P_SEX</th>\n",
       "      <th>P_AGE</th>\n",
       "      <th>P_PSN</th>\n",
       "      <th>P_ISEV</th>\n",
       "      <th>P_SAFE</th>\n",
       "      <th>P_USER</th>\n",
       "      <th>hurt</th>\n",
       "    </tr>\n",
       "  </thead>\n",
       "  <tbody>\n",
       "    <tr>\n",
       "      <th>0</th>\n",
       "      <td>9</td>\n",
       "      <td>10</td>\n",
       "      <td>0</td>\n",
       "      <td>13</td>\n",
       "      <td>1</td>\n",
       "      <td>6</td>\n",
       "      <td>1</td>\n",
       "      <td>1</td>\n",
       "      <td>2</td>\n",
       "      <td>0</td>\n",
       "      <td>...</td>\n",
       "      <td>1</td>\n",
       "      <td>51</td>\n",
       "      <td>1</td>\n",
       "      <td>1</td>\n",
       "      <td>73</td>\n",
       "      <td>1</td>\n",
       "      <td>1</td>\n",
       "      <td>2</td>\n",
       "      <td>1</td>\n",
       "      <td>0</td>\n",
       "    </tr>\n",
       "    <tr>\n",
       "      <th>1</th>\n",
       "      <td>13</td>\n",
       "      <td>9</td>\n",
       "      <td>5</td>\n",
       "      <td>12</td>\n",
       "      <td>0</td>\n",
       "      <td>5</td>\n",
       "      <td>1</td>\n",
       "      <td>2</td>\n",
       "      <td>1</td>\n",
       "      <td>0</td>\n",
       "      <td>...</td>\n",
       "      <td>1</td>\n",
       "      <td>53</td>\n",
       "      <td>1</td>\n",
       "      <td>1</td>\n",
       "      <td>17</td>\n",
       "      <td>1</td>\n",
       "      <td>2</td>\n",
       "      <td>2</td>\n",
       "      <td>1</td>\n",
       "      <td>1</td>\n",
       "    </tr>\n",
       "    <tr>\n",
       "      <th>2</th>\n",
       "      <td>13</td>\n",
       "      <td>7</td>\n",
       "      <td>1</td>\n",
       "      <td>0</td>\n",
       "      <td>0</td>\n",
       "      <td>3</td>\n",
       "      <td>0</td>\n",
       "      <td>0</td>\n",
       "      <td>0</td>\n",
       "      <td>0</td>\n",
       "      <td>...</td>\n",
       "      <td>1</td>\n",
       "      <td>53</td>\n",
       "      <td>1</td>\n",
       "      <td>1</td>\n",
       "      <td>33</td>\n",
       "      <td>1</td>\n",
       "      <td>2</td>\n",
       "      <td>2</td>\n",
       "      <td>1</td>\n",
       "      <td>1</td>\n",
       "    </tr>\n",
       "    <tr>\n",
       "      <th>3</th>\n",
       "      <td>11</td>\n",
       "      <td>0</td>\n",
       "      <td>1</td>\n",
       "      <td>10</td>\n",
       "      <td>1</td>\n",
       "      <td>6</td>\n",
       "      <td>1</td>\n",
       "      <td>0</td>\n",
       "      <td>1</td>\n",
       "      <td>0</td>\n",
       "      <td>...</td>\n",
       "      <td>1</td>\n",
       "      <td>59</td>\n",
       "      <td>1</td>\n",
       "      <td>1</td>\n",
       "      <td>50</td>\n",
       "      <td>1</td>\n",
       "      <td>1</td>\n",
       "      <td>2</td>\n",
       "      <td>1</td>\n",
       "      <td>0</td>\n",
       "    </tr>\n",
       "    <tr>\n",
       "      <th>4</th>\n",
       "      <td>12</td>\n",
       "      <td>2</td>\n",
       "      <td>1</td>\n",
       "      <td>2</td>\n",
       "      <td>1</td>\n",
       "      <td>5</td>\n",
       "      <td>0</td>\n",
       "      <td>0</td>\n",
       "      <td>0</td>\n",
       "      <td>1</td>\n",
       "      <td>...</td>\n",
       "      <td>1</td>\n",
       "      <td>63</td>\n",
       "      <td>2</td>\n",
       "      <td>1</td>\n",
       "      <td>36</td>\n",
       "      <td>3</td>\n",
       "      <td>1</td>\n",
       "      <td>2</td>\n",
       "      <td>2</td>\n",
       "      <td>0</td>\n",
       "    </tr>\n",
       "  </tbody>\n",
       "</table>\n",
       "<p>5 rows × 22 columns</p>\n",
       "</div>"
      ],
      "text/plain": [
       "   C_YEAR  C_MNTH  C_WDAY  C_HOUR  C_VEHS  C_CONF  C_RCFG  C_WTHR  C_RSUR  \\\n",
       "0       9      10       0      13       1       6       1       1       2   \n",
       "1      13       9       5      12       0       5       1       2       1   \n",
       "2      13       7       1       0       0       3       0       0       0   \n",
       "3      11       0       1      10       1       6       1       0       1   \n",
       "4      12       2       1       2       1       5       0       0       0   \n",
       "\n",
       "   C_RALN  ...  V_TYPE  V_YEAR  P_ID  P_SEX  P_AGE  P_PSN  P_ISEV  P_SAFE  \\\n",
       "0       0  ...       1      51     1      1     73      1       1       2   \n",
       "1       0  ...       1      53     1      1     17      1       2       2   \n",
       "2       0  ...       1      53     1      1     33      1       2       2   \n",
       "3       0  ...       1      59     1      1     50      1       1       2   \n",
       "4       1  ...       1      63     2      1     36      3       1       2   \n",
       "\n",
       "   P_USER  hurt  \n",
       "0       1     0  \n",
       "1       1     1  \n",
       "2       1     1  \n",
       "3       1     0  \n",
       "4       2     0  \n",
       "\n",
       "[5 rows x 22 columns]"
      ]
     },
     "execution_count": 487,
     "metadata": {},
     "output_type": "execute_result"
    }
   ],
   "source": [
    "data_new = data_heridos.assign(hurt = lambda x: x['P_ISEV'].aggregate(heridos))\n",
    "data_new.head()"
   ]
  },
  {
   "cell_type": "code",
   "execution_count": 488,
   "metadata": {
    "id": "pLc-V1_r7TLc"
   },
   "outputs": [],
   "source": [
    "data_new= data_new.drop(columns='P_ISEV')"
   ]
  },
  {
   "cell_type": "code",
   "execution_count": 489,
   "metadata": {
    "id": "gQhbd_l96-eY"
   },
   "outputs": [],
   "source": [
    "X= data_new.drop(columns= 'hurt')\n",
    "y= data_new['hurt']"
   ]
  },
  {
   "cell_type": "code",
   "execution_count": 490,
   "metadata": {
    "colab": {
     "base_uri": "https://localhost:8080/"
    },
    "id": "vUE9GgI_7G3v",
    "outputId": "2425aea3-ddf2-49ba-ecaf-4bb0fb3d9636"
   },
   "outputs": [
    {
     "name": "stdout",
     "output_type": "stream",
     "text": [
      "Número de observaciones por clase\n",
      "1    31310\n",
      "0    23484\n",
      "Name: hurt, dtype: int64\n",
      "\n",
      "Porcentaje de observaciones por clase\n",
      "1    57.141293\n",
      "0    42.858707\n",
      "Name: hurt, dtype: float64\n"
     ]
    }
   ],
   "source": [
    "print(\"Número de observaciones por clase\")\n",
    "print(data_new['hurt'].value_counts())\n",
    "print(\"\")\n",
    "\n",
    "print(\"Porcentaje de observaciones por clase\")\n",
    "print(100 * data_new['hurt'].value_counts(normalize=True))"
   ]
  },
  {
   "cell_type": "markdown",
   "metadata": {
    "id": "jZhNjOja7jDE"
   },
   "source": [
    "Observamos que están balanceados, por tanto no hace falta balancear los datos.\n"
   ]
  },
  {
   "cell_type": "code",
   "execution_count": 491,
   "metadata": {
    "colab": {
     "base_uri": "https://localhost:8080/"
    },
    "id": "Jx30uJYB7Gzr",
    "outputId": "559222aa-9f69-4dc7-ce72-d3d5d82f1b7f"
   },
   "outputs": [
    {
     "name": "stdout",
     "output_type": "stream",
     "text": [
      "(38355, 20) (16439, 20) (38355,) (16439,)\n"
     ]
    }
   ],
   "source": [
    "from sklearn.model_selection import train_test_split\n",
    "\n",
    "X_train, X_test, y_train, y_test = train_test_split(X.astype(float), y.astype(int), test_size=0.30, random_state=0)\n",
    "print(X_train.shape, X_test.shape,y_train.shape, y_test.shape)"
   ]
  },
  {
   "cell_type": "markdown",
   "metadata": {
    "id": "Z6KujMwnz67B"
   },
   "source": [
    "### Predicción de heridos con Regresión Logística:\n",
    "\n"
   ]
  },
  {
   "cell_type": "code",
   "execution_count": 492,
   "metadata": {
    "colab": {
     "base_uri": "https://localhost:8080/"
    },
    "id": "RIXw-YXH7GxM",
    "outputId": "92e0ef9e-6f6a-4903-dd4b-2596b9fca14d"
   },
   "outputs": [
    {
     "name": "stdout",
     "output_type": "stream",
     "text": [
      "Optimization terminated successfully.\n",
      "         Current function value: 0.616704\n",
      "         Iterations 8\n",
      "                           Logit Regression Results                           \n",
      "==============================================================================\n",
      "Dep. Variable:                   hurt   No. Observations:                38355\n",
      "Model:                          Logit   Df Residuals:                    38334\n",
      "Method:                           MLE   Df Model:                           20\n",
      "Date:                Thu, 02 Jun 2022   Pseudo R-squ.:                 0.09694\n",
      "Time:                        16:32:48   Log-Likelihood:                -23654.\n",
      "converged:                       True   LL-Null:                       -26193.\n",
      "Covariance Type:            nonrobust   LLR p-value:                     0.000\n",
      "==============================================================================\n",
      "                 coef    std err          z      P>|z|      [0.025      0.975]\n",
      "------------------------------------------------------------------------------\n",
      "const         -0.6175      0.109     -5.670      0.000      -0.831      -0.404\n",
      "C_YEAR         0.0121      0.003      4.167      0.000       0.006       0.018\n",
      "C_MNTH         0.0011      0.003      0.346      0.729      -0.005       0.007\n",
      "C_WDAY         0.0074      0.006      1.305      0.192      -0.004       0.019\n",
      "C_HOUR        -0.0127      0.002     -5.924      0.000      -0.017      -0.008\n",
      "C_VEHS        -0.3380      0.015    -21.922      0.000      -0.368      -0.308\n",
      "C_CONF        -0.0073      0.002     -3.109      0.002      -0.012      -0.003\n",
      "C_RCFG        -0.0079      0.007     -1.067      0.286      -0.023       0.007\n",
      "C_WTHR         0.0396      0.010      3.797      0.000       0.019       0.060\n",
      "C_RSUR         0.0363      0.007      5.412      0.000       0.023       0.049\n",
      "C_RALN         0.1572      0.013     12.235      0.000       0.132       0.182\n",
      "C_TRAF         0.0179      0.002     11.704      0.000       0.015       0.021\n",
      "V_ID           0.1244      0.009     13.684      0.000       0.107       0.142\n",
      "V_TYPE         0.0405      0.006      7.207      0.000       0.029       0.051\n",
      "V_YEAR        -0.0192      0.002    -10.888      0.000      -0.023      -0.016\n",
      "P_ID          -0.1497      0.016     -9.327      0.000      -0.181      -0.118\n",
      "P_SEX          0.6651      0.023     29.151      0.000       0.620       0.710\n",
      "P_AGE          0.0034      0.001      5.357      0.000       0.002       0.005\n",
      "P_PSN         -0.0794      0.010     -7.601      0.000      -0.100      -0.059\n",
      "P_SAFE         0.3454      0.017     20.870      0.000       0.313       0.378\n",
      "P_USER         0.3854      0.020     19.136      0.000       0.346       0.425\n",
      "==============================================================================\n"
     ]
    }
   ],
   "source": [
    "from sklearn.linear_model import LogisticRegression\n",
    "from sklearn.model_selection import train_test_split\n",
    "from sklearn.metrics import accuracy_score\n",
    "from sklearn.metrics import plot_confusion_matrix\n",
    "import statsmodels.api as sm\n",
    "import statsmodels.formula.api as smf\n",
    "\n",
    "X_train = sm.add_constant(X_train, prepend=True)\n",
    "modelo = sm.Logit(endog=y_train, exog=X_train,)\n",
    "modelo = modelo.fit()\n",
    "print(modelo.summary())"
   ]
  },
  {
   "cell_type": "markdown",
   "metadata": {
    "id": "SFptOT1dsll9"
   },
   "source": [
    "La variable que más influye en este caso también es `P_SEX`, no obstante no es determinante ya que muchas otras toman valores influyentes."
   ]
  },
  {
   "cell_type": "code",
   "execution_count": 493,
   "metadata": {
    "id": "LqzlfgK17Guw"
   },
   "outputs": [],
   "source": [
    "pred = modelo.predict(exog = X_train)\n",
    "clasificacion = np.where(pred<0.5, 0, 1)"
   ]
  },
  {
   "cell_type": "code",
   "execution_count": 494,
   "metadata": {
    "colab": {
     "base_uri": "https://localhost:8080/"
    },
    "id": "VXJok0bn7Geu",
    "outputId": "fa7b3e18-c6bc-4363-91b0-b25d6d5a1d4b"
   },
   "outputs": [
    {
     "name": "stdout",
     "output_type": "stream",
     "text": [
      "\n",
      "El accuracy de test es: 64.35145352626776%\n"
     ]
    }
   ],
   "source": [
    "accuracy = accuracy_score(\n",
    "            y_true    = y_train,\n",
    "            y_pred    = clasificacion,\n",
    "            normalize = True\n",
    "           )\n",
    "print(\"\")\n",
    "print(f\"El accuracy de test es: {100*accuracy}%\")"
   ]
  },
  {
   "cell_type": "markdown",
   "metadata": {
    "id": "gDQDO1Ss9WSX"
   },
   "source": [
    "Tomamos un umbral de 0.5.\n",
    "\n",
    "Ahora bien, vamos a realizarlo con los datos de test:"
   ]
  },
  {
   "cell_type": "code",
   "execution_count": 495,
   "metadata": {
    "id": "pxEcLpUd9Vqr"
   },
   "outputs": [],
   "source": [
    "X_test = sm.add_constant(X_test, prepend=True)\n",
    "predicciones = modelo.predict(exog = X_test)\n",
    "clasificacion = np.where(predicciones<0.5, 0, 1)"
   ]
  },
  {
   "cell_type": "code",
   "execution_count": 496,
   "metadata": {
    "colab": {
     "base_uri": "https://localhost:8080/",
     "height": 350
    },
    "id": "3Kils1rg9Voy",
    "outputId": "450f98cd-db31-445b-8546-c0ae6b30d37c"
   },
   "outputs": [
    {
     "data": {
      "image/png": "[encoded data removed]",
      "text/plain": [
       "<Figure size 432x360 with 2 Axes>"
      ]
     },
     "metadata": {},
     "output_type": "display_data"
    }
   ],
   "source": [
    "conf_matrix= confusion_matrix(y_test, clasificacion)\n",
    "plt.figure(figsize=(6,5))\n",
    "labels= ['No herido', 'Herido']\n",
    "sns.heatmap(conf_matrix, xticklabels=labels, yticklabels=labels, annot= True, fmt='d')\n",
    "plt.title('Confusión matrix Regresión Logística')\n",
    "plt.ylabel('True class')\n",
    "plt.xlabel('Predicted class')\n",
    "plt.show()"
   ]
  },
  {
   "cell_type": "code",
   "execution_count": 497,
   "metadata": {
    "colab": {
     "base_uri": "https://localhost:8080/"
    },
    "id": "W_us5oIg9Vk1",
    "outputId": "363906ea-595e-4d82-ac41-955c91861bee"
   },
   "outputs": [
    {
     "name": "stdout",
     "output_type": "stream",
     "text": [
      "\n",
      "El accuracy de test es: 64.62680211691709%\n"
     ]
    }
   ],
   "source": [
    "accuracy = accuracy_score(\n",
    "            y_true    = y_test,\n",
    "            y_pred    = clasificacion,\n",
    "            normalize = True\n",
    "           )\n",
    "print(\"\")\n",
    "print(f\"El accuracy de test es: {100*accuracy}%\")"
   ]
  },
  {
   "cell_type": "markdown",
   "metadata": {
    "id": "cf0ANXYQtkvR"
   },
   "source": [
    "Observamos que la precisión es aceptable. En la matriz confusión vemos que predice más Heridos que No heridos, por tanto es un buen modelo a la hora de predecir ya que para la aseguradora es preferible ser precavidos. "
   ]
  },
  {
   "cell_type": "code",
   "execution_count": 498,
   "metadata": {
    "colab": {
     "base_uri": "https://localhost:8080/",
     "height": 269
    },
    "id": "DxAJjmIY_I9K",
    "outputId": "c3a8ea29-a6ab-4464-c345-1f6000c3d85a"
   },
   "outputs": [
    {
     "data": {
      "text/html": [
       "<div>\n",
       "<style scoped>\n",
       "    .dataframe tbody tr th:only-of-type {\n",
       "        vertical-align: middle;\n",
       "    }\n",
       "\n",
       "    .dataframe tbody tr th {\n",
       "        vertical-align: top;\n",
       "    }\n",
       "\n",
       "    .dataframe thead th {\n",
       "        text-align: right;\n",
       "    }\n",
       "</style>\n",
       "<table border=\"1\" class=\"dataframe\">\n",
       "  <thead>\n",
       "    <tr style=\"text-align: right;\">\n",
       "      <th></th>\n",
       "      <th>hurt</th>\n",
       "    </tr>\n",
       "    <tr>\n",
       "      <th>P_USER</th>\n",
       "      <th></th>\n",
       "    </tr>\n",
       "  </thead>\n",
       "  <tbody>\n",
       "    <tr>\n",
       "      <th>0</th>\n",
       "      <td>0.686662</td>\n",
       "    </tr>\n",
       "    <tr>\n",
       "      <th>1</th>\n",
       "      <td>0.528218</td>\n",
       "    </tr>\n",
       "    <tr>\n",
       "      <th>2</th>\n",
       "      <td>0.542023</td>\n",
       "    </tr>\n",
       "    <tr>\n",
       "      <th>3</th>\n",
       "      <td>0.978744</td>\n",
       "    </tr>\n",
       "    <tr>\n",
       "      <th>4</th>\n",
       "      <td>0.936740</td>\n",
       "    </tr>\n",
       "    <tr>\n",
       "      <th>5</th>\n",
       "      <td>0.911003</td>\n",
       "    </tr>\n",
       "  </tbody>\n",
       "</table>\n",
       "</div>"
      ],
      "text/plain": [
       "            hurt\n",
       "P_USER          \n",
       "0       0.686662\n",
       "1       0.528218\n",
       "2       0.542023\n",
       "3       0.978744\n",
       "4       0.936740\n",
       "5       0.911003"
      ]
     },
     "execution_count": 498,
     "metadata": {},
     "output_type": "execute_result"
    }
   ],
   "source": [
    "data_new[['P_USER','hurt']].groupby('P_USER').mean()"
   ]
  },
  {
   "cell_type": "markdown",
   "metadata": {
    "id": "tD9C3T-RTINd"
   },
   "source": [
    "El `P_USER` de tipo 3 es el que mas media tiene de personas heridas en los accidentes, que corresponden a los peatones. Por tanto, si en un accidente está implicado un peatón lo más seguro es que se necesite un tratamiento médico. De manera similar ocurre con los tipos 4 y 5 que corresponden con un ciclista y motorista respectivamente."
   ]
  },
  {
   "cell_type": "markdown",
   "metadata": {
    "id": "ofovlh47hSbX"
   },
   "source": [
    "### Predicción de heridos con Árboles de Decisión:"
   ]
  },
  {
   "cell_type": "code",
   "execution_count": 499,
   "metadata": {
    "id": "osERSciGhkb5"
   },
   "outputs": [],
   "source": [
    "X= data_new.drop(columns= 'hurt')\n",
    "y= data_new['hurt']"
   ]
  },
  {
   "cell_type": "code",
   "execution_count": 500,
   "metadata": {
    "colab": {
     "base_uri": "https://localhost:8080/"
    },
    "id": "SN8fzXJWhkZO",
    "outputId": "2df36740-c3b4-4233-816c-20eea8792179"
   },
   "outputs": [
    {
     "name": "stdout",
     "output_type": "stream",
     "text": [
      "(38355, 20) (16439, 20) (38355,) (16439,)\n"
     ]
    }
   ],
   "source": [
    "from sklearn.model_selection import train_test_split\n",
    "\n",
    "X_train2, X_test2, y_train2, y_test2 = train_test_split(X.astype(float), y.astype(int), test_size=0.30, random_state=0)\n",
    "print(X_train2.shape, X_test2.shape,y_train2.shape, y_test2.shape)"
   ]
  },
  {
   "cell_type": "markdown",
   "metadata": {
    "id": "fiPAHO4Lu1Qx"
   },
   "source": [
    "Realizamos una búsqueda de hiperparámetros:"
   ]
  },
  {
   "cell_type": "code",
   "execution_count": 501,
   "metadata": {
    "id": "jCkPRrvlhycd"
   },
   "outputs": [],
   "source": [
    "from sklearn import metrics\n",
    "from sklearn.model_selection import GridSearchCV\n",
    "from sklearn.tree import DecisionTreeClassifier"
   ]
  },
  {
   "cell_type": "code",
   "execution_count": 502,
   "metadata": {
    "colab": {
     "base_uri": "https://localhost:8080/"
    },
    "id": "V08Mw-AUhkWY",
    "outputId": "035eec91-bea4-4edf-f6bf-1b9dcb6af1e2"
   },
   "outputs": [
    {
     "data": {
      "text/plain": [
       "GridSearchCV(cv=10, estimator=DecisionTreeClassifier(random_state=0), n_jobs=-1,\n",
       "             param_grid={'max_depth': [1, 2, 3, 4, 5, 6, 7, 8, 9, 10, 11],\n",
       "                         'max_features': [1, 2, 3, 4, 5, 6, 7, 8, 9, 10, 11]},\n",
       "             scoring='accuracy')"
      ]
     },
     "execution_count": 502,
     "metadata": {},
     "output_type": "execute_result"
    }
   ],
   "source": [
    "arbol = DecisionTreeClassifier(random_state=0)\n",
    "\n",
    "# Definimos la rejilla\n",
    "ps = np.linspace(1, 2, 10)\n",
    "md = list(range(1, 12))\n",
    "mf = list(range(1, 12))\n",
    "h_parameters = {'max_depth':md,\n",
    "               \"max_features\":mf}\n",
    "\n",
    "cv = GridSearchCV(arbol, h_parameters, cv=10, n_jobs=-1, scoring='accuracy')\n",
    "\n",
    "\n",
    "cv.fit(X_train2, y_train2)"
   ]
  },
  {
   "cell_type": "code",
   "execution_count": 503,
   "metadata": {
    "colab": {
     "base_uri": "https://localhost:8080/"
    },
    "id": "8JM3L6Hoh1kE",
    "outputId": "f8b432b9-5ae8-4986-d4e4-c3a2fd96c621"
   },
   "outputs": [
    {
     "data": {
      "text/plain": [
       "DecisionTreeClassifier(max_depth=11, max_features=9, random_state=0)"
      ]
     },
     "execution_count": 503,
     "metadata": {},
     "output_type": "execute_result"
    }
   ],
   "source": [
    "cv.best_estimator_"
   ]
  },
  {
   "cell_type": "code",
   "execution_count": 504,
   "metadata": {
    "colab": {
     "base_uri": "https://localhost:8080/"
    },
    "id": "B0ot3WlQh1hc",
    "outputId": "455ad519-b040-42c6-8568-9be2eadd6301"
   },
   "outputs": [
    {
     "name": "stdout",
     "output_type": "stream",
     "text": [
      "0.6860514629843665\n"
     ]
    }
   ],
   "source": [
    "treeModel = cv.best_estimator_\n",
    "treeModel.fit(X_train2, y_train2)\n",
    "\n",
    "y_test_pred2 = treeModel.predict(X_test2)\n",
    "print(treeModel.score(X_test2,y_test2))"
   ]
  },
  {
   "cell_type": "code",
   "execution_count": 505,
   "metadata": {
    "colab": {
     "base_uri": "https://localhost:8080/",
     "height": 350
    },
    "id": "BILE82hth1et",
    "outputId": "30fcff73-2470-45cc-d4a5-696704075ad0"
   },
   "outputs": [
    {
     "data": {
      "image/png": "[encoded data removed]",
      "text/plain": [
       "<Figure size 432x360 with 2 Axes>"
      ]
     },
     "metadata": {},
     "output_type": "display_data"
    }
   ],
   "source": [
    "from sklearn.metrics import confusion_matrix\n",
    "conf_matrix= confusion_matrix(y_test2, y_test_pred2)\n",
    "plt.figure(figsize=(6,5))\n",
    "labels= ['No herido', 'Herido']\n",
    "sns.heatmap(conf_matrix, xticklabels=labels, yticklabels=labels, annot= True, fmt='d')\n",
    "plt.title('Confusión matrix Árboles de decisión')\n",
    "plt.ylabel('True class')\n",
    "plt.xlabel('Predicted class')\n",
    "plt.show()"
   ]
  },
  {
   "cell_type": "markdown",
   "metadata": {
    "id": "b6VyokLou7cl"
   },
   "source": [
    "En este caso, la precisión es ligeramente mejor. Observamos que la matriz de confusión es también similar ya que predice mas Heridos que No heridos, siendo este el objetivo: _'Más vale prevenir que curar'_ "
   ]
  },
  {
   "cell_type": "markdown",
   "metadata": {
    "id": "P5zRq675iFsE"
   },
   "source": [
    "### Predicción de heridos con Random Forest:"
   ]
  },
  {
   "cell_type": "code",
   "execution_count": 506,
   "metadata": {
    "colab": {
     "base_uri": "https://localhost:8080/",
     "height": 319
    },
    "id": "flHLbHXhiKXt",
    "outputId": "f48d2f88-314d-4db6-faeb-cf596e55a85d"
   },
   "outputs": [
    {
     "name": "stdout",
     "output_type": "stream",
     "text": [
      "best mean cross-validation score: 0.692\n",
      "best parameters: {'max_depth': 11}\n"
     ]
    },
    {
     "data": {
      "image/png": "[encoded data removed]",
      "text/plain": [
       "<Figure size 1080x576 with 1 Axes>"
      ]
     },
     "metadata": {},
     "output_type": "display_data"
    }
   ],
   "source": [
    "maxDepth   = range(1,12)\n",
    "param_grid = {'max_depth': maxDepth}\n",
    "\n",
    "grid = GridSearchCV(RandomForestClassifier(n_estimators = 200), scoring= 'accuracy', param_grid=param_grid, cv = 5)\n",
    "grid.fit(X_train2, y_train2)\n",
    "print(\"best mean cross-validation score: {:.3f}\".format(grid.best_score_))\n",
    "print(\"best parameters: {}\".format(grid.best_params_))\n",
    "\n",
    "scores = np.array(grid.cv_results_['mean_test_score'])\n",
    "plt.plot(maxDepth,scores,'-o')\n",
    "plt.xlabel('max depth',fontsize=16)\n",
    "plt.ylabel('5-Fold Acc')\n",
    "plt.show()"
   ]
  },
  {
   "cell_type": "code",
   "execution_count": 507,
   "metadata": {
    "id": "nmpiM1HGiKVE"
   },
   "outputs": [],
   "source": [
    "y_pred = grid.best_estimator_.predict(X_test2)"
   ]
  },
  {
   "cell_type": "code",
   "execution_count": 508,
   "metadata": {
    "colab": {
     "base_uri": "https://localhost:8080/",
     "height": 350
    },
    "id": "-2moEQpGiKSH",
    "outputId": "a37764c2-b8d8-48b4-f931-8d51341a8492"
   },
   "outputs": [
    {
     "data": {
      "image/png": "[encoded data removed]",
      "text/plain": [
       "<Figure size 432x360 with 2 Axes>"
      ]
     },
     "metadata": {},
     "output_type": "display_data"
    }
   ],
   "source": [
    "conf_matrix= confusion_matrix(y_test2, y_pred)\n",
    "plt.figure(figsize=(6,5))\n",
    "labels= ['Heridos', 'No heridos']\n",
    "sns.heatmap(conf_matrix, xticklabels=labels, yticklabels=labels, annot= True, fmt='d')\n",
    "plt.title('Confusión matrix Random Forest')\n",
    "plt.ylabel('True class')\n",
    "plt.xlabel('Predicted class')\n",
    "plt.show()"
   ]
  },
  {
   "cell_type": "markdown",
   "metadata": {
    "id": "RKVE97ZvvvFj"
   },
   "source": [
    "En el ajuste con Random Forest la precisión mejora ligeramente, llegando hasta 69%. \n",
    "\n",
    "La matriz de confusión es igual que en los modelos anteriores, seguimos en la línea de ser prudentes:  _'Aseguradora precavida vale por 2'_ "
   ]
  },
  {
   "cell_type": "markdown",
   "metadata": {
    "id": "Hn15MO6y064l"
   },
   "source": [
    "En conclusión, este algoritmo es el más adecuado para predecir tanto los fallecidos en un accidente como los heridos."
   ]
  },
  {
   "cell_type": "markdown",
   "metadata": {
    "id": "D3FcQ2shjIa_"
   },
   "source": [
    "## CLUSTERING:"
   ]
  },
  {
   "cell_type": "markdown",
   "metadata": {
    "id": "klMv_vVViugx"
   },
   "source": [
    "Ahora bien, utilizaremos algoritmos no supervisados, en concreto algoritmos de clustering, así veremos cómo serán las características de los distintos grupos:"
   ]
  },
  {
   "cell_type": "markdown",
   "metadata": {
    "id": "G6R0sONdmBL9"
   },
   "source": [
    "### Clustering Jerárquico: LINKAGE"
   ]
  },
  {
   "cell_type": "markdown",
   "metadata": {
    "id": "X9KZc_o_l6dH"
   },
   "source": [
    "Para ajustar los datos a este modelo utilizaremos una muestra menor, con 200 observaciones, ya que con una muestra mayor el algoritmo es incapaz de ajustar los datos."
   ]
  },
  {
   "cell_type": "code",
   "execution_count": 509,
   "metadata": {
    "id": "pP4Q_FsFVLMx"
   },
   "outputs": [],
   "source": [
    "data2 = data.sample(n=200,random_state=0)"
   ]
  },
  {
   "cell_type": "code",
   "execution_count": 510,
   "metadata": {
    "id": "c149c8f1",
    "scrolled": true
   },
   "outputs": [],
   "source": [
    "from scipy.cluster.hierarchy import linkage\n",
    "linkage_type=\"ward\"\n",
    "linkage_matrix=linkage(data2,linkage_type)"
   ]
  },
  {
   "cell_type": "code",
   "execution_count": 511,
   "metadata": {
    "id": "389d657f",
    "outputId": "43dae1c7-93fd-4b94-c48c-11a8e7a10f36"
   },
   "outputs": [
    {
     "data": {
      "image/png": "[encoded data removed]",
      "text/plain": [
       "<Figure size 1584x1296 with 1 Axes>"
      ]
     },
     "metadata": {},
     "output_type": "display_data"
    }
   ],
   "source": [
    "from scipy.cluster.hierarchy import dendrogram\n",
    "import matplotlib.pyplot as plt\n",
    "plt.figure(figsize=(22,18))\n",
    "\n",
    "dendrogram(linkage_matrix)\n",
    "\n",
    "plt.show()"
   ]
  },
  {
   "cell_type": "code",
   "execution_count": 512,
   "metadata": {
    "id": "0847fc52",
    "outputId": "2c3cf50a-818d-4b71-95d4-676412b4e807"
   },
   "outputs": [
    {
     "data": {
      "text/plain": [
       "array([3, 3, 1, 1, 3, 1, 0, 1, 0, 0, 0, 3, 0, 1, 3, 2, 0, 1, 0, 2, 1, 1,\n",
       "       0, 1, 0, 0, 0, 0, 3, 0, 1, 3, 3, 3, 3, 0, 3, 3, 0, 0, 1, 1, 3, 0,\n",
       "       3, 0, 2, 1, 1, 1, 0, 0, 0, 1, 0, 3, 1, 1, 3, 0, 0, 3, 1, 3, 3, 3,\n",
       "       0, 3, 0, 3, 2, 3, 3, 3, 1, 1, 3, 0, 3, 3, 0, 0, 1, 1, 1, 0, 3, 0,\n",
       "       0, 0, 3, 1, 0, 3, 0, 0, 0, 0, 3, 3, 0, 0, 0, 2, 3, 0, 0, 3, 0, 3,\n",
       "       1, 1, 1, 3, 3, 0, 1, 2, 1, 2, 1, 3, 3, 1, 1, 1, 0, 3, 0, 1, 0, 0,\n",
       "       3, 3, 0, 3, 3, 2, 0, 1, 2, 0, 3, 0, 0, 2, 1, 0, 1, 0, 0, 1, 0, 0,\n",
       "       1, 0, 0, 1, 1, 1, 3, 1, 0, 1, 3, 0, 0, 0, 3, 1, 0, 0, 1, 3, 1, 3,\n",
       "       0, 0, 1, 0, 0, 0, 3, 0, 3, 1, 3, 0, 1, 0, 1, 2, 1, 3, 3, 0, 3, 0,\n",
       "       0, 3], dtype=int64)"
      ]
     },
     "execution_count": 512,
     "metadata": {},
     "output_type": "execute_result"
    }
   ],
   "source": [
    "ward = AgglomerativeClustering(n_clusters=4)\n",
    "wardclusters = ward.fit_predict(data2)\n",
    "wardclusters"
   ]
  },
  {
   "cell_type": "markdown",
   "metadata": {
    "id": "LiZt9jJayF60"
   },
   "source": [
    "En este caso considera cuatro grupos, haciendo uso de la función _groupBy_ vamos a reflejar la media, la mediana y la moda de cada uno de los clusters:"
   ]
  },
  {
   "cell_type": "code",
   "execution_count": 513,
   "metadata": {
    "id": "2mJ6oENvpARd",
    "outputId": "14d39bad-d04f-4ba4-c41d-64b83e73e3cc"
   },
   "outputs": [
    {
     "data": {
      "text/html": [
       "<div>\n",
       "<style scoped>\n",
       "    .dataframe tbody tr th:only-of-type {\n",
       "        vertical-align: middle;\n",
       "    }\n",
       "\n",
       "    .dataframe tbody tr th {\n",
       "        vertical-align: top;\n",
       "    }\n",
       "\n",
       "    .dataframe thead th {\n",
       "        text-align: right;\n",
       "    }\n",
       "</style>\n",
       "<table border=\"1\" class=\"dataframe\">\n",
       "  <thead>\n",
       "    <tr style=\"text-align: right;\">\n",
       "      <th></th>\n",
       "      <th>C_YEAR</th>\n",
       "      <th>C_MNTH</th>\n",
       "      <th>C_WDAY</th>\n",
       "      <th>C_HOUR</th>\n",
       "      <th>C_SEV</th>\n",
       "      <th>C_VEHS</th>\n",
       "      <th>C_CONF</th>\n",
       "      <th>C_RCFG</th>\n",
       "      <th>C_WTHR</th>\n",
       "      <th>C_RSUR</th>\n",
       "      <th>...</th>\n",
       "      <th>V_ID</th>\n",
       "      <th>V_TYPE</th>\n",
       "      <th>V_YEAR</th>\n",
       "      <th>P_ID</th>\n",
       "      <th>P_SEX</th>\n",
       "      <th>P_AGE</th>\n",
       "      <th>P_PSN</th>\n",
       "      <th>P_ISEV</th>\n",
       "      <th>P_SAFE</th>\n",
       "      <th>P_USER</th>\n",
       "    </tr>\n",
       "  </thead>\n",
       "  <tbody>\n",
       "    <tr>\n",
       "      <th>0</th>\n",
       "      <td>7.230769</td>\n",
       "      <td>6.192308</td>\n",
       "      <td>3.051282</td>\n",
       "      <td>12.769231</td>\n",
       "      <td>0.987179</td>\n",
       "      <td>0.961538</td>\n",
       "      <td>8.948718</td>\n",
       "      <td>0.820513</td>\n",
       "      <td>0.500000</td>\n",
       "      <td>0.923077</td>\n",
       "      <td>...</td>\n",
       "      <td>0.397436</td>\n",
       "      <td>1.474359</td>\n",
       "      <td>52.115385</td>\n",
       "      <td>1.641026</td>\n",
       "      <td>1.307692</td>\n",
       "      <td>18.153846</td>\n",
       "      <td>2.333333</td>\n",
       "      <td>1.397436</td>\n",
       "      <td>1.833333</td>\n",
       "      <td>1.384615</td>\n",
       "    </tr>\n",
       "    <tr>\n",
       "      <th>1</th>\n",
       "      <td>7.773585</td>\n",
       "      <td>5.132075</td>\n",
       "      <td>3.339623</td>\n",
       "      <td>14.075472</td>\n",
       "      <td>0.981132</td>\n",
       "      <td>0.830189</td>\n",
       "      <td>8.320755</td>\n",
       "      <td>0.735849</td>\n",
       "      <td>0.622642</td>\n",
       "      <td>0.698113</td>\n",
       "      <td>...</td>\n",
       "      <td>0.452830</td>\n",
       "      <td>2.056604</td>\n",
       "      <td>53.245283</td>\n",
       "      <td>1.245283</td>\n",
       "      <td>1.396226</td>\n",
       "      <td>59.509434</td>\n",
       "      <td>1.396226</td>\n",
       "      <td>1.641509</td>\n",
       "      <td>1.924528</td>\n",
       "      <td>1.339623</td>\n",
       "    </tr>\n",
       "    <tr>\n",
       "      <th>2</th>\n",
       "      <td>9.363636</td>\n",
       "      <td>5.636364</td>\n",
       "      <td>2.636364</td>\n",
       "      <td>13.636364</td>\n",
       "      <td>1.000000</td>\n",
       "      <td>0.181818</td>\n",
       "      <td>8.909091</td>\n",
       "      <td>0.636364</td>\n",
       "      <td>0.363636</td>\n",
       "      <td>1.181818</td>\n",
       "      <td>...</td>\n",
       "      <td>22.818182</td>\n",
       "      <td>1.000000</td>\n",
       "      <td>0.000000</td>\n",
       "      <td>1.272727</td>\n",
       "      <td>1.636364</td>\n",
       "      <td>33.090909</td>\n",
       "      <td>11.909091</td>\n",
       "      <td>2.000000</td>\n",
       "      <td>1.636364</td>\n",
       "      <td>3.090909</td>\n",
       "    </tr>\n",
       "    <tr>\n",
       "      <th>3</th>\n",
       "      <td>8.431034</td>\n",
       "      <td>5.413793</td>\n",
       "      <td>2.913793</td>\n",
       "      <td>14.310345</td>\n",
       "      <td>0.982759</td>\n",
       "      <td>1.086207</td>\n",
       "      <td>9.327586</td>\n",
       "      <td>0.879310</td>\n",
       "      <td>0.793103</td>\n",
       "      <td>1.000000</td>\n",
       "      <td>...</td>\n",
       "      <td>0.482759</td>\n",
       "      <td>2.706897</td>\n",
       "      <td>55.586207</td>\n",
       "      <td>1.172414</td>\n",
       "      <td>1.431034</td>\n",
       "      <td>37.793103</td>\n",
       "      <td>1.327586</td>\n",
       "      <td>1.482759</td>\n",
       "      <td>1.879310</td>\n",
       "      <td>1.224138</td>\n",
       "    </tr>\n",
       "  </tbody>\n",
       "</table>\n",
       "<p>4 rows × 22 columns</p>\n",
       "</div>"
      ],
      "text/plain": [
       "     C_YEAR    C_MNTH    C_WDAY     C_HOUR     C_SEV    C_VEHS    C_CONF  \\\n",
       "0  7.230769  6.192308  3.051282  12.769231  0.987179  0.961538  8.948718   \n",
       "1  7.773585  5.132075  3.339623  14.075472  0.981132  0.830189  8.320755   \n",
       "2  9.363636  5.636364  2.636364  13.636364  1.000000  0.181818  8.909091   \n",
       "3  8.431034  5.413793  2.913793  14.310345  0.982759  1.086207  9.327586   \n",
       "\n",
       "     C_RCFG    C_WTHR    C_RSUR  ...       V_ID    V_TYPE     V_YEAR  \\\n",
       "0  0.820513  0.500000  0.923077  ...   0.397436  1.474359  52.115385   \n",
       "1  0.735849  0.622642  0.698113  ...   0.452830  2.056604  53.245283   \n",
       "2  0.636364  0.363636  1.181818  ...  22.818182  1.000000   0.000000   \n",
       "3  0.879310  0.793103  1.000000  ...   0.482759  2.706897  55.586207   \n",
       "\n",
       "       P_ID     P_SEX      P_AGE      P_PSN    P_ISEV    P_SAFE    P_USER  \n",
       "0  1.641026  1.307692  18.153846   2.333333  1.397436  1.833333  1.384615  \n",
       "1  1.245283  1.396226  59.509434   1.396226  1.641509  1.924528  1.339623  \n",
       "2  1.272727  1.636364  33.090909  11.909091  2.000000  1.636364  3.090909  \n",
       "3  1.172414  1.431034  37.793103   1.327586  1.482759  1.879310  1.224138  \n",
       "\n",
       "[4 rows x 22 columns]"
      ]
     },
     "execution_count": 513,
     "metadata": {},
     "output_type": "execute_result"
    }
   ],
   "source": [
    "data2.groupby(by = wardclusters).mean()"
   ]
  },
  {
   "cell_type": "code",
   "execution_count": 514,
   "metadata": {
    "id": "_6kmXYueZEDu",
    "outputId": "32c16a3b-b0d0-4f9a-d0a1-0e71d440ed3d"
   },
   "outputs": [
    {
     "data": {
      "text/html": [
       "<div>\n",
       "<style scoped>\n",
       "    .dataframe tbody tr th:only-of-type {\n",
       "        vertical-align: middle;\n",
       "    }\n",
       "\n",
       "    .dataframe tbody tr th {\n",
       "        vertical-align: top;\n",
       "    }\n",
       "\n",
       "    .dataframe thead th {\n",
       "        text-align: right;\n",
       "    }\n",
       "</style>\n",
       "<table border=\"1\" class=\"dataframe\">\n",
       "  <thead>\n",
       "    <tr style=\"text-align: right;\">\n",
       "      <th></th>\n",
       "      <th>C_YEAR</th>\n",
       "      <th>C_MNTH</th>\n",
       "      <th>C_WDAY</th>\n",
       "      <th>C_HOUR</th>\n",
       "      <th>C_SEV</th>\n",
       "      <th>C_VEHS</th>\n",
       "      <th>C_CONF</th>\n",
       "      <th>C_RCFG</th>\n",
       "      <th>C_WTHR</th>\n",
       "      <th>C_RSUR</th>\n",
       "      <th>...</th>\n",
       "      <th>V_ID</th>\n",
       "      <th>V_TYPE</th>\n",
       "      <th>V_YEAR</th>\n",
       "      <th>P_ID</th>\n",
       "      <th>P_SEX</th>\n",
       "      <th>P_AGE</th>\n",
       "      <th>P_PSN</th>\n",
       "      <th>P_ISEV</th>\n",
       "      <th>P_SAFE</th>\n",
       "      <th>P_USER</th>\n",
       "    </tr>\n",
       "  </thead>\n",
       "  <tbody>\n",
       "    <tr>\n",
       "      <th>0</th>\n",
       "      <td>7.0</td>\n",
       "      <td>7.0</td>\n",
       "      <td>3.0</td>\n",
       "      <td>14.0</td>\n",
       "      <td>1.0</td>\n",
       "      <td>1.0</td>\n",
       "      <td>6.0</td>\n",
       "      <td>1.0</td>\n",
       "      <td>0.0</td>\n",
       "      <td>0.0</td>\n",
       "      <td>...</td>\n",
       "      <td>0.0</td>\n",
       "      <td>1.0</td>\n",
       "      <td>53.0</td>\n",
       "      <td>1.0</td>\n",
       "      <td>1.0</td>\n",
       "      <td>18.5</td>\n",
       "      <td>1.0</td>\n",
       "      <td>1.0</td>\n",
       "      <td>2.0</td>\n",
       "      <td>1.0</td>\n",
       "    </tr>\n",
       "    <tr>\n",
       "      <th>1</th>\n",
       "      <td>7.0</td>\n",
       "      <td>5.0</td>\n",
       "      <td>3.0</td>\n",
       "      <td>14.0</td>\n",
       "      <td>1.0</td>\n",
       "      <td>1.0</td>\n",
       "      <td>6.0</td>\n",
       "      <td>1.0</td>\n",
       "      <td>0.0</td>\n",
       "      <td>0.0</td>\n",
       "      <td>...</td>\n",
       "      <td>0.0</td>\n",
       "      <td>1.0</td>\n",
       "      <td>54.0</td>\n",
       "      <td>1.0</td>\n",
       "      <td>1.0</td>\n",
       "      <td>58.0</td>\n",
       "      <td>1.0</td>\n",
       "      <td>2.0</td>\n",
       "      <td>2.0</td>\n",
       "      <td>1.0</td>\n",
       "    </tr>\n",
       "    <tr>\n",
       "      <th>2</th>\n",
       "      <td>12.0</td>\n",
       "      <td>6.0</td>\n",
       "      <td>3.0</td>\n",
       "      <td>16.0</td>\n",
       "      <td>1.0</td>\n",
       "      <td>0.0</td>\n",
       "      <td>5.0</td>\n",
       "      <td>1.0</td>\n",
       "      <td>0.0</td>\n",
       "      <td>0.0</td>\n",
       "      <td>...</td>\n",
       "      <td>25.0</td>\n",
       "      <td>0.0</td>\n",
       "      <td>0.0</td>\n",
       "      <td>1.0</td>\n",
       "      <td>2.0</td>\n",
       "      <td>23.0</td>\n",
       "      <td>13.0</td>\n",
       "      <td>2.0</td>\n",
       "      <td>1.0</td>\n",
       "      <td>3.0</td>\n",
       "    </tr>\n",
       "    <tr>\n",
       "      <th>3</th>\n",
       "      <td>8.5</td>\n",
       "      <td>5.5</td>\n",
       "      <td>3.0</td>\n",
       "      <td>16.0</td>\n",
       "      <td>1.0</td>\n",
       "      <td>1.0</td>\n",
       "      <td>6.0</td>\n",
       "      <td>1.0</td>\n",
       "      <td>0.0</td>\n",
       "      <td>0.0</td>\n",
       "      <td>...</td>\n",
       "      <td>0.0</td>\n",
       "      <td>1.0</td>\n",
       "      <td>56.0</td>\n",
       "      <td>1.0</td>\n",
       "      <td>1.0</td>\n",
       "      <td>37.0</td>\n",
       "      <td>1.0</td>\n",
       "      <td>2.0</td>\n",
       "      <td>2.0</td>\n",
       "      <td>1.0</td>\n",
       "    </tr>\n",
       "  </tbody>\n",
       "</table>\n",
       "<p>4 rows × 22 columns</p>\n",
       "</div>"
      ],
      "text/plain": [
       "   C_YEAR  C_MNTH  C_WDAY  C_HOUR  C_SEV  C_VEHS  C_CONF  C_RCFG  C_WTHR  \\\n",
       "0     7.0     7.0     3.0    14.0    1.0     1.0     6.0     1.0     0.0   \n",
       "1     7.0     5.0     3.0    14.0    1.0     1.0     6.0     1.0     0.0   \n",
       "2    12.0     6.0     3.0    16.0    1.0     0.0     5.0     1.0     0.0   \n",
       "3     8.5     5.5     3.0    16.0    1.0     1.0     6.0     1.0     0.0   \n",
       "\n",
       "   C_RSUR  ...  V_ID  V_TYPE  V_YEAR  P_ID  P_SEX  P_AGE  P_PSN  P_ISEV  \\\n",
       "0     0.0  ...   0.0     1.0    53.0   1.0    1.0   18.5    1.0     1.0   \n",
       "1     0.0  ...   0.0     1.0    54.0   1.0    1.0   58.0    1.0     2.0   \n",
       "2     0.0  ...  25.0     0.0     0.0   1.0    2.0   23.0   13.0     2.0   \n",
       "3     0.0  ...   0.0     1.0    56.0   1.0    1.0   37.0    1.0     2.0   \n",
       "\n",
       "   P_SAFE  P_USER  \n",
       "0     2.0     1.0  \n",
       "1     2.0     1.0  \n",
       "2     1.0     3.0  \n",
       "3     2.0     1.0  \n",
       "\n",
       "[4 rows x 22 columns]"
      ]
     },
     "execution_count": 514,
     "metadata": {},
     "output_type": "execute_result"
    }
   ],
   "source": [
    "data2.groupby(by = wardclusters).median()"
   ]
  },
  {
   "cell_type": "code",
   "execution_count": 515,
   "metadata": {
    "id": "zLeJ7WhEZEDu",
    "outputId": "42c4e339-608d-458a-e3d6-c63156be5a3f"
   },
   "outputs": [
    {
     "data": {
      "text/html": [
       "<div>\n",
       "<style scoped>\n",
       "    .dataframe tbody tr th:only-of-type {\n",
       "        vertical-align: middle;\n",
       "    }\n",
       "\n",
       "    .dataframe tbody tr th {\n",
       "        vertical-align: top;\n",
       "    }\n",
       "\n",
       "    .dataframe thead th {\n",
       "        text-align: right;\n",
       "    }\n",
       "</style>\n",
       "<table border=\"1\" class=\"dataframe\">\n",
       "  <thead>\n",
       "    <tr style=\"text-align: right;\">\n",
       "      <th></th>\n",
       "      <th>C_WDAY</th>\n",
       "      <th>C_SEV</th>\n",
       "      <th>C_VEHS</th>\n",
       "      <th>C_CONF</th>\n",
       "      <th>C_RCFG</th>\n",
       "      <th>C_WTHR</th>\n",
       "      <th>C_RSUR</th>\n",
       "      <th>C_RALN</th>\n",
       "      <th>C_TRAF</th>\n",
       "      <th>V_ID</th>\n",
       "      <th>V_TYPE</th>\n",
       "      <th>P_ID</th>\n",
       "      <th>P_SEX</th>\n",
       "      <th>P_PSN</th>\n",
       "      <th>P_ISEV</th>\n",
       "      <th>P_SAFE</th>\n",
       "      <th>P_USER</th>\n",
       "    </tr>\n",
       "  </thead>\n",
       "  <tbody>\n",
       "    <tr>\n",
       "      <th>0</th>\n",
       "      <td>2</td>\n",
       "      <td>1</td>\n",
       "      <td>1</td>\n",
       "      <td>6</td>\n",
       "      <td>1</td>\n",
       "      <td>0</td>\n",
       "      <td>0</td>\n",
       "      <td>0</td>\n",
       "      <td>16</td>\n",
       "      <td>0</td>\n",
       "      <td>1</td>\n",
       "      <td>1</td>\n",
       "      <td>1</td>\n",
       "      <td>1</td>\n",
       "      <td>1</td>\n",
       "      <td>2</td>\n",
       "      <td>1</td>\n",
       "    </tr>\n",
       "    <tr>\n",
       "      <th>1</th>\n",
       "      <td>3</td>\n",
       "      <td>1</td>\n",
       "      <td>1</td>\n",
       "      <td>6</td>\n",
       "      <td>1</td>\n",
       "      <td>0</td>\n",
       "      <td>0</td>\n",
       "      <td>0</td>\n",
       "      <td>16</td>\n",
       "      <td>0</td>\n",
       "      <td>1</td>\n",
       "      <td>1</td>\n",
       "      <td>1</td>\n",
       "      <td>1</td>\n",
       "      <td>2</td>\n",
       "      <td>2</td>\n",
       "      <td>1</td>\n",
       "    </tr>\n",
       "    <tr>\n",
       "      <th>2</th>\n",
       "      <td>3</td>\n",
       "      <td>1</td>\n",
       "      <td>0</td>\n",
       "      <td>5</td>\n",
       "      <td>1</td>\n",
       "      <td>0</td>\n",
       "      <td>0</td>\n",
       "      <td>0</td>\n",
       "      <td>16</td>\n",
       "      <td>25</td>\n",
       "      <td>0</td>\n",
       "      <td>1</td>\n",
       "      <td>2</td>\n",
       "      <td>13</td>\n",
       "      <td>2</td>\n",
       "      <td>0</td>\n",
       "      <td>3</td>\n",
       "    </tr>\n",
       "    <tr>\n",
       "      <th>3</th>\n",
       "      <td>5</td>\n",
       "      <td>1</td>\n",
       "      <td>1</td>\n",
       "      <td>6</td>\n",
       "      <td>0</td>\n",
       "      <td>0</td>\n",
       "      <td>0</td>\n",
       "      <td>0</td>\n",
       "      <td>16</td>\n",
       "      <td>0</td>\n",
       "      <td>1</td>\n",
       "      <td>1</td>\n",
       "      <td>1</td>\n",
       "      <td>1</td>\n",
       "      <td>2</td>\n",
       "      <td>2</td>\n",
       "      <td>1</td>\n",
       "    </tr>\n",
       "  </tbody>\n",
       "</table>\n",
       "</div>"
      ],
      "text/plain": [
       "   C_WDAY  C_SEV  C_VEHS  C_CONF  C_RCFG  C_WTHR  C_RSUR  C_RALN  C_TRAF  \\\n",
       "0       2      1       1       6       1       0       0       0      16   \n",
       "1       3      1       1       6       1       0       0       0      16   \n",
       "2       3      1       0       5       1       0       0       0      16   \n",
       "3       5      1       1       6       0       0       0       0      16   \n",
       "\n",
       "   V_ID  V_TYPE  P_ID  P_SEX  P_PSN  P_ISEV  P_SAFE  P_USER  \n",
       "0     0       1     1      1      1       1       2       1  \n",
       "1     0       1     1      1      1       2       2       1  \n",
       "2    25       0     1      2     13       2       0       3  \n",
       "3     0       1     1      1      1       2       2       1  "
      ]
     },
     "execution_count": 515,
     "metadata": {},
     "output_type": "execute_result"
    }
   ],
   "source": [
    "data2.groupby(by = wardclusters).agg(pd.Series.mode)"
   ]
  },
  {
   "cell_type": "code",
   "execution_count": 516,
   "metadata": {
    "id": "J7XnDYoXZEDv",
    "outputId": "9371a6b2-f698-4e78-f87b-76cf4cd4e46b"
   },
   "outputs": [
    {
     "data": {
      "text/html": [
       "<div>\n",
       "<style scoped>\n",
       "    .dataframe tbody tr th:only-of-type {\n",
       "        vertical-align: middle;\n",
       "    }\n",
       "\n",
       "    .dataframe tbody tr th {\n",
       "        vertical-align: top;\n",
       "    }\n",
       "\n",
       "    .dataframe thead th {\n",
       "        text-align: right;\n",
       "    }\n",
       "</style>\n",
       "<table border=\"1\" class=\"dataframe\">\n",
       "  <thead>\n",
       "    <tr style=\"text-align: right;\">\n",
       "      <th></th>\n",
       "      <th>C_WDAY</th>\n",
       "      <th>C_SEV</th>\n",
       "      <th>C_VEHS</th>\n",
       "      <th>C_CONF</th>\n",
       "      <th>C_RCFG</th>\n",
       "      <th>C_WTHR</th>\n",
       "      <th>C_RSUR</th>\n",
       "      <th>C_RALN</th>\n",
       "      <th>C_TRAF</th>\n",
       "      <th>V_ID</th>\n",
       "      <th>V_TYPE</th>\n",
       "    </tr>\n",
       "  </thead>\n",
       "  <tbody>\n",
       "    <tr>\n",
       "      <th>0</th>\n",
       "      <td>2</td>\n",
       "      <td>1</td>\n",
       "      <td>1</td>\n",
       "      <td>6</td>\n",
       "      <td>1</td>\n",
       "      <td>0</td>\n",
       "      <td>0</td>\n",
       "      <td>0</td>\n",
       "      <td>16</td>\n",
       "      <td>0</td>\n",
       "      <td>1</td>\n",
       "    </tr>\n",
       "    <tr>\n",
       "      <th>1</th>\n",
       "      <td>3</td>\n",
       "      <td>1</td>\n",
       "      <td>1</td>\n",
       "      <td>6</td>\n",
       "      <td>1</td>\n",
       "      <td>0</td>\n",
       "      <td>0</td>\n",
       "      <td>0</td>\n",
       "      <td>16</td>\n",
       "      <td>0</td>\n",
       "      <td>1</td>\n",
       "    </tr>\n",
       "    <tr>\n",
       "      <th>2</th>\n",
       "      <td>3</td>\n",
       "      <td>1</td>\n",
       "      <td>0</td>\n",
       "      <td>5</td>\n",
       "      <td>1</td>\n",
       "      <td>0</td>\n",
       "      <td>0</td>\n",
       "      <td>0</td>\n",
       "      <td>16</td>\n",
       "      <td>25</td>\n",
       "      <td>0</td>\n",
       "    </tr>\n",
       "    <tr>\n",
       "      <th>3</th>\n",
       "      <td>5</td>\n",
       "      <td>1</td>\n",
       "      <td>1</td>\n",
       "      <td>6</td>\n",
       "      <td>0</td>\n",
       "      <td>0</td>\n",
       "      <td>0</td>\n",
       "      <td>0</td>\n",
       "      <td>16</td>\n",
       "      <td>0</td>\n",
       "      <td>1</td>\n",
       "    </tr>\n",
       "  </tbody>\n",
       "</table>\n",
       "</div>"
      ],
      "text/plain": [
       "   C_WDAY  C_SEV  C_VEHS  C_CONF  C_RCFG  C_WTHR  C_RSUR  C_RALN  C_TRAF  \\\n",
       "0       2      1       1       6       1       0       0       0      16   \n",
       "1       3      1       1       6       1       0       0       0      16   \n",
       "2       3      1       0       5       1       0       0       0      16   \n",
       "3       5      1       1       6       0       0       0       0      16   \n",
       "\n",
       "   V_ID  V_TYPE  \n",
       "0     0       1  \n",
       "1     0       1  \n",
       "2    25       0  \n",
       "3     0       1  "
      ]
     },
     "execution_count": 516,
     "metadata": {},
     "output_type": "execute_result"
    }
   ],
   "source": [
    "data2[['C_YEAR', 'C_MNTH', 'C_WDAY', 'C_HOUR', 'C_SEV', 'C_VEHS', 'C_CONF',\n",
    "       'C_RCFG', 'C_WTHR', 'C_RSUR', 'C_RALN', 'C_TRAF', 'V_ID', 'V_TYPE',\n",
    "       'V_YEAR']].groupby(by=wardclusters).agg(pd.Series.mode)"
   ]
  },
  {
   "cell_type": "code",
   "execution_count": 517,
   "metadata": {
    "id": "39Xe9BZMZEDv",
    "outputId": "73d32284-ff25-4747-a6db-f2e09d81b38f"
   },
   "outputs": [
    {
     "data": {
      "text/html": [
       "<div>\n",
       "<style scoped>\n",
       "    .dataframe tbody tr th:only-of-type {\n",
       "        vertical-align: middle;\n",
       "    }\n",
       "\n",
       "    .dataframe tbody tr th {\n",
       "        vertical-align: top;\n",
       "    }\n",
       "\n",
       "    .dataframe thead th {\n",
       "        text-align: right;\n",
       "    }\n",
       "</style>\n",
       "<table border=\"1\" class=\"dataframe\">\n",
       "  <thead>\n",
       "    <tr style=\"text-align: right;\">\n",
       "      <th></th>\n",
       "      <th>P_ID</th>\n",
       "      <th>P_SEX</th>\n",
       "      <th>P_PSN</th>\n",
       "      <th>P_ISEV</th>\n",
       "      <th>P_SAFE</th>\n",
       "      <th>P_USER</th>\n",
       "    </tr>\n",
       "  </thead>\n",
       "  <tbody>\n",
       "    <tr>\n",
       "      <th>0</th>\n",
       "      <td>1</td>\n",
       "      <td>1</td>\n",
       "      <td>1</td>\n",
       "      <td>1</td>\n",
       "      <td>2</td>\n",
       "      <td>1</td>\n",
       "    </tr>\n",
       "    <tr>\n",
       "      <th>1</th>\n",
       "      <td>1</td>\n",
       "      <td>1</td>\n",
       "      <td>1</td>\n",
       "      <td>2</td>\n",
       "      <td>2</td>\n",
       "      <td>1</td>\n",
       "    </tr>\n",
       "    <tr>\n",
       "      <th>2</th>\n",
       "      <td>1</td>\n",
       "      <td>2</td>\n",
       "      <td>13</td>\n",
       "      <td>2</td>\n",
       "      <td>0</td>\n",
       "      <td>3</td>\n",
       "    </tr>\n",
       "    <tr>\n",
       "      <th>3</th>\n",
       "      <td>1</td>\n",
       "      <td>1</td>\n",
       "      <td>1</td>\n",
       "      <td>2</td>\n",
       "      <td>2</td>\n",
       "      <td>1</td>\n",
       "    </tr>\n",
       "  </tbody>\n",
       "</table>\n",
       "</div>"
      ],
      "text/plain": [
       "   P_ID  P_SEX  P_PSN  P_ISEV  P_SAFE  P_USER\n",
       "0     1      1      1       1       2       1\n",
       "1     1      1      1       2       2       1\n",
       "2     1      2     13       2       0       3\n",
       "3     1      1      1       2       2       1"
      ]
     },
     "execution_count": 517,
     "metadata": {},
     "output_type": "execute_result"
    }
   ],
   "source": [
    "data2[['P_ID', 'P_SEX', 'P_AGE', 'P_PSN', 'P_ISEV', 'P_SAFE',\n",
    "       'P_USER']].groupby(by=wardclusters).agg(pd.Series.mode)"
   ]
  },
  {
   "cell_type": "code",
   "execution_count": 518,
   "metadata": {
    "id": "z3gJ3jH1ZEDv",
    "outputId": "6c969679-5a6d-4b9a-f351-a7d0d9e738e5"
   },
   "outputs": [
    {
     "data": {
      "text/html": [
       "<div>\n",
       "<style scoped>\n",
       "    .dataframe tbody tr th:only-of-type {\n",
       "        vertical-align: middle;\n",
       "    }\n",
       "\n",
       "    .dataframe tbody tr th {\n",
       "        vertical-align: top;\n",
       "    }\n",
       "\n",
       "    .dataframe thead th {\n",
       "        text-align: right;\n",
       "    }\n",
       "</style>\n",
       "<table border=\"1\" class=\"dataframe\">\n",
       "  <thead>\n",
       "    <tr style=\"text-align: right;\">\n",
       "      <th></th>\n",
       "      <th>C_VEHS</th>\n",
       "      <th>C_CONF</th>\n",
       "      <th>V_TYPE</th>\n",
       "      <th>P_ISEV</th>\n",
       "      <th>P_USER</th>\n",
       "    </tr>\n",
       "  </thead>\n",
       "  <tbody>\n",
       "    <tr>\n",
       "      <th>0</th>\n",
       "      <td>1</td>\n",
       "      <td>6</td>\n",
       "      <td>1</td>\n",
       "      <td>1</td>\n",
       "      <td>1</td>\n",
       "    </tr>\n",
       "    <tr>\n",
       "      <th>1</th>\n",
       "      <td>1</td>\n",
       "      <td>6</td>\n",
       "      <td>1</td>\n",
       "      <td>2</td>\n",
       "      <td>1</td>\n",
       "    </tr>\n",
       "    <tr>\n",
       "      <th>2</th>\n",
       "      <td>0</td>\n",
       "      <td>5</td>\n",
       "      <td>0</td>\n",
       "      <td>2</td>\n",
       "      <td>3</td>\n",
       "    </tr>\n",
       "    <tr>\n",
       "      <th>3</th>\n",
       "      <td>1</td>\n",
       "      <td>6</td>\n",
       "      <td>1</td>\n",
       "      <td>2</td>\n",
       "      <td>1</td>\n",
       "    </tr>\n",
       "  </tbody>\n",
       "</table>\n",
       "</div>"
      ],
      "text/plain": [
       "   C_VEHS  C_CONF  V_TYPE  P_ISEV  P_USER\n",
       "0       1       6       1       1       1\n",
       "1       1       6       1       2       1\n",
       "2       0       5       0       2       3\n",
       "3       1       6       1       2       1"
      ]
     },
     "execution_count": 518,
     "metadata": {},
     "output_type": "execute_result"
    }
   ],
   "source": [
    "data2[['C_VEHS', 'C_CONF','V_TYPE','P_ISEV',\n",
    "       'P_USER']].groupby(by=wardclusters).agg(pd.Series.mode)"
   ]
  },
  {
   "cell_type": "code",
   "execution_count": 519,
   "metadata": {
    "id": "K_u1AINAZEDw",
    "outputId": "7295bd01-71c9-4708-ce81-a8d1f9ceac88"
   },
   "outputs": [
    {
     "data": {
      "text/html": [
       "<div>\n",
       "<style scoped>\n",
       "    .dataframe tbody tr th:only-of-type {\n",
       "        vertical-align: middle;\n",
       "    }\n",
       "\n",
       "    .dataframe tbody tr th {\n",
       "        vertical-align: top;\n",
       "    }\n",
       "\n",
       "    .dataframe thead th {\n",
       "        text-align: right;\n",
       "    }\n",
       "</style>\n",
       "<table border=\"1\" class=\"dataframe\">\n",
       "  <thead>\n",
       "    <tr style=\"text-align: right;\">\n",
       "      <th></th>\n",
       "      <th>C_VEHS</th>\n",
       "      <th>C_CONF</th>\n",
       "      <th>V_TYPE</th>\n",
       "      <th>P_ISEV</th>\n",
       "      <th>P_USER</th>\n",
       "    </tr>\n",
       "  </thead>\n",
       "  <tbody>\n",
       "    <tr>\n",
       "      <th>0</th>\n",
       "      <td>0.961538</td>\n",
       "      <td>8.948718</td>\n",
       "      <td>1.474359</td>\n",
       "      <td>1.397436</td>\n",
       "      <td>1.384615</td>\n",
       "    </tr>\n",
       "    <tr>\n",
       "      <th>1</th>\n",
       "      <td>0.830189</td>\n",
       "      <td>8.320755</td>\n",
       "      <td>2.056604</td>\n",
       "      <td>1.641509</td>\n",
       "      <td>1.339623</td>\n",
       "    </tr>\n",
       "    <tr>\n",
       "      <th>2</th>\n",
       "      <td>0.181818</td>\n",
       "      <td>8.909091</td>\n",
       "      <td>1.000000</td>\n",
       "      <td>2.000000</td>\n",
       "      <td>3.090909</td>\n",
       "    </tr>\n",
       "    <tr>\n",
       "      <th>3</th>\n",
       "      <td>1.086207</td>\n",
       "      <td>9.327586</td>\n",
       "      <td>2.706897</td>\n",
       "      <td>1.482759</td>\n",
       "      <td>1.224138</td>\n",
       "    </tr>\n",
       "  </tbody>\n",
       "</table>\n",
       "</div>"
      ],
      "text/plain": [
       "     C_VEHS    C_CONF    V_TYPE    P_ISEV    P_USER\n",
       "0  0.961538  8.948718  1.474359  1.397436  1.384615\n",
       "1  0.830189  8.320755  2.056604  1.641509  1.339623\n",
       "2  0.181818  8.909091  1.000000  2.000000  3.090909\n",
       "3  1.086207  9.327586  2.706897  1.482759  1.224138"
      ]
     },
     "execution_count": 519,
     "metadata": {},
     "output_type": "execute_result"
    }
   ],
   "source": [
    "data2[['C_VEHS', 'C_CONF','V_TYPE','P_ISEV',\n",
    "       'P_USER']].groupby(by=wardclusters).mean()"
   ]
  },
  {
   "cell_type": "markdown",
   "metadata": {
    "id": "THLgBJCLZEDw"
   },
   "source": [
    "Los resultados que obtenemos son muy homogéneos, posiblemente por el tamaño de la muestra que debemos tomar para que el algoritmo converja. Por tanto, un estudio de las características no se puede realizar ya que son valores muy similares."
   ]
  },
  {
   "cell_type": "markdown",
   "metadata": {
    "id": "Kp6HtBOimEzV"
   },
   "source": [
    "### Clustering Particional: KMEANS & KMODES\n"
   ]
  },
  {
   "cell_type": "markdown",
   "metadata": {
    "id": "MjsNgK1pz-va"
   },
   "source": [
    "#### KMEANS:"
   ]
  },
  {
   "cell_type": "code",
   "execution_count": 520,
   "metadata": {
    "colab": {
     "base_uri": "https://localhost:8080/",
     "height": 295
    },
    "id": "5QwkhP8nokY2",
    "outputId": "a551be47-a397-4fdc-94db-6e7f0566e58f"
   },
   "outputs": [
    {
     "data": {
      "image/png": "[encoded data removed]",
      "text/plain": [
       "<Figure size 1080x576 with 1 Axes>"
      ]
     },
     "metadata": {},
     "output_type": "display_data"
    }
   ],
   "source": [
    "from sklearn.cluster import KMeans\n",
    "wcss = []\n",
    "\n",
    "for i in range(1, 11):\n",
    "    kmeans = KMeans(n_clusters = i, init = 'k-means++', \n",
    "                    max_iter = 300, n_init = 10, random_state = 0)\n",
    "    kmeans.fit(data)\n",
    "    wcss.append(kmeans.inertia_)\n",
    "    \n",
    "# Mostrando los resultados en un gráfico para determinar un codo 'The elbow'\n",
    "plt.plot(range(1, 11), wcss)\n",
    "plt.title('The elbow method')\n",
    "plt.xlabel('Número de clusters')\n",
    "plt.ylabel('WCSS') # Suma de cuadrados dentro del cluster\n",
    "plt.show()"
   ]
  },
  {
   "cell_type": "markdown",
   "metadata": {
    "id": "HkMql81epR4n"
   },
   "source": [
    "Observamos que el gráfico no es el ideal, pero podemos estimar que los datos al ajustarse a este algoritmo funciona mejor con 3 clusters."
   ]
  },
  {
   "cell_type": "code",
   "execution_count": 521,
   "metadata": {
    "colab": {
     "base_uri": "https://localhost:8080/"
    },
    "id": "PFfTTgReokT0",
    "outputId": "ef258115-4229-44de-d5a5-8370524316e1"
   },
   "outputs": [
    {
     "data": {
      "text/plain": [
       "array([1, 0, 0, ..., 0, 0, 0])"
      ]
     },
     "execution_count": 521,
     "metadata": {},
     "output_type": "execute_result"
    }
   ],
   "source": [
    "kmeans = KMeans(n_clusters = 3, init = 'k-means++',\n",
    "                max_iter = 300, n_init = 10, random_state = 0)\n",
    "y_kmeans = kmeans.fit_predict(data)\n",
    "y_kmeans"
   ]
  },
  {
   "cell_type": "code",
   "execution_count": 522,
   "metadata": {
    "colab": {
     "base_uri": "https://localhost:8080/"
    },
    "id": "Lln2FLZior7U",
    "outputId": "33c2c13a-04a7-40b2-f12e-aa8527c2e493"
   },
   "outputs": [
    {
     "name": "stdout",
     "output_type": "stream",
     "text": [
      "2     2753\n",
      "1    22080\n",
      "0    33771\n",
      "dtype: int64\n"
     ]
    }
   ],
   "source": [
    "kmeans_clusters=pd.DataFrame(y_kmeans)\n",
    "print(kmeans_clusters.value_counts(ascending=True))"
   ]
  },
  {
   "cell_type": "code",
   "execution_count": 523,
   "metadata": {
    "colab": {
     "base_uri": "https://localhost:8080/",
     "height": 268
    },
    "id": "3-GIb2xc0Nke",
    "outputId": "4adff22a-ba07-4662-db50-ec815e569099"
   },
   "outputs": [
    {
     "data": {
      "text/html": [
       "<div>\n",
       "<style scoped>\n",
       "    .dataframe tbody tr th:only-of-type {\n",
       "        vertical-align: middle;\n",
       "    }\n",
       "\n",
       "    .dataframe tbody tr th {\n",
       "        vertical-align: top;\n",
       "    }\n",
       "\n",
       "    .dataframe thead th {\n",
       "        text-align: right;\n",
       "    }\n",
       "</style>\n",
       "<table border=\"1\" class=\"dataframe\">\n",
       "  <thead>\n",
       "    <tr style=\"text-align: right;\">\n",
       "      <th></th>\n",
       "      <th>C_YEAR</th>\n",
       "      <th>C_MNTH</th>\n",
       "      <th>C_WDAY</th>\n",
       "      <th>C_HOUR</th>\n",
       "      <th>C_SEV</th>\n",
       "      <th>C_VEHS</th>\n",
       "      <th>C_CONF</th>\n",
       "      <th>C_RCFG</th>\n",
       "      <th>C_WTHR</th>\n",
       "      <th>C_RSUR</th>\n",
       "      <th>...</th>\n",
       "      <th>V_ID</th>\n",
       "      <th>V_TYPE</th>\n",
       "      <th>V_YEAR</th>\n",
       "      <th>P_ID</th>\n",
       "      <th>P_SEX</th>\n",
       "      <th>P_AGE</th>\n",
       "      <th>P_PSN</th>\n",
       "      <th>P_ISEV</th>\n",
       "      <th>P_SAFE</th>\n",
       "      <th>P_USER</th>\n",
       "    </tr>\n",
       "  </thead>\n",
       "  <tbody>\n",
       "    <tr>\n",
       "      <th>0</th>\n",
       "      <td>6.774866</td>\n",
       "      <td>5.692547</td>\n",
       "      <td>3.081016</td>\n",
       "      <td>13.802138</td>\n",
       "      <td>0.984040</td>\n",
       "      <td>1.045897</td>\n",
       "      <td>9.103995</td>\n",
       "      <td>0.936040</td>\n",
       "      <td>0.631281</td>\n",
       "      <td>0.862782</td>\n",
       "      <td>...</td>\n",
       "      <td>0.509698</td>\n",
       "      <td>1.758550</td>\n",
       "      <td>52.235350</td>\n",
       "      <td>1.619081</td>\n",
       "      <td>1.410086</td>\n",
       "      <td>22.841639</td>\n",
       "      <td>2.167392</td>\n",
       "      <td>1.491043</td>\n",
       "      <td>1.948477</td>\n",
       "      <td>1.457404</td>\n",
       "    </tr>\n",
       "    <tr>\n",
       "      <th>1</th>\n",
       "      <td>7.347600</td>\n",
       "      <td>5.710598</td>\n",
       "      <td>2.918614</td>\n",
       "      <td>13.674819</td>\n",
       "      <td>0.982382</td>\n",
       "      <td>1.108605</td>\n",
       "      <td>9.474275</td>\n",
       "      <td>0.970924</td>\n",
       "      <td>0.598324</td>\n",
       "      <td>0.787002</td>\n",
       "      <td>...</td>\n",
       "      <td>0.573460</td>\n",
       "      <td>1.714447</td>\n",
       "      <td>53.178895</td>\n",
       "      <td>1.244928</td>\n",
       "      <td>1.417935</td>\n",
       "      <td>54.791803</td>\n",
       "      <td>1.529212</td>\n",
       "      <td>1.478351</td>\n",
       "      <td>1.922373</td>\n",
       "      <td>1.275634</td>\n",
       "    </tr>\n",
       "    <tr>\n",
       "      <th>2</th>\n",
       "      <td>7.278968</td>\n",
       "      <td>5.950236</td>\n",
       "      <td>2.772612</td>\n",
       "      <td>13.876135</td>\n",
       "      <td>0.968398</td>\n",
       "      <td>0.264439</td>\n",
       "      <td>6.737741</td>\n",
       "      <td>1.418816</td>\n",
       "      <td>0.516164</td>\n",
       "      <td>0.539775</td>\n",
       "      <td>...</td>\n",
       "      <td>20.926989</td>\n",
       "      <td>1.673447</td>\n",
       "      <td>0.194333</td>\n",
       "      <td>1.115874</td>\n",
       "      <td>1.457319</td>\n",
       "      <td>34.810025</td>\n",
       "      <td>10.988376</td>\n",
       "      <td>1.934617</td>\n",
       "      <td>1.905558</td>\n",
       "      <td>3.112241</td>\n",
       "    </tr>\n",
       "  </tbody>\n",
       "</table>\n",
       "<p>3 rows × 22 columns</p>\n",
       "</div>"
      ],
      "text/plain": [
       "     C_YEAR    C_MNTH    C_WDAY     C_HOUR     C_SEV    C_VEHS    C_CONF  \\\n",
       "0  6.774866  5.692547  3.081016  13.802138  0.984040  1.045897  9.103995   \n",
       "1  7.347600  5.710598  2.918614  13.674819  0.982382  1.108605  9.474275   \n",
       "2  7.278968  5.950236  2.772612  13.876135  0.968398  0.264439  6.737741   \n",
       "\n",
       "     C_RCFG    C_WTHR    C_RSUR  ...       V_ID    V_TYPE     V_YEAR  \\\n",
       "0  0.936040  0.631281  0.862782  ...   0.509698  1.758550  52.235350   \n",
       "1  0.970924  0.598324  0.787002  ...   0.573460  1.714447  53.178895   \n",
       "2  1.418816  0.516164  0.539775  ...  20.926989  1.673447   0.194333   \n",
       "\n",
       "       P_ID     P_SEX      P_AGE      P_PSN    P_ISEV    P_SAFE    P_USER  \n",
       "0  1.619081  1.410086  22.841639   2.167392  1.491043  1.948477  1.457404  \n",
       "1  1.244928  1.417935  54.791803   1.529212  1.478351  1.922373  1.275634  \n",
       "2  1.115874  1.457319  34.810025  10.988376  1.934617  1.905558  3.112241  \n",
       "\n",
       "[3 rows x 22 columns]"
      ]
     },
     "execution_count": 523,
     "metadata": {},
     "output_type": "execute_result"
    }
   ],
   "source": [
    "data.groupby(by=y_kmeans).mean()"
   ]
  },
  {
   "cell_type": "code",
   "execution_count": 524,
   "metadata": {
    "id": "6RXLv_z7ZEDz",
    "outputId": "adc0f998-d81a-4c1a-bc3c-906e96055ae1"
   },
   "outputs": [
    {
     "data": {
      "text/html": [
       "<div>\n",
       "<style scoped>\n",
       "    .dataframe tbody tr th:only-of-type {\n",
       "        vertical-align: middle;\n",
       "    }\n",
       "\n",
       "    .dataframe tbody tr th {\n",
       "        vertical-align: top;\n",
       "    }\n",
       "\n",
       "    .dataframe thead th {\n",
       "        text-align: right;\n",
       "    }\n",
       "</style>\n",
       "<table border=\"1\" class=\"dataframe\">\n",
       "  <thead>\n",
       "    <tr style=\"text-align: right;\">\n",
       "      <th></th>\n",
       "      <th>C_YEAR</th>\n",
       "      <th>C_MNTH</th>\n",
       "      <th>C_WDAY</th>\n",
       "      <th>C_HOUR</th>\n",
       "      <th>C_SEV</th>\n",
       "      <th>C_VEHS</th>\n",
       "      <th>C_CONF</th>\n",
       "      <th>C_RCFG</th>\n",
       "      <th>C_WTHR</th>\n",
       "      <th>C_RSUR</th>\n",
       "      <th>...</th>\n",
       "      <th>V_ID</th>\n",
       "      <th>V_TYPE</th>\n",
       "      <th>V_YEAR</th>\n",
       "      <th>P_ID</th>\n",
       "      <th>P_SEX</th>\n",
       "      <th>P_AGE</th>\n",
       "      <th>P_PSN</th>\n",
       "      <th>P_ISEV</th>\n",
       "      <th>P_SAFE</th>\n",
       "      <th>P_USER</th>\n",
       "    </tr>\n",
       "  </thead>\n",
       "  <tbody>\n",
       "    <tr>\n",
       "      <th>0</th>\n",
       "      <td>6</td>\n",
       "      <td>6</td>\n",
       "      <td>3</td>\n",
       "      <td>15</td>\n",
       "      <td>1</td>\n",
       "      <td>1</td>\n",
       "      <td>6</td>\n",
       "      <td>1</td>\n",
       "      <td>0</td>\n",
       "      <td>0</td>\n",
       "      <td>...</td>\n",
       "      <td>0</td>\n",
       "      <td>1</td>\n",
       "      <td>53</td>\n",
       "      <td>1</td>\n",
       "      <td>1</td>\n",
       "      <td>22</td>\n",
       "      <td>1</td>\n",
       "      <td>2</td>\n",
       "      <td>2</td>\n",
       "      <td>1</td>\n",
       "    </tr>\n",
       "    <tr>\n",
       "      <th>1</th>\n",
       "      <td>7</td>\n",
       "      <td>6</td>\n",
       "      <td>3</td>\n",
       "      <td>14</td>\n",
       "      <td>1</td>\n",
       "      <td>1</td>\n",
       "      <td>6</td>\n",
       "      <td>1</td>\n",
       "      <td>0</td>\n",
       "      <td>0</td>\n",
       "      <td>...</td>\n",
       "      <td>0</td>\n",
       "      <td>1</td>\n",
       "      <td>54</td>\n",
       "      <td>1</td>\n",
       "      <td>1</td>\n",
       "      <td>52</td>\n",
       "      <td>1</td>\n",
       "      <td>2</td>\n",
       "      <td>2</td>\n",
       "      <td>1</td>\n",
       "    </tr>\n",
       "    <tr>\n",
       "      <th>2</th>\n",
       "      <td>7</td>\n",
       "      <td>6</td>\n",
       "      <td>3</td>\n",
       "      <td>15</td>\n",
       "      <td>1</td>\n",
       "      <td>0</td>\n",
       "      <td>5</td>\n",
       "      <td>1</td>\n",
       "      <td>0</td>\n",
       "      <td>0</td>\n",
       "      <td>...</td>\n",
       "      <td>25</td>\n",
       "      <td>0</td>\n",
       "      <td>0</td>\n",
       "      <td>1</td>\n",
       "      <td>1</td>\n",
       "      <td>31</td>\n",
       "      <td>13</td>\n",
       "      <td>2</td>\n",
       "      <td>1</td>\n",
       "      <td>3</td>\n",
       "    </tr>\n",
       "  </tbody>\n",
       "</table>\n",
       "<p>3 rows × 22 columns</p>\n",
       "</div>"
      ],
      "text/plain": [
       "   C_YEAR  C_MNTH  C_WDAY  C_HOUR  C_SEV  C_VEHS  C_CONF  C_RCFG  C_WTHR  \\\n",
       "0       6       6       3      15      1       1       6       1       0   \n",
       "1       7       6       3      14      1       1       6       1       0   \n",
       "2       7       6       3      15      1       0       5       1       0   \n",
       "\n",
       "   C_RSUR  ...  V_ID  V_TYPE  V_YEAR  P_ID  P_SEX  P_AGE  P_PSN  P_ISEV  \\\n",
       "0       0  ...     0       1      53     1      1     22      1       2   \n",
       "1       0  ...     0       1      54     1      1     52      1       2   \n",
       "2       0  ...    25       0       0     1      1     31     13       2   \n",
       "\n",
       "   P_SAFE  P_USER  \n",
       "0       2       1  \n",
       "1       2       1  \n",
       "2       1       3  \n",
       "\n",
       "[3 rows x 22 columns]"
      ]
     },
     "execution_count": 524,
     "metadata": {},
     "output_type": "execute_result"
    }
   ],
   "source": [
    "data.groupby(by=y_kmeans).median()"
   ]
  },
  {
   "cell_type": "code",
   "execution_count": 525,
   "metadata": {
    "id": "DrR56rMqZED0",
    "outputId": "36bf1e6e-2f96-442e-bbfa-bd7b544a30b7"
   },
   "outputs": [
    {
     "data": {
      "text/html": [
       "<div>\n",
       "<style scoped>\n",
       "    .dataframe tbody tr th:only-of-type {\n",
       "        vertical-align: middle;\n",
       "    }\n",
       "\n",
       "    .dataframe tbody tr th {\n",
       "        vertical-align: top;\n",
       "    }\n",
       "\n",
       "    .dataframe thead th {\n",
       "        text-align: right;\n",
       "    }\n",
       "</style>\n",
       "<table border=\"1\" class=\"dataframe\">\n",
       "  <thead>\n",
       "    <tr style=\"text-align: right;\">\n",
       "      <th></th>\n",
       "      <th>C_YEAR</th>\n",
       "      <th>C_MNTH</th>\n",
       "      <th>C_WDAY</th>\n",
       "      <th>C_HOUR</th>\n",
       "      <th>C_SEV</th>\n",
       "      <th>C_VEHS</th>\n",
       "      <th>C_CONF</th>\n",
       "      <th>C_RCFG</th>\n",
       "      <th>C_WTHR</th>\n",
       "      <th>C_RSUR</th>\n",
       "      <th>...</th>\n",
       "      <th>V_ID</th>\n",
       "      <th>V_TYPE</th>\n",
       "      <th>V_YEAR</th>\n",
       "      <th>P_ID</th>\n",
       "      <th>P_SEX</th>\n",
       "      <th>P_AGE</th>\n",
       "      <th>P_PSN</th>\n",
       "      <th>P_ISEV</th>\n",
       "      <th>P_SAFE</th>\n",
       "      <th>P_USER</th>\n",
       "    </tr>\n",
       "  </thead>\n",
       "  <tbody>\n",
       "    <tr>\n",
       "      <th>0</th>\n",
       "      <td>0</td>\n",
       "      <td>7</td>\n",
       "      <td>4</td>\n",
       "      <td>16</td>\n",
       "      <td>1</td>\n",
       "      <td>1</td>\n",
       "      <td>6</td>\n",
       "      <td>1</td>\n",
       "      <td>0</td>\n",
       "      <td>0</td>\n",
       "      <td>...</td>\n",
       "      <td>0</td>\n",
       "      <td>1</td>\n",
       "      <td>54</td>\n",
       "      <td>1</td>\n",
       "      <td>1</td>\n",
       "      <td>18</td>\n",
       "      <td>1</td>\n",
       "      <td>2</td>\n",
       "      <td>2</td>\n",
       "      <td>1</td>\n",
       "    </tr>\n",
       "    <tr>\n",
       "      <th>1</th>\n",
       "      <td>7</td>\n",
       "      <td>7</td>\n",
       "      <td>4</td>\n",
       "      <td>16</td>\n",
       "      <td>1</td>\n",
       "      <td>1</td>\n",
       "      <td>6</td>\n",
       "      <td>1</td>\n",
       "      <td>0</td>\n",
       "      <td>0</td>\n",
       "      <td>...</td>\n",
       "      <td>0</td>\n",
       "      <td>1</td>\n",
       "      <td>54</td>\n",
       "      <td>1</td>\n",
       "      <td>1</td>\n",
       "      <td>40</td>\n",
       "      <td>1</td>\n",
       "      <td>2</td>\n",
       "      <td>2</td>\n",
       "      <td>1</td>\n",
       "    </tr>\n",
       "    <tr>\n",
       "      <th>2</th>\n",
       "      <td>5</td>\n",
       "      <td>9</td>\n",
       "      <td>1</td>\n",
       "      <td>16</td>\n",
       "      <td>1</td>\n",
       "      <td>0</td>\n",
       "      <td>5</td>\n",
       "      <td>1</td>\n",
       "      <td>0</td>\n",
       "      <td>0</td>\n",
       "      <td>...</td>\n",
       "      <td>25</td>\n",
       "      <td>0</td>\n",
       "      <td>0</td>\n",
       "      <td>1</td>\n",
       "      <td>1</td>\n",
       "      <td>18</td>\n",
       "      <td>13</td>\n",
       "      <td>2</td>\n",
       "      <td>0</td>\n",
       "      <td>3</td>\n",
       "    </tr>\n",
       "  </tbody>\n",
       "</table>\n",
       "<p>3 rows × 22 columns</p>\n",
       "</div>"
      ],
      "text/plain": [
       "   C_YEAR  C_MNTH  C_WDAY  C_HOUR  C_SEV  C_VEHS  C_CONF  C_RCFG  C_WTHR  \\\n",
       "0       0       7       4      16      1       1       6       1       0   \n",
       "1       7       7       4      16      1       1       6       1       0   \n",
       "2       5       9       1      16      1       0       5       1       0   \n",
       "\n",
       "   C_RSUR  ...  V_ID  V_TYPE  V_YEAR  P_ID  P_SEX  P_AGE  P_PSN  P_ISEV  \\\n",
       "0       0  ...     0       1      54     1      1     18      1       2   \n",
       "1       0  ...     0       1      54     1      1     40      1       2   \n",
       "2       0  ...    25       0       0     1      1     18     13       2   \n",
       "\n",
       "   P_SAFE  P_USER  \n",
       "0       2       1  \n",
       "1       2       1  \n",
       "2       0       3  \n",
       "\n",
       "[3 rows x 22 columns]"
      ]
     },
     "execution_count": 525,
     "metadata": {},
     "output_type": "execute_result"
    }
   ],
   "source": [
    "data.groupby(by = y_kmeans).agg(pd.Series.mode)"
   ]
  },
  {
   "cell_type": "code",
   "execution_count": 526,
   "metadata": {
    "id": "9Ru2P62xZED0",
    "outputId": "0ff1928e-af83-482a-c7ce-acd8dbb08863"
   },
   "outputs": [
    {
     "data": {
      "text/html": [
       "<div>\n",
       "<style scoped>\n",
       "    .dataframe tbody tr th:only-of-type {\n",
       "        vertical-align: middle;\n",
       "    }\n",
       "\n",
       "    .dataframe tbody tr th {\n",
       "        vertical-align: top;\n",
       "    }\n",
       "\n",
       "    .dataframe thead th {\n",
       "        text-align: right;\n",
       "    }\n",
       "</style>\n",
       "<table border=\"1\" class=\"dataframe\">\n",
       "  <thead>\n",
       "    <tr style=\"text-align: right;\">\n",
       "      <th></th>\n",
       "      <th>C_YEAR</th>\n",
       "      <th>C_MNTH</th>\n",
       "      <th>C_WDAY</th>\n",
       "      <th>C_HOUR</th>\n",
       "      <th>C_SEV</th>\n",
       "      <th>C_VEHS</th>\n",
       "      <th>C_CONF</th>\n",
       "      <th>C_RCFG</th>\n",
       "      <th>C_WTHR</th>\n",
       "      <th>C_RSUR</th>\n",
       "      <th>C_RALN</th>\n",
       "      <th>C_TRAF</th>\n",
       "      <th>V_ID</th>\n",
       "      <th>V_TYPE</th>\n",
       "      <th>V_YEAR</th>\n",
       "    </tr>\n",
       "  </thead>\n",
       "  <tbody>\n",
       "    <tr>\n",
       "      <th>0</th>\n",
       "      <td>0</td>\n",
       "      <td>7</td>\n",
       "      <td>4</td>\n",
       "      <td>16</td>\n",
       "      <td>1</td>\n",
       "      <td>1</td>\n",
       "      <td>6</td>\n",
       "      <td>1</td>\n",
       "      <td>0</td>\n",
       "      <td>0</td>\n",
       "      <td>0</td>\n",
       "      <td>16</td>\n",
       "      <td>0</td>\n",
       "      <td>1</td>\n",
       "      <td>54</td>\n",
       "    </tr>\n",
       "    <tr>\n",
       "      <th>1</th>\n",
       "      <td>7</td>\n",
       "      <td>7</td>\n",
       "      <td>4</td>\n",
       "      <td>16</td>\n",
       "      <td>1</td>\n",
       "      <td>1</td>\n",
       "      <td>6</td>\n",
       "      <td>1</td>\n",
       "      <td>0</td>\n",
       "      <td>0</td>\n",
       "      <td>0</td>\n",
       "      <td>16</td>\n",
       "      <td>0</td>\n",
       "      <td>1</td>\n",
       "      <td>54</td>\n",
       "    </tr>\n",
       "    <tr>\n",
       "      <th>2</th>\n",
       "      <td>5</td>\n",
       "      <td>9</td>\n",
       "      <td>1</td>\n",
       "      <td>16</td>\n",
       "      <td>1</td>\n",
       "      <td>0</td>\n",
       "      <td>5</td>\n",
       "      <td>1</td>\n",
       "      <td>0</td>\n",
       "      <td>0</td>\n",
       "      <td>0</td>\n",
       "      <td>16</td>\n",
       "      <td>25</td>\n",
       "      <td>0</td>\n",
       "      <td>0</td>\n",
       "    </tr>\n",
       "  </tbody>\n",
       "</table>\n",
       "</div>"
      ],
      "text/plain": [
       "   C_YEAR  C_MNTH  C_WDAY  C_HOUR  C_SEV  C_VEHS  C_CONF  C_RCFG  C_WTHR  \\\n",
       "0       0       7       4      16      1       1       6       1       0   \n",
       "1       7       7       4      16      1       1       6       1       0   \n",
       "2       5       9       1      16      1       0       5       1       0   \n",
       "\n",
       "   C_RSUR  C_RALN  C_TRAF  V_ID  V_TYPE  V_YEAR  \n",
       "0       0       0      16     0       1      54  \n",
       "1       0       0      16     0       1      54  \n",
       "2       0       0      16    25       0       0  "
      ]
     },
     "execution_count": 526,
     "metadata": {},
     "output_type": "execute_result"
    }
   ],
   "source": [
    "data[['C_YEAR', 'C_MNTH', 'C_WDAY', 'C_HOUR', 'C_SEV', 'C_VEHS', 'C_CONF',\n",
    "       'C_RCFG', 'C_WTHR', 'C_RSUR', 'C_RALN', 'C_TRAF', 'V_ID', 'V_TYPE',\n",
    "       'V_YEAR']].groupby(by=y_kmeans).agg(pd.Series.mode)"
   ]
  },
  {
   "cell_type": "code",
   "execution_count": 527,
   "metadata": {
    "id": "eDVaJ4SFZED0",
    "outputId": "c6d7f30b-a897-4136-ac03-4e9a3c3f698e"
   },
   "outputs": [
    {
     "data": {
      "text/html": [
       "<div>\n",
       "<style scoped>\n",
       "    .dataframe tbody tr th:only-of-type {\n",
       "        vertical-align: middle;\n",
       "    }\n",
       "\n",
       "    .dataframe tbody tr th {\n",
       "        vertical-align: top;\n",
       "    }\n",
       "\n",
       "    .dataframe thead th {\n",
       "        text-align: right;\n",
       "    }\n",
       "</style>\n",
       "<table border=\"1\" class=\"dataframe\">\n",
       "  <thead>\n",
       "    <tr style=\"text-align: right;\">\n",
       "      <th></th>\n",
       "      <th>P_ID</th>\n",
       "      <th>P_SEX</th>\n",
       "      <th>P_AGE</th>\n",
       "      <th>P_PSN</th>\n",
       "      <th>P_ISEV</th>\n",
       "      <th>P_SAFE</th>\n",
       "      <th>P_USER</th>\n",
       "    </tr>\n",
       "  </thead>\n",
       "  <tbody>\n",
       "    <tr>\n",
       "      <th>0</th>\n",
       "      <td>1</td>\n",
       "      <td>1</td>\n",
       "      <td>18</td>\n",
       "      <td>1</td>\n",
       "      <td>2</td>\n",
       "      <td>2</td>\n",
       "      <td>1</td>\n",
       "    </tr>\n",
       "    <tr>\n",
       "      <th>1</th>\n",
       "      <td>1</td>\n",
       "      <td>1</td>\n",
       "      <td>40</td>\n",
       "      <td>1</td>\n",
       "      <td>2</td>\n",
       "      <td>2</td>\n",
       "      <td>1</td>\n",
       "    </tr>\n",
       "    <tr>\n",
       "      <th>2</th>\n",
       "      <td>1</td>\n",
       "      <td>1</td>\n",
       "      <td>18</td>\n",
       "      <td>13</td>\n",
       "      <td>2</td>\n",
       "      <td>0</td>\n",
       "      <td>3</td>\n",
       "    </tr>\n",
       "  </tbody>\n",
       "</table>\n",
       "</div>"
      ],
      "text/plain": [
       "   P_ID  P_SEX  P_AGE  P_PSN  P_ISEV  P_SAFE  P_USER\n",
       "0     1      1     18      1       2       2       1\n",
       "1     1      1     40      1       2       2       1\n",
       "2     1      1     18     13       2       0       3"
      ]
     },
     "execution_count": 527,
     "metadata": {},
     "output_type": "execute_result"
    }
   ],
   "source": [
    "data[['P_ID', 'P_SEX', 'P_AGE', 'P_PSN', 'P_ISEV', 'P_SAFE',\n",
    "       'P_USER']].groupby(by=y_kmeans).agg(pd.Series.mode)"
   ]
  },
  {
   "cell_type": "code",
   "execution_count": 528,
   "metadata": {
    "id": "3dc6h6VIZED1",
    "outputId": "6ed24fb2-a926-4a25-9dce-d900622dd742"
   },
   "outputs": [
    {
     "data": {
      "text/html": [
       "<div>\n",
       "<style scoped>\n",
       "    .dataframe tbody tr th:only-of-type {\n",
       "        vertical-align: middle;\n",
       "    }\n",
       "\n",
       "    .dataframe tbody tr th {\n",
       "        vertical-align: top;\n",
       "    }\n",
       "\n",
       "    .dataframe thead th {\n",
       "        text-align: right;\n",
       "    }\n",
       "</style>\n",
       "<table border=\"1\" class=\"dataframe\">\n",
       "  <thead>\n",
       "    <tr style=\"text-align: right;\">\n",
       "      <th></th>\n",
       "      <th>C_CONF</th>\n",
       "      <th>V_TYPE</th>\n",
       "      <th>P_AGE</th>\n",
       "      <th>P_PSN</th>\n",
       "      <th>P_SAFE</th>\n",
       "      <th>P_USER</th>\n",
       "    </tr>\n",
       "  </thead>\n",
       "  <tbody>\n",
       "    <tr>\n",
       "      <th>0</th>\n",
       "      <td>6</td>\n",
       "      <td>1</td>\n",
       "      <td>18</td>\n",
       "      <td>1</td>\n",
       "      <td>2</td>\n",
       "      <td>1</td>\n",
       "    </tr>\n",
       "    <tr>\n",
       "      <th>1</th>\n",
       "      <td>6</td>\n",
       "      <td>1</td>\n",
       "      <td>40</td>\n",
       "      <td>1</td>\n",
       "      <td>2</td>\n",
       "      <td>1</td>\n",
       "    </tr>\n",
       "    <tr>\n",
       "      <th>2</th>\n",
       "      <td>5</td>\n",
       "      <td>0</td>\n",
       "      <td>18</td>\n",
       "      <td>13</td>\n",
       "      <td>0</td>\n",
       "      <td>3</td>\n",
       "    </tr>\n",
       "  </tbody>\n",
       "</table>\n",
       "</div>"
      ],
      "text/plain": [
       "   C_CONF  V_TYPE  P_AGE  P_PSN  P_SAFE  P_USER\n",
       "0       6       1     18      1       2       1\n",
       "1       6       1     40      1       2       1\n",
       "2       5       0     18     13       0       3"
      ]
     },
     "execution_count": 528,
     "metadata": {},
     "output_type": "execute_result"
    }
   ],
   "source": [
    "data[['C_CONF',\n",
    "        'V_TYPE','P_AGE', 'P_PSN', 'P_SAFE',\n",
    "       'P_USER']].groupby(by=y_kmeans).agg(pd.Series.mode)"
   ]
  },
  {
   "cell_type": "code",
   "execution_count": 529,
   "metadata": {
    "id": "qRsZ1jFIZED1",
    "outputId": "02f80555-eb55-47a7-b66a-e7e00c361b35"
   },
   "outputs": [
    {
     "data": {
      "text/html": [
       "<div>\n",
       "<style scoped>\n",
       "    .dataframe tbody tr th:only-of-type {\n",
       "        vertical-align: middle;\n",
       "    }\n",
       "\n",
       "    .dataframe tbody tr th {\n",
       "        vertical-align: top;\n",
       "    }\n",
       "\n",
       "    .dataframe thead th {\n",
       "        text-align: right;\n",
       "    }\n",
       "</style>\n",
       "<table border=\"1\" class=\"dataframe\">\n",
       "  <thead>\n",
       "    <tr style=\"text-align: right;\">\n",
       "      <th></th>\n",
       "      <th>C_CONF</th>\n",
       "      <th>V_TYPE</th>\n",
       "      <th>P_AGE</th>\n",
       "      <th>P_PSN</th>\n",
       "      <th>P_SAFE</th>\n",
       "      <th>P_USER</th>\n",
       "    </tr>\n",
       "  </thead>\n",
       "  <tbody>\n",
       "    <tr>\n",
       "      <th>0</th>\n",
       "      <td>9.103995</td>\n",
       "      <td>1.758550</td>\n",
       "      <td>22.841639</td>\n",
       "      <td>2.167392</td>\n",
       "      <td>1.948477</td>\n",
       "      <td>1.457404</td>\n",
       "    </tr>\n",
       "    <tr>\n",
       "      <th>1</th>\n",
       "      <td>9.474275</td>\n",
       "      <td>1.714447</td>\n",
       "      <td>54.791803</td>\n",
       "      <td>1.529212</td>\n",
       "      <td>1.922373</td>\n",
       "      <td>1.275634</td>\n",
       "    </tr>\n",
       "    <tr>\n",
       "      <th>2</th>\n",
       "      <td>6.737741</td>\n",
       "      <td>1.673447</td>\n",
       "      <td>34.810025</td>\n",
       "      <td>10.988376</td>\n",
       "      <td>1.905558</td>\n",
       "      <td>3.112241</td>\n",
       "    </tr>\n",
       "  </tbody>\n",
       "</table>\n",
       "</div>"
      ],
      "text/plain": [
       "     C_CONF    V_TYPE      P_AGE      P_PSN    P_SAFE    P_USER\n",
       "0  9.103995  1.758550  22.841639   2.167392  1.948477  1.457404\n",
       "1  9.474275  1.714447  54.791803   1.529212  1.922373  1.275634\n",
       "2  6.737741  1.673447  34.810025  10.988376  1.905558  3.112241"
      ]
     },
     "execution_count": 529,
     "metadata": {},
     "output_type": "execute_result"
    }
   ],
   "source": [
    "data[['C_CONF',\n",
    "        'V_TYPE','P_AGE', 'P_PSN', 'P_SAFE',\n",
    "       'P_USER']].groupby(by=y_kmeans).mean()"
   ]
  },
  {
   "cell_type": "code",
   "execution_count": 530,
   "metadata": {
    "id": "hE-mI6xBZED1",
    "outputId": "7f7a5e91-0944-469e-9609-f47b56b6ba7d"
   },
   "outputs": [
    {
     "data": {
      "text/html": [
       "<div>\n",
       "<style scoped>\n",
       "    .dataframe tbody tr th:only-of-type {\n",
       "        vertical-align: middle;\n",
       "    }\n",
       "\n",
       "    .dataframe tbody tr th {\n",
       "        vertical-align: top;\n",
       "    }\n",
       "\n",
       "    .dataframe thead th {\n",
       "        text-align: right;\n",
       "    }\n",
       "</style>\n",
       "<table border=\"1\" class=\"dataframe\">\n",
       "  <thead>\n",
       "    <tr style=\"text-align: right;\">\n",
       "      <th></th>\n",
       "      <th>C_CONF</th>\n",
       "      <th>V_TYPE</th>\n",
       "      <th>P_AGE</th>\n",
       "      <th>P_PSN</th>\n",
       "      <th>P_SAFE</th>\n",
       "      <th>P_USER</th>\n",
       "    </tr>\n",
       "  </thead>\n",
       "  <tbody>\n",
       "    <tr>\n",
       "      <th>0</th>\n",
       "      <td>6</td>\n",
       "      <td>1</td>\n",
       "      <td>22</td>\n",
       "      <td>1</td>\n",
       "      <td>2</td>\n",
       "      <td>1</td>\n",
       "    </tr>\n",
       "    <tr>\n",
       "      <th>1</th>\n",
       "      <td>6</td>\n",
       "      <td>1</td>\n",
       "      <td>52</td>\n",
       "      <td>1</td>\n",
       "      <td>2</td>\n",
       "      <td>1</td>\n",
       "    </tr>\n",
       "    <tr>\n",
       "      <th>2</th>\n",
       "      <td>5</td>\n",
       "      <td>0</td>\n",
       "      <td>31</td>\n",
       "      <td>13</td>\n",
       "      <td>1</td>\n",
       "      <td>3</td>\n",
       "    </tr>\n",
       "  </tbody>\n",
       "</table>\n",
       "</div>"
      ],
      "text/plain": [
       "   C_CONF  V_TYPE  P_AGE  P_PSN  P_SAFE  P_USER\n",
       "0       6       1     22      1       2       1\n",
       "1       6       1     52      1       2       1\n",
       "2       5       0     31     13       1       3"
      ]
     },
     "execution_count": 530,
     "metadata": {},
     "output_type": "execute_result"
    }
   ],
   "source": [
    "data[['C_CONF',\n",
    "        'V_TYPE','P_AGE', 'P_PSN', 'P_SAFE',\n",
    "       'P_USER']].groupby(by=y_kmeans).median()"
   ]
  },
  {
   "cell_type": "markdown",
   "metadata": {
    "id": "NNC35g-nZED2"
   },
   "source": [
    "Estudiando las características de los diferentes clusters:\n",
    "- Grupo 0: conductores de coche jóvenes que llevaban todos las medidas de seguridad\n",
    "- Grupo 1: conductores de mediana edad de coches que llevaban todos las medidas de seguridad\n",
    "- Grupo 2: peatones jóvenes que tienen accidenetes de coches que se dan a la fuga"
   ]
  },
  {
   "cell_type": "markdown",
   "metadata": {},
   "source": [
    "Debido a que los variables son categóricas vamos a probar a usar el método de KModes para ver si el modelo mejora"
   ]
  },
  {
   "cell_type": "markdown",
   "metadata": {
    "id": "4ERLjtiroxok"
   },
   "source": [
    "#### KMODES:"
   ]
  },
  {
   "cell_type": "code",
   "execution_count": 531,
   "metadata": {
    "colab": {
     "base_uri": "https://localhost:8080/"
    },
    "id": "JO6vU1WloC7V",
    "outputId": "d2b157f3-d72a-481c-a9e0-fd7677b5785a"
   },
   "outputs": [
    {
     "name": "stdout",
     "output_type": "stream",
     "text": [
      "Requirement already satisfied: KModes in d:\\anaconda\\lib\\site-packages (0.12.1)\n",
      "Requirement already satisfied: numpy>=1.10.4 in d:\\anaconda\\lib\\site-packages (from KModes) (1.19.2)\n",
      "Requirement already satisfied: scipy>=0.13.3 in d:\\anaconda\\lib\\site-packages (from KModes) (1.5.2)\n",
      "Requirement already satisfied: joblib>=0.11 in d:\\anaconda\\lib\\site-packages (from KModes) (0.17.0)\n",
      "Requirement already satisfied: scikit-learn>=0.22.0 in d:\\anaconda\\lib\\site-packages (from KModes) (1.0.2)\n",
      "Requirement already satisfied: threadpoolctl>=2.0.0 in d:\\anaconda\\lib\\site-packages (from scikit-learn>=0.22.0->KModes) (2.1.0)\n"
     ]
    }
   ],
   "source": [
    "!pip install KModes"
   ]
  },
  {
   "cell_type": "code",
   "execution_count": 532,
   "metadata": {
    "id": "58f93a95"
   },
   "outputs": [],
   "source": [
    "from kmodes.kmodes import KModes"
   ]
  },
  {
   "cell_type": "code",
   "execution_count": 533,
   "metadata": {
    "colab": {
     "base_uri": "https://localhost:8080/",
     "height": 1000
    },
    "id": "656b6b20",
    "outputId": "49a59b7c-171d-407f-9277-f8c0c39f063b"
   },
   "outputs": [
    {
     "name": "stdout",
     "output_type": "stream",
     "text": [
      "Initialization method and algorithm are deterministic. Setting n_init to 1.\n",
      "Init: initializing centroids\n",
      "Init: initializing clusters\n",
      "Starting iterations...\n",
      "Run 1, iteration: 1/100, moves: 0, cost: 636212.0\n",
      "Initialization method and algorithm are deterministic. Setting n_init to 1.\n",
      "Init: initializing centroids\n",
      "Init: initializing clusters\n",
      "Starting iterations...\n",
      "Run 1, iteration: 1/100, moves: 3726, cost: 599629.0\n",
      "Run 1, iteration: 2/100, moves: 1036, cost: 599629.0\n",
      "Initialization method and algorithm are deterministic. Setting n_init to 1.\n",
      "Init: initializing centroids\n",
      "Init: initializing clusters\n",
      "Starting iterations...\n",
      "Run 1, iteration: 1/100, moves: 6729, cost: 586526.0\n",
      "Run 1, iteration: 2/100, moves: 1031, cost: 586526.0\n",
      "Initialization method and algorithm are deterministic. Setting n_init to 1.\n",
      "Init: initializing centroids\n",
      "Init: initializing clusters\n",
      "Starting iterations...\n",
      "Run 1, iteration: 1/100, moves: 13266, cost: 569311.0\n",
      "Run 1, iteration: 2/100, moves: 70, cost: 569311.0\n",
      "Initialization method and algorithm are deterministic. Setting n_init to 1.\n",
      "Init: initializing centroids\n",
      "Init: initializing clusters\n",
      "Starting iterations...\n",
      "Run 1, iteration: 1/100, moves: 15229, cost: 560643.0\n",
      "Run 1, iteration: 2/100, moves: 301, cost: 560643.0\n",
      "Initialization method and algorithm are deterministic. Setting n_init to 1.\n",
      "Init: initializing centroids\n",
      "Init: initializing clusters\n",
      "Starting iterations...\n",
      "Run 1, iteration: 1/100, moves: 15711, cost: 552834.0\n",
      "Run 1, iteration: 2/100, moves: 699, cost: 552600.0\n",
      "Run 1, iteration: 3/100, moves: 224, cost: 552600.0\n",
      "Initialization method and algorithm are deterministic. Setting n_init to 1.\n",
      "Init: initializing centroids\n",
      "Init: initializing clusters\n",
      "Starting iterations...\n",
      "Run 1, iteration: 1/100, moves: 16027, cost: 548107.0\n",
      "Run 1, iteration: 2/100, moves: 1235, cost: 548107.0\n"
     ]
    },
    {
     "data": {
      "image/png": "[encoded data removed]",
      "text/plain": [
       "<Figure size 1080x576 with 1 Axes>"
      ]
     },
     "metadata": {},
     "output_type": "display_data"
    }
   ],
   "source": [
    "cost = []\n",
    "K = range(1,8)\n",
    "for num_clusters in list(K):\n",
    "    kmode = KModes(n_clusters=num_clusters, verbose=1, random_state=23)\n",
    "    kmode.fit_predict(data)\n",
    "    cost.append(kmode.cost_)\n",
    "    \n",
    "plt.plot(K, cost, 'bx-')\n",
    "plt.xlabel('No. of clusters')\n",
    "plt.ylabel('Cost')\n",
    "plt.title('Elbow Method For Optimal k')\n",
    "plt.show()\n"
   ]
  },
  {
   "cell_type": "markdown",
   "metadata": {
    "id": "Lr9HbsQqzrFh"
   },
   "source": [
    "A partir de la gráfica vemos que el codo se forma en el número de clusters igual a cuatro:"
   ]
  },
  {
   "cell_type": "code",
   "execution_count": 534,
   "metadata": {
    "colab": {
     "base_uri": "https://localhost:8080/"
    },
    "id": "wh49uK8bsC46",
    "outputId": "d8f005c8-1ed9-4bef-f06a-58a1f4e2d909"
   },
   "outputs": [
    {
     "name": "stdout",
     "output_type": "stream",
     "text": [
      "Initialization method and algorithm are deterministic. Setting n_init to 1.\n"
     ]
    }
   ],
   "source": [
    "kmodes = KModes(n_jobs = -1, n_clusters = 4, random_state = 0,verbose=1)\n",
    "a = kmodes.fit_predict(data)"
   ]
  },
  {
   "cell_type": "code",
   "execution_count": 535,
   "metadata": {
    "colab": {
     "base_uri": "https://localhost:8080/",
     "height": 237
    },
    "id": "-Oh4pg-nsFIm",
    "outputId": "da8aba47-e101-45d9-fa91-327dcd7eeeba"
   },
   "outputs": [
    {
     "data": {
      "text/html": [
       "<div>\n",
       "<style scoped>\n",
       "    .dataframe tbody tr th:only-of-type {\n",
       "        vertical-align: middle;\n",
       "    }\n",
       "\n",
       "    .dataframe tbody tr th {\n",
       "        vertical-align: top;\n",
       "    }\n",
       "\n",
       "    .dataframe thead th {\n",
       "        text-align: right;\n",
       "    }\n",
       "</style>\n",
       "<table border=\"1\" class=\"dataframe\">\n",
       "  <thead>\n",
       "    <tr style=\"text-align: right;\">\n",
       "      <th></th>\n",
       "      <th>C_YEAR</th>\n",
       "      <th>C_MNTH</th>\n",
       "      <th>C_WDAY</th>\n",
       "      <th>C_HOUR</th>\n",
       "      <th>C_SEV</th>\n",
       "      <th>C_VEHS</th>\n",
       "      <th>C_CONF</th>\n",
       "      <th>C_RCFG</th>\n",
       "      <th>C_WTHR</th>\n",
       "      <th>C_RSUR</th>\n",
       "      <th>...</th>\n",
       "      <th>V_ID</th>\n",
       "      <th>V_TYPE</th>\n",
       "      <th>V_YEAR</th>\n",
       "      <th>P_ID</th>\n",
       "      <th>P_SEX</th>\n",
       "      <th>P_AGE</th>\n",
       "      <th>P_PSN</th>\n",
       "      <th>P_ISEV</th>\n",
       "      <th>P_SAFE</th>\n",
       "      <th>P_USER</th>\n",
       "    </tr>\n",
       "  </thead>\n",
       "  <tbody>\n",
       "    <tr>\n",
       "      <th>0</th>\n",
       "      <td>6.831416</td>\n",
       "      <td>5.806522</td>\n",
       "      <td>3.012058</td>\n",
       "      <td>13.653625</td>\n",
       "      <td>0.983015</td>\n",
       "      <td>1.130077</td>\n",
       "      <td>9.707951</td>\n",
       "      <td>1.055168</td>\n",
       "      <td>0.437036</td>\n",
       "      <td>0.654760</td>\n",
       "      <td>...</td>\n",
       "      <td>0.854397</td>\n",
       "      <td>1.999676</td>\n",
       "      <td>51.077469</td>\n",
       "      <td>1.207708</td>\n",
       "      <td>1.230041</td>\n",
       "      <td>36.907815</td>\n",
       "      <td>1.573174</td>\n",
       "      <td>1.491913</td>\n",
       "      <td>1.865580</td>\n",
       "      <td>1.286214</td>\n",
       "    </tr>\n",
       "    <tr>\n",
       "      <th>1</th>\n",
       "      <td>6.715650</td>\n",
       "      <td>5.725544</td>\n",
       "      <td>3.225243</td>\n",
       "      <td>14.300009</td>\n",
       "      <td>0.984083</td>\n",
       "      <td>1.185666</td>\n",
       "      <td>9.759098</td>\n",
       "      <td>0.946657</td>\n",
       "      <td>0.551665</td>\n",
       "      <td>0.751527</td>\n",
       "      <td>...</td>\n",
       "      <td>0.785081</td>\n",
       "      <td>1.406263</td>\n",
       "      <td>52.162609</td>\n",
       "      <td>2.363589</td>\n",
       "      <td>1.657059</td>\n",
       "      <td>29.842037</td>\n",
       "      <td>3.682096</td>\n",
       "      <td>1.452465</td>\n",
       "      <td>2.082595</td>\n",
       "      <td>1.972038</td>\n",
       "    </tr>\n",
       "    <tr>\n",
       "      <th>2</th>\n",
       "      <td>7.513993</td>\n",
       "      <td>5.267931</td>\n",
       "      <td>2.772748</td>\n",
       "      <td>14.006117</td>\n",
       "      <td>0.992201</td>\n",
       "      <td>1.237039</td>\n",
       "      <td>10.203701</td>\n",
       "      <td>0.993577</td>\n",
       "      <td>1.432023</td>\n",
       "      <td>1.289800</td>\n",
       "      <td>...</td>\n",
       "      <td>1.461691</td>\n",
       "      <td>1.440893</td>\n",
       "      <td>51.657134</td>\n",
       "      <td>1.183667</td>\n",
       "      <td>1.579446</td>\n",
       "      <td>38.381251</td>\n",
       "      <td>1.617831</td>\n",
       "      <td>1.289800</td>\n",
       "      <td>1.873987</td>\n",
       "      <td>1.140694</td>\n",
       "    </tr>\n",
       "    <tr>\n",
       "      <th>3</th>\n",
       "      <td>7.624023</td>\n",
       "      <td>5.690960</td>\n",
       "      <td>2.875821</td>\n",
       "      <td>13.265561</td>\n",
       "      <td>0.973413</td>\n",
       "      <td>0.395475</td>\n",
       "      <td>5.790846</td>\n",
       "      <td>0.719633</td>\n",
       "      <td>0.697737</td>\n",
       "      <td>1.108435</td>\n",
       "      <td>...</td>\n",
       "      <td>4.425503</td>\n",
       "      <td>1.500469</td>\n",
       "      <td>43.676572</td>\n",
       "      <td>1.331144</td>\n",
       "      <td>1.606089</td>\n",
       "      <td>35.507038</td>\n",
       "      <td>3.680638</td>\n",
       "      <td>1.770305</td>\n",
       "      <td>2.030967</td>\n",
       "      <td>1.656866</td>\n",
       "    </tr>\n",
       "  </tbody>\n",
       "</table>\n",
       "<p>4 rows × 22 columns</p>\n",
       "</div>"
      ],
      "text/plain": [
       "     C_YEAR    C_MNTH    C_WDAY     C_HOUR     C_SEV    C_VEHS     C_CONF  \\\n",
       "0  6.831416  5.806522  3.012058  13.653625  0.983015  1.130077   9.707951   \n",
       "1  6.715650  5.725544  3.225243  14.300009  0.984083  1.185666   9.759098   \n",
       "2  7.513993  5.267931  2.772748  14.006117  0.992201  1.237039  10.203701   \n",
       "3  7.624023  5.690960  2.875821  13.265561  0.973413  0.395475   5.790846   \n",
       "\n",
       "     C_RCFG    C_WTHR    C_RSUR  ...      V_ID    V_TYPE     V_YEAR      P_ID  \\\n",
       "0  1.055168  0.437036  0.654760  ...  0.854397  1.999676  51.077469  1.207708   \n",
       "1  0.946657  0.551665  0.751527  ...  0.785081  1.406263  52.162609  2.363589   \n",
       "2  0.993577  1.432023  1.289800  ...  1.461691  1.440893  51.657134  1.183667   \n",
       "3  0.719633  0.697737  1.108435  ...  4.425503  1.500469  43.676572  1.331144   \n",
       "\n",
       "      P_SEX      P_AGE     P_PSN    P_ISEV    P_SAFE    P_USER  \n",
       "0  1.230041  36.907815  1.573174  1.491913  1.865580  1.286214  \n",
       "1  1.657059  29.842037  3.682096  1.452465  2.082595  1.972038  \n",
       "2  1.579446  38.381251  1.617831  1.289800  1.873987  1.140694  \n",
       "3  1.606089  35.507038  3.680638  1.770305  2.030967  1.656866  \n",
       "\n",
       "[4 rows x 22 columns]"
      ]
     },
     "execution_count": 535,
     "metadata": {},
     "output_type": "execute_result"
    }
   ],
   "source": [
    "data.groupby(by=a).mean()\n"
   ]
  },
  {
   "cell_type": "code",
   "execution_count": 536,
   "metadata": {
    "id": "f5AfIJg7ZED4",
    "outputId": "f1fd334f-ffd1-49e6-b87b-d505064aea72"
   },
   "outputs": [
    {
     "data": {
      "text/html": [
       "<div>\n",
       "<style scoped>\n",
       "    .dataframe tbody tr th:only-of-type {\n",
       "        vertical-align: middle;\n",
       "    }\n",
       "\n",
       "    .dataframe tbody tr th {\n",
       "        vertical-align: top;\n",
       "    }\n",
       "\n",
       "    .dataframe thead th {\n",
       "        text-align: right;\n",
       "    }\n",
       "</style>\n",
       "<table border=\"1\" class=\"dataframe\">\n",
       "  <thead>\n",
       "    <tr style=\"text-align: right;\">\n",
       "      <th></th>\n",
       "      <th>C_YEAR</th>\n",
       "      <th>C_MNTH</th>\n",
       "      <th>C_WDAY</th>\n",
       "      <th>C_HOUR</th>\n",
       "      <th>C_SEV</th>\n",
       "      <th>C_VEHS</th>\n",
       "      <th>C_CONF</th>\n",
       "      <th>C_RCFG</th>\n",
       "      <th>C_WTHR</th>\n",
       "      <th>C_RSUR</th>\n",
       "      <th>...</th>\n",
       "      <th>V_ID</th>\n",
       "      <th>V_TYPE</th>\n",
       "      <th>V_YEAR</th>\n",
       "      <th>P_ID</th>\n",
       "      <th>P_SEX</th>\n",
       "      <th>P_AGE</th>\n",
       "      <th>P_PSN</th>\n",
       "      <th>P_ISEV</th>\n",
       "      <th>P_SAFE</th>\n",
       "      <th>P_USER</th>\n",
       "    </tr>\n",
       "  </thead>\n",
       "  <tbody>\n",
       "    <tr>\n",
       "      <th>0</th>\n",
       "      <td>7</td>\n",
       "      <td>6</td>\n",
       "      <td>3</td>\n",
       "      <td>14</td>\n",
       "      <td>1</td>\n",
       "      <td>1</td>\n",
       "      <td>7</td>\n",
       "      <td>1</td>\n",
       "      <td>0</td>\n",
       "      <td>0</td>\n",
       "      <td>...</td>\n",
       "      <td>0</td>\n",
       "      <td>1</td>\n",
       "      <td>54</td>\n",
       "      <td>1</td>\n",
       "      <td>1</td>\n",
       "      <td>34</td>\n",
       "      <td>1</td>\n",
       "      <td>2</td>\n",
       "      <td>2</td>\n",
       "      <td>1</td>\n",
       "    </tr>\n",
       "    <tr>\n",
       "      <th>1</th>\n",
       "      <td>6</td>\n",
       "      <td>6</td>\n",
       "      <td>4</td>\n",
       "      <td>15</td>\n",
       "      <td>1</td>\n",
       "      <td>1</td>\n",
       "      <td>7</td>\n",
       "      <td>1</td>\n",
       "      <td>0</td>\n",
       "      <td>0</td>\n",
       "      <td>...</td>\n",
       "      <td>1</td>\n",
       "      <td>1</td>\n",
       "      <td>53</td>\n",
       "      <td>2</td>\n",
       "      <td>2</td>\n",
       "      <td>23</td>\n",
       "      <td>3</td>\n",
       "      <td>1</td>\n",
       "      <td>2</td>\n",
       "      <td>2</td>\n",
       "    </tr>\n",
       "    <tr>\n",
       "      <th>2</th>\n",
       "      <td>7</td>\n",
       "      <td>5</td>\n",
       "      <td>3</td>\n",
       "      <td>15</td>\n",
       "      <td>1</td>\n",
       "      <td>1</td>\n",
       "      <td>9</td>\n",
       "      <td>1</td>\n",
       "      <td>2</td>\n",
       "      <td>1</td>\n",
       "      <td>...</td>\n",
       "      <td>1</td>\n",
       "      <td>1</td>\n",
       "      <td>54</td>\n",
       "      <td>1</td>\n",
       "      <td>2</td>\n",
       "      <td>37</td>\n",
       "      <td>1</td>\n",
       "      <td>1</td>\n",
       "      <td>2</td>\n",
       "      <td>1</td>\n",
       "    </tr>\n",
       "    <tr>\n",
       "      <th>3</th>\n",
       "      <td>8</td>\n",
       "      <td>6</td>\n",
       "      <td>3</td>\n",
       "      <td>14</td>\n",
       "      <td>1</td>\n",
       "      <td>0</td>\n",
       "      <td>5</td>\n",
       "      <td>0</td>\n",
       "      <td>0</td>\n",
       "      <td>0</td>\n",
       "      <td>...</td>\n",
       "      <td>0</td>\n",
       "      <td>1</td>\n",
       "      <td>52</td>\n",
       "      <td>1</td>\n",
       "      <td>2</td>\n",
       "      <td>32</td>\n",
       "      <td>1</td>\n",
       "      <td>2</td>\n",
       "      <td>2</td>\n",
       "      <td>1</td>\n",
       "    </tr>\n",
       "  </tbody>\n",
       "</table>\n",
       "<p>4 rows × 22 columns</p>\n",
       "</div>"
      ],
      "text/plain": [
       "   C_YEAR  C_MNTH  C_WDAY  C_HOUR  C_SEV  C_VEHS  C_CONF  C_RCFG  C_WTHR  \\\n",
       "0       7       6       3      14      1       1       7       1       0   \n",
       "1       6       6       4      15      1       1       7       1       0   \n",
       "2       7       5       3      15      1       1       9       1       2   \n",
       "3       8       6       3      14      1       0       5       0       0   \n",
       "\n",
       "   C_RSUR  ...  V_ID  V_TYPE  V_YEAR  P_ID  P_SEX  P_AGE  P_PSN  P_ISEV  \\\n",
       "0       0  ...     0       1      54     1      1     34      1       2   \n",
       "1       0  ...     1       1      53     2      2     23      3       1   \n",
       "2       1  ...     1       1      54     1      2     37      1       1   \n",
       "3       0  ...     0       1      52     1      2     32      1       2   \n",
       "\n",
       "   P_SAFE  P_USER  \n",
       "0       2       1  \n",
       "1       2       2  \n",
       "2       2       1  \n",
       "3       2       1  \n",
       "\n",
       "[4 rows x 22 columns]"
      ]
     },
     "execution_count": 536,
     "metadata": {},
     "output_type": "execute_result"
    }
   ],
   "source": [
    "data.groupby(by=a).median()"
   ]
  },
  {
   "cell_type": "code",
   "execution_count": 537,
   "metadata": {
    "id": "rLqseBr3ZED5",
    "outputId": "15b4a120-106d-4408-c7b6-c7d2a56a0274"
   },
   "outputs": [
    {
     "data": {
      "text/html": [
       "<div>\n",
       "<style scoped>\n",
       "    .dataframe tbody tr th:only-of-type {\n",
       "        vertical-align: middle;\n",
       "    }\n",
       "\n",
       "    .dataframe tbody tr th {\n",
       "        vertical-align: top;\n",
       "    }\n",
       "\n",
       "    .dataframe thead th {\n",
       "        text-align: right;\n",
       "    }\n",
       "</style>\n",
       "<table border=\"1\" class=\"dataframe\">\n",
       "  <thead>\n",
       "    <tr style=\"text-align: right;\">\n",
       "      <th></th>\n",
       "      <th>C_YEAR</th>\n",
       "      <th>C_MNTH</th>\n",
       "      <th>C_WDAY</th>\n",
       "      <th>C_HOUR</th>\n",
       "      <th>C_SEV</th>\n",
       "      <th>C_VEHS</th>\n",
       "      <th>C_CONF</th>\n",
       "      <th>C_RCFG</th>\n",
       "      <th>C_WTHR</th>\n",
       "      <th>C_RSUR</th>\n",
       "      <th>...</th>\n",
       "      <th>V_ID</th>\n",
       "      <th>V_TYPE</th>\n",
       "      <th>V_YEAR</th>\n",
       "      <th>P_ID</th>\n",
       "      <th>P_SEX</th>\n",
       "      <th>P_AGE</th>\n",
       "      <th>P_PSN</th>\n",
       "      <th>P_ISEV</th>\n",
       "      <th>P_SAFE</th>\n",
       "      <th>P_USER</th>\n",
       "    </tr>\n",
       "  </thead>\n",
       "  <tbody>\n",
       "    <tr>\n",
       "      <th>0</th>\n",
       "      <td>3</td>\n",
       "      <td>8</td>\n",
       "      <td>5</td>\n",
       "      <td>16</td>\n",
       "      <td>1</td>\n",
       "      <td>1</td>\n",
       "      <td>6</td>\n",
       "      <td>1</td>\n",
       "      <td>0</td>\n",
       "      <td>0</td>\n",
       "      <td>...</td>\n",
       "      <td>0</td>\n",
       "      <td>1</td>\n",
       "      <td>54</td>\n",
       "      <td>1</td>\n",
       "      <td>1</td>\n",
       "      <td>18</td>\n",
       "      <td>1</td>\n",
       "      <td>2</td>\n",
       "      <td>2</td>\n",
       "      <td>1</td>\n",
       "    </tr>\n",
       "    <tr>\n",
       "      <th>1</th>\n",
       "      <td>4</td>\n",
       "      <td>9</td>\n",
       "      <td>4</td>\n",
       "      <td>16</td>\n",
       "      <td>1</td>\n",
       "      <td>1</td>\n",
       "      <td>6</td>\n",
       "      <td>1</td>\n",
       "      <td>0</td>\n",
       "      <td>0</td>\n",
       "      <td>...</td>\n",
       "      <td>1</td>\n",
       "      <td>1</td>\n",
       "      <td>54</td>\n",
       "      <td>2</td>\n",
       "      <td>2</td>\n",
       "      <td>18</td>\n",
       "      <td>3</td>\n",
       "      <td>1</td>\n",
       "      <td>2</td>\n",
       "      <td>2</td>\n",
       "    </tr>\n",
       "    <tr>\n",
       "      <th>2</th>\n",
       "      <td>12</td>\n",
       "      <td>0</td>\n",
       "      <td>3</td>\n",
       "      <td>17</td>\n",
       "      <td>1</td>\n",
       "      <td>1</td>\n",
       "      <td>6</td>\n",
       "      <td>1</td>\n",
       "      <td>2</td>\n",
       "      <td>1</td>\n",
       "      <td>...</td>\n",
       "      <td>1</td>\n",
       "      <td>1</td>\n",
       "      <td>57</td>\n",
       "      <td>1</td>\n",
       "      <td>2</td>\n",
       "      <td>18</td>\n",
       "      <td>1</td>\n",
       "      <td>1</td>\n",
       "      <td>2</td>\n",
       "      <td>1</td>\n",
       "    </tr>\n",
       "    <tr>\n",
       "      <th>3</th>\n",
       "      <td>15</td>\n",
       "      <td>6</td>\n",
       "      <td>2</td>\n",
       "      <td>19</td>\n",
       "      <td>1</td>\n",
       "      <td>0</td>\n",
       "      <td>5</td>\n",
       "      <td>0</td>\n",
       "      <td>0</td>\n",
       "      <td>0</td>\n",
       "      <td>...</td>\n",
       "      <td>0</td>\n",
       "      <td>1</td>\n",
       "      <td>0</td>\n",
       "      <td>1</td>\n",
       "      <td>2</td>\n",
       "      <td>24</td>\n",
       "      <td>1</td>\n",
       "      <td>2</td>\n",
       "      <td>2</td>\n",
       "      <td>1</td>\n",
       "    </tr>\n",
       "  </tbody>\n",
       "</table>\n",
       "<p>4 rows × 22 columns</p>\n",
       "</div>"
      ],
      "text/plain": [
       "   C_YEAR  C_MNTH  C_WDAY  C_HOUR  C_SEV  C_VEHS  C_CONF  C_RCFG  C_WTHR  \\\n",
       "0       3       8       5      16      1       1       6       1       0   \n",
       "1       4       9       4      16      1       1       6       1       0   \n",
       "2      12       0       3      17      1       1       6       1       2   \n",
       "3      15       6       2      19      1       0       5       0       0   \n",
       "\n",
       "   C_RSUR  ...  V_ID  V_TYPE  V_YEAR  P_ID  P_SEX  P_AGE  P_PSN  P_ISEV  \\\n",
       "0       0  ...     0       1      54     1      1     18      1       2   \n",
       "1       0  ...     1       1      54     2      2     18      3       1   \n",
       "2       1  ...     1       1      57     1      2     18      1       1   \n",
       "3       0  ...     0       1       0     1      2     24      1       2   \n",
       "\n",
       "   P_SAFE  P_USER  \n",
       "0       2       1  \n",
       "1       2       2  \n",
       "2       2       1  \n",
       "3       2       1  \n",
       "\n",
       "[4 rows x 22 columns]"
      ]
     },
     "execution_count": 537,
     "metadata": {},
     "output_type": "execute_result"
    }
   ],
   "source": [
    "data.groupby(by = a).agg(pd.Series.mode)"
   ]
  },
  {
   "cell_type": "code",
   "execution_count": 538,
   "metadata": {
    "id": "rCA7KafQZED6",
    "outputId": "e5ae05d5-3718-40d6-84bf-c17027dbde34"
   },
   "outputs": [
    {
     "data": {
      "text/html": [
       "<div>\n",
       "<style scoped>\n",
       "    .dataframe tbody tr th:only-of-type {\n",
       "        vertical-align: middle;\n",
       "    }\n",
       "\n",
       "    .dataframe tbody tr th {\n",
       "        vertical-align: top;\n",
       "    }\n",
       "\n",
       "    .dataframe thead th {\n",
       "        text-align: right;\n",
       "    }\n",
       "</style>\n",
       "<table border=\"1\" class=\"dataframe\">\n",
       "  <thead>\n",
       "    <tr style=\"text-align: right;\">\n",
       "      <th></th>\n",
       "      <th>C_YEAR</th>\n",
       "      <th>C_MNTH</th>\n",
       "      <th>C_WDAY</th>\n",
       "      <th>C_HOUR</th>\n",
       "      <th>C_SEV</th>\n",
       "      <th>C_VEHS</th>\n",
       "      <th>C_CONF</th>\n",
       "      <th>C_RCFG</th>\n",
       "      <th>C_WTHR</th>\n",
       "      <th>C_RSUR</th>\n",
       "      <th>C_RALN</th>\n",
       "      <th>C_TRAF</th>\n",
       "      <th>V_ID</th>\n",
       "      <th>V_TYPE</th>\n",
       "      <th>V_YEAR</th>\n",
       "    </tr>\n",
       "  </thead>\n",
       "  <tbody>\n",
       "    <tr>\n",
       "      <th>0</th>\n",
       "      <td>3</td>\n",
       "      <td>8</td>\n",
       "      <td>5</td>\n",
       "      <td>16</td>\n",
       "      <td>1</td>\n",
       "      <td>1</td>\n",
       "      <td>6</td>\n",
       "      <td>1</td>\n",
       "      <td>0</td>\n",
       "      <td>0</td>\n",
       "      <td>0</td>\n",
       "      <td>16</td>\n",
       "      <td>0</td>\n",
       "      <td>1</td>\n",
       "      <td>54</td>\n",
       "    </tr>\n",
       "    <tr>\n",
       "      <th>1</th>\n",
       "      <td>4</td>\n",
       "      <td>9</td>\n",
       "      <td>4</td>\n",
       "      <td>16</td>\n",
       "      <td>1</td>\n",
       "      <td>1</td>\n",
       "      <td>6</td>\n",
       "      <td>1</td>\n",
       "      <td>0</td>\n",
       "      <td>0</td>\n",
       "      <td>0</td>\n",
       "      <td>16</td>\n",
       "      <td>1</td>\n",
       "      <td>1</td>\n",
       "      <td>54</td>\n",
       "    </tr>\n",
       "    <tr>\n",
       "      <th>2</th>\n",
       "      <td>12</td>\n",
       "      <td>0</td>\n",
       "      <td>3</td>\n",
       "      <td>17</td>\n",
       "      <td>1</td>\n",
       "      <td>1</td>\n",
       "      <td>6</td>\n",
       "      <td>1</td>\n",
       "      <td>2</td>\n",
       "      <td>1</td>\n",
       "      <td>0</td>\n",
       "      <td>0</td>\n",
       "      <td>1</td>\n",
       "      <td>1</td>\n",
       "      <td>57</td>\n",
       "    </tr>\n",
       "    <tr>\n",
       "      <th>3</th>\n",
       "      <td>15</td>\n",
       "      <td>6</td>\n",
       "      <td>2</td>\n",
       "      <td>19</td>\n",
       "      <td>1</td>\n",
       "      <td>0</td>\n",
       "      <td>5</td>\n",
       "      <td>0</td>\n",
       "      <td>0</td>\n",
       "      <td>0</td>\n",
       "      <td>0</td>\n",
       "      <td>16</td>\n",
       "      <td>0</td>\n",
       "      <td>1</td>\n",
       "      <td>0</td>\n",
       "    </tr>\n",
       "  </tbody>\n",
       "</table>\n",
       "</div>"
      ],
      "text/plain": [
       "   C_YEAR  C_MNTH  C_WDAY  C_HOUR  C_SEV  C_VEHS  C_CONF  C_RCFG  C_WTHR  \\\n",
       "0       3       8       5      16      1       1       6       1       0   \n",
       "1       4       9       4      16      1       1       6       1       0   \n",
       "2      12       0       3      17      1       1       6       1       2   \n",
       "3      15       6       2      19      1       0       5       0       0   \n",
       "\n",
       "   C_RSUR  C_RALN  C_TRAF  V_ID  V_TYPE  V_YEAR  \n",
       "0       0       0      16     0       1      54  \n",
       "1       0       0      16     1       1      54  \n",
       "2       1       0       0     1       1      57  \n",
       "3       0       0      16     0       1       0  "
      ]
     },
     "execution_count": 538,
     "metadata": {},
     "output_type": "execute_result"
    }
   ],
   "source": [
    "data[['C_YEAR', 'C_MNTH', 'C_WDAY', 'C_HOUR', 'C_SEV', 'C_VEHS', 'C_CONF',\n",
    "       'C_RCFG', 'C_WTHR', 'C_RSUR', 'C_RALN', 'C_TRAF', 'V_ID', 'V_TYPE',\n",
    "       'V_YEAR']].groupby(by=a).agg(pd.Series.mode)"
   ]
  },
  {
   "cell_type": "code",
   "execution_count": 539,
   "metadata": {
    "id": "tfuhHi0OZED6",
    "outputId": "868827d2-f7f7-450d-bd3d-f46d18542b4e"
   },
   "outputs": [
    {
     "data": {
      "text/html": [
       "<div>\n",
       "<style scoped>\n",
       "    .dataframe tbody tr th:only-of-type {\n",
       "        vertical-align: middle;\n",
       "    }\n",
       "\n",
       "    .dataframe tbody tr th {\n",
       "        vertical-align: top;\n",
       "    }\n",
       "\n",
       "    .dataframe thead th {\n",
       "        text-align: right;\n",
       "    }\n",
       "</style>\n",
       "<table border=\"1\" class=\"dataframe\">\n",
       "  <thead>\n",
       "    <tr style=\"text-align: right;\">\n",
       "      <th></th>\n",
       "      <th>P_ID</th>\n",
       "      <th>P_SEX</th>\n",
       "      <th>P_AGE</th>\n",
       "      <th>P_PSN</th>\n",
       "      <th>P_ISEV</th>\n",
       "      <th>P_SAFE</th>\n",
       "      <th>P_USER</th>\n",
       "    </tr>\n",
       "  </thead>\n",
       "  <tbody>\n",
       "    <tr>\n",
       "      <th>0</th>\n",
       "      <td>1</td>\n",
       "      <td>1</td>\n",
       "      <td>18</td>\n",
       "      <td>1</td>\n",
       "      <td>2</td>\n",
       "      <td>2</td>\n",
       "      <td>1</td>\n",
       "    </tr>\n",
       "    <tr>\n",
       "      <th>1</th>\n",
       "      <td>2</td>\n",
       "      <td>2</td>\n",
       "      <td>18</td>\n",
       "      <td>3</td>\n",
       "      <td>1</td>\n",
       "      <td>2</td>\n",
       "      <td>2</td>\n",
       "    </tr>\n",
       "    <tr>\n",
       "      <th>2</th>\n",
       "      <td>1</td>\n",
       "      <td>2</td>\n",
       "      <td>18</td>\n",
       "      <td>1</td>\n",
       "      <td>1</td>\n",
       "      <td>2</td>\n",
       "      <td>1</td>\n",
       "    </tr>\n",
       "    <tr>\n",
       "      <th>3</th>\n",
       "      <td>1</td>\n",
       "      <td>2</td>\n",
       "      <td>24</td>\n",
       "      <td>1</td>\n",
       "      <td>2</td>\n",
       "      <td>2</td>\n",
       "      <td>1</td>\n",
       "    </tr>\n",
       "  </tbody>\n",
       "</table>\n",
       "</div>"
      ],
      "text/plain": [
       "   P_ID  P_SEX  P_AGE  P_PSN  P_ISEV  P_SAFE  P_USER\n",
       "0     1      1     18      1       2       2       1\n",
       "1     2      2     18      3       1       2       2\n",
       "2     1      2     18      1       1       2       1\n",
       "3     1      2     24      1       2       2       1"
      ]
     },
     "execution_count": 539,
     "metadata": {},
     "output_type": "execute_result"
    }
   ],
   "source": [
    "data[['P_ID', 'P_SEX', 'P_AGE', 'P_PSN', 'P_ISEV', 'P_SAFE',\n",
    "       'P_USER']].groupby(by=a).agg(pd.Series.mode)"
   ]
  },
  {
   "cell_type": "code",
   "execution_count": 540,
   "metadata": {
    "id": "LaxQ-Mk_ZED6",
    "outputId": "e014c0b6-aae4-4ce9-a764-f15870e33cef"
   },
   "outputs": [
    {
     "data": {
      "text/html": [
       "<div>\n",
       "<style scoped>\n",
       "    .dataframe tbody tr th:only-of-type {\n",
       "        vertical-align: middle;\n",
       "    }\n",
       "\n",
       "    .dataframe tbody tr th {\n",
       "        vertical-align: top;\n",
       "    }\n",
       "\n",
       "    .dataframe thead th {\n",
       "        text-align: right;\n",
       "    }\n",
       "</style>\n",
       "<table border=\"1\" class=\"dataframe\">\n",
       "  <thead>\n",
       "    <tr style=\"text-align: right;\">\n",
       "      <th></th>\n",
       "      <th>C_CONF</th>\n",
       "      <th>C_WTHR</th>\n",
       "      <th>P_ISEV</th>\n",
       "      <th>C_RSUR</th>\n",
       "      <th>P_USER</th>\n",
       "    </tr>\n",
       "  </thead>\n",
       "  <tbody>\n",
       "    <tr>\n",
       "      <th>0</th>\n",
       "      <td>6</td>\n",
       "      <td>0</td>\n",
       "      <td>2</td>\n",
       "      <td>0</td>\n",
       "      <td>1</td>\n",
       "    </tr>\n",
       "    <tr>\n",
       "      <th>1</th>\n",
       "      <td>6</td>\n",
       "      <td>0</td>\n",
       "      <td>1</td>\n",
       "      <td>0</td>\n",
       "      <td>2</td>\n",
       "    </tr>\n",
       "    <tr>\n",
       "      <th>2</th>\n",
       "      <td>6</td>\n",
       "      <td>2</td>\n",
       "      <td>1</td>\n",
       "      <td>1</td>\n",
       "      <td>1</td>\n",
       "    </tr>\n",
       "    <tr>\n",
       "      <th>3</th>\n",
       "      <td>5</td>\n",
       "      <td>0</td>\n",
       "      <td>2</td>\n",
       "      <td>0</td>\n",
       "      <td>1</td>\n",
       "    </tr>\n",
       "  </tbody>\n",
       "</table>\n",
       "</div>"
      ],
      "text/plain": [
       "   C_CONF  C_WTHR  P_ISEV  C_RSUR  P_USER\n",
       "0       6       0       2       0       1\n",
       "1       6       0       1       0       2\n",
       "2       6       2       1       1       1\n",
       "3       5       0       2       0       1"
      ]
     },
     "execution_count": 540,
     "metadata": {},
     "output_type": "execute_result"
    }
   ],
   "source": [
    "data[['C_CONF','C_WTHR','P_ISEV','C_RSUR',\n",
    "       'P_USER']].groupby(by=a).agg(pd.Series.mode)"
   ]
  },
  {
   "cell_type": "code",
   "execution_count": 541,
   "metadata": {
    "id": "54J4_oBdZED7",
    "outputId": "aeb59ea6-8c4e-4dd8-ef08-f90560db34ad"
   },
   "outputs": [
    {
     "data": {
      "text/html": [
       "<div>\n",
       "<style scoped>\n",
       "    .dataframe tbody tr th:only-of-type {\n",
       "        vertical-align: middle;\n",
       "    }\n",
       "\n",
       "    .dataframe tbody tr th {\n",
       "        vertical-align: top;\n",
       "    }\n",
       "\n",
       "    .dataframe thead th {\n",
       "        text-align: right;\n",
       "    }\n",
       "</style>\n",
       "<table border=\"1\" class=\"dataframe\">\n",
       "  <thead>\n",
       "    <tr style=\"text-align: right;\">\n",
       "      <th></th>\n",
       "      <th>C_CONF</th>\n",
       "      <th>C_WTHR</th>\n",
       "      <th>P_ISEV</th>\n",
       "      <th>C_RSUR</th>\n",
       "      <th>P_USER</th>\n",
       "    </tr>\n",
       "  </thead>\n",
       "  <tbody>\n",
       "    <tr>\n",
       "      <th>0</th>\n",
       "      <td>9.707951</td>\n",
       "      <td>0.437036</td>\n",
       "      <td>1.491913</td>\n",
       "      <td>0.654760</td>\n",
       "      <td>1.286214</td>\n",
       "    </tr>\n",
       "    <tr>\n",
       "      <th>1</th>\n",
       "      <td>9.759098</td>\n",
       "      <td>0.551665</td>\n",
       "      <td>1.452465</td>\n",
       "      <td>0.751527</td>\n",
       "      <td>1.972038</td>\n",
       "    </tr>\n",
       "    <tr>\n",
       "      <th>2</th>\n",
       "      <td>10.203701</td>\n",
       "      <td>1.432023</td>\n",
       "      <td>1.289800</td>\n",
       "      <td>1.289800</td>\n",
       "      <td>1.140694</td>\n",
       "    </tr>\n",
       "    <tr>\n",
       "      <th>3</th>\n",
       "      <td>5.790846</td>\n",
       "      <td>0.697737</td>\n",
       "      <td>1.770305</td>\n",
       "      <td>1.108435</td>\n",
       "      <td>1.656866</td>\n",
       "    </tr>\n",
       "  </tbody>\n",
       "</table>\n",
       "</div>"
      ],
      "text/plain": [
       "      C_CONF    C_WTHR    P_ISEV    C_RSUR    P_USER\n",
       "0   9.707951  0.437036  1.491913  0.654760  1.286214\n",
       "1   9.759098  0.551665  1.452465  0.751527  1.972038\n",
       "2  10.203701  1.432023  1.289800  1.289800  1.140694\n",
       "3   5.790846  0.697737  1.770305  1.108435  1.656866"
      ]
     },
     "execution_count": 541,
     "metadata": {},
     "output_type": "execute_result"
    }
   ],
   "source": [
    "data[['C_CONF','C_WTHR','P_ISEV','C_RSUR',\n",
    "       'P_USER']].groupby(by=a).mean()"
   ]
  },
  {
   "cell_type": "markdown",
   "metadata": {
    "id": "cFleTgjwZED7"
   },
   "source": [
    "Estudiando los clusters:\n",
    "- Grupo 0: representado por conductores que han resultado heridos \n",
    "- Grupo 1: representado por pasajeros que no han resultado heridos \n",
    "- Grupo 2: representado por conductores que no han resultado heridos en un día lluvioso con la carretera mojada\n",
    "- Grupo 3: representado por accidentes donde solo había un coche implicado y el conductor ha resultado herido"
   ]
  },
  {
   "cell_type": "markdown",
   "metadata": {
    "id": "r-cULjSNmyDY"
   },
   "source": [
    "### Clustering de Probabilidad: GAUSSIAN MIXTURE"
   ]
  },
  {
   "cell_type": "code",
   "execution_count": 542,
   "metadata": {
    "colab": {
     "base_uri": "https://localhost:8080/",
     "height": 287
    },
    "id": "whH7oFAem0Ys",
    "outputId": "042fe320-98e5-4d80-cf2d-ec0a7d826123"
   },
   "outputs": [
    {
     "data": {
      "image/png": "[encoded data removed]",
      "text/plain": [
       "<Figure size 432x276.48 with 1 Axes>"
      ]
     },
     "metadata": {},
     "output_type": "display_data"
    }
   ],
   "source": [
    "from sklearn.mixture import GaussianMixture\n",
    "n_components = range(1, 9)\n",
    "valores_bic = []\n",
    "\n",
    "for i in n_components:\n",
    "    modelo = GaussianMixture(n_components=i, covariance_type=\"full\",random_state=123)\n",
    "    modelo.fit(data)\n",
    "    valores_bic.append(modelo.bic(data))\n",
    "\n",
    "\n",
    "fig, ax = plt.subplots(1, 1, figsize=(6, 3.84))\n",
    "ax.plot(n_components, valores_bic, label='BIC')\n",
    "ax.set_title(\"Valores BIC\")\n",
    "ax.set_xlabel(\"Número componentes\")\n",
    "ax.legend();"
   ]
  },
  {
   "cell_type": "markdown",
   "metadata": {
    "id": "SG4JLlAq0f78"
   },
   "source": [
    "A partir del gráfico observamos que el número de cluster más adecuado es igual a 6, ya que el valor de la medida BIC es el mas bajo."
   ]
  },
  {
   "cell_type": "code",
   "execution_count": 543,
   "metadata": {
    "id": "igAxiavdm0TY"
   },
   "outputs": [],
   "source": [
    "modelo = GaussianMixture(n_components=6, covariance_type=\"full\",random_state=123)\n",
    "GM_clusters=modelo.fit_predict(data)"
   ]
  },
  {
   "cell_type": "code",
   "execution_count": 544,
   "metadata": {
    "colab": {
     "base_uri": "https://localhost:8080/",
     "height": 331
    },
    "id": "kkbsM7cr2O1Q",
    "outputId": "d0d9cd59-fc7a-43eb-c9f1-28b8bad59ea6"
   },
   "outputs": [
    {
     "data": {
      "text/html": [
       "<div>\n",
       "<style scoped>\n",
       "    .dataframe tbody tr th:only-of-type {\n",
       "        vertical-align: middle;\n",
       "    }\n",
       "\n",
       "    .dataframe tbody tr th {\n",
       "        vertical-align: top;\n",
       "    }\n",
       "\n",
       "    .dataframe thead th {\n",
       "        text-align: right;\n",
       "    }\n",
       "</style>\n",
       "<table border=\"1\" class=\"dataframe\">\n",
       "  <thead>\n",
       "    <tr style=\"text-align: right;\">\n",
       "      <th></th>\n",
       "      <th>C_YEAR</th>\n",
       "      <th>C_MNTH</th>\n",
       "      <th>C_WDAY</th>\n",
       "      <th>C_HOUR</th>\n",
       "      <th>C_SEV</th>\n",
       "      <th>C_VEHS</th>\n",
       "      <th>C_CONF</th>\n",
       "      <th>C_RCFG</th>\n",
       "      <th>C_WTHR</th>\n",
       "      <th>C_RSUR</th>\n",
       "      <th>...</th>\n",
       "      <th>V_ID</th>\n",
       "      <th>V_TYPE</th>\n",
       "      <th>V_YEAR</th>\n",
       "      <th>P_ID</th>\n",
       "      <th>P_SEX</th>\n",
       "      <th>P_AGE</th>\n",
       "      <th>P_PSN</th>\n",
       "      <th>P_ISEV</th>\n",
       "      <th>P_SAFE</th>\n",
       "      <th>P_USER</th>\n",
       "    </tr>\n",
       "  </thead>\n",
       "  <tbody>\n",
       "    <tr>\n",
       "      <th>0</th>\n",
       "      <td>7.171330</td>\n",
       "      <td>5.618597</td>\n",
       "      <td>3.063280</td>\n",
       "      <td>13.194146</td>\n",
       "      <td>0.597934</td>\n",
       "      <td>1.642273</td>\n",
       "      <td>9.212656</td>\n",
       "      <td>1.374085</td>\n",
       "      <td>0.823504</td>\n",
       "      <td>1.491606</td>\n",
       "      <td>...</td>\n",
       "      <td>0.891089</td>\n",
       "      <td>3.010762</td>\n",
       "      <td>52.635816</td>\n",
       "      <td>2.558330</td>\n",
       "      <td>1.337495</td>\n",
       "      <td>33.271201</td>\n",
       "      <td>2.814895</td>\n",
       "      <td>1.703831</td>\n",
       "      <td>2.127852</td>\n",
       "      <td>1.569092</td>\n",
       "    </tr>\n",
       "    <tr>\n",
       "      <th>1</th>\n",
       "      <td>6.996358</td>\n",
       "      <td>5.767694</td>\n",
       "      <td>3.134068</td>\n",
       "      <td>13.616006</td>\n",
       "      <td>1.000000</td>\n",
       "      <td>0.897529</td>\n",
       "      <td>8.086524</td>\n",
       "      <td>1.751353</td>\n",
       "      <td>0.674870</td>\n",
       "      <td>0.936509</td>\n",
       "      <td>...</td>\n",
       "      <td>0.463431</td>\n",
       "      <td>3.373068</td>\n",
       "      <td>52.590609</td>\n",
       "      <td>1.943794</td>\n",
       "      <td>1.331233</td>\n",
       "      <td>30.500049</td>\n",
       "      <td>3.021164</td>\n",
       "      <td>1.498376</td>\n",
       "      <td>2.069987</td>\n",
       "      <td>1.800669</td>\n",
       "    </tr>\n",
       "    <tr>\n",
       "      <th>2</th>\n",
       "      <td>7.008572</td>\n",
       "      <td>5.844535</td>\n",
       "      <td>3.060004</td>\n",
       "      <td>14.175336</td>\n",
       "      <td>1.000000</td>\n",
       "      <td>1.103253</td>\n",
       "      <td>11.358270</td>\n",
       "      <td>1.000000</td>\n",
       "      <td>0.494253</td>\n",
       "      <td>0.326904</td>\n",
       "      <td>...</td>\n",
       "      <td>0.593805</td>\n",
       "      <td>3.482369</td>\n",
       "      <td>52.692383</td>\n",
       "      <td>2.113189</td>\n",
       "      <td>1.373076</td>\n",
       "      <td>27.791350</td>\n",
       "      <td>3.255601</td>\n",
       "      <td>1.450419</td>\n",
       "      <td>2.342685</td>\n",
       "      <td>1.913891</td>\n",
       "    </tr>\n",
       "    <tr>\n",
       "      <th>3</th>\n",
       "      <td>6.989766</td>\n",
       "      <td>5.668668</td>\n",
       "      <td>2.977391</td>\n",
       "      <td>13.765919</td>\n",
       "      <td>1.000000</td>\n",
       "      <td>1.077540</td>\n",
       "      <td>9.279221</td>\n",
       "      <td>0.705271</td>\n",
       "      <td>0.607315</td>\n",
       "      <td>0.832154</td>\n",
       "      <td>...</td>\n",
       "      <td>0.527191</td>\n",
       "      <td>1.000000</td>\n",
       "      <td>52.522100</td>\n",
       "      <td>1.193927</td>\n",
       "      <td>1.444848</td>\n",
       "      <td>37.953711</td>\n",
       "      <td>1.387855</td>\n",
       "      <td>1.474871</td>\n",
       "      <td>1.838316</td>\n",
       "      <td>1.193927</td>\n",
       "    </tr>\n",
       "    <tr>\n",
       "      <th>4</th>\n",
       "      <td>7.871495</td>\n",
       "      <td>5.813084</td>\n",
       "      <td>3.079439</td>\n",
       "      <td>13.490654</td>\n",
       "      <td>0.810748</td>\n",
       "      <td>0.628505</td>\n",
       "      <td>8.079439</td>\n",
       "      <td>1.292056</td>\n",
       "      <td>0.656542</td>\n",
       "      <td>0.693925</td>\n",
       "      <td>...</td>\n",
       "      <td>24.327103</td>\n",
       "      <td>0.308411</td>\n",
       "      <td>0.000000</td>\n",
       "      <td>1.647196</td>\n",
       "      <td>1.467290</td>\n",
       "      <td>33.838785</td>\n",
       "      <td>12.869159</td>\n",
       "      <td>1.642523</td>\n",
       "      <td>1.623832</td>\n",
       "      <td>3.028037</td>\n",
       "    </tr>\n",
       "    <tr>\n",
       "      <th>5</th>\n",
       "      <td>7.201063</td>\n",
       "      <td>5.957927</td>\n",
       "      <td>2.702391</td>\n",
       "      <td>13.935341</td>\n",
       "      <td>1.000000</td>\n",
       "      <td>0.172276</td>\n",
       "      <td>6.403012</td>\n",
       "      <td>1.448627</td>\n",
       "      <td>0.488043</td>\n",
       "      <td>0.519043</td>\n",
       "      <td>...</td>\n",
       "      <td>20.839681</td>\n",
       "      <td>1.895040</td>\n",
       "      <td>0.000000</td>\n",
       "      <td>1.003100</td>\n",
       "      <td>1.457484</td>\n",
       "      <td>34.988485</td>\n",
       "      <td>10.895483</td>\n",
       "      <td>1.993800</td>\n",
       "      <td>1.943756</td>\n",
       "      <td>3.172276</td>\n",
       "    </tr>\n",
       "  </tbody>\n",
       "</table>\n",
       "<p>6 rows × 22 columns</p>\n",
       "</div>"
      ],
      "text/plain": [
       "     C_YEAR    C_MNTH    C_WDAY     C_HOUR     C_SEV    C_VEHS     C_CONF  \\\n",
       "0  7.171330  5.618597  3.063280  13.194146  0.597934  1.642273   9.212656   \n",
       "1  6.996358  5.767694  3.134068  13.616006  1.000000  0.897529   8.086524   \n",
       "2  7.008572  5.844535  3.060004  14.175336  1.000000  1.103253  11.358270   \n",
       "3  6.989766  5.668668  2.977391  13.765919  1.000000  1.077540   9.279221   \n",
       "4  7.871495  5.813084  3.079439  13.490654  0.810748  0.628505   8.079439   \n",
       "5  7.201063  5.957927  2.702391  13.935341  1.000000  0.172276   6.403012   \n",
       "\n",
       "     C_RCFG    C_WTHR    C_RSUR  ...       V_ID    V_TYPE     V_YEAR  \\\n",
       "0  1.374085  0.823504  1.491606  ...   0.891089  3.010762  52.635816   \n",
       "1  1.751353  0.674870  0.936509  ...   0.463431  3.373068  52.590609   \n",
       "2  1.000000  0.494253  0.326904  ...   0.593805  3.482369  52.692383   \n",
       "3  0.705271  0.607315  0.832154  ...   0.527191  1.000000  52.522100   \n",
       "4  1.292056  0.656542  0.693925  ...  24.327103  0.308411   0.000000   \n",
       "5  1.448627  0.488043  0.519043  ...  20.839681  1.895040   0.000000   \n",
       "\n",
       "       P_ID     P_SEX      P_AGE      P_PSN    P_ISEV    P_SAFE    P_USER  \n",
       "0  2.558330  1.337495  33.271201   2.814895  1.703831  2.127852  1.569092  \n",
       "1  1.943794  1.331233  30.500049   3.021164  1.498376  2.069987  1.800669  \n",
       "2  2.113189  1.373076  27.791350   3.255601  1.450419  2.342685  1.913891  \n",
       "3  1.193927  1.444848  37.953711   1.387855  1.474871  1.838316  1.193927  \n",
       "4  1.647196  1.467290  33.838785  12.869159  1.642523  1.623832  3.028037  \n",
       "5  1.003100  1.457484  34.988485  10.895483  1.993800  1.943756  3.172276  \n",
       "\n",
       "[6 rows x 22 columns]"
      ]
     },
     "execution_count": 544,
     "metadata": {},
     "output_type": "execute_result"
    }
   ],
   "source": [
    "data.groupby(by=GM_clusters).mean()\n"
   ]
  },
  {
   "cell_type": "code",
   "execution_count": 545,
   "metadata": {
    "id": "QiStmFIFZED9",
    "outputId": "33fc291b-5bff-4cab-8375-06ea2657e0f3"
   },
   "outputs": [
    {
     "data": {
      "text/html": [
       "<div>\n",
       "<style scoped>\n",
       "    .dataframe tbody tr th:only-of-type {\n",
       "        vertical-align: middle;\n",
       "    }\n",
       "\n",
       "    .dataframe tbody tr th {\n",
       "        vertical-align: top;\n",
       "    }\n",
       "\n",
       "    .dataframe thead th {\n",
       "        text-align: right;\n",
       "    }\n",
       "</style>\n",
       "<table border=\"1\" class=\"dataframe\">\n",
       "  <thead>\n",
       "    <tr style=\"text-align: right;\">\n",
       "      <th></th>\n",
       "      <th>C_YEAR</th>\n",
       "      <th>C_MNTH</th>\n",
       "      <th>C_WDAY</th>\n",
       "      <th>C_HOUR</th>\n",
       "      <th>C_SEV</th>\n",
       "      <th>C_VEHS</th>\n",
       "      <th>C_CONF</th>\n",
       "      <th>C_RCFG</th>\n",
       "      <th>C_WTHR</th>\n",
       "      <th>C_RSUR</th>\n",
       "      <th>...</th>\n",
       "      <th>V_ID</th>\n",
       "      <th>V_TYPE</th>\n",
       "      <th>V_YEAR</th>\n",
       "      <th>P_ID</th>\n",
       "      <th>P_SEX</th>\n",
       "      <th>P_AGE</th>\n",
       "      <th>P_PSN</th>\n",
       "      <th>P_ISEV</th>\n",
       "      <th>P_SAFE</th>\n",
       "      <th>P_USER</th>\n",
       "    </tr>\n",
       "  </thead>\n",
       "  <tbody>\n",
       "    <tr>\n",
       "      <th>0</th>\n",
       "      <td>7.0</td>\n",
       "      <td>6.0</td>\n",
       "      <td>3.0</td>\n",
       "      <td>14.0</td>\n",
       "      <td>1.0</td>\n",
       "      <td>1.0</td>\n",
       "      <td>6.0</td>\n",
       "      <td>1.0</td>\n",
       "      <td>0.0</td>\n",
       "      <td>0.0</td>\n",
       "      <td>...</td>\n",
       "      <td>0.0</td>\n",
       "      <td>1.0</td>\n",
       "      <td>54.0</td>\n",
       "      <td>1.0</td>\n",
       "      <td>1.0</td>\n",
       "      <td>28.0</td>\n",
       "      <td>1.0</td>\n",
       "      <td>2.0</td>\n",
       "      <td>2.0</td>\n",
       "      <td>1.0</td>\n",
       "    </tr>\n",
       "    <tr>\n",
       "      <th>1</th>\n",
       "      <td>7.0</td>\n",
       "      <td>6.0</td>\n",
       "      <td>3.0</td>\n",
       "      <td>14.0</td>\n",
       "      <td>1.0</td>\n",
       "      <td>1.0</td>\n",
       "      <td>6.0</td>\n",
       "      <td>0.0</td>\n",
       "      <td>0.0</td>\n",
       "      <td>0.0</td>\n",
       "      <td>...</td>\n",
       "      <td>0.0</td>\n",
       "      <td>1.0</td>\n",
       "      <td>54.0</td>\n",
       "      <td>2.0</td>\n",
       "      <td>1.0</td>\n",
       "      <td>24.0</td>\n",
       "      <td>1.0</td>\n",
       "      <td>2.0</td>\n",
       "      <td>2.0</td>\n",
       "      <td>2.0</td>\n",
       "    </tr>\n",
       "    <tr>\n",
       "      <th>2</th>\n",
       "      <td>7.0</td>\n",
       "      <td>6.0</td>\n",
       "      <td>3.0</td>\n",
       "      <td>15.0</td>\n",
       "      <td>1.0</td>\n",
       "      <td>1.0</td>\n",
       "      <td>13.0</td>\n",
       "      <td>1.0</td>\n",
       "      <td>0.0</td>\n",
       "      <td>0.0</td>\n",
       "      <td>...</td>\n",
       "      <td>1.0</td>\n",
       "      <td>1.0</td>\n",
       "      <td>54.0</td>\n",
       "      <td>2.0</td>\n",
       "      <td>1.0</td>\n",
       "      <td>21.0</td>\n",
       "      <td>3.0</td>\n",
       "      <td>1.0</td>\n",
       "      <td>2.0</td>\n",
       "      <td>2.0</td>\n",
       "    </tr>\n",
       "    <tr>\n",
       "      <th>3</th>\n",
       "      <td>7.0</td>\n",
       "      <td>6.0</td>\n",
       "      <td>3.0</td>\n",
       "      <td>15.0</td>\n",
       "      <td>1.0</td>\n",
       "      <td>1.0</td>\n",
       "      <td>6.0</td>\n",
       "      <td>1.0</td>\n",
       "      <td>0.0</td>\n",
       "      <td>0.0</td>\n",
       "      <td>...</td>\n",
       "      <td>0.0</td>\n",
       "      <td>1.0</td>\n",
       "      <td>53.0</td>\n",
       "      <td>1.0</td>\n",
       "      <td>1.0</td>\n",
       "      <td>35.0</td>\n",
       "      <td>1.0</td>\n",
       "      <td>2.0</td>\n",
       "      <td>2.0</td>\n",
       "      <td>1.0</td>\n",
       "    </tr>\n",
       "    <tr>\n",
       "      <th>4</th>\n",
       "      <td>8.5</td>\n",
       "      <td>6.0</td>\n",
       "      <td>3.0</td>\n",
       "      <td>14.0</td>\n",
       "      <td>1.0</td>\n",
       "      <td>0.0</td>\n",
       "      <td>6.0</td>\n",
       "      <td>1.0</td>\n",
       "      <td>0.0</td>\n",
       "      <td>0.0</td>\n",
       "      <td>...</td>\n",
       "      <td>25.0</td>\n",
       "      <td>0.0</td>\n",
       "      <td>0.0</td>\n",
       "      <td>1.0</td>\n",
       "      <td>1.0</td>\n",
       "      <td>29.5</td>\n",
       "      <td>13.0</td>\n",
       "      <td>2.0</td>\n",
       "      <td>0.0</td>\n",
       "      <td>3.0</td>\n",
       "    </tr>\n",
       "    <tr>\n",
       "      <th>5</th>\n",
       "      <td>7.0</td>\n",
       "      <td>6.0</td>\n",
       "      <td>3.0</td>\n",
       "      <td>15.0</td>\n",
       "      <td>1.0</td>\n",
       "      <td>0.0</td>\n",
       "      <td>5.0</td>\n",
       "      <td>1.0</td>\n",
       "      <td>0.0</td>\n",
       "      <td>0.0</td>\n",
       "      <td>...</td>\n",
       "      <td>25.0</td>\n",
       "      <td>0.0</td>\n",
       "      <td>0.0</td>\n",
       "      <td>1.0</td>\n",
       "      <td>1.0</td>\n",
       "      <td>31.0</td>\n",
       "      <td>13.0</td>\n",
       "      <td>2.0</td>\n",
       "      <td>1.0</td>\n",
       "      <td>3.0</td>\n",
       "    </tr>\n",
       "  </tbody>\n",
       "</table>\n",
       "<p>6 rows × 22 columns</p>\n",
       "</div>"
      ],
      "text/plain": [
       "   C_YEAR  C_MNTH  C_WDAY  C_HOUR  C_SEV  C_VEHS  C_CONF  C_RCFG  C_WTHR  \\\n",
       "0     7.0     6.0     3.0    14.0    1.0     1.0     6.0     1.0     0.0   \n",
       "1     7.0     6.0     3.0    14.0    1.0     1.0     6.0     0.0     0.0   \n",
       "2     7.0     6.0     3.0    15.0    1.0     1.0    13.0     1.0     0.0   \n",
       "3     7.0     6.0     3.0    15.0    1.0     1.0     6.0     1.0     0.0   \n",
       "4     8.5     6.0     3.0    14.0    1.0     0.0     6.0     1.0     0.0   \n",
       "5     7.0     6.0     3.0    15.0    1.0     0.0     5.0     1.0     0.0   \n",
       "\n",
       "   C_RSUR  ...  V_ID  V_TYPE  V_YEAR  P_ID  P_SEX  P_AGE  P_PSN  P_ISEV  \\\n",
       "0     0.0  ...   0.0     1.0    54.0   1.0    1.0   28.0    1.0     2.0   \n",
       "1     0.0  ...   0.0     1.0    54.0   2.0    1.0   24.0    1.0     2.0   \n",
       "2     0.0  ...   1.0     1.0    54.0   2.0    1.0   21.0    3.0     1.0   \n",
       "3     0.0  ...   0.0     1.0    53.0   1.0    1.0   35.0    1.0     2.0   \n",
       "4     0.0  ...  25.0     0.0     0.0   1.0    1.0   29.5   13.0     2.0   \n",
       "5     0.0  ...  25.0     0.0     0.0   1.0    1.0   31.0   13.0     2.0   \n",
       "\n",
       "   P_SAFE  P_USER  \n",
       "0     2.0     1.0  \n",
       "1     2.0     2.0  \n",
       "2     2.0     2.0  \n",
       "3     2.0     1.0  \n",
       "4     0.0     3.0  \n",
       "5     1.0     3.0  \n",
       "\n",
       "[6 rows x 22 columns]"
      ]
     },
     "execution_count": 545,
     "metadata": {},
     "output_type": "execute_result"
    }
   ],
   "source": [
    "data.groupby(by=GM_clusters).median()"
   ]
  },
  {
   "cell_type": "code",
   "execution_count": 546,
   "metadata": {
    "id": "vlT1vpLfZED9",
    "outputId": "1cde3b9a-8dd4-4c2c-c00a-47685020976d"
   },
   "outputs": [
    {
     "data": {
      "text/html": [
       "<div>\n",
       "<style scoped>\n",
       "    .dataframe tbody tr th:only-of-type {\n",
       "        vertical-align: middle;\n",
       "    }\n",
       "\n",
       "    .dataframe tbody tr th {\n",
       "        vertical-align: top;\n",
       "    }\n",
       "\n",
       "    .dataframe thead th {\n",
       "        text-align: right;\n",
       "    }\n",
       "</style>\n",
       "<table border=\"1\" class=\"dataframe\">\n",
       "  <thead>\n",
       "    <tr style=\"text-align: right;\">\n",
       "      <th></th>\n",
       "      <th>C_MNTH</th>\n",
       "      <th>C_WDAY</th>\n",
       "      <th>C_HOUR</th>\n",
       "      <th>C_SEV</th>\n",
       "      <th>C_VEHS</th>\n",
       "      <th>C_CONF</th>\n",
       "      <th>C_RCFG</th>\n",
       "      <th>C_WTHR</th>\n",
       "      <th>C_RSUR</th>\n",
       "      <th>C_RALN</th>\n",
       "      <th>...</th>\n",
       "      <th>V_ID</th>\n",
       "      <th>V_TYPE</th>\n",
       "      <th>V_YEAR</th>\n",
       "      <th>P_ID</th>\n",
       "      <th>P_SEX</th>\n",
       "      <th>P_AGE</th>\n",
       "      <th>P_PSN</th>\n",
       "      <th>P_ISEV</th>\n",
       "      <th>P_SAFE</th>\n",
       "      <th>P_USER</th>\n",
       "    </tr>\n",
       "  </thead>\n",
       "  <tbody>\n",
       "    <tr>\n",
       "      <th>0</th>\n",
       "      <td>0</td>\n",
       "      <td>4</td>\n",
       "      <td>16</td>\n",
       "      <td>1</td>\n",
       "      <td>1</td>\n",
       "      <td>6</td>\n",
       "      <td>0</td>\n",
       "      <td>0</td>\n",
       "      <td>0</td>\n",
       "      <td>0</td>\n",
       "      <td>...</td>\n",
       "      <td>0</td>\n",
       "      <td>1</td>\n",
       "      <td>54</td>\n",
       "      <td>1</td>\n",
       "      <td>1</td>\n",
       "      <td>18</td>\n",
       "      <td>1</td>\n",
       "      <td>2</td>\n",
       "      <td>2</td>\n",
       "      <td>1</td>\n",
       "    </tr>\n",
       "    <tr>\n",
       "      <th>1</th>\n",
       "      <td>7</td>\n",
       "      <td>5</td>\n",
       "      <td>16</td>\n",
       "      <td>1</td>\n",
       "      <td>1</td>\n",
       "      <td>6</td>\n",
       "      <td>0</td>\n",
       "      <td>0</td>\n",
       "      <td>0</td>\n",
       "      <td>0</td>\n",
       "      <td>...</td>\n",
       "      <td>0</td>\n",
       "      <td>1</td>\n",
       "      <td>54</td>\n",
       "      <td>1</td>\n",
       "      <td>1</td>\n",
       "      <td>18</td>\n",
       "      <td>1</td>\n",
       "      <td>2</td>\n",
       "      <td>2</td>\n",
       "      <td>2</td>\n",
       "    </tr>\n",
       "    <tr>\n",
       "      <th>2</th>\n",
       "      <td>7</td>\n",
       "      <td>4</td>\n",
       "      <td>16</td>\n",
       "      <td>1</td>\n",
       "      <td>1</td>\n",
       "      <td>6</td>\n",
       "      <td>1</td>\n",
       "      <td>0</td>\n",
       "      <td>0</td>\n",
       "      <td>0</td>\n",
       "      <td>...</td>\n",
       "      <td>1</td>\n",
       "      <td>1</td>\n",
       "      <td>54</td>\n",
       "      <td>1</td>\n",
       "      <td>1</td>\n",
       "      <td>18</td>\n",
       "      <td>1</td>\n",
       "      <td>1</td>\n",
       "      <td>2</td>\n",
       "      <td>2</td>\n",
       "    </tr>\n",
       "    <tr>\n",
       "      <th>3</th>\n",
       "      <td>11</td>\n",
       "      <td>4</td>\n",
       "      <td>16</td>\n",
       "      <td>1</td>\n",
       "      <td>1</td>\n",
       "      <td>6</td>\n",
       "      <td>1</td>\n",
       "      <td>0</td>\n",
       "      <td>0</td>\n",
       "      <td>0</td>\n",
       "      <td>...</td>\n",
       "      <td>0</td>\n",
       "      <td>1</td>\n",
       "      <td>54</td>\n",
       "      <td>1</td>\n",
       "      <td>1</td>\n",
       "      <td>18</td>\n",
       "      <td>1</td>\n",
       "      <td>2</td>\n",
       "      <td>2</td>\n",
       "      <td>1</td>\n",
       "    </tr>\n",
       "    <tr>\n",
       "      <th>4</th>\n",
       "      <td>9</td>\n",
       "      <td>4</td>\n",
       "      <td>16</td>\n",
       "      <td>1</td>\n",
       "      <td>0</td>\n",
       "      <td>5</td>\n",
       "      <td>1</td>\n",
       "      <td>0</td>\n",
       "      <td>0</td>\n",
       "      <td>0</td>\n",
       "      <td>...</td>\n",
       "      <td>25</td>\n",
       "      <td>0</td>\n",
       "      <td>0</td>\n",
       "      <td>1</td>\n",
       "      <td>1</td>\n",
       "      <td>18</td>\n",
       "      <td>13</td>\n",
       "      <td>2</td>\n",
       "      <td>0</td>\n",
       "      <td>3</td>\n",
       "    </tr>\n",
       "    <tr>\n",
       "      <th>5</th>\n",
       "      <td>9</td>\n",
       "      <td>1</td>\n",
       "      <td>16</td>\n",
       "      <td>1</td>\n",
       "      <td>0</td>\n",
       "      <td>5</td>\n",
       "      <td>1</td>\n",
       "      <td>0</td>\n",
       "      <td>0</td>\n",
       "      <td>0</td>\n",
       "      <td>...</td>\n",
       "      <td>25</td>\n",
       "      <td>0</td>\n",
       "      <td>0</td>\n",
       "      <td>1</td>\n",
       "      <td>1</td>\n",
       "      <td>18</td>\n",
       "      <td>13</td>\n",
       "      <td>2</td>\n",
       "      <td>0</td>\n",
       "      <td>3</td>\n",
       "    </tr>\n",
       "  </tbody>\n",
       "</table>\n",
       "<p>6 rows × 21 columns</p>\n",
       "</div>"
      ],
      "text/plain": [
       "   C_MNTH  C_WDAY  C_HOUR  C_SEV  C_VEHS  C_CONF  C_RCFG  C_WTHR  C_RSUR  \\\n",
       "0       0       4      16      1       1       6       0       0       0   \n",
       "1       7       5      16      1       1       6       0       0       0   \n",
       "2       7       4      16      1       1       6       1       0       0   \n",
       "3      11       4      16      1       1       6       1       0       0   \n",
       "4       9       4      16      1       0       5       1       0       0   \n",
       "5       9       1      16      1       0       5       1       0       0   \n",
       "\n",
       "   C_RALN  ...  V_ID  V_TYPE  V_YEAR  P_ID  P_SEX  P_AGE  P_PSN  P_ISEV  \\\n",
       "0       0  ...     0       1      54     1      1     18      1       2   \n",
       "1       0  ...     0       1      54     1      1     18      1       2   \n",
       "2       0  ...     1       1      54     1      1     18      1       1   \n",
       "3       0  ...     0       1      54     1      1     18      1       2   \n",
       "4       0  ...    25       0       0     1      1     18     13       2   \n",
       "5       0  ...    25       0       0     1      1     18     13       2   \n",
       "\n",
       "   P_SAFE  P_USER  \n",
       "0       2       1  \n",
       "1       2       2  \n",
       "2       2       2  \n",
       "3       2       1  \n",
       "4       0       3  \n",
       "5       0       3  \n",
       "\n",
       "[6 rows x 21 columns]"
      ]
     },
     "execution_count": 546,
     "metadata": {},
     "output_type": "execute_result"
    }
   ],
   "source": [
    "data.groupby(by = GM_clusters).agg(pd.Series.mode)"
   ]
  },
  {
   "cell_type": "code",
   "execution_count": 547,
   "metadata": {
    "id": "nXY6ZAt9ZED9",
    "outputId": "dc7cd013-1cfb-4237-a176-090405bb29ac"
   },
   "outputs": [
    {
     "data": {
      "text/plain": [
       "0.009785899848541658"
      ]
     },
     "execution_count": 547,
     "metadata": {},
     "output_type": "execute_result"
    }
   ],
   "source": [
    "from sklearn.metrics import silhouette_score\n",
    "silhouette_score(data,labels=GM_clusters)"
   ]
  },
  {
   "cell_type": "code",
   "execution_count": 548,
   "metadata": {
    "id": "LdqWHZNvZED-",
    "outputId": "d8b2f418-dd6c-4ae7-f74f-a55e9c1319ce"
   },
   "outputs": [
    {
     "data": {
      "text/html": [
       "<div>\n",
       "<style scoped>\n",
       "    .dataframe tbody tr th:only-of-type {\n",
       "        vertical-align: middle;\n",
       "    }\n",
       "\n",
       "    .dataframe tbody tr th {\n",
       "        vertical-align: top;\n",
       "    }\n",
       "\n",
       "    .dataframe thead th {\n",
       "        text-align: right;\n",
       "    }\n",
       "</style>\n",
       "<table border=\"1\" class=\"dataframe\">\n",
       "  <thead>\n",
       "    <tr style=\"text-align: right;\">\n",
       "      <th></th>\n",
       "      <th>C_MNTH</th>\n",
       "      <th>C_WDAY</th>\n",
       "      <th>C_HOUR</th>\n",
       "      <th>C_SEV</th>\n",
       "      <th>C_VEHS</th>\n",
       "      <th>C_CONF</th>\n",
       "      <th>C_RCFG</th>\n",
       "      <th>C_WTHR</th>\n",
       "      <th>C_RSUR</th>\n",
       "      <th>C_RALN</th>\n",
       "      <th>C_TRAF</th>\n",
       "      <th>V_ID</th>\n",
       "      <th>V_TYPE</th>\n",
       "      <th>V_YEAR</th>\n",
       "    </tr>\n",
       "  </thead>\n",
       "  <tbody>\n",
       "    <tr>\n",
       "      <th>0</th>\n",
       "      <td>0</td>\n",
       "      <td>4</td>\n",
       "      <td>16</td>\n",
       "      <td>1</td>\n",
       "      <td>1</td>\n",
       "      <td>6</td>\n",
       "      <td>0</td>\n",
       "      <td>0</td>\n",
       "      <td>0</td>\n",
       "      <td>0</td>\n",
       "      <td>16</td>\n",
       "      <td>0</td>\n",
       "      <td>1</td>\n",
       "      <td>54</td>\n",
       "    </tr>\n",
       "    <tr>\n",
       "      <th>1</th>\n",
       "      <td>7</td>\n",
       "      <td>5</td>\n",
       "      <td>16</td>\n",
       "      <td>1</td>\n",
       "      <td>1</td>\n",
       "      <td>6</td>\n",
       "      <td>0</td>\n",
       "      <td>0</td>\n",
       "      <td>0</td>\n",
       "      <td>0</td>\n",
       "      <td>16</td>\n",
       "      <td>0</td>\n",
       "      <td>1</td>\n",
       "      <td>54</td>\n",
       "    </tr>\n",
       "    <tr>\n",
       "      <th>2</th>\n",
       "      <td>7</td>\n",
       "      <td>4</td>\n",
       "      <td>16</td>\n",
       "      <td>1</td>\n",
       "      <td>1</td>\n",
       "      <td>6</td>\n",
       "      <td>1</td>\n",
       "      <td>0</td>\n",
       "      <td>0</td>\n",
       "      <td>0</td>\n",
       "      <td>0</td>\n",
       "      <td>1</td>\n",
       "      <td>1</td>\n",
       "      <td>54</td>\n",
       "    </tr>\n",
       "    <tr>\n",
       "      <th>3</th>\n",
       "      <td>11</td>\n",
       "      <td>4</td>\n",
       "      <td>16</td>\n",
       "      <td>1</td>\n",
       "      <td>1</td>\n",
       "      <td>6</td>\n",
       "      <td>1</td>\n",
       "      <td>0</td>\n",
       "      <td>0</td>\n",
       "      <td>0</td>\n",
       "      <td>16</td>\n",
       "      <td>0</td>\n",
       "      <td>1</td>\n",
       "      <td>54</td>\n",
       "    </tr>\n",
       "    <tr>\n",
       "      <th>4</th>\n",
       "      <td>9</td>\n",
       "      <td>4</td>\n",
       "      <td>16</td>\n",
       "      <td>1</td>\n",
       "      <td>0</td>\n",
       "      <td>5</td>\n",
       "      <td>1</td>\n",
       "      <td>0</td>\n",
       "      <td>0</td>\n",
       "      <td>0</td>\n",
       "      <td>16</td>\n",
       "      <td>25</td>\n",
       "      <td>0</td>\n",
       "      <td>0</td>\n",
       "    </tr>\n",
       "    <tr>\n",
       "      <th>5</th>\n",
       "      <td>9</td>\n",
       "      <td>1</td>\n",
       "      <td>16</td>\n",
       "      <td>1</td>\n",
       "      <td>0</td>\n",
       "      <td>5</td>\n",
       "      <td>1</td>\n",
       "      <td>0</td>\n",
       "      <td>0</td>\n",
       "      <td>0</td>\n",
       "      <td>16</td>\n",
       "      <td>25</td>\n",
       "      <td>0</td>\n",
       "      <td>0</td>\n",
       "    </tr>\n",
       "  </tbody>\n",
       "</table>\n",
       "</div>"
      ],
      "text/plain": [
       "   C_MNTH  C_WDAY  C_HOUR  C_SEV  C_VEHS  C_CONF  C_RCFG  C_WTHR  C_RSUR  \\\n",
       "0       0       4      16      1       1       6       0       0       0   \n",
       "1       7       5      16      1       1       6       0       0       0   \n",
       "2       7       4      16      1       1       6       1       0       0   \n",
       "3      11       4      16      1       1       6       1       0       0   \n",
       "4       9       4      16      1       0       5       1       0       0   \n",
       "5       9       1      16      1       0       5       1       0       0   \n",
       "\n",
       "   C_RALN  C_TRAF  V_ID  V_TYPE  V_YEAR  \n",
       "0       0      16     0       1      54  \n",
       "1       0      16     0       1      54  \n",
       "2       0       0     1       1      54  \n",
       "3       0      16     0       1      54  \n",
       "4       0      16    25       0       0  \n",
       "5       0      16    25       0       0  "
      ]
     },
     "execution_count": 548,
     "metadata": {},
     "output_type": "execute_result"
    }
   ],
   "source": [
    "data[['C_YEAR', 'C_MNTH', 'C_WDAY', 'C_HOUR', 'C_SEV', 'C_VEHS', 'C_CONF',\n",
    "       'C_RCFG', 'C_WTHR', 'C_RSUR', 'C_RALN', 'C_TRAF', 'V_ID', 'V_TYPE',\n",
    "       'V_YEAR']].groupby(by=GM_clusters).agg(pd.Series.mode)"
   ]
  },
  {
   "cell_type": "code",
   "execution_count": 549,
   "metadata": {
    "id": "FZLazearZED-",
    "outputId": "eab39c90-12b8-41a3-ca42-8b53dac797dc"
   },
   "outputs": [
    {
     "data": {
      "text/html": [
       "<div>\n",
       "<style scoped>\n",
       "    .dataframe tbody tr th:only-of-type {\n",
       "        vertical-align: middle;\n",
       "    }\n",
       "\n",
       "    .dataframe tbody tr th {\n",
       "        vertical-align: top;\n",
       "    }\n",
       "\n",
       "    .dataframe thead th {\n",
       "        text-align: right;\n",
       "    }\n",
       "</style>\n",
       "<table border=\"1\" class=\"dataframe\">\n",
       "  <thead>\n",
       "    <tr style=\"text-align: right;\">\n",
       "      <th></th>\n",
       "      <th>P_ID</th>\n",
       "      <th>P_SEX</th>\n",
       "      <th>P_AGE</th>\n",
       "      <th>P_PSN</th>\n",
       "      <th>P_ISEV</th>\n",
       "      <th>P_SAFE</th>\n",
       "      <th>P_USER</th>\n",
       "    </tr>\n",
       "  </thead>\n",
       "  <tbody>\n",
       "    <tr>\n",
       "      <th>0</th>\n",
       "      <td>1</td>\n",
       "      <td>1</td>\n",
       "      <td>18</td>\n",
       "      <td>1</td>\n",
       "      <td>2</td>\n",
       "      <td>2</td>\n",
       "      <td>1</td>\n",
       "    </tr>\n",
       "    <tr>\n",
       "      <th>1</th>\n",
       "      <td>1</td>\n",
       "      <td>1</td>\n",
       "      <td>18</td>\n",
       "      <td>1</td>\n",
       "      <td>2</td>\n",
       "      <td>2</td>\n",
       "      <td>2</td>\n",
       "    </tr>\n",
       "    <tr>\n",
       "      <th>2</th>\n",
       "      <td>1</td>\n",
       "      <td>1</td>\n",
       "      <td>18</td>\n",
       "      <td>1</td>\n",
       "      <td>1</td>\n",
       "      <td>2</td>\n",
       "      <td>2</td>\n",
       "    </tr>\n",
       "    <tr>\n",
       "      <th>3</th>\n",
       "      <td>1</td>\n",
       "      <td>1</td>\n",
       "      <td>18</td>\n",
       "      <td>1</td>\n",
       "      <td>2</td>\n",
       "      <td>2</td>\n",
       "      <td>1</td>\n",
       "    </tr>\n",
       "    <tr>\n",
       "      <th>4</th>\n",
       "      <td>1</td>\n",
       "      <td>1</td>\n",
       "      <td>18</td>\n",
       "      <td>13</td>\n",
       "      <td>2</td>\n",
       "      <td>0</td>\n",
       "      <td>3</td>\n",
       "    </tr>\n",
       "    <tr>\n",
       "      <th>5</th>\n",
       "      <td>1</td>\n",
       "      <td>1</td>\n",
       "      <td>18</td>\n",
       "      <td>13</td>\n",
       "      <td>2</td>\n",
       "      <td>0</td>\n",
       "      <td>3</td>\n",
       "    </tr>\n",
       "  </tbody>\n",
       "</table>\n",
       "</div>"
      ],
      "text/plain": [
       "   P_ID  P_SEX  P_AGE  P_PSN  P_ISEV  P_SAFE  P_USER\n",
       "0     1      1     18      1       2       2       1\n",
       "1     1      1     18      1       2       2       2\n",
       "2     1      1     18      1       1       2       2\n",
       "3     1      1     18      1       2       2       1\n",
       "4     1      1     18     13       2       0       3\n",
       "5     1      1     18     13       2       0       3"
      ]
     },
     "execution_count": 549,
     "metadata": {},
     "output_type": "execute_result"
    }
   ],
   "source": [
    "data[['P_ID', 'P_SEX', 'P_AGE', 'P_PSN', 'P_ISEV', 'P_SAFE',\n",
    "       'P_USER']].groupby(by=GM_clusters).agg(pd.Series.mode)"
   ]
  },
  {
   "cell_type": "markdown",
   "metadata": {
    "id": "HNKPzZelZED-"
   },
   "source": [
    "Observamos que mediante este modelo los datos estan igualemente repartidos por todos los clusters, no hay ninguna variable que los discrimine claramente cada grupo."
   ]
  },
  {
   "cell_type": "markdown",
   "metadata": {
    "id": "pCcoF7mxmG6E"
   },
   "source": [
    "### CLustering de densidad: DBSCAN"
   ]
  },
  {
   "cell_type": "code",
   "execution_count": 550,
   "metadata": {
    "id": "e63af2eb"
   },
   "outputs": [],
   "source": [
    "from sklearn.cluster import DBSCAN\n",
    "from sklearn import metrics"
   ]
  },
  {
   "cell_type": "code",
   "execution_count": 551,
   "metadata": {
    "id": "e0702779"
   },
   "outputs": [],
   "source": [
    "dbscan=DBSCAN(eps=13,min_samples=30)\n",
    "dbclusters=dbscan.fit_predict(data)"
   ]
  },
  {
   "cell_type": "code",
   "execution_count": 552,
   "metadata": {
    "id": "_zPRZDAtkAQ5",
    "outputId": "1d4f7c28-da68-404b-d145-73905b787acc"
   },
   "outputs": [
    {
     "data": {
      "text/html": [
       "<div>\n",
       "<style scoped>\n",
       "    .dataframe tbody tr th:only-of-type {\n",
       "        vertical-align: middle;\n",
       "    }\n",
       "\n",
       "    .dataframe tbody tr th {\n",
       "        vertical-align: top;\n",
       "    }\n",
       "\n",
       "    .dataframe thead th {\n",
       "        text-align: right;\n",
       "    }\n",
       "</style>\n",
       "<table border=\"1\" class=\"dataframe\">\n",
       "  <thead>\n",
       "    <tr style=\"text-align: right;\">\n",
       "      <th></th>\n",
       "      <th>C_YEAR</th>\n",
       "      <th>C_MNTH</th>\n",
       "      <th>C_WDAY</th>\n",
       "      <th>C_HOUR</th>\n",
       "      <th>C_SEV</th>\n",
       "      <th>C_VEHS</th>\n",
       "      <th>C_CONF</th>\n",
       "      <th>C_RCFG</th>\n",
       "      <th>C_WTHR</th>\n",
       "      <th>C_RSUR</th>\n",
       "      <th>...</th>\n",
       "      <th>V_ID</th>\n",
       "      <th>V_TYPE</th>\n",
       "      <th>V_YEAR</th>\n",
       "      <th>P_ID</th>\n",
       "      <th>P_SEX</th>\n",
       "      <th>P_AGE</th>\n",
       "      <th>P_PSN</th>\n",
       "      <th>P_ISEV</th>\n",
       "      <th>P_SAFE</th>\n",
       "      <th>P_USER</th>\n",
       "    </tr>\n",
       "  </thead>\n",
       "  <tbody>\n",
       "    <tr>\n",
       "      <th>-1</th>\n",
       "      <td>7.918182</td>\n",
       "      <td>5.636364</td>\n",
       "      <td>2.969697</td>\n",
       "      <td>12.684848</td>\n",
       "      <td>0.918182</td>\n",
       "      <td>3.148485</td>\n",
       "      <td>10.581818</td>\n",
       "      <td>2.221212</td>\n",
       "      <td>1.066667</td>\n",
       "      <td>1.433333</td>\n",
       "      <td>...</td>\n",
       "      <td>4.772727</td>\n",
       "      <td>5.942424</td>\n",
       "      <td>35.442424</td>\n",
       "      <td>4.830303</td>\n",
       "      <td>1.163636</td>\n",
       "      <td>56.257576</td>\n",
       "      <td>4.387879</td>\n",
       "      <td>1.436364</td>\n",
       "      <td>2.206061</td>\n",
       "      <td>1.451515</td>\n",
       "    </tr>\n",
       "    <tr>\n",
       "      <th>0</th>\n",
       "      <td>6.994253</td>\n",
       "      <td>5.698861</td>\n",
       "      <td>3.016935</td>\n",
       "      <td>13.757215</td>\n",
       "      <td>0.983695</td>\n",
       "      <td>1.056480</td>\n",
       "      <td>9.247523</td>\n",
       "      <td>0.945934</td>\n",
       "      <td>0.615609</td>\n",
       "      <td>0.827820</td>\n",
       "      <td>...</td>\n",
       "      <td>0.525259</td>\n",
       "      <td>1.719562</td>\n",
       "      <td>52.609340</td>\n",
       "      <td>1.453519</td>\n",
       "      <td>1.417432</td>\n",
       "      <td>35.212301</td>\n",
       "      <td>1.910298</td>\n",
       "      <td>1.489749</td>\n",
       "      <td>1.939808</td>\n",
       "      <td>1.389688</td>\n",
       "    </tr>\n",
       "    <tr>\n",
       "      <th>1</th>\n",
       "      <td>7.417778</td>\n",
       "      <td>5.889778</td>\n",
       "      <td>2.785333</td>\n",
       "      <td>13.823556</td>\n",
       "      <td>0.965778</td>\n",
       "      <td>0.104889</td>\n",
       "      <td>5.357778</td>\n",
       "      <td>1.408000</td>\n",
       "      <td>0.548000</td>\n",
       "      <td>0.614667</td>\n",
       "      <td>...</td>\n",
       "      <td>25.000000</td>\n",
       "      <td>0.000000</td>\n",
       "      <td>0.000000</td>\n",
       "      <td>1.117778</td>\n",
       "      <td>1.491556</td>\n",
       "      <td>35.152444</td>\n",
       "      <td>13.016444</td>\n",
       "      <td>1.930667</td>\n",
       "      <td>2.119111</td>\n",
       "      <td>3.000000</td>\n",
       "    </tr>\n",
       "    <tr>\n",
       "      <th>2</th>\n",
       "      <td>6.583120</td>\n",
       "      <td>6.322251</td>\n",
       "      <td>2.603581</td>\n",
       "      <td>14.465473</td>\n",
       "      <td>0.989770</td>\n",
       "      <td>1.035806</td>\n",
       "      <td>13.306905</td>\n",
       "      <td>1.161125</td>\n",
       "      <td>0.317136</td>\n",
       "      <td>0.145780</td>\n",
       "      <td>...</td>\n",
       "      <td>0.869565</td>\n",
       "      <td>10.897698</td>\n",
       "      <td>0.010230</td>\n",
       "      <td>1.010230</td>\n",
       "      <td>1.281330</td>\n",
       "      <td>27.547315</td>\n",
       "      <td>1.017903</td>\n",
       "      <td>1.984655</td>\n",
       "      <td>0.762148</td>\n",
       "      <td>3.966752</td>\n",
       "    </tr>\n",
       "    <tr>\n",
       "      <th>3</th>\n",
       "      <td>7.622047</td>\n",
       "      <td>6.370079</td>\n",
       "      <td>3.165354</td>\n",
       "      <td>13.385827</td>\n",
       "      <td>0.984252</td>\n",
       "      <td>1.622047</td>\n",
       "      <td>9.047244</td>\n",
       "      <td>0.748031</td>\n",
       "      <td>0.566929</td>\n",
       "      <td>1.086614</td>\n",
       "      <td>...</td>\n",
       "      <td>1.314961</td>\n",
       "      <td>1.433071</td>\n",
       "      <td>54.574803</td>\n",
       "      <td>0.433071</td>\n",
       "      <td>0.181102</td>\n",
       "      <td>111.000000</td>\n",
       "      <td>0.354331</td>\n",
       "      <td>0.299213</td>\n",
       "      <td>0.228346</td>\n",
       "      <td>0.283465</td>\n",
       "    </tr>\n",
       "  </tbody>\n",
       "</table>\n",
       "<p>5 rows × 22 columns</p>\n",
       "</div>"
      ],
      "text/plain": [
       "      C_YEAR    C_MNTH    C_WDAY     C_HOUR     C_SEV    C_VEHS     C_CONF  \\\n",
       "-1  7.918182  5.636364  2.969697  12.684848  0.918182  3.148485  10.581818   \n",
       " 0  6.994253  5.698861  3.016935  13.757215  0.983695  1.056480   9.247523   \n",
       " 1  7.417778  5.889778  2.785333  13.823556  0.965778  0.104889   5.357778   \n",
       " 2  6.583120  6.322251  2.603581  14.465473  0.989770  1.035806  13.306905   \n",
       " 3  7.622047  6.370079  3.165354  13.385827  0.984252  1.622047   9.047244   \n",
       "\n",
       "      C_RCFG    C_WTHR    C_RSUR  ...       V_ID     V_TYPE     V_YEAR  \\\n",
       "-1  2.221212  1.066667  1.433333  ...   4.772727   5.942424  35.442424   \n",
       " 0  0.945934  0.615609  0.827820  ...   0.525259   1.719562  52.609340   \n",
       " 1  1.408000  0.548000  0.614667  ...  25.000000   0.000000   0.000000   \n",
       " 2  1.161125  0.317136  0.145780  ...   0.869565  10.897698   0.010230   \n",
       " 3  0.748031  0.566929  1.086614  ...   1.314961   1.433071  54.574803   \n",
       "\n",
       "        P_ID     P_SEX       P_AGE      P_PSN    P_ISEV    P_SAFE    P_USER  \n",
       "-1  4.830303  1.163636   56.257576   4.387879  1.436364  2.206061  1.451515  \n",
       " 0  1.453519  1.417432   35.212301   1.910298  1.489749  1.939808  1.389688  \n",
       " 1  1.117778  1.491556   35.152444  13.016444  1.930667  2.119111  3.000000  \n",
       " 2  1.010230  1.281330   27.547315   1.017903  1.984655  0.762148  3.966752  \n",
       " 3  0.433071  0.181102  111.000000   0.354331  0.299213  0.228346  0.283465  \n",
       "\n",
       "[5 rows x 22 columns]"
      ]
     },
     "execution_count": 552,
     "metadata": {},
     "output_type": "execute_result"
    }
   ],
   "source": [
    "data.groupby(by=dbclusters).mean()"
   ]
  },
  {
   "cell_type": "code",
   "execution_count": 553,
   "metadata": {
    "id": "prDZwSYlZEEA",
    "outputId": "97a8ca51-1e22-495e-8a66-a3bc2e8bc628"
   },
   "outputs": [
    {
     "data": {
      "text/html": [
       "<div>\n",
       "<style scoped>\n",
       "    .dataframe tbody tr th:only-of-type {\n",
       "        vertical-align: middle;\n",
       "    }\n",
       "\n",
       "    .dataframe tbody tr th {\n",
       "        vertical-align: top;\n",
       "    }\n",
       "\n",
       "    .dataframe thead th {\n",
       "        text-align: right;\n",
       "    }\n",
       "</style>\n",
       "<table border=\"1\" class=\"dataframe\">\n",
       "  <thead>\n",
       "    <tr style=\"text-align: right;\">\n",
       "      <th></th>\n",
       "      <th>C_MNTH</th>\n",
       "      <th>C_WDAY</th>\n",
       "      <th>C_HOUR</th>\n",
       "      <th>C_SEV</th>\n",
       "      <th>C_VEHS</th>\n",
       "      <th>C_CONF</th>\n",
       "      <th>C_RCFG</th>\n",
       "      <th>C_WTHR</th>\n",
       "      <th>C_RSUR</th>\n",
       "      <th>C_RALN</th>\n",
       "      <th>...</th>\n",
       "      <th>V_ID</th>\n",
       "      <th>V_TYPE</th>\n",
       "      <th>V_YEAR</th>\n",
       "      <th>P_ID</th>\n",
       "      <th>P_SEX</th>\n",
       "      <th>P_AGE</th>\n",
       "      <th>P_PSN</th>\n",
       "      <th>P_ISEV</th>\n",
       "      <th>P_SAFE</th>\n",
       "      <th>P_USER</th>\n",
       "    </tr>\n",
       "  </thead>\n",
       "  <tbody>\n",
       "    <tr>\n",
       "      <th>-1</th>\n",
       "      <td>11</td>\n",
       "      <td>5</td>\n",
       "      <td>16</td>\n",
       "      <td>1</td>\n",
       "      <td>1</td>\n",
       "      <td>6</td>\n",
       "      <td>1</td>\n",
       "      <td>0</td>\n",
       "      <td>0</td>\n",
       "      <td>0</td>\n",
       "      <td>...</td>\n",
       "      <td>0</td>\n",
       "      <td>1</td>\n",
       "      <td>0</td>\n",
       "      <td>1</td>\n",
       "      <td>1</td>\n",
       "      <td>111</td>\n",
       "      <td>1</td>\n",
       "      <td>2</td>\n",
       "      <td>0</td>\n",
       "      <td>0</td>\n",
       "    </tr>\n",
       "    <tr>\n",
       "      <th>0</th>\n",
       "      <td>7</td>\n",
       "      <td>4</td>\n",
       "      <td>16</td>\n",
       "      <td>1</td>\n",
       "      <td>1</td>\n",
       "      <td>6</td>\n",
       "      <td>1</td>\n",
       "      <td>0</td>\n",
       "      <td>0</td>\n",
       "      <td>0</td>\n",
       "      <td>...</td>\n",
       "      <td>0</td>\n",
       "      <td>1</td>\n",
       "      <td>54</td>\n",
       "      <td>1</td>\n",
       "      <td>1</td>\n",
       "      <td>18</td>\n",
       "      <td>1</td>\n",
       "      <td>2</td>\n",
       "      <td>2</td>\n",
       "      <td>1</td>\n",
       "    </tr>\n",
       "    <tr>\n",
       "      <th>1</th>\n",
       "      <td>9</td>\n",
       "      <td>3</td>\n",
       "      <td>16</td>\n",
       "      <td>1</td>\n",
       "      <td>0</td>\n",
       "      <td>5</td>\n",
       "      <td>1</td>\n",
       "      <td>0</td>\n",
       "      <td>0</td>\n",
       "      <td>0</td>\n",
       "      <td>...</td>\n",
       "      <td>25</td>\n",
       "      <td>0</td>\n",
       "      <td>0</td>\n",
       "      <td>1</td>\n",
       "      <td>1</td>\n",
       "      <td>18</td>\n",
       "      <td>13</td>\n",
       "      <td>2</td>\n",
       "      <td>0</td>\n",
       "      <td>3</td>\n",
       "    </tr>\n",
       "    <tr>\n",
       "      <th>2</th>\n",
       "      <td>5</td>\n",
       "      <td>1</td>\n",
       "      <td>16</td>\n",
       "      <td>1</td>\n",
       "      <td>1</td>\n",
       "      <td>15</td>\n",
       "      <td>1</td>\n",
       "      <td>0</td>\n",
       "      <td>0</td>\n",
       "      <td>0</td>\n",
       "      <td>...</td>\n",
       "      <td>1</td>\n",
       "      <td>11</td>\n",
       "      <td>0</td>\n",
       "      <td>1</td>\n",
       "      <td>1</td>\n",
       "      <td>16</td>\n",
       "      <td>1</td>\n",
       "      <td>2</td>\n",
       "      <td>0</td>\n",
       "      <td>4</td>\n",
       "    </tr>\n",
       "    <tr>\n",
       "      <th>3</th>\n",
       "      <td>9</td>\n",
       "      <td>5</td>\n",
       "      <td>17</td>\n",
       "      <td>1</td>\n",
       "      <td>1</td>\n",
       "      <td>6</td>\n",
       "      <td>1</td>\n",
       "      <td>0</td>\n",
       "      <td>0</td>\n",
       "      <td>0</td>\n",
       "      <td>...</td>\n",
       "      <td>1</td>\n",
       "      <td>1</td>\n",
       "      <td>54</td>\n",
       "      <td>0</td>\n",
       "      <td>0</td>\n",
       "      <td>111</td>\n",
       "      <td>0</td>\n",
       "      <td>0</td>\n",
       "      <td>0</td>\n",
       "      <td>0</td>\n",
       "    </tr>\n",
       "  </tbody>\n",
       "</table>\n",
       "<p>5 rows × 21 columns</p>\n",
       "</div>"
      ],
      "text/plain": [
       "    C_MNTH  C_WDAY  C_HOUR  C_SEV  C_VEHS  C_CONF  C_RCFG  C_WTHR  C_RSUR  \\\n",
       "-1      11       5      16      1       1       6       1       0       0   \n",
       " 0       7       4      16      1       1       6       1       0       0   \n",
       " 1       9       3      16      1       0       5       1       0       0   \n",
       " 2       5       1      16      1       1      15       1       0       0   \n",
       " 3       9       5      17      1       1       6       1       0       0   \n",
       "\n",
       "    C_RALN  ...  V_ID  V_TYPE  V_YEAR  P_ID  P_SEX  P_AGE  P_PSN  P_ISEV  \\\n",
       "-1       0  ...     0       1       0     1      1    111      1       2   \n",
       " 0       0  ...     0       1      54     1      1     18      1       2   \n",
       " 1       0  ...    25       0       0     1      1     18     13       2   \n",
       " 2       0  ...     1      11       0     1      1     16      1       2   \n",
       " 3       0  ...     1       1      54     0      0    111      0       0   \n",
       "\n",
       "    P_SAFE  P_USER  \n",
       "-1       0       0  \n",
       " 0       2       1  \n",
       " 1       0       3  \n",
       " 2       0       4  \n",
       " 3       0       0  \n",
       "\n",
       "[5 rows x 21 columns]"
      ]
     },
     "execution_count": 553,
     "metadata": {},
     "output_type": "execute_result"
    }
   ],
   "source": [
    "data.groupby(by = dbclusters).agg(pd.Series.mode)"
   ]
  },
  {
   "cell_type": "code",
   "execution_count": 554,
   "metadata": {
    "id": "WaUz9oUcZEEB",
    "outputId": "1c3b1feb-1097-4161-f4f8-cb588b88dd55"
   },
   "outputs": [
    {
     "data": {
      "text/html": [
       "<div>\n",
       "<style scoped>\n",
       "    .dataframe tbody tr th:only-of-type {\n",
       "        vertical-align: middle;\n",
       "    }\n",
       "\n",
       "    .dataframe tbody tr th {\n",
       "        vertical-align: top;\n",
       "    }\n",
       "\n",
       "    .dataframe thead th {\n",
       "        text-align: right;\n",
       "    }\n",
       "</style>\n",
       "<table border=\"1\" class=\"dataframe\">\n",
       "  <thead>\n",
       "    <tr style=\"text-align: right;\">\n",
       "      <th></th>\n",
       "      <th>C_WDAY</th>\n",
       "      <th>C_HOUR</th>\n",
       "      <th>C_SEV</th>\n",
       "      <th>C_VEHS</th>\n",
       "      <th>C_CONF</th>\n",
       "      <th>C_RCFG</th>\n",
       "      <th>C_WTHR</th>\n",
       "      <th>C_RSUR</th>\n",
       "      <th>C_RALN</th>\n",
       "      <th>C_TRAF</th>\n",
       "      <th>V_ID</th>\n",
       "      <th>V_TYPE</th>\n",
       "      <th>V_YEAR</th>\n",
       "    </tr>\n",
       "  </thead>\n",
       "  <tbody>\n",
       "    <tr>\n",
       "      <th>-1</th>\n",
       "      <td>5</td>\n",
       "      <td>16</td>\n",
       "      <td>1</td>\n",
       "      <td>1</td>\n",
       "      <td>6</td>\n",
       "      <td>1</td>\n",
       "      <td>0</td>\n",
       "      <td>0</td>\n",
       "      <td>0</td>\n",
       "      <td>16</td>\n",
       "      <td>0</td>\n",
       "      <td>1</td>\n",
       "      <td>0</td>\n",
       "    </tr>\n",
       "    <tr>\n",
       "      <th>0</th>\n",
       "      <td>4</td>\n",
       "      <td>16</td>\n",
       "      <td>1</td>\n",
       "      <td>1</td>\n",
       "      <td>6</td>\n",
       "      <td>1</td>\n",
       "      <td>0</td>\n",
       "      <td>0</td>\n",
       "      <td>0</td>\n",
       "      <td>16</td>\n",
       "      <td>0</td>\n",
       "      <td>1</td>\n",
       "      <td>54</td>\n",
       "    </tr>\n",
       "    <tr>\n",
       "      <th>1</th>\n",
       "      <td>3</td>\n",
       "      <td>16</td>\n",
       "      <td>1</td>\n",
       "      <td>0</td>\n",
       "      <td>5</td>\n",
       "      <td>1</td>\n",
       "      <td>0</td>\n",
       "      <td>0</td>\n",
       "      <td>0</td>\n",
       "      <td>16</td>\n",
       "      <td>25</td>\n",
       "      <td>0</td>\n",
       "      <td>0</td>\n",
       "    </tr>\n",
       "    <tr>\n",
       "      <th>2</th>\n",
       "      <td>1</td>\n",
       "      <td>16</td>\n",
       "      <td>1</td>\n",
       "      <td>1</td>\n",
       "      <td>15</td>\n",
       "      <td>1</td>\n",
       "      <td>0</td>\n",
       "      <td>0</td>\n",
       "      <td>0</td>\n",
       "      <td>16</td>\n",
       "      <td>1</td>\n",
       "      <td>11</td>\n",
       "      <td>0</td>\n",
       "    </tr>\n",
       "    <tr>\n",
       "      <th>3</th>\n",
       "      <td>5</td>\n",
       "      <td>17</td>\n",
       "      <td>1</td>\n",
       "      <td>1</td>\n",
       "      <td>6</td>\n",
       "      <td>1</td>\n",
       "      <td>0</td>\n",
       "      <td>0</td>\n",
       "      <td>0</td>\n",
       "      <td>16</td>\n",
       "      <td>1</td>\n",
       "      <td>1</td>\n",
       "      <td>54</td>\n",
       "    </tr>\n",
       "  </tbody>\n",
       "</table>\n",
       "</div>"
      ],
      "text/plain": [
       "    C_WDAY  C_HOUR  C_SEV  C_VEHS  C_CONF  C_RCFG  C_WTHR  C_RSUR  C_RALN  \\\n",
       "-1       5      16      1       1       6       1       0       0       0   \n",
       " 0       4      16      1       1       6       1       0       0       0   \n",
       " 1       3      16      1       0       5       1       0       0       0   \n",
       " 2       1      16      1       1      15       1       0       0       0   \n",
       " 3       5      17      1       1       6       1       0       0       0   \n",
       "\n",
       "    C_TRAF  V_ID  V_TYPE  V_YEAR  \n",
       "-1      16     0       1       0  \n",
       " 0      16     0       1      54  \n",
       " 1      16    25       0       0  \n",
       " 2      16     1      11       0  \n",
       " 3      16     1       1      54  "
      ]
     },
     "execution_count": 554,
     "metadata": {},
     "output_type": "execute_result"
    }
   ],
   "source": [
    "data[['C_WDAY', 'C_HOUR', 'C_SEV', 'C_VEHS', 'C_CONF',\n",
    "       'C_RCFG', 'C_WTHR', 'C_RSUR', 'C_RALN', 'C_TRAF', 'V_ID', 'V_TYPE',\n",
    "       'V_YEAR']].groupby(by=dbclusters).agg(pd.Series.mode)"
   ]
  },
  {
   "cell_type": "code",
   "execution_count": 555,
   "metadata": {
    "id": "vELFwNsJZEEB",
    "outputId": "e5db2f74-c548-4673-c7d1-e7961d42f23e"
   },
   "outputs": [
    {
     "data": {
      "text/html": [
       "<div>\n",
       "<style scoped>\n",
       "    .dataframe tbody tr th:only-of-type {\n",
       "        vertical-align: middle;\n",
       "    }\n",
       "\n",
       "    .dataframe tbody tr th {\n",
       "        vertical-align: top;\n",
       "    }\n",
       "\n",
       "    .dataframe thead th {\n",
       "        text-align: right;\n",
       "    }\n",
       "</style>\n",
       "<table border=\"1\" class=\"dataframe\">\n",
       "  <thead>\n",
       "    <tr style=\"text-align: right;\">\n",
       "      <th></th>\n",
       "      <th>P_ID</th>\n",
       "      <th>P_SEX</th>\n",
       "      <th>P_AGE</th>\n",
       "      <th>P_PSN</th>\n",
       "      <th>P_ISEV</th>\n",
       "      <th>P_SAFE</th>\n",
       "      <th>P_USER</th>\n",
       "    </tr>\n",
       "  </thead>\n",
       "  <tbody>\n",
       "    <tr>\n",
       "      <th>-1</th>\n",
       "      <td>1</td>\n",
       "      <td>1</td>\n",
       "      <td>111</td>\n",
       "      <td>1</td>\n",
       "      <td>2</td>\n",
       "      <td>0</td>\n",
       "      <td>0</td>\n",
       "    </tr>\n",
       "    <tr>\n",
       "      <th>0</th>\n",
       "      <td>1</td>\n",
       "      <td>1</td>\n",
       "      <td>18</td>\n",
       "      <td>1</td>\n",
       "      <td>2</td>\n",
       "      <td>2</td>\n",
       "      <td>1</td>\n",
       "    </tr>\n",
       "    <tr>\n",
       "      <th>1</th>\n",
       "      <td>1</td>\n",
       "      <td>1</td>\n",
       "      <td>18</td>\n",
       "      <td>13</td>\n",
       "      <td>2</td>\n",
       "      <td>0</td>\n",
       "      <td>3</td>\n",
       "    </tr>\n",
       "    <tr>\n",
       "      <th>2</th>\n",
       "      <td>1</td>\n",
       "      <td>1</td>\n",
       "      <td>16</td>\n",
       "      <td>1</td>\n",
       "      <td>2</td>\n",
       "      <td>0</td>\n",
       "      <td>4</td>\n",
       "    </tr>\n",
       "    <tr>\n",
       "      <th>3</th>\n",
       "      <td>0</td>\n",
       "      <td>0</td>\n",
       "      <td>111</td>\n",
       "      <td>0</td>\n",
       "      <td>0</td>\n",
       "      <td>0</td>\n",
       "      <td>0</td>\n",
       "    </tr>\n",
       "  </tbody>\n",
       "</table>\n",
       "</div>"
      ],
      "text/plain": [
       "    P_ID  P_SEX  P_AGE  P_PSN  P_ISEV  P_SAFE  P_USER\n",
       "-1     1      1    111      1       2       0       0\n",
       " 0     1      1     18      1       2       2       1\n",
       " 1     1      1     18     13       2       0       3\n",
       " 2     1      1     16      1       2       0       4\n",
       " 3     0      0    111      0       0       0       0"
      ]
     },
     "execution_count": 555,
     "metadata": {},
     "output_type": "execute_result"
    }
   ],
   "source": [
    "data[['P_ID', 'P_SEX', 'P_AGE', 'P_PSN', 'P_ISEV', 'P_SAFE',\n",
    "       'P_USER']].groupby(by=dbclusters).agg(pd.Series.mode)"
   ]
  },
  {
   "cell_type": "code",
   "execution_count": 556,
   "metadata": {
    "id": "tNWPx7HbZEEC",
    "outputId": "a34e1094-1e83-41b0-f18a-f5de92913746"
   },
   "outputs": [
    {
     "data": {
      "text/html": [
       "<div>\n",
       "<style scoped>\n",
       "    .dataframe tbody tr th:only-of-type {\n",
       "        vertical-align: middle;\n",
       "    }\n",
       "\n",
       "    .dataframe tbody tr th {\n",
       "        vertical-align: top;\n",
       "    }\n",
       "\n",
       "    .dataframe thead th {\n",
       "        text-align: right;\n",
       "    }\n",
       "</style>\n",
       "<table border=\"1\" class=\"dataframe\">\n",
       "  <thead>\n",
       "    <tr style=\"text-align: right;\">\n",
       "      <th></th>\n",
       "      <th>C_CONF</th>\n",
       "      <th>V_TYPE</th>\n",
       "      <th>P_AGE</th>\n",
       "      <th>P_PSN</th>\n",
       "      <th>P_ISEV</th>\n",
       "      <th>P_SAFE</th>\n",
       "      <th>P_USER</th>\n",
       "    </tr>\n",
       "  </thead>\n",
       "  <tbody>\n",
       "    <tr>\n",
       "      <th>-1</th>\n",
       "      <td>6</td>\n",
       "      <td>1</td>\n",
       "      <td>111</td>\n",
       "      <td>1</td>\n",
       "      <td>2</td>\n",
       "      <td>0</td>\n",
       "      <td>0</td>\n",
       "    </tr>\n",
       "    <tr>\n",
       "      <th>0</th>\n",
       "      <td>6</td>\n",
       "      <td>1</td>\n",
       "      <td>18</td>\n",
       "      <td>1</td>\n",
       "      <td>2</td>\n",
       "      <td>2</td>\n",
       "      <td>1</td>\n",
       "    </tr>\n",
       "    <tr>\n",
       "      <th>1</th>\n",
       "      <td>5</td>\n",
       "      <td>0</td>\n",
       "      <td>18</td>\n",
       "      <td>13</td>\n",
       "      <td>2</td>\n",
       "      <td>0</td>\n",
       "      <td>3</td>\n",
       "    </tr>\n",
       "    <tr>\n",
       "      <th>2</th>\n",
       "      <td>15</td>\n",
       "      <td>11</td>\n",
       "      <td>16</td>\n",
       "      <td>1</td>\n",
       "      <td>2</td>\n",
       "      <td>0</td>\n",
       "      <td>4</td>\n",
       "    </tr>\n",
       "    <tr>\n",
       "      <th>3</th>\n",
       "      <td>6</td>\n",
       "      <td>1</td>\n",
       "      <td>111</td>\n",
       "      <td>0</td>\n",
       "      <td>0</td>\n",
       "      <td>0</td>\n",
       "      <td>0</td>\n",
       "    </tr>\n",
       "  </tbody>\n",
       "</table>\n",
       "</div>"
      ],
      "text/plain": [
       "    C_CONF  V_TYPE  P_AGE  P_PSN  P_ISEV  P_SAFE  P_USER\n",
       "-1       6       1    111      1       2       0       0\n",
       " 0       6       1     18      1       2       2       1\n",
       " 1       5       0     18     13       2       0       3\n",
       " 2      15      11     16      1       2       0       4\n",
       " 3       6       1    111      0       0       0       0"
      ]
     },
     "execution_count": 556,
     "metadata": {},
     "output_type": "execute_result"
    }
   ],
   "source": [
    "data[['C_CONF','V_TYPE','P_AGE', 'P_PSN', 'P_ISEV', 'P_SAFE',\n",
    "       'P_USER']].groupby(by=dbclusters).agg(pd.Series.mode)"
   ]
  },
  {
   "cell_type": "code",
   "execution_count": 557,
   "metadata": {
    "id": "fSy_hNeZZEEC",
    "outputId": "d8560d43-1606-4cc8-a713-eb85f80cb917"
   },
   "outputs": [
    {
     "data": {
      "text/html": [
       "<div>\n",
       "<style scoped>\n",
       "    .dataframe tbody tr th:only-of-type {\n",
       "        vertical-align: middle;\n",
       "    }\n",
       "\n",
       "    .dataframe tbody tr th {\n",
       "        vertical-align: top;\n",
       "    }\n",
       "\n",
       "    .dataframe thead th {\n",
       "        text-align: right;\n",
       "    }\n",
       "</style>\n",
       "<table border=\"1\" class=\"dataframe\">\n",
       "  <thead>\n",
       "    <tr style=\"text-align: right;\">\n",
       "      <th></th>\n",
       "      <th>C_CONF</th>\n",
       "      <th>V_TYPE</th>\n",
       "      <th>P_AGE</th>\n",
       "      <th>P_PSN</th>\n",
       "      <th>P_ISEV</th>\n",
       "      <th>P_SAFE</th>\n",
       "      <th>P_USER</th>\n",
       "    </tr>\n",
       "  </thead>\n",
       "  <tbody>\n",
       "    <tr>\n",
       "      <th>-1</th>\n",
       "      <td>10.581818</td>\n",
       "      <td>5.942424</td>\n",
       "      <td>56.257576</td>\n",
       "      <td>4.387879</td>\n",
       "      <td>1.436364</td>\n",
       "      <td>2.206061</td>\n",
       "      <td>1.451515</td>\n",
       "    </tr>\n",
       "    <tr>\n",
       "      <th>0</th>\n",
       "      <td>9.247523</td>\n",
       "      <td>1.719562</td>\n",
       "      <td>35.212301</td>\n",
       "      <td>1.910298</td>\n",
       "      <td>1.489749</td>\n",
       "      <td>1.939808</td>\n",
       "      <td>1.389688</td>\n",
       "    </tr>\n",
       "    <tr>\n",
       "      <th>1</th>\n",
       "      <td>5.357778</td>\n",
       "      <td>0.000000</td>\n",
       "      <td>35.152444</td>\n",
       "      <td>13.016444</td>\n",
       "      <td>1.930667</td>\n",
       "      <td>2.119111</td>\n",
       "      <td>3.000000</td>\n",
       "    </tr>\n",
       "    <tr>\n",
       "      <th>2</th>\n",
       "      <td>13.306905</td>\n",
       "      <td>10.897698</td>\n",
       "      <td>27.547315</td>\n",
       "      <td>1.017903</td>\n",
       "      <td>1.984655</td>\n",
       "      <td>0.762148</td>\n",
       "      <td>3.966752</td>\n",
       "    </tr>\n",
       "    <tr>\n",
       "      <th>3</th>\n",
       "      <td>9.047244</td>\n",
       "      <td>1.433071</td>\n",
       "      <td>111.000000</td>\n",
       "      <td>0.354331</td>\n",
       "      <td>0.299213</td>\n",
       "      <td>0.228346</td>\n",
       "      <td>0.283465</td>\n",
       "    </tr>\n",
       "  </tbody>\n",
       "</table>\n",
       "</div>"
      ],
      "text/plain": [
       "       C_CONF     V_TYPE       P_AGE      P_PSN    P_ISEV    P_SAFE    P_USER\n",
       "-1  10.581818   5.942424   56.257576   4.387879  1.436364  2.206061  1.451515\n",
       " 0   9.247523   1.719562   35.212301   1.910298  1.489749  1.939808  1.389688\n",
       " 1   5.357778   0.000000   35.152444  13.016444  1.930667  2.119111  3.000000\n",
       " 2  13.306905  10.897698   27.547315   1.017903  1.984655  0.762148  3.966752\n",
       " 3   9.047244   1.433071  111.000000   0.354331  0.299213  0.228346  0.283465"
      ]
     },
     "execution_count": 557,
     "metadata": {},
     "output_type": "execute_result"
    }
   ],
   "source": [
    "data[['C_CONF','V_TYPE','P_AGE', 'P_PSN', 'P_ISEV', 'P_SAFE',\n",
    "       'P_USER']].groupby(by=dbclusters).mean()"
   ]
  },
  {
   "cell_type": "markdown",
   "metadata": {
    "id": "wYN2UgbwZEEC"
   },
   "source": [
    "Estudiando los clusters:\n",
    "- Grupo 0: está representado por los accidentes donde están implicados dos vehículos y resulta herido el conductor\n",
    "- Grupo 1: está representado por los peatones que resultan heridos en un accidente con un vehículo  \n",
    "- Grupo 2: está representado por personas jóvenes en bicicleta que tienen un accidente contra un vehículo y resultan heridos\n",
    "- Grupo 3: está representado por accidentes entre dos vehículos (tanto coches aparcados como coches en movimiento) "
   ]
  },
  {
   "cell_type": "markdown",
   "metadata": {
    "id": "cef5c21c"
   },
   "source": [
    "El grupo 3 en DBSCAN no se distingue claramente, sin embargo, el resto de clusters están muy bien diferenciados."
   ]
  },
  {
   "cell_type": "markdown",
   "metadata": {
    "id": "SldnpO251YdL"
   },
   "source": [
    "## Distribución V_TYPE:\n",
    "Estudiaremos como se distribuye el tipo de vehículo para ver cuales son más propensos a tener accidentes."
   ]
  },
  {
   "cell_type": "code",
   "execution_count": 558,
   "metadata": {
    "colab": {
     "base_uri": "https://localhost:8080/"
    },
    "id": "BPZ9JOkU3OZ0",
    "outputId": "550f61a2-8727-4f05-ac51-5b30a4a42fd8"
   },
   "outputs": [
    {
     "data": {
      "text/plain": [
       "1     48332\n",
       "0      2378\n",
       "3      1798\n",
       "9      1292\n",
       "11     1251\n",
       "4       900\n",
       "5       712\n",
       "2       634\n",
       "8       477\n",
       "18      284\n",
       "6       234\n",
       "10       98\n",
       "14       81\n",
       "16       39\n",
       "12       37\n",
       "17       26\n",
       "13       13\n",
       "7        11\n",
       "15        7\n",
       "Name: V_TYPE, dtype: int64"
      ]
     },
     "execution_count": 558,
     "metadata": {},
     "output_type": "execute_result"
    }
   ],
   "source": [
    "data['V_TYPE'].value_counts()"
   ]
  },
  {
   "cell_type": "code",
   "execution_count": 559,
   "metadata": {
    "colab": {
     "base_uri": "https://localhost:8080/",
     "height": 502
    },
    "id": "RfEVfDiq12sU",
    "outputId": "27ed81ad-8a46-4a8f-e89e-783d00273c3c"
   },
   "outputs": [
    {
     "data": {
      "image/png": "[encoded data removed]",
      "text/plain": [
       "<Figure size 1080x576 with 1 Axes>"
      ]
     },
     "metadata": {},
     "output_type": "display_data"
    }
   ],
   "source": [
    "sns.set(rc = {'figure.figsize':(15,8)})\n",
    "c=sns.diverging_palette(145, 20, s=60, as_cmap=False)\n",
    "g=sns.countplot(x='V_TYPE',data=data,log=False,palette=(sns.color_palette(\"terrain_r\", 19)))"
   ]
  },
  {
   "cell_type": "markdown",
   "metadata": {
    "id": "rT7u3fio68ZH"
   },
   "source": [
    "Observamos que el tipo de vehículo que más accidentes tiene es el coche particular, lo cual es lo más lógico ya que hay más cantidad de coches en la carretera que máquinas de nieve, siendo este el número 16, por ejemplo."
   ]
  }
 ],
 "metadata": {
  "accelerator": "GPU",
  "colab": {
   "collapsed_sections": [
    "VTk9JjLTlyqH",
    "le13RwvZhPeV",
    "nC60q6cjnwGX",
    "I_jJrobgcr2H",
    "mFVb8TfbfjqF",
    "IxiRQJH5sAta",
    "Z6KujMwnz67B",
    "ofovlh47hSbX",
    "P5zRq675iFsE",
    "G6R0sONdmBL9",
    "Kp6HtBOimEzV",
    "MjsNgK1pz-va",
    "4ERLjtiroxok",
    "r-cULjSNmyDY",
    "pCcoF7mxmG6E",
    "SldnpO251YdL"
   ],
   "name": "PracticaFinal.ipynb",
   "provenance": []
  },
  "kernelspec": {
   "display_name": "Python 3",
   "language": "python",
   "name": "python3"
  },
  "language_info": {
   "codemirror_mode": {
    "name": "ipython",
    "version": 3
   },
   "file_extension": ".py",
   "mimetype": "text/x-python",
   "name": "python",
   "nbconvert_exporter": "python",
   "pygments_lexer": "ipython3",
   "version": "3.8.5"
  }
 },
 "nbformat": 4,
 "nbformat_minor": 5
}
