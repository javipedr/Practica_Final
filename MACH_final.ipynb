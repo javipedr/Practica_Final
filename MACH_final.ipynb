{
 "cells": [
  {
   "cell_type": "markdown",
   "metadata": {
    "id": "6f7c6e11"
   },
   "source": [
    "### PRÁCTICA FINAL"
   ]
  },
  {
   "cell_type": "code",
   "execution_count": 1,
   "metadata": {
    "id": "e4c42c6b"
   },
   "outputs": [],
   "source": [
    "import pandas as pd \n",
    "import numpy as np\n",
    "import matplotlib.pyplot as plt\n",
    "import category_encoders as ce\n",
    "import matplotlib.pyplot as plt\n",
    "from numpy.random import rand, seed\n",
    "from sklearn.preprocessing import StandardScaler\n",
    "from sklearn.neighbors import kneighbors_graph\n",
    "from matplotlib.colors import ListedColormap\n",
    "from sklearn.cluster import KMeans, SpectralClustering, DBSCAN, AgglomerativeClustering\n",
    "from sklearn.mixture import GaussianMixture\n",
    "from sklearn.metrics import adjusted_mutual_info_score\n",
    "import seaborn as sns"
   ]
  },
  {
   "cell_type": "code",
   "execution_count": 2,
   "metadata": {
    "colab": {
     "base_uri": "https://localhost:8080/"
    },
    "id": "9d019d7c",
    "outputId": "10977959-95a6-4dab-cf61-ed3ee56e9042"
   },
   "outputs": [
    {
     "name": "stderr",
     "output_type": "stream",
     "text": [
      "D:\\ANACONDA\\lib\\site-packages\\IPython\\core\\interactiveshell.py:3146: DtypeWarning: Columns (1,2,5,12) have mixed types.Specify dtype option on import or set low_memory=False.\n",
      "  has_raised = await self.run_ast_nodes(code_ast.body, cell_name,\n"
     ]
    }
   ],
   "source": [
    "ncdb= pd.read_csv('NCDB_1999_to_2014.csv')"
   ]
  },
  {
   "cell_type": "code",
   "execution_count": 3,
   "metadata": {},
   "outputs": [
    {
     "data": {
      "text/plain": [
       "(5860405, 22)"
      ]
     },
     "execution_count": 3,
     "metadata": {},
     "output_type": "execute_result"
    }
   ],
   "source": [
    "ncdb.shape"
   ]
  },
  {
   "cell_type": "code",
   "execution_count": 4,
   "metadata": {
    "colab": {
     "base_uri": "https://localhost:8080/"
    },
    "id": "c7e448e4",
    "outputId": "08503345-c995-4806-8a78-54a617dd5dfb",
    "scrolled": true
   },
   "outputs": [
    {
     "data": {
      "text/plain": [
       "{'C_YEAR': dtype('int64'),\n",
       " 'C_MNTH': dtype('O'),\n",
       " 'C_WDAY': dtype('O'),\n",
       " 'C_HOUR': dtype('O'),\n",
       " 'C_SEV': dtype('int64'),\n",
       " 'C_VEHS': dtype('O'),\n",
       " 'C_CONF': dtype('O'),\n",
       " 'C_RCFG': dtype('O'),\n",
       " 'C_WTHR': dtype('O'),\n",
       " 'C_RSUR': dtype('O'),\n",
       " 'C_RALN': dtype('O'),\n",
       " 'C_TRAF': dtype('O'),\n",
       " 'V_ID': dtype('O'),\n",
       " 'V_TYPE': dtype('O'),\n",
       " 'V_YEAR': dtype('O'),\n",
       " 'P_ID': dtype('O'),\n",
       " 'P_SEX': dtype('O'),\n",
       " 'P_AGE': dtype('O'),\n",
       " 'P_PSN': dtype('O'),\n",
       " 'P_ISEV': dtype('O'),\n",
       " 'P_SAFE': dtype('O'),\n",
       " 'P_USER': dtype('O')}"
      ]
     },
     "execution_count": 4,
     "metadata": {},
     "output_type": "execute_result"
    }
   ],
   "source": [
    "ncdb.dtypes.to_dict()"
   ]
  },
  {
   "cell_type": "code",
   "execution_count": 5,
   "metadata": {
    "colab": {
     "base_uri": "https://localhost:8080/"
    },
    "id": "71cbed62",
    "outputId": "a69f9a6c-c4de-4b77-fcea-fb1961562d8e"
   },
   "outputs": [
    {
     "data": {
      "text/plain": [
       "C_YEAR    0\n",
       "C_MNTH    0\n",
       "C_WDAY    0\n",
       "C_HOUR    0\n",
       "C_SEV     0\n",
       "C_VEHS    3\n",
       "C_CONF    0\n",
       "C_RCFG    0\n",
       "C_WTHR    0\n",
       "C_RSUR    0\n",
       "C_RALN    0\n",
       "C_TRAF    0\n",
       "V_ID      0\n",
       "V_TYPE    0\n",
       "V_YEAR    0\n",
       "P_ID      0\n",
       "P_SEX     0\n",
       "P_AGE     0\n",
       "P_PSN     0\n",
       "P_ISEV    0\n",
       "P_SAFE    0\n",
       "P_USER    0\n",
       "dtype: int64"
      ]
     },
     "execution_count": 5,
     "metadata": {},
     "output_type": "execute_result"
    }
   ],
   "source": [
    "ncdb.isna().sum() "
   ]
  },
  {
   "cell_type": "code",
   "execution_count": 6,
   "metadata": {
    "id": "eb4cdfe5"
   },
   "outputs": [],
   "source": [
    "#sol=[]\n",
    "#for i in range(0,len(ncdb['C_VEHS'])):\n",
    " #   c=list(ncdb['C_VEHS'].isna())\n",
    "  #  if c[i]== True:\n",
    "   #     sol.append(i)\n",
    "#print(sol)"
   ]
  },
  {
   "cell_type": "code",
   "execution_count": 7,
   "metadata": {
    "colab": {
     "base_uri": "https://localhost:8080/",
     "height": 456
    },
    "id": "fb24062b",
    "outputId": "885d3b38-7b69-4638-8221-3ae5922a2482",
    "scrolled": false
   },
   "outputs": [
    {
     "data": {
      "text/html": [
       "<div>\n",
       "<style scoped>\n",
       "    .dataframe tbody tr th:only-of-type {\n",
       "        vertical-align: middle;\n",
       "    }\n",
       "\n",
       "    .dataframe tbody tr th {\n",
       "        vertical-align: top;\n",
       "    }\n",
       "\n",
       "    .dataframe thead th {\n",
       "        text-align: right;\n",
       "    }\n",
       "</style>\n",
       "<table border=\"1\" class=\"dataframe\">\n",
       "  <thead>\n",
       "    <tr style=\"text-align: right;\">\n",
       "      <th></th>\n",
       "      <th>C_YEAR</th>\n",
       "      <th>C_MNTH</th>\n",
       "      <th>C_WDAY</th>\n",
       "      <th>C_HOUR</th>\n",
       "      <th>C_SEV</th>\n",
       "      <th>C_VEHS</th>\n",
       "      <th>C_CONF</th>\n",
       "      <th>C_RCFG</th>\n",
       "      <th>C_WTHR</th>\n",
       "      <th>C_RSUR</th>\n",
       "      <th>...</th>\n",
       "      <th>V_ID</th>\n",
       "      <th>V_TYPE</th>\n",
       "      <th>V_YEAR</th>\n",
       "      <th>P_ID</th>\n",
       "      <th>P_SEX</th>\n",
       "      <th>P_AGE</th>\n",
       "      <th>P_PSN</th>\n",
       "      <th>P_ISEV</th>\n",
       "      <th>P_SAFE</th>\n",
       "      <th>P_USER</th>\n",
       "    </tr>\n",
       "  </thead>\n",
       "  <tbody>\n",
       "    <tr>\n",
       "      <th>0</th>\n",
       "      <td>1999</td>\n",
       "      <td>1</td>\n",
       "      <td>1</td>\n",
       "      <td>20</td>\n",
       "      <td>2</td>\n",
       "      <td>02</td>\n",
       "      <td>34</td>\n",
       "      <td>UU</td>\n",
       "      <td>1</td>\n",
       "      <td>5</td>\n",
       "      <td>...</td>\n",
       "      <td>01</td>\n",
       "      <td>06</td>\n",
       "      <td>1990</td>\n",
       "      <td>01</td>\n",
       "      <td>M</td>\n",
       "      <td>41</td>\n",
       "      <td>11</td>\n",
       "      <td>1</td>\n",
       "      <td>UU</td>\n",
       "      <td>1</td>\n",
       "    </tr>\n",
       "    <tr>\n",
       "      <th>1</th>\n",
       "      <td>1999</td>\n",
       "      <td>1</td>\n",
       "      <td>1</td>\n",
       "      <td>20</td>\n",
       "      <td>2</td>\n",
       "      <td>02</td>\n",
       "      <td>34</td>\n",
       "      <td>UU</td>\n",
       "      <td>1</td>\n",
       "      <td>5</td>\n",
       "      <td>...</td>\n",
       "      <td>02</td>\n",
       "      <td>01</td>\n",
       "      <td>1987</td>\n",
       "      <td>01</td>\n",
       "      <td>M</td>\n",
       "      <td>19</td>\n",
       "      <td>11</td>\n",
       "      <td>1</td>\n",
       "      <td>UU</td>\n",
       "      <td>1</td>\n",
       "    </tr>\n",
       "    <tr>\n",
       "      <th>2</th>\n",
       "      <td>1999</td>\n",
       "      <td>1</td>\n",
       "      <td>1</td>\n",
       "      <td>20</td>\n",
       "      <td>2</td>\n",
       "      <td>02</td>\n",
       "      <td>34</td>\n",
       "      <td>UU</td>\n",
       "      <td>1</td>\n",
       "      <td>5</td>\n",
       "      <td>...</td>\n",
       "      <td>02</td>\n",
       "      <td>01</td>\n",
       "      <td>1987</td>\n",
       "      <td>02</td>\n",
       "      <td>F</td>\n",
       "      <td>20</td>\n",
       "      <td>13</td>\n",
       "      <td>2</td>\n",
       "      <td>02</td>\n",
       "      <td>2</td>\n",
       "    </tr>\n",
       "    <tr>\n",
       "      <th>3</th>\n",
       "      <td>1999</td>\n",
       "      <td>1</td>\n",
       "      <td>1</td>\n",
       "      <td>08</td>\n",
       "      <td>2</td>\n",
       "      <td>01</td>\n",
       "      <td>01</td>\n",
       "      <td>UU</td>\n",
       "      <td>5</td>\n",
       "      <td>3</td>\n",
       "      <td>...</td>\n",
       "      <td>01</td>\n",
       "      <td>01</td>\n",
       "      <td>1986</td>\n",
       "      <td>01</td>\n",
       "      <td>M</td>\n",
       "      <td>46</td>\n",
       "      <td>11</td>\n",
       "      <td>1</td>\n",
       "      <td>UU</td>\n",
       "      <td>1</td>\n",
       "    </tr>\n",
       "    <tr>\n",
       "      <th>4</th>\n",
       "      <td>1999</td>\n",
       "      <td>1</td>\n",
       "      <td>1</td>\n",
       "      <td>08</td>\n",
       "      <td>2</td>\n",
       "      <td>01</td>\n",
       "      <td>01</td>\n",
       "      <td>UU</td>\n",
       "      <td>5</td>\n",
       "      <td>3</td>\n",
       "      <td>...</td>\n",
       "      <td>99</td>\n",
       "      <td>NN</td>\n",
       "      <td>NNNN</td>\n",
       "      <td>01</td>\n",
       "      <td>M</td>\n",
       "      <td>05</td>\n",
       "      <td>99</td>\n",
       "      <td>2</td>\n",
       "      <td>UU</td>\n",
       "      <td>3</td>\n",
       "    </tr>\n",
       "    <tr>\n",
       "      <th>5</th>\n",
       "      <td>1999</td>\n",
       "      <td>1</td>\n",
       "      <td>1</td>\n",
       "      <td>17</td>\n",
       "      <td>2</td>\n",
       "      <td>03</td>\n",
       "      <td>QQ</td>\n",
       "      <td>QQ</td>\n",
       "      <td>1</td>\n",
       "      <td>2</td>\n",
       "      <td>...</td>\n",
       "      <td>01</td>\n",
       "      <td>01</td>\n",
       "      <td>1984</td>\n",
       "      <td>01</td>\n",
       "      <td>M</td>\n",
       "      <td>28</td>\n",
       "      <td>11</td>\n",
       "      <td>1</td>\n",
       "      <td>UU</td>\n",
       "      <td>1</td>\n",
       "    </tr>\n",
       "    <tr>\n",
       "      <th>6</th>\n",
       "      <td>1999</td>\n",
       "      <td>1</td>\n",
       "      <td>1</td>\n",
       "      <td>17</td>\n",
       "      <td>2</td>\n",
       "      <td>03</td>\n",
       "      <td>QQ</td>\n",
       "      <td>QQ</td>\n",
       "      <td>1</td>\n",
       "      <td>2</td>\n",
       "      <td>...</td>\n",
       "      <td>02</td>\n",
       "      <td>01</td>\n",
       "      <td>1991</td>\n",
       "      <td>01</td>\n",
       "      <td>M</td>\n",
       "      <td>21</td>\n",
       "      <td>11</td>\n",
       "      <td>1</td>\n",
       "      <td>UU</td>\n",
       "      <td>1</td>\n",
       "    </tr>\n",
       "    <tr>\n",
       "      <th>7</th>\n",
       "      <td>1999</td>\n",
       "      <td>1</td>\n",
       "      <td>1</td>\n",
       "      <td>17</td>\n",
       "      <td>2</td>\n",
       "      <td>03</td>\n",
       "      <td>QQ</td>\n",
       "      <td>QQ</td>\n",
       "      <td>1</td>\n",
       "      <td>2</td>\n",
       "      <td>...</td>\n",
       "      <td>02</td>\n",
       "      <td>01</td>\n",
       "      <td>1991</td>\n",
       "      <td>02</td>\n",
       "      <td>F</td>\n",
       "      <td>UU</td>\n",
       "      <td>13</td>\n",
       "      <td>2</td>\n",
       "      <td>UU</td>\n",
       "      <td>2</td>\n",
       "    </tr>\n",
       "    <tr>\n",
       "      <th>8</th>\n",
       "      <td>1999</td>\n",
       "      <td>1</td>\n",
       "      <td>1</td>\n",
       "      <td>17</td>\n",
       "      <td>2</td>\n",
       "      <td>03</td>\n",
       "      <td>QQ</td>\n",
       "      <td>QQ</td>\n",
       "      <td>1</td>\n",
       "      <td>2</td>\n",
       "      <td>...</td>\n",
       "      <td>03</td>\n",
       "      <td>01</td>\n",
       "      <td>1992</td>\n",
       "      <td>01</td>\n",
       "      <td>M</td>\n",
       "      <td>UU</td>\n",
       "      <td>11</td>\n",
       "      <td>2</td>\n",
       "      <td>UU</td>\n",
       "      <td>1</td>\n",
       "    </tr>\n",
       "    <tr>\n",
       "      <th>9</th>\n",
       "      <td>1999</td>\n",
       "      <td>1</td>\n",
       "      <td>1</td>\n",
       "      <td>15</td>\n",
       "      <td>2</td>\n",
       "      <td>01</td>\n",
       "      <td>04</td>\n",
       "      <td>UU</td>\n",
       "      <td>1</td>\n",
       "      <td>5</td>\n",
       "      <td>...</td>\n",
       "      <td>01</td>\n",
       "      <td>01</td>\n",
       "      <td>1997</td>\n",
       "      <td>01</td>\n",
       "      <td>M</td>\n",
       "      <td>61</td>\n",
       "      <td>11</td>\n",
       "      <td>1</td>\n",
       "      <td>UU</td>\n",
       "      <td>1</td>\n",
       "    </tr>\n",
       "  </tbody>\n",
       "</table>\n",
       "<p>10 rows × 22 columns</p>\n",
       "</div>"
      ],
      "text/plain": [
       "   C_YEAR C_MNTH C_WDAY C_HOUR  C_SEV C_VEHS C_CONF C_RCFG C_WTHR C_RSUR  ...  \\\n",
       "0    1999      1      1     20      2     02     34     UU      1      5  ...   \n",
       "1    1999      1      1     20      2     02     34     UU      1      5  ...   \n",
       "2    1999      1      1     20      2     02     34     UU      1      5  ...   \n",
       "3    1999      1      1     08      2     01     01     UU      5      3  ...   \n",
       "4    1999      1      1     08      2     01     01     UU      5      3  ...   \n",
       "5    1999      1      1     17      2     03     QQ     QQ      1      2  ...   \n",
       "6    1999      1      1     17      2     03     QQ     QQ      1      2  ...   \n",
       "7    1999      1      1     17      2     03     QQ     QQ      1      2  ...   \n",
       "8    1999      1      1     17      2     03     QQ     QQ      1      2  ...   \n",
       "9    1999      1      1     15      2     01     04     UU      1      5  ...   \n",
       "\n",
       "  V_ID V_TYPE V_YEAR P_ID P_SEX P_AGE P_PSN P_ISEV P_SAFE P_USER  \n",
       "0   01     06   1990   01     M    41    11      1     UU      1  \n",
       "1   02     01   1987   01     M    19    11      1     UU      1  \n",
       "2   02     01   1987   02     F    20    13      2     02      2  \n",
       "3   01     01   1986   01     M    46    11      1     UU      1  \n",
       "4   99     NN   NNNN   01     M    05    99      2     UU      3  \n",
       "5   01     01   1984   01     M    28    11      1     UU      1  \n",
       "6   02     01   1991   01     M    21    11      1     UU      1  \n",
       "7   02     01   1991   02     F    UU    13      2     UU      2  \n",
       "8   03     01   1992   01     M    UU    11      2     UU      1  \n",
       "9   01     01   1997   01     M    61    11      1     UU      1  \n",
       "\n",
       "[10 rows x 22 columns]"
      ]
     },
     "execution_count": 7,
     "metadata": {},
     "output_type": "execute_result"
    }
   ],
   "source": [
    "ncdb.head(10)"
   ]
  },
  {
   "cell_type": "markdown",
   "metadata": {},
   "source": [
    "Debido a la gran cantidad de datos vamos a tomar una submuestra ya que computacionalmente no podemos trabajar con tantos datos."
   ]
  },
  {
   "cell_type": "code",
   "execution_count": 8,
   "metadata": {},
   "outputs": [],
   "source": [
    "ncdb=ncdb.sample(frac=0.10,random_state=0,axis=0)"
   ]
  },
  {
   "cell_type": "code",
   "execution_count": 9,
   "metadata": {},
   "outputs": [
    {
     "data": {
      "text/plain": [
       "(586040, 22)"
      ]
     },
     "execution_count": 9,
     "metadata": {},
     "output_type": "execute_result"
    }
   ],
   "source": [
    "ncdb.shape"
   ]
  },
  {
   "cell_type": "code",
   "execution_count": 10,
   "metadata": {},
   "outputs": [
    {
     "data": {
      "text/html": [
       "<div>\n",
       "<style scoped>\n",
       "    .dataframe tbody tr th:only-of-type {\n",
       "        vertical-align: middle;\n",
       "    }\n",
       "\n",
       "    .dataframe tbody tr th {\n",
       "        vertical-align: top;\n",
       "    }\n",
       "\n",
       "    .dataframe thead th {\n",
       "        text-align: right;\n",
       "    }\n",
       "</style>\n",
       "<table border=\"1\" class=\"dataframe\">\n",
       "  <thead>\n",
       "    <tr style=\"text-align: right;\">\n",
       "      <th></th>\n",
       "      <th>C_YEAR</th>\n",
       "      <th>C_MNTH</th>\n",
       "      <th>C_WDAY</th>\n",
       "      <th>C_HOUR</th>\n",
       "      <th>C_SEV</th>\n",
       "      <th>C_VEHS</th>\n",
       "      <th>C_CONF</th>\n",
       "      <th>C_RCFG</th>\n",
       "      <th>C_WTHR</th>\n",
       "      <th>C_RSUR</th>\n",
       "      <th>...</th>\n",
       "      <th>V_ID</th>\n",
       "      <th>V_TYPE</th>\n",
       "      <th>V_YEAR</th>\n",
       "      <th>P_ID</th>\n",
       "      <th>P_SEX</th>\n",
       "      <th>P_AGE</th>\n",
       "      <th>P_PSN</th>\n",
       "      <th>P_ISEV</th>\n",
       "      <th>P_SAFE</th>\n",
       "      <th>P_USER</th>\n",
       "    </tr>\n",
       "  </thead>\n",
       "  <tbody>\n",
       "    <tr>\n",
       "      <th>3875526</th>\n",
       "      <td>2008</td>\n",
       "      <td>11</td>\n",
       "      <td>1</td>\n",
       "      <td>13</td>\n",
       "      <td>2</td>\n",
       "      <td>2</td>\n",
       "      <td>UU</td>\n",
       "      <td>02</td>\n",
       "      <td>2</td>\n",
       "      <td>3</td>\n",
       "      <td>...</td>\n",
       "      <td>1</td>\n",
       "      <td>01</td>\n",
       "      <td>1997</td>\n",
       "      <td>01</td>\n",
       "      <td>M</td>\n",
       "      <td>73</td>\n",
       "      <td>11</td>\n",
       "      <td>1</td>\n",
       "      <td>UU</td>\n",
       "      <td>1</td>\n",
       "    </tr>\n",
       "    <tr>\n",
       "      <th>5184676</th>\n",
       "      <td>2012</td>\n",
       "      <td>10</td>\n",
       "      <td>6</td>\n",
       "      <td>12</td>\n",
       "      <td>2</td>\n",
       "      <td>1</td>\n",
       "      <td>06</td>\n",
       "      <td>02</td>\n",
       "      <td>3</td>\n",
       "      <td>2</td>\n",
       "      <td>...</td>\n",
       "      <td>01</td>\n",
       "      <td>01</td>\n",
       "      <td>1999</td>\n",
       "      <td>01</td>\n",
       "      <td>M</td>\n",
       "      <td>17</td>\n",
       "      <td>11</td>\n",
       "      <td>2</td>\n",
       "      <td>02</td>\n",
       "      <td>1</td>\n",
       "    </tr>\n",
       "    <tr>\n",
       "      <th>5109095</th>\n",
       "      <td>2012</td>\n",
       "      <td>8</td>\n",
       "      <td>2</td>\n",
       "      <td>00</td>\n",
       "      <td>2</td>\n",
       "      <td>1</td>\n",
       "      <td>04</td>\n",
       "      <td>01</td>\n",
       "      <td>1</td>\n",
       "      <td>1</td>\n",
       "      <td>...</td>\n",
       "      <td>01</td>\n",
       "      <td>01</td>\n",
       "      <td>1999</td>\n",
       "      <td>01</td>\n",
       "      <td>M</td>\n",
       "      <td>33</td>\n",
       "      <td>11</td>\n",
       "      <td>2</td>\n",
       "      <td>02</td>\n",
       "      <td>1</td>\n",
       "    </tr>\n",
       "    <tr>\n",
       "      <th>4268397</th>\n",
       "      <td>2010</td>\n",
       "      <td>01</td>\n",
       "      <td>2</td>\n",
       "      <td>10</td>\n",
       "      <td>2</td>\n",
       "      <td>02</td>\n",
       "      <td>21</td>\n",
       "      <td>02</td>\n",
       "      <td>1</td>\n",
       "      <td>2</td>\n",
       "      <td>...</td>\n",
       "      <td>1</td>\n",
       "      <td>01</td>\n",
       "      <td>2005</td>\n",
       "      <td>01</td>\n",
       "      <td>M</td>\n",
       "      <td>50</td>\n",
       "      <td>11</td>\n",
       "      <td>1</td>\n",
       "      <td>02</td>\n",
       "      <td>1</td>\n",
       "    </tr>\n",
       "    <tr>\n",
       "      <th>4655495</th>\n",
       "      <td>2011</td>\n",
       "      <td>3</td>\n",
       "      <td>2</td>\n",
       "      <td>02</td>\n",
       "      <td>2</td>\n",
       "      <td>2</td>\n",
       "      <td>06</td>\n",
       "      <td>01</td>\n",
       "      <td>1</td>\n",
       "      <td>1</td>\n",
       "      <td>...</td>\n",
       "      <td>1</td>\n",
       "      <td>01</td>\n",
       "      <td>2009</td>\n",
       "      <td>02</td>\n",
       "      <td>M</td>\n",
       "      <td>36</td>\n",
       "      <td>13</td>\n",
       "      <td>1</td>\n",
       "      <td>02</td>\n",
       "      <td>2</td>\n",
       "    </tr>\n",
       "  </tbody>\n",
       "</table>\n",
       "<p>5 rows × 22 columns</p>\n",
       "</div>"
      ],
      "text/plain": [
       "         C_YEAR C_MNTH C_WDAY C_HOUR  C_SEV C_VEHS C_CONF C_RCFG C_WTHR  \\\n",
       "3875526    2008     11      1     13      2      2     UU     02      2   \n",
       "5184676    2012     10      6     12      2      1     06     02      3   \n",
       "5109095    2012      8      2     00      2      1     04     01      1   \n",
       "4268397    2010     01      2     10      2     02     21     02      1   \n",
       "4655495    2011      3      2     02      2      2     06     01      1   \n",
       "\n",
       "        C_RSUR  ... V_ID V_TYPE V_YEAR P_ID P_SEX P_AGE P_PSN P_ISEV P_SAFE  \\\n",
       "3875526      3  ...    1     01   1997   01     M    73    11      1     UU   \n",
       "5184676      2  ...   01     01   1999   01     M    17    11      2     02   \n",
       "5109095      1  ...   01     01   1999   01     M    33    11      2     02   \n",
       "4268397      2  ...    1     01   2005   01     M    50    11      1     02   \n",
       "4655495      1  ...    1     01   2009   02     M    36    13      1     02   \n",
       "\n",
       "        P_USER  \n",
       "3875526      1  \n",
       "5184676      1  \n",
       "5109095      1  \n",
       "4268397      1  \n",
       "4655495      2  \n",
       "\n",
       "[5 rows x 22 columns]"
      ]
     },
     "execution_count": 10,
     "metadata": {},
     "output_type": "execute_result"
    }
   ],
   "source": [
    "ncdb.head()"
   ]
  },
  {
   "cell_type": "code",
   "execution_count": 11,
   "metadata": {},
   "outputs": [],
   "source": [
    "ncdb.reset_index(drop=True,inplace=True)"
   ]
  },
  {
   "cell_type": "code",
   "execution_count": 12,
   "metadata": {},
   "outputs": [
    {
     "data": {
      "text/html": [
       "<div>\n",
       "<style scoped>\n",
       "    .dataframe tbody tr th:only-of-type {\n",
       "        vertical-align: middle;\n",
       "    }\n",
       "\n",
       "    .dataframe tbody tr th {\n",
       "        vertical-align: top;\n",
       "    }\n",
       "\n",
       "    .dataframe thead th {\n",
       "        text-align: right;\n",
       "    }\n",
       "</style>\n",
       "<table border=\"1\" class=\"dataframe\">\n",
       "  <thead>\n",
       "    <tr style=\"text-align: right;\">\n",
       "      <th></th>\n",
       "      <th>C_YEAR</th>\n",
       "      <th>C_MNTH</th>\n",
       "      <th>C_WDAY</th>\n",
       "      <th>C_HOUR</th>\n",
       "      <th>C_SEV</th>\n",
       "      <th>C_VEHS</th>\n",
       "      <th>C_CONF</th>\n",
       "      <th>C_RCFG</th>\n",
       "      <th>C_WTHR</th>\n",
       "      <th>C_RSUR</th>\n",
       "      <th>...</th>\n",
       "      <th>V_ID</th>\n",
       "      <th>V_TYPE</th>\n",
       "      <th>V_YEAR</th>\n",
       "      <th>P_ID</th>\n",
       "      <th>P_SEX</th>\n",
       "      <th>P_AGE</th>\n",
       "      <th>P_PSN</th>\n",
       "      <th>P_ISEV</th>\n",
       "      <th>P_SAFE</th>\n",
       "      <th>P_USER</th>\n",
       "    </tr>\n",
       "  </thead>\n",
       "  <tbody>\n",
       "    <tr>\n",
       "      <th>0</th>\n",
       "      <td>2008</td>\n",
       "      <td>11</td>\n",
       "      <td>1</td>\n",
       "      <td>13</td>\n",
       "      <td>2</td>\n",
       "      <td>2</td>\n",
       "      <td>UU</td>\n",
       "      <td>02</td>\n",
       "      <td>2</td>\n",
       "      <td>3</td>\n",
       "      <td>...</td>\n",
       "      <td>1</td>\n",
       "      <td>01</td>\n",
       "      <td>1997</td>\n",
       "      <td>01</td>\n",
       "      <td>M</td>\n",
       "      <td>73</td>\n",
       "      <td>11</td>\n",
       "      <td>1</td>\n",
       "      <td>UU</td>\n",
       "      <td>1</td>\n",
       "    </tr>\n",
       "    <tr>\n",
       "      <th>1</th>\n",
       "      <td>2012</td>\n",
       "      <td>10</td>\n",
       "      <td>6</td>\n",
       "      <td>12</td>\n",
       "      <td>2</td>\n",
       "      <td>1</td>\n",
       "      <td>06</td>\n",
       "      <td>02</td>\n",
       "      <td>3</td>\n",
       "      <td>2</td>\n",
       "      <td>...</td>\n",
       "      <td>01</td>\n",
       "      <td>01</td>\n",
       "      <td>1999</td>\n",
       "      <td>01</td>\n",
       "      <td>M</td>\n",
       "      <td>17</td>\n",
       "      <td>11</td>\n",
       "      <td>2</td>\n",
       "      <td>02</td>\n",
       "      <td>1</td>\n",
       "    </tr>\n",
       "    <tr>\n",
       "      <th>2</th>\n",
       "      <td>2012</td>\n",
       "      <td>8</td>\n",
       "      <td>2</td>\n",
       "      <td>00</td>\n",
       "      <td>2</td>\n",
       "      <td>1</td>\n",
       "      <td>04</td>\n",
       "      <td>01</td>\n",
       "      <td>1</td>\n",
       "      <td>1</td>\n",
       "      <td>...</td>\n",
       "      <td>01</td>\n",
       "      <td>01</td>\n",
       "      <td>1999</td>\n",
       "      <td>01</td>\n",
       "      <td>M</td>\n",
       "      <td>33</td>\n",
       "      <td>11</td>\n",
       "      <td>2</td>\n",
       "      <td>02</td>\n",
       "      <td>1</td>\n",
       "    </tr>\n",
       "    <tr>\n",
       "      <th>3</th>\n",
       "      <td>2010</td>\n",
       "      <td>01</td>\n",
       "      <td>2</td>\n",
       "      <td>10</td>\n",
       "      <td>2</td>\n",
       "      <td>02</td>\n",
       "      <td>21</td>\n",
       "      <td>02</td>\n",
       "      <td>1</td>\n",
       "      <td>2</td>\n",
       "      <td>...</td>\n",
       "      <td>1</td>\n",
       "      <td>01</td>\n",
       "      <td>2005</td>\n",
       "      <td>01</td>\n",
       "      <td>M</td>\n",
       "      <td>50</td>\n",
       "      <td>11</td>\n",
       "      <td>1</td>\n",
       "      <td>02</td>\n",
       "      <td>1</td>\n",
       "    </tr>\n",
       "    <tr>\n",
       "      <th>4</th>\n",
       "      <td>2011</td>\n",
       "      <td>3</td>\n",
       "      <td>2</td>\n",
       "      <td>02</td>\n",
       "      <td>2</td>\n",
       "      <td>2</td>\n",
       "      <td>06</td>\n",
       "      <td>01</td>\n",
       "      <td>1</td>\n",
       "      <td>1</td>\n",
       "      <td>...</td>\n",
       "      <td>1</td>\n",
       "      <td>01</td>\n",
       "      <td>2009</td>\n",
       "      <td>02</td>\n",
       "      <td>M</td>\n",
       "      <td>36</td>\n",
       "      <td>13</td>\n",
       "      <td>1</td>\n",
       "      <td>02</td>\n",
       "      <td>2</td>\n",
       "    </tr>\n",
       "  </tbody>\n",
       "</table>\n",
       "<p>5 rows × 22 columns</p>\n",
       "</div>"
      ],
      "text/plain": [
       "   C_YEAR C_MNTH C_WDAY C_HOUR  C_SEV C_VEHS C_CONF C_RCFG C_WTHR C_RSUR  ...  \\\n",
       "0    2008     11      1     13      2      2     UU     02      2      3  ...   \n",
       "1    2012     10      6     12      2      1     06     02      3      2  ...   \n",
       "2    2012      8      2     00      2      1     04     01      1      1  ...   \n",
       "3    2010     01      2     10      2     02     21     02      1      2  ...   \n",
       "4    2011      3      2     02      2      2     06     01      1      1  ...   \n",
       "\n",
       "  V_ID V_TYPE V_YEAR P_ID P_SEX P_AGE P_PSN P_ISEV P_SAFE P_USER  \n",
       "0    1     01   1997   01     M    73    11      1     UU      1  \n",
       "1   01     01   1999   01     M    17    11      2     02      1  \n",
       "2   01     01   1999   01     M    33    11      2     02      1  \n",
       "3    1     01   2005   01     M    50    11      1     02      1  \n",
       "4    1     01   2009   02     M    36    13      1     02      2  \n",
       "\n",
       "[5 rows x 22 columns]"
      ]
     },
     "execution_count": 12,
     "metadata": {},
     "output_type": "execute_result"
    }
   ],
   "source": [
    "ncdb.head()"
   ]
  },
  {
   "cell_type": "code",
   "execution_count": 13,
   "metadata": {},
   "outputs": [
    {
     "data": {
      "text/plain": [
       "C_YEAR    0\n",
       "C_MNTH    0\n",
       "C_WDAY    0\n",
       "C_HOUR    0\n",
       "C_SEV     0\n",
       "C_VEHS    0\n",
       "C_CONF    0\n",
       "C_RCFG    0\n",
       "C_WTHR    0\n",
       "C_RSUR    0\n",
       "C_RALN    0\n",
       "C_TRAF    0\n",
       "V_ID      0\n",
       "V_TYPE    0\n",
       "V_YEAR    0\n",
       "P_ID      0\n",
       "P_SEX     0\n",
       "P_AGE     0\n",
       "P_PSN     0\n",
       "P_ISEV    0\n",
       "P_SAFE    0\n",
       "P_USER    0\n",
       "dtype: int64"
      ]
     },
     "execution_count": 13,
     "metadata": {},
     "output_type": "execute_result"
    }
   ],
   "source": [
    "ncdb.isna().sum() "
   ]
  },
  {
   "cell_type": "markdown",
   "metadata": {
    "id": "f03468c1"
   },
   "source": [
    "Observamos como son las variables, en en enlace de kaggle el usuario que proporcionó los datos comentó que hay variables que toman las cifras 01 y 1, siendo el mismo valor, al igual que hay números tomados como string y otros como enteros. Por consiguiente, analizaremos los valores de cada una de las variables y modificaremos alguno de los valores para que se pueda ajustar mejor a los modelos predictivos."
   ]
  },
  {
   "cell_type": "code",
   "execution_count": 14,
   "metadata": {
    "colab": {
     "base_uri": "https://localhost:8080/"
    },
    "id": "ftnVSooEoxOV",
    "outputId": "366d4144-0309-4170-bb77-b12a04f705bf"
   },
   "outputs": [
    {
     "data": {
      "text/plain": [
       "2000    41841\n",
       "2002    41796\n",
       "1999    41507\n",
       "2003    40910\n",
       "2001    40878\n",
       "2004    38910\n",
       "2005    38720\n",
       "2006    37810\n",
       "2007    36778\n",
       "2008    33833\n",
       "2010    33587\n",
       "2009    33411\n",
       "2011    32822\n",
       "2012    32100\n",
       "2013    31502\n",
       "2014    29635\n",
       "Name: C_YEAR, dtype: int64"
      ]
     },
     "execution_count": 14,
     "metadata": {},
     "output_type": "execute_result"
    }
   ],
   "source": [
    "ncdb['C_YEAR'].value_counts()"
   ]
  },
  {
   "cell_type": "code",
   "execution_count": 15,
   "metadata": {
    "colab": {
     "base_uri": "https://localhost:8080/"
    },
    "id": "4a4728f6",
    "outputId": "4d08948d-f823-4d5a-ecc3-baa6dee4d607",
    "scrolled": false
   },
   "outputs": [
    {
     "data": {
      "text/plain": [
       "8     0.093200\n",
       "7     0.091514\n",
       "6     0.088958\n",
       "10    0.087927\n",
       "9     0.087760\n",
       "11    0.084388\n",
       "5     0.080198\n",
       "3     0.071461\n",
       "2     0.070422\n",
       "4     0.066948\n",
       "12    0.047447\n",
       "01    0.043985\n",
       "12    0.042637\n",
       "1     0.041166\n",
       "02    0.001578\n",
       "11    0.000346\n",
       "UU    0.000063\n",
       "Name: C_MNTH, dtype: float64"
      ]
     },
     "execution_count": 15,
     "metadata": {},
     "output_type": "execute_result"
    }
   ],
   "source": [
    "ncdb['C_MNTH'].value_counts(normalize=True)"
   ]
  },
  {
   "cell_type": "code",
   "execution_count": 16,
   "metadata": {
    "id": "6efdd10f"
   },
   "outputs": [],
   "source": [
    "for i in list(range(0,10)):\n",
    "    ncdb.loc[ncdb['C_MNTH']==f'0{i}', 'C_MNTH']=i"
   ]
  },
  {
   "cell_type": "code",
   "execution_count": 17,
   "metadata": {
    "colab": {
     "base_uri": "https://localhost:8080/"
    },
    "id": "81226380",
    "outputId": "4078bca8-511a-42e8-b784-0b4fb6776e83"
   },
   "outputs": [
    {
     "data": {
      "text/plain": [
       "8     0.093200\n",
       "7     0.091514\n",
       "6     0.088958\n",
       "10    0.087927\n",
       "9     0.087760\n",
       "1     0.085151\n",
       "11    0.084388\n",
       "5     0.080198\n",
       "2     0.072000\n",
       "3     0.071461\n",
       "4     0.066948\n",
       "12    0.047447\n",
       "12    0.042637\n",
       "11    0.000346\n",
       "UU    0.000063\n",
       "Name: C_MNTH, dtype: float64"
      ]
     },
     "execution_count": 17,
     "metadata": {},
     "output_type": "execute_result"
    }
   ],
   "source": [
    "ncdb['C_MNTH'].value_counts(normalize=True)"
   ]
  },
  {
   "cell_type": "code",
   "execution_count": 18,
   "metadata": {
    "colab": {
     "base_uri": "https://localhost:8080/"
    },
    "id": "6IRNm-kgQFAN",
    "outputId": "ed2eb598-89a0-4569-a247-c2f16f45eab5"
   },
   "outputs": [
    {
     "data": {
      "text/plain": [
       "5    0.087897\n",
       "5    0.082902\n",
       "6    0.078196\n",
       "4    0.075022\n",
       "4    0.073440\n",
       "1    0.071816\n",
       "3    0.071256\n",
       "2    0.070345\n",
       "6    0.069915\n",
       "2    0.069577\n",
       "3    0.069038\n",
       "7    0.066473\n",
       "1    0.060187\n",
       "7    0.053723\n",
       "U    0.000212\n",
       "Name: C_WDAY, dtype: float64"
      ]
     },
     "execution_count": 18,
     "metadata": {},
     "output_type": "execute_result"
    }
   ],
   "source": [
    "ncdb['C_WDAY'].value_counts(normalize=True)"
   ]
  },
  {
   "cell_type": "code",
   "execution_count": 19,
   "metadata": {
    "id": "i8iRad7yQE9h"
   },
   "outputs": [],
   "source": [
    "for i in list(range(0,8)):\n",
    "    ncdb.loc[ncdb['C_WDAY']==f'{i}', 'C_WDAY']=i"
   ]
  },
  {
   "cell_type": "code",
   "execution_count": 20,
   "metadata": {
    "colab": {
     "base_uri": "https://localhost:8080/"
    },
    "id": "fDF_rEDHQE66",
    "outputId": "3e41d08a-2466-4238-8cbc-12bfba1a3628"
   },
   "outputs": [
    {
     "data": {
      "text/plain": [
       "5    0.170799\n",
       "4    0.148463\n",
       "6    0.148111\n",
       "3    0.140294\n",
       "2    0.139922\n",
       "1    0.132003\n",
       "7    0.120197\n",
       "U    0.000212\n",
       "Name: C_WDAY, dtype: float64"
      ]
     },
     "execution_count": 20,
     "metadata": {},
     "output_type": "execute_result"
    }
   ],
   "source": [
    "ncdb['C_WDAY'].value_counts(normalize=True)"
   ]
  },
  {
   "cell_type": "code",
   "execution_count": 21,
   "metadata": {
    "colab": {
     "base_uri": "https://localhost:8080/"
    },
    "id": "b1dd3124",
    "outputId": "babcba75-a48d-4c7b-a6a5-a4e47e5231a7",
    "scrolled": false
   },
   "outputs": [
    {
     "data": {
      "text/plain": [
       "16    0.088368\n",
       "17    0.085177\n",
       "15    0.084172\n",
       "14    0.067949\n",
       "18    0.063915\n",
       "13    0.062733\n",
       "12    0.062474\n",
       "08    0.051822\n",
       "11    0.051408\n",
       "19    0.048319\n",
       "10    0.042323\n",
       "09    0.038680\n",
       "20    0.037332\n",
       "07    0.035535\n",
       "21    0.035194\n",
       "22    0.028377\n",
       "23    0.022033\n",
       "06    0.017896\n",
       "00    0.015001\n",
       "02    0.013233\n",
       "01    0.012687\n",
       "03    0.010979\n",
       "UU    0.010062\n",
       "05    0.007764\n",
       "04    0.006568\n",
       "Name: C_HOUR, dtype: float64"
      ]
     },
     "execution_count": 21,
     "metadata": {},
     "output_type": "execute_result"
    }
   ],
   "source": [
    "ncdb['C_HOUR'].value_counts(normalize=True)"
   ]
  },
  {
   "cell_type": "code",
   "execution_count": 22,
   "metadata": {
    "colab": {
     "base_uri": "https://localhost:8080/"
    },
    "id": "56b5ac9e",
    "outputId": "6ff6bcb3-8325-4bd3-be8a-df8462e3e4bf"
   },
   "outputs": [
    {
     "data": {
      "text/plain": [
       "2    0.982836\n",
       "1    0.017164\n",
       "Name: C_SEV, dtype: float64"
      ]
     },
     "execution_count": 22,
     "metadata": {},
     "output_type": "execute_result"
    }
   ],
   "source": [
    "ncdb['C_SEV'].value_counts(normalize=True)"
   ]
  },
  {
   "cell_type": "code",
   "execution_count": 23,
   "metadata": {
    "colab": {
     "base_uri": "https://localhost:8080/"
    },
    "id": "ca6fabb2",
    "outputId": "28d45c31-664c-4851-8dc7-0d10bdf10c43",
    "scrolled": true
   },
   "outputs": [
    {
     "data": {
      "text/plain": [
       "2     0.323065\n",
       "02    0.293466\n",
       "1     0.113369\n",
       "01    0.100128\n",
       "3     0.065869\n",
       "03    0.059982\n",
       "4     0.016623\n",
       "04    0.014531\n",
       "5     0.003833\n",
       "05    0.003583\n",
       "6     0.001339\n",
       "06    0.001056\n",
       "7     0.000517\n",
       "07    0.000457\n",
       "8     0.000258\n",
       "10    0.000181\n",
       "08    0.000181\n",
       "09    0.000159\n",
       "9     0.000154\n",
       "UU    0.000094\n",
       "Name: C_VEHS, dtype: float64"
      ]
     },
     "execution_count": 23,
     "metadata": {},
     "output_type": "execute_result"
    }
   ],
   "source": [
    "ncdb['C_VEHS'].value_counts(normalize=True).head(20)"
   ]
  },
  {
   "cell_type": "code",
   "execution_count": 24,
   "metadata": {
    "id": "7204b064"
   },
   "outputs": [],
   "source": [
    "for i in list(range(0,10)):\n",
    "    ncdb.loc[ncdb['C_VEHS']==f'0{i}', 'C_VEHS']=i"
   ]
  },
  {
   "cell_type": "code",
   "execution_count": 25,
   "metadata": {
    "colab": {
     "base_uri": "https://localhost:8080/"
    },
    "id": "e11f9fff",
    "outputId": "52ac28f4-5f33-4618-cd03-7e52c58026d0",
    "scrolled": true
   },
   "outputs": [
    {
     "data": {
      "text/plain": [
       "2     0.616531\n",
       "1     0.213497\n",
       "3     0.125851\n",
       "4     0.031155\n",
       "5     0.007416\n",
       "6     0.002396\n",
       "7     0.000974\n",
       "8     0.000439\n",
       "9     0.000312\n",
       "10    0.000181\n",
       "UU    0.000094\n",
       "12    0.000085\n",
       "11    0.000078\n",
       "11    0.000070\n",
       "10    0.000067\n",
       "14    0.000051\n",
       "36    0.000049\n",
       "14    0.000043\n",
       "13    0.000041\n",
       "15    0.000039\n",
       "15    0.000039\n",
       "20    0.000032\n",
       "13    0.000027\n",
       "12    0.000024\n",
       "16    0.000024\n",
       "18    0.000022\n",
       "35    0.000020\n",
       "44    0.000020\n",
       "16    0.000020\n",
       "72    0.000019\n",
       "22    0.000017\n",
       "54    0.000017\n",
       "17    0.000017\n",
       "71    0.000017\n",
       "24    0.000015\n",
       "77    0.000014\n",
       "58    0.000014\n",
       "21    0.000014\n",
       "19    0.000012\n",
       "38    0.000012\n",
       "43    0.000012\n",
       "51    0.000012\n",
       "38    0.000012\n",
       "27    0.000012\n",
       "77    0.000012\n",
       "17    0.000012\n",
       "37    0.000010\n",
       "28    0.000010\n",
       "26    0.000009\n",
       "31    0.000009\n",
       "25    0.000009\n",
       "18    0.000009\n",
       "39    0.000009\n",
       "41    0.000009\n",
       "57    0.000009\n",
       "19    0.000007\n",
       "30    0.000007\n",
       "56    0.000007\n",
       "29    0.000007\n",
       "20    0.000005\n",
       "Name: C_VEHS, dtype: float64"
      ]
     },
     "execution_count": 25,
     "metadata": {},
     "output_type": "execute_result"
    }
   ],
   "source": [
    "ncdb['C_VEHS'].value_counts(normalize=True).head(60)"
   ]
  },
  {
   "cell_type": "markdown",
   "metadata": {
    "id": "89d7526e"
   },
   "source": [
    "Observamos que en este caso exiten dos valores de 11, de 10.. debido a que son cifras de distinto tipo.En la siguiente celda definiremos dichos valores como enteros."
   ]
  },
  {
   "cell_type": "code",
   "execution_count": 26,
   "metadata": {
    "id": "41229c3b"
   },
   "outputs": [],
   "source": [
    "for i in list(range(10,100)):\n",
    "    ncdb.loc[ncdb['C_VEHS']==f'{i}', 'C_VEHS']=i"
   ]
  },
  {
   "cell_type": "code",
   "execution_count": 27,
   "metadata": {
    "colab": {
     "base_uri": "https://localhost:8080/"
    },
    "id": "9bb11174",
    "outputId": "4506c1e7-3ffc-4cd7-b6f7-c340a2837081"
   },
   "outputs": [
    {
     "data": {
      "text/plain": [
       "2     0.616531\n",
       "1     0.213497\n",
       "3     0.125851\n",
       "4     0.031155\n",
       "5     0.007416\n",
       "6     0.002396\n",
       "7     0.000974\n",
       "8     0.000439\n",
       "9     0.000312\n",
       "10    0.000247\n",
       "11    0.000148\n",
       "12    0.000109\n",
       "14    0.000094\n",
       "UU    0.000094\n",
       "15    0.000078\n",
       "13    0.000068\n",
       "36    0.000049\n",
       "16    0.000044\n",
       "20    0.000038\n",
       "18    0.000031\n",
       "17    0.000029\n",
       "77    0.000026\n",
       "38    0.000024\n",
       "22    0.000022\n",
       "44    0.000020\n",
       "35    0.000020\n",
       "21    0.000019\n",
       "72    0.000019\n",
       "19    0.000019\n",
       "24    0.000019\n",
       "71    0.000017\n",
       "54    0.000017\n",
       "27    0.000017\n",
       "58    0.000014\n",
       "26    0.000014\n",
       "43    0.000012\n",
       "51    0.000012\n",
       "28    0.000010\n",
       "25    0.000010\n",
       "37    0.000010\n",
       "39    0.000009\n",
       "31    0.000009\n",
       "41    0.000009\n",
       "57    0.000009\n",
       "29    0.000007\n",
       "30    0.000007\n",
       "56    0.000007\n",
       "40    0.000005\n",
       "46    0.000005\n",
       "23    0.000003\n",
       "33    0.000003\n",
       "32    0.000003\n",
       "34    0.000002\n",
       "Name: C_VEHS, dtype: float64"
      ]
     },
     "execution_count": 27,
     "metadata": {},
     "output_type": "execute_result"
    }
   ],
   "source": [
    "ncdb['C_VEHS'].value_counts(normalize=True)"
   ]
  },
  {
   "cell_type": "code",
   "execution_count": 28,
   "metadata": {
    "colab": {
     "base_uri": "https://localhost:8080/"
    },
    "id": "8d6548c1",
    "outputId": "976bffad-5fb1-4e20-bb27-515f7eedbdde",
    "scrolled": true
   },
   "outputs": [
    {
     "data": {
      "text/plain": [
       "21    0.301751\n",
       "35    0.148077\n",
       "06    0.087927\n",
       "36    0.073722\n",
       "33    0.072010\n",
       "QQ    0.048364\n",
       "04    0.036791\n",
       "22    0.034039\n",
       "31    0.033694\n",
       "02    0.031494\n",
       "UU    0.030363\n",
       "03    0.028435\n",
       "01    0.015902\n",
       "41    0.013567\n",
       "23    0.011984\n",
       "34    0.010631\n",
       "24    0.008902\n",
       "32    0.008086\n",
       "05    0.002305\n",
       "25    0.001955\n",
       "Name: C_CONF, dtype: float64"
      ]
     },
     "execution_count": 28,
     "metadata": {},
     "output_type": "execute_result"
    }
   ],
   "source": [
    "ncdb['C_CONF'].value_counts(normalize=True)"
   ]
  },
  {
   "cell_type": "markdown",
   "metadata": {
    "id": "5743a26f"
   },
   "source": [
    "En la variable `C_CONF` tomaremos el valor 'QQ' como el número 45, indicando que los objetos implicados en la colisión son otros distintos a los considerados por el estado de Canada."
   ]
  },
  {
   "cell_type": "code",
   "execution_count": 29,
   "metadata": {
    "id": "becf7558"
   },
   "outputs": [],
   "source": [
    "ncdb.loc[ncdb['C_CONF']=='QQ', 'C_CONF']=45"
   ]
  },
  {
   "cell_type": "code",
   "execution_count": 30,
   "metadata": {
    "colab": {
     "base_uri": "https://localhost:8080/"
    },
    "id": "e07e0714",
    "outputId": "fea2014b-5152-4fec-fcb3-b609e0c870a6",
    "scrolled": false
   },
   "outputs": [
    {
     "data": {
      "text/plain": [
       "21    0.301751\n",
       "35    0.148077\n",
       "06    0.087927\n",
       "36    0.073722\n",
       "33    0.072010\n",
       "45    0.048364\n",
       "04    0.036791\n",
       "22    0.034039\n",
       "31    0.033694\n",
       "02    0.031494\n",
       "UU    0.030363\n",
       "03    0.028435\n",
       "01    0.015902\n",
       "41    0.013567\n",
       "23    0.011984\n",
       "34    0.010631\n",
       "24    0.008902\n",
       "32    0.008086\n",
       "05    0.002305\n",
       "25    0.001955\n",
       "Name: C_CONF, dtype: float64"
      ]
     },
     "execution_count": 30,
     "metadata": {},
     "output_type": "execute_result"
    }
   ],
   "source": [
    "ncdb['C_CONF'].value_counts(normalize=True)"
   ]
  },
  {
   "cell_type": "code",
   "execution_count": 31,
   "metadata": {
    "colab": {
     "base_uri": "https://localhost:8080/"
    },
    "id": "07637052",
    "outputId": "58200f46-a74c-4ea0-9e27-c2e8f9137d95",
    "scrolled": true
   },
   "outputs": [
    {
     "data": {
      "text/plain": [
       "02    0.467656\n",
       "01    0.355989\n",
       "UU    0.086223\n",
       "03    0.049509\n",
       "QQ    0.024488\n",
       "05    0.008482\n",
       "04    0.004107\n",
       "08    0.001964\n",
       "06    0.001008\n",
       "09    0.000317\n",
       "07    0.000159\n",
       "10    0.000097\n",
       "Name: C_RCFG, dtype: float64"
      ]
     },
     "execution_count": 31,
     "metadata": {},
     "output_type": "execute_result"
    }
   ],
   "source": [
    "ncdb['C_RCFG'].value_counts(normalize=True)"
   ]
  },
  {
   "cell_type": "markdown",
   "metadata": {
    "id": "9e9166d9"
   },
   "source": [
    "Definiremos el valor de 'QQ' como 13 en la variable `C_RCFG` , indicando que es un escenario distinto a los conemplados."
   ]
  },
  {
   "cell_type": "code",
   "execution_count": 32,
   "metadata": {
    "id": "af0ff093"
   },
   "outputs": [],
   "source": [
    "ncdb.loc[ncdb['C_RCFG']=='QQ', 'C_RCFG']=13"
   ]
  },
  {
   "cell_type": "code",
   "execution_count": 33,
   "metadata": {
    "colab": {
     "base_uri": "https://localhost:8080/"
    },
    "id": "0aa3df54",
    "outputId": "d909fa21-bf96-4e2c-9cab-b46cd29055c7"
   },
   "outputs": [
    {
     "data": {
      "text/plain": [
       "02    0.467656\n",
       "01    0.355989\n",
       "UU    0.086223\n",
       "03    0.049509\n",
       "13    0.024488\n",
       "05    0.008482\n",
       "04    0.004107\n",
       "08    0.001964\n",
       "06    0.001008\n",
       "09    0.000317\n",
       "07    0.000159\n",
       "10    0.000097\n",
       "Name: C_RCFG, dtype: float64"
      ]
     },
     "execution_count": 33,
     "metadata": {},
     "output_type": "execute_result"
    }
   ],
   "source": [
    "ncdb['C_RCFG'].value_counts(normalize=True)"
   ]
  },
  {
   "cell_type": "code",
   "execution_count": 34,
   "metadata": {
    "colab": {
     "base_uri": "https://localhost:8080/"
    },
    "id": "2879d6f1",
    "outputId": "f43192b3-1f35-435d-de91-ca8cb4af64eb",
    "scrolled": false
   },
   "outputs": [
    {
     "data": {
      "text/plain": [
       "1    0.694453\n",
       "2    0.102833\n",
       "3    0.102331\n",
       "4    0.060996\n",
       "U    0.015066\n",
       "6    0.013895\n",
       "5    0.005250\n",
       "Q    0.002612\n",
       "7    0.002565\n",
       "Name: C_WTHR, dtype: float64"
      ]
     },
     "execution_count": 34,
     "metadata": {},
     "output_type": "execute_result"
    }
   ],
   "source": [
    "ncdb['C_WTHR'].value_counts(normalize=True)"
   ]
  },
  {
   "cell_type": "markdown",
   "metadata": {
    "id": "a6cdf961"
   },
   "source": [
    "Este caso es el mismo que los anteriores y definiremos 'Q' con el valor 8."
   ]
  },
  {
   "cell_type": "code",
   "execution_count": 35,
   "metadata": {
    "id": "6e05401a"
   },
   "outputs": [],
   "source": [
    "ncdb.loc[ncdb['C_WTHR']=='Q', 'C_WTHR']=8"
   ]
  },
  {
   "cell_type": "code",
   "execution_count": 36,
   "metadata": {
    "colab": {
     "base_uri": "https://localhost:8080/"
    },
    "id": "b791c771",
    "outputId": "7151664a-8eab-40d7-87ec-6c14547042bc",
    "scrolled": true
   },
   "outputs": [
    {
     "data": {
      "text/plain": [
       "1    0.694453\n",
       "2    0.102833\n",
       "3    0.102331\n",
       "4    0.060996\n",
       "U    0.015066\n",
       "6    0.013895\n",
       "5    0.005250\n",
       "8    0.002612\n",
       "7    0.002565\n",
       "Name: C_WTHR, dtype: float64"
      ]
     },
     "execution_count": 36,
     "metadata": {},
     "output_type": "execute_result"
    }
   ],
   "source": [
    "ncdb['C_WTHR'].value_counts(normalize=True)"
   ]
  },
  {
   "cell_type": "code",
   "execution_count": 37,
   "metadata": {
    "colab": {
     "base_uri": "https://localhost:8080/"
    },
    "id": "d37ba03a",
    "outputId": "2b92fe63-2fa5-413d-ce0c-e0e4207c2d66",
    "scrolled": true
   },
   "outputs": [
    {
     "data": {
      "text/plain": [
       "1    0.656221\n",
       "2    0.184498\n",
       "5    0.054392\n",
       "3    0.044381\n",
       "Q    0.029010\n",
       "U    0.013475\n",
       "4    0.012313\n",
       "6    0.004430\n",
       "7    0.001027\n",
       "8    0.000203\n",
       "9    0.000049\n",
       "Name: C_RSUR, dtype: float64"
      ]
     },
     "execution_count": 37,
     "metadata": {},
     "output_type": "execute_result"
    }
   ],
   "source": [
    "ncdb['C_RSUR'].value_counts(normalize=True)"
   ]
  },
  {
   "cell_type": "markdown",
   "metadata": {
    "id": "e86c7d2b"
   },
   "source": [
    "Aqui 'Q' tomará el valor 10:"
   ]
  },
  {
   "cell_type": "code",
   "execution_count": 38,
   "metadata": {
    "id": "2fea1909"
   },
   "outputs": [],
   "source": [
    "ncdb.loc[ncdb['C_RSUR']=='Q', 'C_RSUR']=10"
   ]
  },
  {
   "cell_type": "code",
   "execution_count": 39,
   "metadata": {
    "colab": {
     "base_uri": "https://localhost:8080/"
    },
    "id": "92fb0706",
    "outputId": "ba7d06cc-55c8-4c50-8628-c2c2e200f5a8"
   },
   "outputs": [
    {
     "data": {
      "text/plain": [
       "1     0.656221\n",
       "2     0.184498\n",
       "5     0.054392\n",
       "3     0.044381\n",
       "10    0.029010\n",
       "U     0.013475\n",
       "4     0.012313\n",
       "6     0.004430\n",
       "7     0.001027\n",
       "8     0.000203\n",
       "9     0.000049\n",
       "Name: C_RSUR, dtype: float64"
      ]
     },
     "execution_count": 39,
     "metadata": {},
     "output_type": "execute_result"
    }
   ],
   "source": [
    "ncdb['C_RSUR'].value_counts(normalize=True)"
   ]
  },
  {
   "cell_type": "code",
   "execution_count": 40,
   "metadata": {
    "colab": {
     "base_uri": "https://localhost:8080/"
    },
    "id": "7d662e58",
    "outputId": "369037c1-897b-4679-a410-7988aab31e31",
    "scrolled": false
   },
   "outputs": [
    {
     "data": {
      "text/plain": [
       "1    0.710496\n",
       "2    0.100070\n",
       "U    0.073720\n",
       "3    0.061465\n",
       "4    0.038286\n",
       "5    0.006414\n",
       "Q    0.004971\n",
       "6    0.004578\n",
       "Name: C_RALN, dtype: float64"
      ]
     },
     "execution_count": 40,
     "metadata": {},
     "output_type": "execute_result"
    }
   ],
   "source": [
    "ncdb['C_RALN'].value_counts(normalize=True)"
   ]
  },
  {
   "cell_type": "markdown",
   "metadata": {
    "id": "68f68df6"
   },
   "source": [
    "En esta variable, 'Q' tomará el valor más alto que sería 7."
   ]
  },
  {
   "cell_type": "code",
   "execution_count": 41,
   "metadata": {
    "id": "1505db0e"
   },
   "outputs": [],
   "source": [
    "ncdb.loc[ncdb['C_RALN']=='Q', 'C_RALN']=7"
   ]
  },
  {
   "cell_type": "code",
   "execution_count": 42,
   "metadata": {
    "colab": {
     "base_uri": "https://localhost:8080/"
    },
    "id": "86f39a21",
    "outputId": "1b80ef5c-6cd0-4007-d3d6-c7bca6b01edc"
   },
   "outputs": [
    {
     "data": {
      "text/plain": [
       "1    0.710496\n",
       "2    0.100070\n",
       "U    0.073720\n",
       "3    0.061465\n",
       "4    0.038286\n",
       "5    0.006414\n",
       "7    0.004971\n",
       "6    0.004578\n",
       "Name: C_RALN, dtype: float64"
      ]
     },
     "execution_count": 42,
     "metadata": {},
     "output_type": "execute_result"
    }
   ],
   "source": [
    "ncdb['C_RALN'].value_counts(normalize=True)"
   ]
  },
  {
   "cell_type": "code",
   "execution_count": 43,
   "metadata": {
    "colab": {
     "base_uri": "https://localhost:8080/"
    },
    "id": "b43ce9f9",
    "outputId": "dd6e53fb-0cfb-471b-fb99-e74a84b556d2",
    "scrolled": true
   },
   "outputs": [
    {
     "data": {
      "text/plain": [
       "18    0.524230\n",
       "01    0.277681\n",
       "03    0.110696\n",
       "UU    0.038137\n",
       "04    0.015153\n",
       "QQ    0.013830\n",
       "06    0.007675\n",
       "08    0.004280\n",
       "02    0.003283\n",
       "13    0.000737\n",
       "05    0.000676\n",
       "17    0.000667\n",
       "15    0.000654\n",
       "11    0.000618\n",
       "12    0.000543\n",
       "10    0.000497\n",
       "07    0.000415\n",
       "16    0.000142\n",
       "09    0.000089\n",
       "Name: C_TRAF, dtype: float64"
      ]
     },
     "execution_count": 43,
     "metadata": {},
     "output_type": "execute_result"
    }
   ],
   "source": [
    "ncdb['C_TRAF'].value_counts(normalize=True)"
   ]
  },
  {
   "cell_type": "markdown",
   "metadata": {
    "id": "a106e5a7"
   },
   "source": [
    "En este caso definiremos 'QQ' con el valor 19:"
   ]
  },
  {
   "cell_type": "code",
   "execution_count": 44,
   "metadata": {
    "id": "0343fc31"
   },
   "outputs": [],
   "source": [
    "ncdb.loc[ncdb['C_TRAF']=='QQ', 'C_TRAF']=19"
   ]
  },
  {
   "cell_type": "code",
   "execution_count": 45,
   "metadata": {
    "colab": {
     "base_uri": "https://localhost:8080/"
    },
    "id": "7ce5cf1b",
    "outputId": "f8cd9336-ac09-4af4-8cf4-c0d7583bc259"
   },
   "outputs": [
    {
     "data": {
      "text/plain": [
       "18    0.524230\n",
       "01    0.277681\n",
       "03    0.110696\n",
       "UU    0.038137\n",
       "04    0.015153\n",
       "19    0.013830\n",
       "06    0.007675\n",
       "08    0.004280\n",
       "02    0.003283\n",
       "13    0.000737\n",
       "05    0.000676\n",
       "17    0.000667\n",
       "15    0.000654\n",
       "11    0.000618\n",
       "12    0.000543\n",
       "10    0.000497\n",
       "07    0.000415\n",
       "16    0.000142\n",
       "09    0.000089\n",
       "Name: C_TRAF, dtype: float64"
      ]
     },
     "execution_count": 45,
     "metadata": {},
     "output_type": "execute_result"
    }
   ],
   "source": [
    "ncdb['C_TRAF'].value_counts(normalize=True)"
   ]
  },
  {
   "cell_type": "code",
   "execution_count": 46,
   "metadata": {
    "colab": {
     "base_uri": "https://localhost:8080/"
    },
    "id": "4a34da40",
    "outputId": "10c1d59e-cfe0-4281-db87-49cff790b755",
    "scrolled": true
   },
   "outputs": [
    {
     "data": {
      "text/plain": [
       "01    0.341325\n",
       "02    0.237402\n",
       "1     0.189001\n",
       "2     0.129722\n",
       "03    0.032728\n",
       "        ...   \n",
       "52    0.000002\n",
       "32    0.000002\n",
       "47    0.000002\n",
       "42    0.000002\n",
       "22    0.000002\n",
       "Name: V_ID, Length: 97, dtype: float64"
      ]
     },
     "execution_count": 46,
     "metadata": {},
     "output_type": "execute_result"
    }
   ],
   "source": [
    "ncdb['V_ID'].value_counts(normalize=True)"
   ]
  },
  {
   "cell_type": "markdown",
   "metadata": {
    "id": "9f69cfa8"
   },
   "source": [
    "Analizando la variable `V_ID` toman valores 01, 02, 03... además de 1, 2, 3... en consecuencia los definimos todos como enteros:"
   ]
  },
  {
   "cell_type": "code",
   "execution_count": 47,
   "metadata": {
    "id": "625420b5",
    "scrolled": true
   },
   "outputs": [],
   "source": [
    "for i in list(range(0,10)):\n",
    "    ncdb.loc[ncdb['V_ID']==f'0{i}', 'V_ID']=i"
   ]
  },
  {
   "cell_type": "code",
   "execution_count": 48,
   "metadata": {
    "colab": {
     "base_uri": "https://localhost:8080/"
    },
    "id": "7f41d105",
    "outputId": "fa40c7c4-ffc3-4dcc-d49a-245e82cff5e2",
    "scrolled": true
   },
   "outputs": [
    {
     "data": {
      "text/plain": [
       "1     0.530326\n",
       "2     0.367123\n",
       "3     0.050961\n",
       "99    0.023423\n",
       "99    0.014252\n",
       "        ...   \n",
       "52    0.000002\n",
       "47    0.000002\n",
       "42    0.000002\n",
       "36    0.000002\n",
       "22    0.000002\n",
       "Name: V_ID, Length: 88, dtype: float64"
      ]
     },
     "execution_count": 48,
     "metadata": {},
     "output_type": "execute_result"
    }
   ],
   "source": [
    "ncdb['V_ID'].value_counts(normalize=True)"
   ]
  },
  {
   "cell_type": "markdown",
   "metadata": {
    "id": "4d284323"
   },
   "source": [
    "Esta variable sigue tomando los mismos valores como si fuesen distintos (véase el caso del 99), en consecuencia redifiniremos dichos valores para que sean del mismo tipo:"
   ]
  },
  {
   "cell_type": "code",
   "execution_count": 49,
   "metadata": {
    "id": "7fef7b58"
   },
   "outputs": [],
   "source": [
    "for i in list(range(10,100)):\n",
    "    ncdb.loc[ncdb['V_ID']==f'{i}', 'V_ID']=i"
   ]
  },
  {
   "cell_type": "code",
   "execution_count": 50,
   "metadata": {
    "colab": {
     "base_uri": "https://localhost:8080/"
    },
    "id": "5c10433f",
    "outputId": "d594eff9-e78a-4bc8-a537-d7b6dfd05268",
    "scrolled": true
   },
   "outputs": [
    {
     "data": {
      "text/plain": [
       "1     0.530326\n",
       "2     0.367123\n",
       "3     0.050961\n",
       "99    0.037675\n",
       "4     0.009839\n",
       "5     0.002169\n",
       "6     0.000722\n",
       "7     0.000302\n",
       "8     0.000167\n",
       "9     0.000106\n",
       "UU    0.000075\n",
       "10    0.000068\n",
       "11    0.000053\n",
       "13    0.000044\n",
       "12    0.000039\n",
       "14    0.000031\n",
       "16    0.000031\n",
       "18    0.000020\n",
       "19    0.000020\n",
       "15    0.000015\n",
       "17    0.000015\n",
       "20    0.000015\n",
       "24    0.000014\n",
       "26    0.000010\n",
       "41    0.000010\n",
       "23    0.000009\n",
       "30    0.000009\n",
       "29    0.000009\n",
       "48    0.000009\n",
       "27    0.000007\n",
       "34    0.000007\n",
       "35    0.000007\n",
       "22    0.000007\n",
       "32    0.000007\n",
       "37    0.000007\n",
       "31    0.000005\n",
       "47    0.000005\n",
       "28    0.000005\n",
       "56    0.000005\n",
       "36    0.000005\n",
       "59    0.000005\n",
       "42    0.000003\n",
       "45    0.000003\n",
       "33    0.000003\n",
       "54    0.000003\n",
       "52    0.000003\n",
       "21    0.000003\n",
       "71    0.000002\n",
       "76    0.000002\n",
       "60    0.000002\n",
       "86    0.000002\n",
       "51    0.000002\n",
       "53    0.000002\n",
       "50    0.000002\n",
       "38    0.000002\n",
       "39    0.000002\n",
       "40    0.000002\n",
       "44    0.000002\n",
       "49    0.000002\n",
       "25    0.000002\n",
       "Name: V_ID, dtype: float64"
      ]
     },
     "execution_count": 50,
     "metadata": {},
     "output_type": "execute_result"
    }
   ],
   "source": [
    "ncdb['V_ID'].value_counts(normalize=True).head(60)"
   ]
  },
  {
   "cell_type": "code",
   "execution_count": 51,
   "metadata": {
    "colab": {
     "base_uri": "https://localhost:8080/"
    },
    "id": "8935c6d4",
    "outputId": "03f62fbb-d43c-4ff0-a9e7-c504480c95fc",
    "scrolled": true
   },
   "outputs": [
    {
     "data": {
      "text/plain": [
       "01    0.822673\n",
       "NN    0.039124\n",
       "06    0.029976\n",
       "17    0.021186\n",
       "14    0.021174\n",
       "07    0.015142\n",
       "08    0.011986\n",
       "05    0.011416\n",
       "11    0.008772\n",
       "UU    0.005165\n",
       "QQ    0.004348\n",
       "09    0.003687\n",
       "16    0.001647\n",
       "20    0.001292\n",
       "22    0.000783\n",
       "18    0.000572\n",
       "23    0.000503\n",
       "19    0.000295\n",
       "10    0.000130\n",
       "21    0.000130\n",
       "Name: V_TYPE, dtype: float64"
      ]
     },
     "execution_count": 51,
     "metadata": {},
     "output_type": "execute_result"
    }
   ],
   "source": [
    "ncdb['V_TYPE'].value_counts(normalize=True)"
   ]
  },
  {
   "cell_type": "markdown",
   "metadata": {
    "id": "6d0c50a5"
   },
   "source": [
    "La variable `V_TYPE` hace referencia al tipo de vehículo, en consecuencia han creado una variable denominada 'NN' indicando que es un elemento que no se ajusta a la variable, es decir no es un tipo de coche sino que por ejemplo indica que es un peatón. Para considerar este valor sin que sea un string lo definiremos con el valor 00, indicando que no es un vehículo.\n",
    "\n",
    "En cuanto al valor 'QQ' tomará el valor 24, ya que es un vehículo pero no corresponde con las características de los distintos tipos que han considerado."
   ]
  },
  {
   "cell_type": "code",
   "execution_count": 52,
   "metadata": {
    "id": "71db5690"
   },
   "outputs": [],
   "source": [
    "ncdb.loc[ncdb['V_TYPE']=='NN', 'V_TYPE']= 00\n",
    "ncdb.loc[ncdb['V_TYPE']=='QQ', 'V_TYPE']= 24"
   ]
  },
  {
   "cell_type": "code",
   "execution_count": 53,
   "metadata": {
    "colab": {
     "base_uri": "https://localhost:8080/"
    },
    "id": "c5e86922",
    "outputId": "78698c09-d83e-4d4a-912d-824c40c99d05"
   },
   "outputs": [
    {
     "data": {
      "text/plain": [
       "01    0.822673\n",
       "0     0.039124\n",
       "06    0.029976\n",
       "17    0.021186\n",
       "14    0.021174\n",
       "07    0.015142\n",
       "08    0.011986\n",
       "05    0.011416\n",
       "11    0.008772\n",
       "UU    0.005165\n",
       "24    0.004348\n",
       "09    0.003687\n",
       "16    0.001647\n",
       "20    0.001292\n",
       "22    0.000783\n",
       "18    0.000572\n",
       "23    0.000503\n",
       "19    0.000295\n",
       "10    0.000130\n",
       "21    0.000130\n",
       "Name: V_TYPE, dtype: float64"
      ]
     },
     "execution_count": 53,
     "metadata": {},
     "output_type": "execute_result"
    }
   ],
   "source": [
    "ncdb['V_TYPE'].value_counts(normalize=True)"
   ]
  },
  {
   "cell_type": "code",
   "execution_count": 54,
   "metadata": {
    "colab": {
     "base_uri": "https://localhost:8080/"
    },
    "id": "40bbfbc1",
    "outputId": "a904bb9f-5ac0-4699-bf1f-826847930540",
    "scrolled": true
   },
   "outputs": [
    {
     "data": {
      "text/plain": [
       "2000    0.055636\n",
       "UUUU    0.055484\n",
       "2002    0.049846\n",
       "1998    0.049758\n",
       "1999    0.048879\n",
       "2003    0.047667\n",
       "2001    0.047620\n",
       "1997    0.044924\n",
       "NNNN    0.044674\n",
       "2004    0.038948\n",
       "1995    0.038571\n",
       "2005    0.038562\n",
       "1996    0.033810\n",
       "1994    0.033066\n",
       "2006    0.033049\n",
       "1992    0.032726\n",
       "1993    0.031703\n",
       "2007    0.031334\n",
       "1991    0.029058\n",
       "1990    0.027196\n",
       "2008    0.025053\n",
       "1989    0.023891\n",
       "1988    0.020755\n",
       "2009    0.018023\n",
       "2010    0.015388\n",
       "1987    0.014118\n",
       "1986    0.012079\n",
       "2011    0.010951\n",
       "2012    0.008639\n",
       "1985    0.007878\n",
       "2013    0.006012\n",
       "1984    0.005411\n",
       "1983    0.003179\n",
       "1981    0.003010\n",
       "1982    0.002394\n",
       "2014    0.002327\n",
       "1980    0.001908\n",
       "1979    0.001524\n",
       "1978    0.001066\n",
       "1977    0.000776\n",
       "1976    0.000512\n",
       "1975    0.000384\n",
       "1974    0.000254\n",
       "1973    0.000253\n",
       "1972    0.000249\n",
       "2015    0.000205\n",
       "1970    0.000171\n",
       "1971    0.000167\n",
       "1969    0.000148\n",
       "1968    0.000118\n",
       "1967    0.000109\n",
       "1966    0.000089\n",
       "1964    0.000055\n",
       "1965    0.000051\n",
       "1963    0.000029\n",
       "1962    0.000027\n",
       "1957    0.000024\n",
       "1939    0.000022\n",
       "1956    0.000019\n",
       "1959    0.000015\n",
       "Name: V_YEAR, dtype: float64"
      ]
     },
     "execution_count": 54,
     "metadata": {},
     "output_type": "execute_result"
    }
   ],
   "source": [
    "ncdb['V_YEAR'].value_counts(normalize=True).head(60)"
   ]
  },
  {
   "cell_type": "markdown",
   "metadata": {
    "id": "15ac8493"
   },
   "source": [
    "Como el valor 'NNNN' indica que el año no procede, lo tomaremos como 0000:"
   ]
  },
  {
   "cell_type": "code",
   "execution_count": 55,
   "metadata": {
    "id": "fc8173c4"
   },
   "outputs": [],
   "source": [
    "ncdb.loc[ncdb['V_YEAR']=='NNNN', 'V_YEAR']= 0000"
   ]
  },
  {
   "cell_type": "code",
   "execution_count": 56,
   "metadata": {
    "colab": {
     "base_uri": "https://localhost:8080/"
    },
    "id": "f0c29303",
    "outputId": "21a1f9d9-7bcd-4871-f631-a4c23b39664e",
    "scrolled": false
   },
   "outputs": [
    {
     "data": {
      "text/plain": [
       "01    0.711829\n",
       "02    0.193854\n",
       "03    0.057720\n",
       "04    0.022471\n",
       "05    0.007209\n",
       "06    0.001932\n",
       "NN    0.001758\n",
       "07    0.000857\n",
       "08    0.000391\n",
       "09    0.000270\n",
       "10    0.000205\n",
       "11    0.000181\n",
       "12    0.000148\n",
       "13    0.000121\n",
       "14    0.000092\n",
       "17    0.000077\n",
       "21    0.000067\n",
       "16    0.000067\n",
       "15    0.000063\n",
       "18    0.000058\n",
       "20    0.000053\n",
       "23    0.000044\n",
       "19    0.000043\n",
       "30    0.000041\n",
       "25    0.000041\n",
       "22    0.000038\n",
       "29    0.000036\n",
       "34    0.000027\n",
       "27    0.000027\n",
       "31    0.000026\n",
       "26    0.000022\n",
       "32    0.000020\n",
       "24    0.000019\n",
       "37    0.000017\n",
       "33    0.000017\n",
       "28    0.000017\n",
       "38    0.000015\n",
       "35    0.000015\n",
       "36    0.000010\n",
       "42    0.000009\n",
       "39    0.000009\n",
       "51    0.000009\n",
       "44    0.000007\n",
       "43    0.000007\n",
       "45    0.000005\n",
       "UU    0.000005\n",
       "41    0.000005\n",
       "60    0.000005\n",
       "49    0.000005\n",
       "40    0.000005\n",
       "Name: P_ID, dtype: float64"
      ]
     },
     "execution_count": 56,
     "metadata": {},
     "output_type": "execute_result"
    }
   ],
   "source": [
    "ncdb['P_ID'].value_counts(normalize=True).head(50)"
   ]
  },
  {
   "cell_type": "markdown",
   "metadata": {
    "id": "7a82a5bd"
   },
   "source": [
    "En este caso tomaremos los valores 'NN' como 00 ya que es un elemento que no esta acorde con la variable `P_ID` que corresponde con la identificación de personas,por ejemplo, toman el valor 'NN' los coches que están aparcados."
   ]
  },
  {
   "cell_type": "code",
   "execution_count": 57,
   "metadata": {
    "id": "10c491a5"
   },
   "outputs": [],
   "source": [
    "ncdb.loc[ncdb['P_ID']=='NN', 'P_ID']= 00"
   ]
  },
  {
   "cell_type": "code",
   "execution_count": 58,
   "metadata": {
    "colab": {
     "base_uri": "https://localhost:8080/"
    },
    "id": "ae4bbaf8",
    "outputId": "73e9e562-4111-47dd-858b-bedb56550ebf"
   },
   "outputs": [
    {
     "data": {
      "text/plain": [
       "01    0.711829\n",
       "02    0.193854\n",
       "03    0.057720\n",
       "04    0.022471\n",
       "05    0.007209\n",
       "        ...   \n",
       "55    0.000002\n",
       "57    0.000002\n",
       "62    0.000002\n",
       "53    0.000002\n",
       "79    0.000002\n",
       "Name: P_ID, Length: 64, dtype: float64"
      ]
     },
     "execution_count": 58,
     "metadata": {},
     "output_type": "execute_result"
    }
   ],
   "source": [
    "ncdb['P_ID'].value_counts(normalize=True)"
   ]
  },
  {
   "cell_type": "code",
   "execution_count": 59,
   "metadata": {
    "colab": {
     "base_uri": "https://localhost:8080/"
    },
    "id": "45e46981",
    "outputId": "555f5e5d-801b-44ae-b030-f017177836da",
    "scrolled": true
   },
   "outputs": [
    {
     "data": {
      "text/plain": [
       "M    0.541209\n",
       "F    0.416007\n",
       "U    0.040383\n",
       "N    0.002401\n",
       "Name: P_SEX, dtype: float64"
      ]
     },
     "execution_count": 59,
     "metadata": {},
     "output_type": "execute_result"
    }
   ],
   "source": [
    "ncdb['P_SEX'].value_counts(normalize=True)"
   ]
  },
  {
   "cell_type": "markdown",
   "metadata": {
    "id": "9b175fd9"
   },
   "source": [
    "En este caso la variable `P_SEX` que hace referencia al sexo, no modificaremos sus valores sino que aplicaremos antes la función 'OneHotEncoder' ya que es un método más efectivo, que hacer una nueva escala para dichos elementos."
   ]
  },
  {
   "cell_type": "code",
   "execution_count": 60,
   "metadata": {
    "id": "3lvNvKi2XNvf"
   },
   "outputs": [],
   "source": [
    "#ncdb.loc[ncdb['P_SEX']=='N', 'P_SEX']= 0\n",
    "#ncdb.loc[ncdb['P_SEX']=='U', 'P_SEX']= np.nan\n",
    "#ncdb.loc[ncdb['P_SEX']=='M', 'P_SEX']= 1\n",
    "#ncdb.loc[ncdb['P_SEX']=='F', 'P_SEX']=2"
   ]
  },
  {
   "cell_type": "code",
   "execution_count": 61,
   "metadata": {
    "id": "fR6OHTIfWVFW"
   },
   "outputs": [],
   "source": [
    "import category_encoders as ce\n",
    "ohe = ce.OneHotEncoder(cols=ncdb[['P_SEX']])\n",
    "model = ohe.fit(ncdb)\n",
    "ncdb= model.transform(ncdb)"
   ]
  },
  {
   "cell_type": "code",
   "execution_count": 62,
   "metadata": {
    "colab": {
     "base_uri": "https://localhost:8080/"
    },
    "id": "hllUw3ssWU4z",
    "outputId": "57fb39fa-7ca8-4dfa-d8c0-8793a52bc536"
   },
   "outputs": [
    {
     "data": {
      "text/plain": [
       "Index(['C_YEAR', 'C_MNTH', 'C_WDAY', 'C_HOUR', 'C_SEV', 'C_VEHS', 'C_CONF',\n",
       "       'C_RCFG', 'C_WTHR', 'C_RSUR', 'C_RALN', 'C_TRAF', 'V_ID', 'V_TYPE',\n",
       "       'V_YEAR', 'P_ID', 'P_SEX_1', 'P_SEX_2', 'P_SEX_3', 'P_SEX_4', 'P_AGE',\n",
       "       'P_PSN', 'P_ISEV', 'P_SAFE', 'P_USER'],\n",
       "      dtype='object')"
      ]
     },
     "execution_count": 62,
     "metadata": {},
     "output_type": "execute_result"
    }
   ],
   "source": [
    "ncdb.columns"
   ]
  },
  {
   "cell_type": "code",
   "execution_count": 63,
   "metadata": {
    "colab": {
     "base_uri": "https://localhost:8080/"
    },
    "id": "d2aa86bd",
    "outputId": "e769af71-0827-4836-fb5a-1b1aeb9efce7",
    "scrolled": true
   },
   "outputs": [
    {
     "data": {
      "text/plain": [
       "UU    0.064851\n",
       "18    0.029356\n",
       "19    0.028317\n",
       "20    0.027450\n",
       "17    0.027211\n",
       "21    0.025131\n",
       "22    0.023553\n",
       "23    0.022309\n",
       "24    0.020768\n",
       "25    0.020072\n",
       "26    0.018922\n",
       "27    0.017946\n",
       "28    0.017415\n",
       "30    0.017071\n",
       "40    0.016859\n",
       "29    0.016704\n",
       "16    0.016642\n",
       "42    0.016361\n",
       "39    0.016347\n",
       "37    0.016091\n",
       "35    0.016074\n",
       "43    0.015932\n",
       "41    0.015927\n",
       "38    0.015910\n",
       "44    0.015910\n",
       "33    0.015907\n",
       "32    0.015902\n",
       "34    0.015900\n",
       "31    0.015818\n",
       "45    0.015763\n",
       "Name: P_AGE, dtype: float64"
      ]
     },
     "execution_count": 63,
     "metadata": {},
     "output_type": "execute_result"
    }
   ],
   "source": [
    "ncdb['P_AGE'].value_counts(normalize=True).head(30)"
   ]
  },
  {
   "cell_type": "markdown",
   "metadata": {
    "id": "d21e0db5"
   },
   "source": [
    "En este caso tomaremos el valor 'NN' como 111, ya que el valor 99 indica que tienen 99 años o más y el valor 00 que tiene menos de un año."
   ]
  },
  {
   "cell_type": "code",
   "execution_count": 64,
   "metadata": {
    "id": "84bff223"
   },
   "outputs": [],
   "source": [
    "ncdb.loc[ncdb['P_AGE']=='NN', 'P_AGE']= 111"
   ]
  },
  {
   "cell_type": "code",
   "execution_count": 65,
   "metadata": {
    "colab": {
     "base_uri": "https://localhost:8080/"
    },
    "id": "7083e30c",
    "outputId": "4575a06b-3c71-4a7b-c8f7-74695a6d4064",
    "scrolled": true
   },
   "outputs": [
    {
     "data": {
      "text/plain": [
       "11    0.669790\n",
       "13    0.151087\n",
       "23    0.044180\n",
       "21    0.036880\n",
       "99    0.035871\n",
       "22    0.015267\n",
       "12    0.014895\n",
       "UU    0.009824\n",
       "96    0.007539\n",
       "32    0.005051\n",
       "QQ    0.004399\n",
       "NN    0.002281\n",
       "98    0.001164\n",
       "33    0.000978\n",
       "31    0.000763\n",
       "97    0.000032\n",
       "Name: P_PSN, dtype: float64"
      ]
     },
     "execution_count": 65,
     "metadata": {},
     "output_type": "execute_result"
    }
   ],
   "source": [
    "ncdb['P_PSN'].value_counts(normalize=True)"
   ]
  },
  {
   "cell_type": "code",
   "execution_count": 66,
   "metadata": {
    "id": "2a8e8cdf"
   },
   "outputs": [],
   "source": [
    "ncdb.loc[ncdb['P_PSN']=='NN', 'P_PSN']= 00\n",
    "ncdb.loc[ncdb['P_PSN']=='QQ', 'P_PSN']= 100 "
   ]
  },
  {
   "cell_type": "code",
   "execution_count": 67,
   "metadata": {
    "colab": {
     "base_uri": "https://localhost:8080/"
    },
    "id": "35fc140c",
    "outputId": "6d2f5ae8-9e60-4f28-94a3-34683ff176f8"
   },
   "outputs": [
    {
     "data": {
      "text/plain": [
       "11     0.669790\n",
       "13     0.151087\n",
       "23     0.044180\n",
       "21     0.036880\n",
       "99     0.035871\n",
       "22     0.015267\n",
       "12     0.014895\n",
       "UU     0.009824\n",
       "96     0.007539\n",
       "32     0.005051\n",
       "100    0.004399\n",
       "0      0.002281\n",
       "98     0.001164\n",
       "33     0.000978\n",
       "31     0.000763\n",
       "97     0.000032\n",
       "Name: P_PSN, dtype: float64"
      ]
     },
     "execution_count": 67,
     "metadata": {},
     "output_type": "execute_result"
    }
   ],
   "source": [
    "ncdb['P_PSN'].value_counts(normalize=True)"
   ]
  },
  {
   "cell_type": "code",
   "execution_count": 68,
   "metadata": {
    "colab": {
     "base_uri": "https://localhost:8080/"
    },
    "id": "c303fb55",
    "outputId": "72faac9b-bcc4-4b16-d0cf-b35c3b535ce3",
    "scrolled": true
   },
   "outputs": [
    {
     "data": {
      "text/plain": [
       "2    0.524734\n",
       "1    0.404727\n",
       "N    0.049717\n",
       "U    0.013811\n",
       "3    0.007011\n",
       "Name: P_ISEV, dtype: float64"
      ]
     },
     "execution_count": 68,
     "metadata": {},
     "output_type": "execute_result"
    }
   ],
   "source": [
    "ncdb['P_ISEV'].value_counts(normalize=True)"
   ]
  },
  {
   "cell_type": "code",
   "execution_count": 69,
   "metadata": {
    "id": "919c226e"
   },
   "outputs": [],
   "source": [
    "ncdb.loc[ncdb['P_ISEV']=='N', 'P_ISEV']= 0"
   ]
  },
  {
   "cell_type": "code",
   "execution_count": 70,
   "metadata": {
    "colab": {
     "base_uri": "https://localhost:8080/"
    },
    "id": "6dd9fbce",
    "outputId": "511e12e9-7e99-4abb-d803-40d11a399a8d",
    "scrolled": true
   },
   "outputs": [
    {
     "data": {
      "text/plain": [
       "2    0.524734\n",
       "1    0.404727\n",
       "0    0.049717\n",
       "U    0.013811\n",
       "3    0.007011\n",
       "Name: P_ISEV, dtype: float64"
      ]
     },
     "execution_count": 70,
     "metadata": {},
     "output_type": "execute_result"
    }
   ],
   "source": [
    "ncdb['P_ISEV'].value_counts(normalize=True)"
   ]
  },
  {
   "cell_type": "code",
   "execution_count": 71,
   "metadata": {
    "colab": {
     "base_uri": "https://localhost:8080/"
    },
    "id": "d2396f55",
    "outputId": "03956138-6b68-4069-c23c-1a8368b77736",
    "scrolled": true
   },
   "outputs": [
    {
     "data": {
      "text/plain": [
       "02    0.710114\n",
       "UU    0.105186\n",
       "NN    0.097661\n",
       "01    0.033663\n",
       "13    0.025741\n",
       "09    0.016574\n",
       "QQ    0.007974\n",
       "12    0.003071\n",
       "10    0.000014\n",
       "11    0.000003\n",
       "Name: P_SAFE, dtype: float64"
      ]
     },
     "execution_count": 71,
     "metadata": {},
     "output_type": "execute_result"
    }
   ],
   "source": [
    "ncdb['P_SAFE'].value_counts(normalize=True)"
   ]
  },
  {
   "cell_type": "code",
   "execution_count": 72,
   "metadata": {
    "id": "f5d36f69"
   },
   "outputs": [],
   "source": [
    "ncdb.loc[ncdb['P_SAFE']=='NN', 'P_SAFE']= 00\n",
    "ncdb.loc[ncdb['P_SAFE']=='QQ', 'P_SAFE']= 14 "
   ]
  },
  {
   "cell_type": "code",
   "execution_count": 73,
   "metadata": {
    "colab": {
     "base_uri": "https://localhost:8080/"
    },
    "id": "8c3d25aa",
    "outputId": "e373f077-06d8-4469-bbb3-5f54d9c404f6",
    "scrolled": true
   },
   "outputs": [
    {
     "data": {
      "text/plain": [
       "1    0.623922\n",
       "2    0.266212\n",
       "3    0.037675\n",
       "U    0.029831\n",
       "4    0.021186\n",
       "5    0.021174\n",
       "Name: P_USER, dtype: float64"
      ]
     },
     "execution_count": 73,
     "metadata": {},
     "output_type": "execute_result"
    }
   ],
   "source": [
    "ncdb['P_USER'].value_counts(normalize=True)"
   ]
  },
  {
   "cell_type": "markdown",
   "metadata": {
    "id": "05e49db5"
   },
   "source": [
    "En la variable `P_USER` el valor 'U' nos indica que es un usuario que el cual no se ha empezado el proceso, otro o desconocido. En consecuencia lo imputamos con el valor 0, dando importancia a que no se ha empezado el proceso o es otro tipo."
   ]
  },
  {
   "cell_type": "code",
   "execution_count": 74,
   "metadata": {
    "id": "59d8ce79"
   },
   "outputs": [],
   "source": [
    "ncdb.loc[ncdb['P_USER']=='U', 'P_USER']= 0"
   ]
  },
  {
   "cell_type": "markdown",
   "metadata": {
    "id": "2c081451"
   },
   "source": [
    "Imputamos los missin, que en este caso son los valores 'U' o 'UU', por KNN para que tomen el valor de una observación semejante."
   ]
  },
  {
   "cell_type": "code",
   "execution_count": 75,
   "metadata": {
    "id": "44011fed"
   },
   "outputs": [],
   "source": [
    "ncdb.loc[ncdb['C_MNTH']=='UU', 'C_MNTH']= np.nan\n",
    "ncdb.loc[ncdb['C_HOUR']=='UU', 'C_HOUR']= np.nan\n",
    "ncdb.loc[ncdb['C_VEHS']=='UU', 'C_VEHS']= np.nan\n",
    "ncdb.loc[ncdb['C_CONF']=='UU', 'C_CONF']= np.nan\n",
    "ncdb.loc[ncdb['C_RCFG']=='UU', 'C_RCFG']= np.nan\n",
    "ncdb.loc[ncdb['C_TRAF']=='UU', 'C_TRAF']= np.nan\n",
    "ncdb.loc[ncdb['V_ID']=='UU', 'V_ID']= np.nan\n",
    "ncdb.loc[ncdb['V_TYPE']=='UU', 'V_TYPE']= np.nan\n",
    "ncdb.loc[ncdb['P_ID']=='UU', 'P_ID']= np.nan\n",
    "ncdb.loc[ncdb['P_AGE']=='UU', 'P_AGE']= np.nan\n",
    "ncdb.loc[ncdb['P_PSN']=='UU', 'P_PSN']= np.nan\n",
    "ncdb.loc[ncdb['P_SAFE']=='UU', 'P_SAFE']= np.nan"
   ]
  },
  {
   "cell_type": "code",
   "execution_count": 76,
   "metadata": {
    "colab": {
     "base_uri": "https://localhost:8080/"
    },
    "id": "410522a2",
    "outputId": "ffe32481-49e1-43cc-df3b-2bab7e5b61e9"
   },
   "outputs": [
    {
     "name": "stdout",
     "output_type": "stream",
     "text": [
      "done1\n",
      "done2\n",
      "done3\n",
      "done4\n",
      "done5\n",
      "done6\n",
      "done7\n",
      "done8\n",
      "done9\n",
      "done10\n",
      "done11\n",
      "done12\n"
     ]
    }
   ],
   "source": [
    "from sklearn.impute import KNNImputer\n",
    "impute_knn = KNNImputer(n_neighbors=3)\n",
    "ncdb['C_MNTH']=impute_knn.fit_transform(ncdb['C_MNTH'].values.reshape(-1,1))\n",
    "print('done1')\n",
    "ncdb['C_HOUR']=impute_knn.fit_transform(ncdb['C_HOUR'].values.reshape(-1,1))\n",
    "print('done2')\n",
    "ncdb['C_VEHS']=impute_knn.fit_transform(ncdb['C_VEHS'].values.reshape(-1,1))\n",
    "print('done3')\n",
    "ncdb['C_CONF']=impute_knn.fit_transform(ncdb['C_CONF'].values.reshape(-1,1))\n",
    "print('done4')\n",
    "ncdb['C_RCFG']=impute_knn.fit_transform(ncdb['C_RCFG'].values.reshape(-1,1))\n",
    "print('done5')\n",
    "ncdb['C_TRAF']=impute_knn.fit_transform(ncdb['C_TRAF'].values.reshape(-1,1))\n",
    "print('done6')\n",
    "ncdb['V_ID']=impute_knn.fit_transform(ncdb['V_ID'].values.reshape(-1,1))\n",
    "print('done7')\n",
    "ncdb['V_TYPE']=impute_knn.fit_transform(ncdb['V_TYPE'].values.reshape(-1,1))\n",
    "print('done8')\n",
    "ncdb['P_ID']=impute_knn.fit_transform(ncdb['P_ID'].values.reshape(-1,1))\n",
    "print('done9')\n",
    "ncdb['P_AGE']=impute_knn.fit_transform(ncdb['P_AGE'].values.reshape(-1,1))\n",
    "print('done10')\n",
    "ncdb['P_PSN']=impute_knn.fit_transform(ncdb['P_PSN'].values.reshape(-1,1))\n",
    "print('done11')\n",
    "ncdb['P_SAFE']=impute_knn.fit_transform(ncdb['P_SAFE'].values.reshape(-1,1))\n",
    "print('done12')"
   ]
  },
  {
   "cell_type": "code",
   "execution_count": 77,
   "metadata": {
    "id": "a2c3570d"
   },
   "outputs": [],
   "source": [
    "ncdb.loc[ncdb['C_WDAY']=='U', 'C_WDAY']= np.nan\n",
    "ncdb.loc[ncdb['C_WTHR']=='U', 'C_WTHR']= np.nan\n",
    "ncdb.loc[ncdb['C_RSUR']=='U', 'C_RSUR']= np.nan\n",
    "ncdb.loc[ncdb['C_RALN']=='U', 'C_RALN']= np.nan\n",
    "ncdb.loc[ncdb['P_ISEV']=='U', 'P_ISEV']= np.nan\n",
    "ncdb.loc[ncdb['C_SEV']=='U', 'C_SEV']= np.nan"
   ]
  },
  {
   "cell_type": "code",
   "execution_count": 78,
   "metadata": {
    "colab": {
     "base_uri": "https://localhost:8080/",
     "height": 467
    },
    "id": "58b85ea7",
    "outputId": "9b76b86d-e1bb-4a66-85ec-106887b5061d"
   },
   "outputs": [
    {
     "name": "stdout",
     "output_type": "stream",
     "text": [
      "done1\n",
      "done2\n",
      "done3\n",
      "done4\n",
      "done5\n"
     ]
    }
   ],
   "source": [
    "impute_knn = KNNImputer(n_neighbors=3)\n",
    "ncdb['C_WDAY']=impute_knn.fit_transform(ncdb['C_WDAY'].values.reshape(-1,1))\n",
    "print('done1')\n",
    "ncdb['C_WTHR']=impute_knn.fit_transform(ncdb['C_WTHR'].values.reshape(-1,1))\n",
    "print('done2')\n",
    "ncdb['C_RSUR']=impute_knn.fit_transform(ncdb['C_RSUR'].values.reshape(-1,1))\n",
    "print('done3')\n",
    "ncdb['C_RALN']=impute_knn.fit_transform(ncdb['C_RALN'].values.reshape(-1,1))\n",
    "print('done4')\n",
    "ncdb['P_ISEV']=impute_knn.fit_transform(ncdb['P_ISEV'].values.reshape(-1,1))\n",
    "print('done5')"
   ]
  },
  {
   "cell_type": "code",
   "execution_count": 79,
   "metadata": {
    "id": "WntlonPkrZOK"
   },
   "outputs": [],
   "source": [
    "ncdb.loc[ncdb['V_YEAR']=='UUUU', 'V_YEAR']= np.nan\n",
    "ncdb['V_YEAR']=impute_knn.fit_transform(ncdb['V_YEAR'].values.reshape(-1,1))"
   ]
  },
  {
   "cell_type": "code",
   "execution_count": 80,
   "metadata": {
    "colab": {
     "base_uri": "https://localhost:8080/"
    },
    "id": "hZSafiZrnmKh",
    "outputId": "6bf50414-e2a2-471e-af70-231abeb8a9e6"
   },
   "outputs": [
    {
     "data": {
      "text/plain": [
       "C_YEAR     0\n",
       "C_MNTH     0\n",
       "C_WDAY     0\n",
       "C_HOUR     0\n",
       "C_SEV      0\n",
       "C_VEHS     0\n",
       "C_CONF     0\n",
       "C_RCFG     0\n",
       "C_WTHR     0\n",
       "C_RSUR     0\n",
       "C_RALN     0\n",
       "C_TRAF     0\n",
       "V_ID       0\n",
       "V_TYPE     0\n",
       "V_YEAR     0\n",
       "P_ID       0\n",
       "P_SEX_1    0\n",
       "P_SEX_2    0\n",
       "P_SEX_3    0\n",
       "P_SEX_4    0\n",
       "P_AGE      0\n",
       "P_PSN      0\n",
       "P_ISEV     0\n",
       "P_SAFE     0\n",
       "P_USER     0\n",
       "dtype: int64"
      ]
     },
     "execution_count": 80,
     "metadata": {},
     "output_type": "execute_result"
    }
   ],
   "source": [
    "ncdb.isna().sum()"
   ]
  },
  {
   "cell_type": "code",
   "execution_count": 81,
   "metadata": {
    "id": "3_27HF0kb22J"
   },
   "outputs": [],
   "source": [
    "ncdb['C_SEV']=impute_knn.fit_transform(ncdb['C_SEV'].values.reshape(-1,1))"
   ]
  },
  {
   "cell_type": "code",
   "execution_count": 82,
   "metadata": {
    "id": "TDRjJ6dEcApg"
   },
   "outputs": [],
   "source": [
    "ncdb['P_USER']=impute_knn.fit_transform(ncdb['P_USER'].values.reshape(-1,1))"
   ]
  },
  {
   "cell_type": "markdown",
   "metadata": {
    "id": "dhumfzDTKx1u"
   },
   "source": [
    "Generamos un archivo csv con los valores missing imputados para guardarlos y que sea más comódo trabajar con ellos y no complirar el código todas las veces."
   ]
  },
  {
   "cell_type": "code",
   "execution_count": 83,
   "metadata": {
    "id": "G0LeeOSxKvQU"
   },
   "outputs": [],
   "source": [
    "ncdb.to_csv(\"ncdb_sinmissing.csv\")"
   ]
  },
  {
   "cell_type": "code",
   "execution_count": 17,
   "metadata": {},
   "outputs": [],
   "source": [
    "data= pd.read_csv('ncdb_sinmissing.csv')"
   ]
  },
  {
   "cell_type": "code",
   "execution_count": 18,
   "metadata": {},
   "outputs": [
    {
     "data": {
      "text/html": [
       "<div>\n",
       "<style scoped>\n",
       "    .dataframe tbody tr th:only-of-type {\n",
       "        vertical-align: middle;\n",
       "    }\n",
       "\n",
       "    .dataframe tbody tr th {\n",
       "        vertical-align: top;\n",
       "    }\n",
       "\n",
       "    .dataframe thead th {\n",
       "        text-align: right;\n",
       "    }\n",
       "</style>\n",
       "<table border=\"1\" class=\"dataframe\">\n",
       "  <thead>\n",
       "    <tr style=\"text-align: right;\">\n",
       "      <th></th>\n",
       "      <th>Unnamed: 0</th>\n",
       "      <th>C_YEAR</th>\n",
       "      <th>C_MNTH</th>\n",
       "      <th>C_WDAY</th>\n",
       "      <th>C_HOUR</th>\n",
       "      <th>C_SEV</th>\n",
       "      <th>C_VEHS</th>\n",
       "      <th>C_CONF</th>\n",
       "      <th>C_RCFG</th>\n",
       "      <th>C_WTHR</th>\n",
       "      <th>...</th>\n",
       "      <th>P_ID</th>\n",
       "      <th>P_SEX_1</th>\n",
       "      <th>P_SEX_2</th>\n",
       "      <th>P_SEX_3</th>\n",
       "      <th>P_SEX_4</th>\n",
       "      <th>P_AGE</th>\n",
       "      <th>P_PSN</th>\n",
       "      <th>P_ISEV</th>\n",
       "      <th>P_SAFE</th>\n",
       "      <th>P_USER</th>\n",
       "    </tr>\n",
       "  </thead>\n",
       "  <tbody>\n",
       "    <tr>\n",
       "      <th>0</th>\n",
       "      <td>0</td>\n",
       "      <td>2008</td>\n",
       "      <td>11.0</td>\n",
       "      <td>1.0</td>\n",
       "      <td>13.0</td>\n",
       "      <td>2.0</td>\n",
       "      <td>2.0</td>\n",
       "      <td>23.807472</td>\n",
       "      <td>2.0</td>\n",
       "      <td>2.0</td>\n",
       "      <td>...</td>\n",
       "      <td>1.0</td>\n",
       "      <td>1</td>\n",
       "      <td>0</td>\n",
       "      <td>0</td>\n",
       "      <td>0</td>\n",
       "      <td>73.0</td>\n",
       "      <td>11.0</td>\n",
       "      <td>1.0</td>\n",
       "      <td>2.3316</td>\n",
       "      <td>1.0</td>\n",
       "    </tr>\n",
       "    <tr>\n",
       "      <th>1</th>\n",
       "      <td>1</td>\n",
       "      <td>2012</td>\n",
       "      <td>10.0</td>\n",
       "      <td>6.0</td>\n",
       "      <td>12.0</td>\n",
       "      <td>2.0</td>\n",
       "      <td>1.0</td>\n",
       "      <td>6.000000</td>\n",
       "      <td>2.0</td>\n",
       "      <td>3.0</td>\n",
       "      <td>...</td>\n",
       "      <td>1.0</td>\n",
       "      <td>1</td>\n",
       "      <td>0</td>\n",
       "      <td>0</td>\n",
       "      <td>0</td>\n",
       "      <td>17.0</td>\n",
       "      <td>11.0</td>\n",
       "      <td>2.0</td>\n",
       "      <td>2.0000</td>\n",
       "      <td>1.0</td>\n",
       "    </tr>\n",
       "    <tr>\n",
       "      <th>2</th>\n",
       "      <td>2</td>\n",
       "      <td>2012</td>\n",
       "      <td>8.0</td>\n",
       "      <td>2.0</td>\n",
       "      <td>0.0</td>\n",
       "      <td>2.0</td>\n",
       "      <td>1.0</td>\n",
       "      <td>4.000000</td>\n",
       "      <td>1.0</td>\n",
       "      <td>1.0</td>\n",
       "      <td>...</td>\n",
       "      <td>1.0</td>\n",
       "      <td>1</td>\n",
       "      <td>0</td>\n",
       "      <td>0</td>\n",
       "      <td>0</td>\n",
       "      <td>33.0</td>\n",
       "      <td>11.0</td>\n",
       "      <td>2.0</td>\n",
       "      <td>2.0000</td>\n",
       "      <td>1.0</td>\n",
       "    </tr>\n",
       "    <tr>\n",
       "      <th>3</th>\n",
       "      <td>3</td>\n",
       "      <td>2010</td>\n",
       "      <td>1.0</td>\n",
       "      <td>2.0</td>\n",
       "      <td>10.0</td>\n",
       "      <td>2.0</td>\n",
       "      <td>2.0</td>\n",
       "      <td>21.000000</td>\n",
       "      <td>2.0</td>\n",
       "      <td>1.0</td>\n",
       "      <td>...</td>\n",
       "      <td>1.0</td>\n",
       "      <td>1</td>\n",
       "      <td>0</td>\n",
       "      <td>0</td>\n",
       "      <td>0</td>\n",
       "      <td>50.0</td>\n",
       "      <td>11.0</td>\n",
       "      <td>1.0</td>\n",
       "      <td>2.0000</td>\n",
       "      <td>1.0</td>\n",
       "    </tr>\n",
       "    <tr>\n",
       "      <th>4</th>\n",
       "      <td>4</td>\n",
       "      <td>2011</td>\n",
       "      <td>3.0</td>\n",
       "      <td>2.0</td>\n",
       "      <td>2.0</td>\n",
       "      <td>2.0</td>\n",
       "      <td>2.0</td>\n",
       "      <td>6.000000</td>\n",
       "      <td>1.0</td>\n",
       "      <td>1.0</td>\n",
       "      <td>...</td>\n",
       "      <td>2.0</td>\n",
       "      <td>1</td>\n",
       "      <td>0</td>\n",
       "      <td>0</td>\n",
       "      <td>0</td>\n",
       "      <td>36.0</td>\n",
       "      <td>13.0</td>\n",
       "      <td>1.0</td>\n",
       "      <td>2.0000</td>\n",
       "      <td>2.0</td>\n",
       "    </tr>\n",
       "  </tbody>\n",
       "</table>\n",
       "<p>5 rows × 26 columns</p>\n",
       "</div>"
      ],
      "text/plain": [
       "   Unnamed: 0  C_YEAR  C_MNTH  C_WDAY  C_HOUR  C_SEV  C_VEHS     C_CONF  \\\n",
       "0           0    2008    11.0     1.0    13.0    2.0     2.0  23.807472   \n",
       "1           1    2012    10.0     6.0    12.0    2.0     1.0   6.000000   \n",
       "2           2    2012     8.0     2.0     0.0    2.0     1.0   4.000000   \n",
       "3           3    2010     1.0     2.0    10.0    2.0     2.0  21.000000   \n",
       "4           4    2011     3.0     2.0     2.0    2.0     2.0   6.000000   \n",
       "\n",
       "   C_RCFG  C_WTHR  ...  P_ID  P_SEX_1  P_SEX_2  P_SEX_3  P_SEX_4  P_AGE  \\\n",
       "0     2.0     2.0  ...   1.0        1        0        0        0   73.0   \n",
       "1     2.0     3.0  ...   1.0        1        0        0        0   17.0   \n",
       "2     1.0     1.0  ...   1.0        1        0        0        0   33.0   \n",
       "3     2.0     1.0  ...   1.0        1        0        0        0   50.0   \n",
       "4     1.0     1.0  ...   2.0        1        0        0        0   36.0   \n",
       "\n",
       "   P_PSN  P_ISEV  P_SAFE  P_USER  \n",
       "0   11.0     1.0  2.3316     1.0  \n",
       "1   11.0     2.0  2.0000     1.0  \n",
       "2   11.0     2.0  2.0000     1.0  \n",
       "3   11.0     1.0  2.0000     1.0  \n",
       "4   13.0     1.0  2.0000     2.0  \n",
       "\n",
       "[5 rows x 26 columns]"
      ]
     },
     "execution_count": 18,
     "metadata": {},
     "output_type": "execute_result"
    }
   ],
   "source": [
    "data.head()"
   ]
  },
  {
   "cell_type": "code",
   "execution_count": 19,
   "metadata": {},
   "outputs": [],
   "source": [
    "data=data.drop(['Unnamed: 0'],axis=1)"
   ]
  },
  {
   "cell_type": "code",
   "execution_count": 20,
   "metadata": {},
   "outputs": [
    {
     "data": {
      "text/html": [
       "<div>\n",
       "<style scoped>\n",
       "    .dataframe tbody tr th:only-of-type {\n",
       "        vertical-align: middle;\n",
       "    }\n",
       "\n",
       "    .dataframe tbody tr th {\n",
       "        vertical-align: top;\n",
       "    }\n",
       "\n",
       "    .dataframe thead th {\n",
       "        text-align: right;\n",
       "    }\n",
       "</style>\n",
       "<table border=\"1\" class=\"dataframe\">\n",
       "  <thead>\n",
       "    <tr style=\"text-align: right;\">\n",
       "      <th></th>\n",
       "      <th>C_YEAR</th>\n",
       "      <th>C_MNTH</th>\n",
       "      <th>C_WDAY</th>\n",
       "      <th>C_HOUR</th>\n",
       "      <th>C_SEV</th>\n",
       "      <th>C_VEHS</th>\n",
       "      <th>C_CONF</th>\n",
       "      <th>C_RCFG</th>\n",
       "      <th>C_WTHR</th>\n",
       "      <th>C_RSUR</th>\n",
       "      <th>...</th>\n",
       "      <th>P_ID</th>\n",
       "      <th>P_SEX_1</th>\n",
       "      <th>P_SEX_2</th>\n",
       "      <th>P_SEX_3</th>\n",
       "      <th>P_SEX_4</th>\n",
       "      <th>P_AGE</th>\n",
       "      <th>P_PSN</th>\n",
       "      <th>P_ISEV</th>\n",
       "      <th>P_SAFE</th>\n",
       "      <th>P_USER</th>\n",
       "    </tr>\n",
       "  </thead>\n",
       "  <tbody>\n",
       "    <tr>\n",
       "      <th>0</th>\n",
       "      <td>2008</td>\n",
       "      <td>11.0</td>\n",
       "      <td>1.0</td>\n",
       "      <td>13.0</td>\n",
       "      <td>2.0</td>\n",
       "      <td>2.0</td>\n",
       "      <td>23.807472</td>\n",
       "      <td>2.0</td>\n",
       "      <td>2.0</td>\n",
       "      <td>3.0</td>\n",
       "      <td>...</td>\n",
       "      <td>1.0</td>\n",
       "      <td>1</td>\n",
       "      <td>0</td>\n",
       "      <td>0</td>\n",
       "      <td>0</td>\n",
       "      <td>73.0</td>\n",
       "      <td>11.0</td>\n",
       "      <td>1.0</td>\n",
       "      <td>2.3316</td>\n",
       "      <td>1.0</td>\n",
       "    </tr>\n",
       "    <tr>\n",
       "      <th>1</th>\n",
       "      <td>2012</td>\n",
       "      <td>10.0</td>\n",
       "      <td>6.0</td>\n",
       "      <td>12.0</td>\n",
       "      <td>2.0</td>\n",
       "      <td>1.0</td>\n",
       "      <td>6.000000</td>\n",
       "      <td>2.0</td>\n",
       "      <td>3.0</td>\n",
       "      <td>2.0</td>\n",
       "      <td>...</td>\n",
       "      <td>1.0</td>\n",
       "      <td>1</td>\n",
       "      <td>0</td>\n",
       "      <td>0</td>\n",
       "      <td>0</td>\n",
       "      <td>17.0</td>\n",
       "      <td>11.0</td>\n",
       "      <td>2.0</td>\n",
       "      <td>2.0000</td>\n",
       "      <td>1.0</td>\n",
       "    </tr>\n",
       "    <tr>\n",
       "      <th>2</th>\n",
       "      <td>2012</td>\n",
       "      <td>8.0</td>\n",
       "      <td>2.0</td>\n",
       "      <td>0.0</td>\n",
       "      <td>2.0</td>\n",
       "      <td>1.0</td>\n",
       "      <td>4.000000</td>\n",
       "      <td>1.0</td>\n",
       "      <td>1.0</td>\n",
       "      <td>1.0</td>\n",
       "      <td>...</td>\n",
       "      <td>1.0</td>\n",
       "      <td>1</td>\n",
       "      <td>0</td>\n",
       "      <td>0</td>\n",
       "      <td>0</td>\n",
       "      <td>33.0</td>\n",
       "      <td>11.0</td>\n",
       "      <td>2.0</td>\n",
       "      <td>2.0000</td>\n",
       "      <td>1.0</td>\n",
       "    </tr>\n",
       "    <tr>\n",
       "      <th>3</th>\n",
       "      <td>2010</td>\n",
       "      <td>1.0</td>\n",
       "      <td>2.0</td>\n",
       "      <td>10.0</td>\n",
       "      <td>2.0</td>\n",
       "      <td>2.0</td>\n",
       "      <td>21.000000</td>\n",
       "      <td>2.0</td>\n",
       "      <td>1.0</td>\n",
       "      <td>2.0</td>\n",
       "      <td>...</td>\n",
       "      <td>1.0</td>\n",
       "      <td>1</td>\n",
       "      <td>0</td>\n",
       "      <td>0</td>\n",
       "      <td>0</td>\n",
       "      <td>50.0</td>\n",
       "      <td>11.0</td>\n",
       "      <td>1.0</td>\n",
       "      <td>2.0000</td>\n",
       "      <td>1.0</td>\n",
       "    </tr>\n",
       "    <tr>\n",
       "      <th>4</th>\n",
       "      <td>2011</td>\n",
       "      <td>3.0</td>\n",
       "      <td>2.0</td>\n",
       "      <td>2.0</td>\n",
       "      <td>2.0</td>\n",
       "      <td>2.0</td>\n",
       "      <td>6.000000</td>\n",
       "      <td>1.0</td>\n",
       "      <td>1.0</td>\n",
       "      <td>1.0</td>\n",
       "      <td>...</td>\n",
       "      <td>2.0</td>\n",
       "      <td>1</td>\n",
       "      <td>0</td>\n",
       "      <td>0</td>\n",
       "      <td>0</td>\n",
       "      <td>36.0</td>\n",
       "      <td>13.0</td>\n",
       "      <td>1.0</td>\n",
       "      <td>2.0000</td>\n",
       "      <td>2.0</td>\n",
       "    </tr>\n",
       "  </tbody>\n",
       "</table>\n",
       "<p>5 rows × 25 columns</p>\n",
       "</div>"
      ],
      "text/plain": [
       "   C_YEAR  C_MNTH  C_WDAY  C_HOUR  C_SEV  C_VEHS     C_CONF  C_RCFG  C_WTHR  \\\n",
       "0    2008    11.0     1.0    13.0    2.0     2.0  23.807472     2.0     2.0   \n",
       "1    2012    10.0     6.0    12.0    2.0     1.0   6.000000     2.0     3.0   \n",
       "2    2012     8.0     2.0     0.0    2.0     1.0   4.000000     1.0     1.0   \n",
       "3    2010     1.0     2.0    10.0    2.0     2.0  21.000000     2.0     1.0   \n",
       "4    2011     3.0     2.0     2.0    2.0     2.0   6.000000     1.0     1.0   \n",
       "\n",
       "   C_RSUR  ...  P_ID  P_SEX_1  P_SEX_2  P_SEX_3  P_SEX_4  P_AGE  P_PSN  \\\n",
       "0     3.0  ...   1.0        1        0        0        0   73.0   11.0   \n",
       "1     2.0  ...   1.0        1        0        0        0   17.0   11.0   \n",
       "2     1.0  ...   1.0        1        0        0        0   33.0   11.0   \n",
       "3     2.0  ...   1.0        1        0        0        0   50.0   11.0   \n",
       "4     1.0  ...   2.0        1        0        0        0   36.0   13.0   \n",
       "\n",
       "   P_ISEV  P_SAFE  P_USER  \n",
       "0     1.0  2.3316     1.0  \n",
       "1     2.0  2.0000     1.0  \n",
       "2     2.0  2.0000     1.0  \n",
       "3     1.0  2.0000     1.0  \n",
       "4     1.0  2.0000     2.0  \n",
       "\n",
       "[5 rows x 25 columns]"
      ]
     },
     "execution_count": 20,
     "metadata": {},
     "output_type": "execute_result"
    }
   ],
   "source": [
    "data.head()"
   ]
  },
  {
   "cell_type": "code",
   "execution_count": 21,
   "metadata": {},
   "outputs": [
    {
     "data": {
      "text/plain": [
       "(586040, 25)"
      ]
     },
     "execution_count": 21,
     "metadata": {},
     "output_type": "execute_result"
    }
   ],
   "source": [
    "data.shape"
   ]
  },
  {
   "cell_type": "markdown",
   "metadata": {},
   "source": [
    "## Reducción dimensional"
   ]
  },
  {
   "cell_type": "code",
   "execution_count": 23,
   "metadata": {},
   "outputs": [
    {
     "data": {
      "text/plain": [
       "Index(['C_YEAR', 'C_MNTH', 'C_WDAY', 'C_HOUR', 'C_SEV', 'C_VEHS', 'C_CONF',\n",
       "       'C_RCFG', 'C_WTHR', 'C_RSUR', 'C_RALN', 'C_TRAF', 'V_ID', 'V_TYPE',\n",
       "       'V_YEAR', 'P_ID', 'P_SEX_1', 'P_SEX_2', 'P_SEX_3', 'P_SEX_4', 'P_AGE',\n",
       "       'P_PSN', 'P_ISEV', 'P_SAFE', 'P_USER'],\n",
       "      dtype='object')"
      ]
     },
     "execution_count": 23,
     "metadata": {},
     "output_type": "execute_result"
    }
   ],
   "source": [
    "cols=data.columns"
   ]
  },
  {
   "cell_type": "code",
   "execution_count": 24,
   "metadata": {},
   "outputs": [],
   "source": [
    "from sklearn.preprocessing import StandardScaler\n",
    "data = StandardScaler().fit_transform(data)"
   ]
  },
  {
   "cell_type": "code",
   "execution_count": 25,
   "metadata": {},
   "outputs": [
    {
     "data": {
      "text/html": [
       "<div>\n",
       "<style scoped>\n",
       "    .dataframe tbody tr th:only-of-type {\n",
       "        vertical-align: middle;\n",
       "    }\n",
       "\n",
       "    .dataframe tbody tr th {\n",
       "        vertical-align: top;\n",
       "    }\n",
       "\n",
       "    .dataframe thead th {\n",
       "        text-align: right;\n",
       "    }\n",
       "</style>\n",
       "<table border=\"1\" class=\"dataframe\">\n",
       "  <thead>\n",
       "    <tr style=\"text-align: right;\">\n",
       "      <th></th>\n",
       "      <th>C_YEAR</th>\n",
       "      <th>C_MNTH</th>\n",
       "      <th>C_WDAY</th>\n",
       "      <th>C_HOUR</th>\n",
       "      <th>C_SEV</th>\n",
       "      <th>C_VEHS</th>\n",
       "      <th>C_CONF</th>\n",
       "      <th>C_RCFG</th>\n",
       "      <th>C_WTHR</th>\n",
       "      <th>C_RSUR</th>\n",
       "      <th>...</th>\n",
       "      <th>P_ID</th>\n",
       "      <th>P_SEX_1</th>\n",
       "      <th>P_SEX_2</th>\n",
       "      <th>P_SEX_3</th>\n",
       "      <th>P_SEX_4</th>\n",
       "      <th>P_AGE</th>\n",
       "      <th>P_PSN</th>\n",
       "      <th>P_ISEV</th>\n",
       "      <th>P_SAFE</th>\n",
       "      <th>P_USER</th>\n",
       "    </tr>\n",
       "  </thead>\n",
       "  <tbody>\n",
       "    <tr>\n",
       "      <th>0</th>\n",
       "      <td>0.437652</td>\n",
       "      <td>1.248327</td>\n",
       "      <td>-1.558674</td>\n",
       "      <td>-0.136952</td>\n",
       "      <td>0.132152</td>\n",
       "      <td>-0.034812</td>\n",
       "      <td>-5.882325e-16</td>\n",
       "      <td>-0.009356</td>\n",
       "      <td>0.326090</td>\n",
       "      <td>0.656640</td>\n",
       "      <td>...</td>\n",
       "      <td>-0.380700</td>\n",
       "      <td>0.920715</td>\n",
       "      <td>-0.844009</td>\n",
       "      <td>-0.20514</td>\n",
       "      <td>-0.049057</td>\n",
       "      <td>2.002240</td>\n",
       "      <td>-0.309284</td>\n",
       "      <td>-0.826497</td>\n",
       "      <td>-5.575768e-16</td>\n",
       "      <td>-0.526045</td>\n",
       "    </tr>\n",
       "    <tr>\n",
       "      <th>1</th>\n",
       "      <td>1.313622</td>\n",
       "      <td>0.957009</td>\n",
       "      <td>1.029225</td>\n",
       "      <td>-0.330134</td>\n",
       "      <td>0.132152</td>\n",
       "      <td>-0.845510</td>\n",
       "      <td>-1.474216e+00</td>\n",
       "      <td>-0.009356</td>\n",
       "      <td>1.193433</td>\n",
       "      <td>0.095326</td>\n",
       "      <td>...</td>\n",
       "      <td>-0.380700</td>\n",
       "      <td>0.920715</td>\n",
       "      <td>-0.844009</td>\n",
       "      <td>-0.20514</td>\n",
       "      <td>-0.049057</td>\n",
       "      <td>-1.078961</td>\n",
       "      <td>-0.309284</td>\n",
       "      <td>0.840200</td>\n",
       "      <td>-1.387802e-01</td>\n",
       "      <td>-0.526045</td>\n",
       "    </tr>\n",
       "    <tr>\n",
       "      <th>2</th>\n",
       "      <td>1.313622</td>\n",
       "      <td>0.374373</td>\n",
       "      <td>-1.041094</td>\n",
       "      <td>-2.648322</td>\n",
       "      <td>0.132152</td>\n",
       "      <td>-0.845510</td>\n",
       "      <td>-1.639789e+00</td>\n",
       "      <td>-0.538343</td>\n",
       "      <td>-0.541253</td>\n",
       "      <td>-0.465988</td>\n",
       "      <td>...</td>\n",
       "      <td>-0.380700</td>\n",
       "      <td>0.920715</td>\n",
       "      <td>-0.844009</td>\n",
       "      <td>-0.20514</td>\n",
       "      <td>-0.049057</td>\n",
       "      <td>-0.198618</td>\n",
       "      <td>-0.309284</td>\n",
       "      <td>0.840200</td>\n",
       "      <td>-1.387802e-01</td>\n",
       "      <td>-0.526045</td>\n",
       "    </tr>\n",
       "    <tr>\n",
       "      <th>3</th>\n",
       "      <td>0.875637</td>\n",
       "      <td>-1.664851</td>\n",
       "      <td>-1.041094</td>\n",
       "      <td>-0.716499</td>\n",
       "      <td>0.132152</td>\n",
       "      <td>-0.034812</td>\n",
       "      <td>-2.324204e-01</td>\n",
       "      <td>-0.009356</td>\n",
       "      <td>-0.541253</td>\n",
       "      <td>0.095326</td>\n",
       "      <td>...</td>\n",
       "      <td>-0.380700</td>\n",
       "      <td>0.920715</td>\n",
       "      <td>-0.844009</td>\n",
       "      <td>-0.20514</td>\n",
       "      <td>-0.049057</td>\n",
       "      <td>0.736746</td>\n",
       "      <td>-0.309284</td>\n",
       "      <td>-0.826497</td>\n",
       "      <td>-1.387802e-01</td>\n",
       "      <td>-0.526045</td>\n",
       "    </tr>\n",
       "    <tr>\n",
       "      <th>4</th>\n",
       "      <td>1.094629</td>\n",
       "      <td>-1.082216</td>\n",
       "      <td>-1.041094</td>\n",
       "      <td>-2.261957</td>\n",
       "      <td>0.132152</td>\n",
       "      <td>-0.034812</td>\n",
       "      <td>-1.474216e+00</td>\n",
       "      <td>-0.538343</td>\n",
       "      <td>-0.541253</td>\n",
       "      <td>-0.465988</td>\n",
       "      <td>...</td>\n",
       "      <td>0.455457</td>\n",
       "      <td>0.920715</td>\n",
       "      <td>-0.844009</td>\n",
       "      <td>-0.20514</td>\n",
       "      <td>-0.049057</td>\n",
       "      <td>-0.033554</td>\n",
       "      <td>-0.203585</td>\n",
       "      <td>-0.826497</td>\n",
       "      <td>-1.387802e-01</td>\n",
       "      <td>0.617563</td>\n",
       "    </tr>\n",
       "  </tbody>\n",
       "</table>\n",
       "<p>5 rows × 25 columns</p>\n",
       "</div>"
      ],
      "text/plain": [
       "     C_YEAR    C_MNTH    C_WDAY    C_HOUR     C_SEV    C_VEHS        C_CONF  \\\n",
       "0  0.437652  1.248327 -1.558674 -0.136952  0.132152 -0.034812 -5.882325e-16   \n",
       "1  1.313622  0.957009  1.029225 -0.330134  0.132152 -0.845510 -1.474216e+00   \n",
       "2  1.313622  0.374373 -1.041094 -2.648322  0.132152 -0.845510 -1.639789e+00   \n",
       "3  0.875637 -1.664851 -1.041094 -0.716499  0.132152 -0.034812 -2.324204e-01   \n",
       "4  1.094629 -1.082216 -1.041094 -2.261957  0.132152 -0.034812 -1.474216e+00   \n",
       "\n",
       "     C_RCFG    C_WTHR    C_RSUR  ...      P_ID   P_SEX_1   P_SEX_2  P_SEX_3  \\\n",
       "0 -0.009356  0.326090  0.656640  ... -0.380700  0.920715 -0.844009 -0.20514   \n",
       "1 -0.009356  1.193433  0.095326  ... -0.380700  0.920715 -0.844009 -0.20514   \n",
       "2 -0.538343 -0.541253 -0.465988  ... -0.380700  0.920715 -0.844009 -0.20514   \n",
       "3 -0.009356 -0.541253  0.095326  ... -0.380700  0.920715 -0.844009 -0.20514   \n",
       "4 -0.538343 -0.541253 -0.465988  ...  0.455457  0.920715 -0.844009 -0.20514   \n",
       "\n",
       "    P_SEX_4     P_AGE     P_PSN    P_ISEV        P_SAFE    P_USER  \n",
       "0 -0.049057  2.002240 -0.309284 -0.826497 -5.575768e-16 -0.526045  \n",
       "1 -0.049057 -1.078961 -0.309284  0.840200 -1.387802e-01 -0.526045  \n",
       "2 -0.049057 -0.198618 -0.309284  0.840200 -1.387802e-01 -0.526045  \n",
       "3 -0.049057  0.736746 -0.309284 -0.826497 -1.387802e-01 -0.526045  \n",
       "4 -0.049057 -0.033554 -0.203585 -0.826497 -1.387802e-01  0.617563  \n",
       "\n",
       "[5 rows x 25 columns]"
      ]
     },
     "execution_count": 25,
     "metadata": {},
     "output_type": "execute_result"
    }
   ],
   "source": [
    "data=pd.DataFrame(data,columns=cols)\n",
    "data.head()"
   ]
  },
  {
   "cell_type": "code",
   "execution_count": 50,
   "metadata": {},
   "outputs": [
    {
     "data": {
      "image/png": "[encoded data removed]",
      "text/plain": [
       "<Figure size 432x288 with 1 Axes>"
      ]
     },
     "metadata": {
      "needs_background": "light"
     },
     "output_type": "display_data"
    }
   ],
   "source": [
    "from sklearn.decomposition import PCA\n",
    "wcss = []\n",
    "\n",
    "for i in range(1, 25):\n",
    "    pca = PCA(n_components = i,random_state = 0)\n",
    "    pca.fit(data)\n",
    "    wcss.append(pca.explained_variance_ratio_)\n",
    "\n",
    "lst=[]\n",
    "for i in range(len(wcss)):\n",
    "    lst.append(sum(wcss[i]))\n",
    "lst\n",
    "\n",
    "plt.plot(range(1, 25), lst)\n",
    "plt.xlabel('Número de componentes')\n",
    "plt.ylabel('Porcentaje de varianza') \n",
    "plt.show()\n"
   ]
  },
  {
   "cell_type": "code",
   "execution_count": 74,
   "metadata": {},
   "outputs": [],
   "source": [
    "pca = PCA(n_components = 15,random_state = 0)\n",
    "data_pca=pca.fit_transform(data)"
   ]
  },
  {
   "cell_type": "code",
   "execution_count": 78,
   "metadata": {},
   "outputs": [],
   "source": [
    "principal = pd.DataFrame(data=data_pca, columns=['PC1','PC2','PC3','PC4','PC5','PC6','PC7','PC8','PC9','PC10','PC11','PC12','PC13','PC14','PC15'])"
   ]
  },
  {
   "cell_type": "code",
   "execution_count": 81,
   "metadata": {},
   "outputs": [
    {
     "data": {
      "text/html": [
       "<div>\n",
       "<style scoped>\n",
       "    .dataframe tbody tr th:only-of-type {\n",
       "        vertical-align: middle;\n",
       "    }\n",
       "\n",
       "    .dataframe tbody tr th {\n",
       "        vertical-align: top;\n",
       "    }\n",
       "\n",
       "    .dataframe thead th {\n",
       "        text-align: right;\n",
       "    }\n",
       "</style>\n",
       "<table border=\"1\" class=\"dataframe\">\n",
       "  <thead>\n",
       "    <tr style=\"text-align: right;\">\n",
       "      <th></th>\n",
       "      <th>PC1</th>\n",
       "      <th>PC2</th>\n",
       "      <th>PC3</th>\n",
       "      <th>PC4</th>\n",
       "      <th>PC5</th>\n",
       "      <th>PC6</th>\n",
       "      <th>PC7</th>\n",
       "      <th>PC8</th>\n",
       "      <th>PC9</th>\n",
       "      <th>PC10</th>\n",
       "      <th>PC11</th>\n",
       "      <th>PC12</th>\n",
       "      <th>PC13</th>\n",
       "      <th>PC14</th>\n",
       "      <th>PC15</th>\n",
       "    </tr>\n",
       "  </thead>\n",
       "  <tbody>\n",
       "    <tr>\n",
       "      <th>0</th>\n",
       "      <td>-0.961619</td>\n",
       "      <td>-1.166538</td>\n",
       "      <td>-1.526240</td>\n",
       "      <td>-0.180557</td>\n",
       "      <td>-0.400195</td>\n",
       "      <td>0.894208</td>\n",
       "      <td>0.771550</td>\n",
       "      <td>-1.030972</td>\n",
       "      <td>0.354022</td>\n",
       "      <td>-0.137901</td>\n",
       "      <td>1.046658</td>\n",
       "      <td>-0.879620</td>\n",
       "      <td>-0.884384</td>\n",
       "      <td>0.554071</td>\n",
       "      <td>-1.047385</td>\n",
       "    </tr>\n",
       "    <tr>\n",
       "      <th>1</th>\n",
       "      <td>-0.143485</td>\n",
       "      <td>-0.940908</td>\n",
       "      <td>0.497237</td>\n",
       "      <td>-1.059638</td>\n",
       "      <td>0.088286</td>\n",
       "      <td>-0.882456</td>\n",
       "      <td>0.062581</td>\n",
       "      <td>-0.801456</td>\n",
       "      <td>0.452102</td>\n",
       "      <td>0.466314</td>\n",
       "      <td>-0.184461</td>\n",
       "      <td>-2.144616</td>\n",
       "      <td>-0.663692</td>\n",
       "      <td>-0.841785</td>\n",
       "      <td>-0.502623</td>\n",
       "    </tr>\n",
       "    <tr>\n",
       "      <th>2</th>\n",
       "      <td>-0.157045</td>\n",
       "      <td>-1.197652</td>\n",
       "      <td>0.339968</td>\n",
       "      <td>-1.249220</td>\n",
       "      <td>-1.624866</td>\n",
       "      <td>-0.582613</td>\n",
       "      <td>-0.805398</td>\n",
       "      <td>-1.329993</td>\n",
       "      <td>1.669932</td>\n",
       "      <td>1.411883</td>\n",
       "      <td>-0.564737</td>\n",
       "      <td>-0.303300</td>\n",
       "      <td>-0.925170</td>\n",
       "      <td>1.545457</td>\n",
       "      <td>-0.135200</td>\n",
       "    </tr>\n",
       "    <tr>\n",
       "      <th>3</th>\n",
       "      <td>-0.889961</td>\n",
       "      <td>-1.162342</td>\n",
       "      <td>-1.284279</td>\n",
       "      <td>-0.004849</td>\n",
       "      <td>-0.021497</td>\n",
       "      <td>0.263622</td>\n",
       "      <td>0.600536</td>\n",
       "      <td>-1.308328</td>\n",
       "      <td>0.697671</td>\n",
       "      <td>0.846283</td>\n",
       "      <td>-1.051581</td>\n",
       "      <td>0.415907</td>\n",
       "      <td>0.852844</td>\n",
       "      <td>0.571567</td>\n",
       "      <td>-0.712663</td>\n",
       "    </tr>\n",
       "    <tr>\n",
       "      <th>4</th>\n",
       "      <td>-0.138199</td>\n",
       "      <td>-1.370982</td>\n",
       "      <td>0.505107</td>\n",
       "      <td>-0.896975</td>\n",
       "      <td>-0.386809</td>\n",
       "      <td>-0.146304</td>\n",
       "      <td>-1.008534</td>\n",
       "      <td>-0.584316</td>\n",
       "      <td>1.399291</td>\n",
       "      <td>1.046998</td>\n",
       "      <td>-1.195610</td>\n",
       "      <td>0.515598</td>\n",
       "      <td>0.367822</td>\n",
       "      <td>2.205182</td>\n",
       "      <td>0.224340</td>\n",
       "    </tr>\n",
       "  </tbody>\n",
       "</table>\n",
       "</div>"
      ],
      "text/plain": [
       "        PC1       PC2       PC3       PC4       PC5       PC6       PC7  \\\n",
       "0 -0.961619 -1.166538 -1.526240 -0.180557 -0.400195  0.894208  0.771550   \n",
       "1 -0.143485 -0.940908  0.497237 -1.059638  0.088286 -0.882456  0.062581   \n",
       "2 -0.157045 -1.197652  0.339968 -1.249220 -1.624866 -0.582613 -0.805398   \n",
       "3 -0.889961 -1.162342 -1.284279 -0.004849 -0.021497  0.263622  0.600536   \n",
       "4 -0.138199 -1.370982  0.505107 -0.896975 -0.386809 -0.146304 -1.008534   \n",
       "\n",
       "        PC8       PC9      PC10      PC11      PC12      PC13      PC14  \\\n",
       "0 -1.030972  0.354022 -0.137901  1.046658 -0.879620 -0.884384  0.554071   \n",
       "1 -0.801456  0.452102  0.466314 -0.184461 -2.144616 -0.663692 -0.841785   \n",
       "2 -1.329993  1.669932  1.411883 -0.564737 -0.303300 -0.925170  1.545457   \n",
       "3 -1.308328  0.697671  0.846283 -1.051581  0.415907  0.852844  0.571567   \n",
       "4 -0.584316  1.399291  1.046998 -1.195610  0.515598  0.367822  2.205182   \n",
       "\n",
       "       PC15  \n",
       "0 -1.047385  \n",
       "1 -0.502623  \n",
       "2 -0.135200  \n",
       "3 -0.712663  \n",
       "4  0.224340  "
      ]
     },
     "execution_count": 81,
     "metadata": {},
     "output_type": "execute_result"
    }
   ],
   "source": [
    "principal.head()"
   ]
  },
  {
   "cell_type": "code",
   "execution_count": 84,
   "metadata": {},
   "outputs": [
    {
     "data": {
      "image/png": "[encoded data removed]",
      "text/plain": [
       "<Figure size 432x288 with 1 Axes>"
      ]
     },
     "metadata": {
      "needs_background": "light"
     },
     "output_type": "display_data"
    }
   ],
   "source": [
    "from sklearn.cluster import KMeans\n",
    "wcss = []\n",
    "\n",
    "for i in range(1, 11):\n",
    "    kmeans = KMeans(n_clusters = i, init = 'k-means++', \n",
    "                    max_iter = 300, n_init = 10, random_state = 0)\n",
    "    kmeans.fit(principal)\n",
    "    wcss.append(kmeans.inertia_)\n",
    "    \n",
    "# Mostrando los resultados en un gráfico para determinar un codo 'The elbow'\n",
    "plt.plot(range(1, 11), wcss)\n",
    "plt.title('The elbow method')\n",
    "plt.xlabel('Número de clusters')\n",
    "plt.ylabel('WCSS') # Suma de cuadrados dentro del cluster\n",
    "plt.show()"
   ]
  },
  {
   "cell_type": "code",
   "execution_count": null,
   "metadata": {},
   "outputs": [],
   "source": []
  },
  {
   "cell_type": "code",
   "execution_count": null,
   "metadata": {},
   "outputs": [],
   "source": []
  },
  {
   "cell_type": "code",
   "execution_count": null,
   "metadata": {},
   "outputs": [],
   "source": []
  },
  {
   "cell_type": "code",
   "execution_count": null,
   "metadata": {},
   "outputs": [],
   "source": []
  },
  {
   "cell_type": "code",
   "execution_count": 58,
   "metadata": {},
   "outputs": [
    {
     "data": {
      "image/png": "[encoded data removed]",
      "text/plain": [
       "<Figure size 432x288 with 1 Axes>"
      ]
     },
     "metadata": {
      "needs_background": "light"
     },
     "output_type": "display_data"
    }
   ],
   "source": [
    "from sklearn.cluster import KMeans\n",
    "wcss = []\n",
    "\n",
    "for i in range(1, 11):\n",
    "    kmeans = KMeans(n_clusters = i, init = 'k-means++', \n",
    "                    max_iter = 300, n_init = 10, random_state = 0)\n",
    "    kmeans.fit(data)\n",
    "    wcss.append(kmeans.inertia_)\n",
    "    \n",
    "# Mostrando los resultados en un gráfico para determinar un codo 'The elbow'\n",
    "plt.plot(range(1, 11), wcss)\n",
    "plt.title('The elbow method')\n",
    "plt.xlabel('Número de clusters')\n",
    "plt.ylabel('WCSS') # Suma de cuadrados dentro del cluster\n",
    "plt.show()"
   ]
  },
  {
   "cell_type": "markdown",
   "metadata": {},
   "source": [
    "Esocgemos 7"
   ]
  },
  {
   "cell_type": "code",
   "execution_count": 89,
   "metadata": {},
   "outputs": [
    {
     "data": {
      "text/plain": [
       "array([3, 3, 3, ..., 3, 3, 2])"
      ]
     },
     "execution_count": 89,
     "metadata": {},
     "output_type": "execute_result"
    }
   ],
   "source": [
    "kmeans = KMeans(n_clusters = 5, init = 'k-means++',\n",
    "                max_iter = 300, n_init = 10, random_state = 0)\n",
    "y_kmeans = kmeans.fit_predict(data)\n",
    "y_kmeans"
   ]
  },
  {
   "cell_type": "code",
   "execution_count": 95,
   "metadata": {},
   "outputs": [
    {
     "name": "stdout",
     "output_type": "stream",
     "text": [
      "0     20816\n",
      "1     22063\n",
      "4     32239\n",
      "2    225774\n",
      "3    285148\n",
      "dtype: int64\n"
     ]
    }
   ],
   "source": [
    "kmeans_clusters=pd.DataFrame(y_kmeans)\n",
    "print(kmeans_clusters.value_counts(ascending=True)) #kmeans"
   ]
  },
  {
   "cell_type": "code",
   "execution_count": 96,
   "metadata": {},
   "outputs": [],
   "source": [
    "lista=[0.1,0.2,0.3,0.4,0.5,0.6,0.7,0.8,0.9]"
   ]
  },
  {
   "cell_type": "code",
   "execution_count": null,
   "metadata": {},
   "outputs": [],
   "source": [
    "from sklearn.cluster import DBSCAN\n",
    "from sklearn import metrics\n",
    "wcss = []\n",
    "\n",
    "for i in lista:\n",
    "    dbscan = DBSCAN(eps = i)\n",
    "    dbscan.fit(data)\n",
    "    wcss.append(dbscan.n_features_in_)\n",
    "    \n",
    "# Mostrando los resultados en un gráfico para determinar un codo 'The elbow'\n",
    "plt.plot(range(1, 9), wcss)\n",
    "plt.xlabel('eps')\n",
    "plt.ylabel('Número de clusters') # Suma de cuadrados dentro del cluster\n",
    "plt.show()"
   ]
  },
  {
   "cell_type": "code",
   "execution_count": null,
   "metadata": {},
   "outputs": [],
   "source": []
  },
  {
   "cell_type": "code",
   "execution_count": null,
   "metadata": {},
   "outputs": [],
   "source": []
  },
  {
   "cell_type": "code",
   "execution_count": 9,
   "metadata": {},
   "outputs": [
    {
     "data": {
      "text/plain": [
       "array([-1,  0,  0, ...,  1,  1, -1], dtype=int64)"
      ]
     },
     "execution_count": 9,
     "metadata": {},
     "output_type": "execute_result"
    }
   ],
   "source": [
    "dbscan=DBSCAN(eps=4.5,min_samples=10)\n",
    "dbclusters=dbscan.fit_predict(data)\n",
    "dbclusters"
   ]
  },
  {
   "cell_type": "code",
   "execution_count": null,
   "metadata": {},
   "outputs": [],
   "source": [
    "from sklearn.mixture import GaussianMixture\n",
    "gaussian=GaussianMixture(n_components=4,random_state=0)\n",
    "gaussianclusters=gaussian.fit_predict(data_df2)\n",
    "gaussianclusters"
   ]
  },
  {
   "cell_type": "code",
   "execution_count": null,
   "metadata": {},
   "outputs": [],
   "source": [
    "from sklearn.mixture import GaussianMixture\n",
    "wcss = []\n",
    "\n",
    "for i in range(1, 11):\n",
    "    gaussian = GaussianMixture(n_components = i)\n",
    "    gaussian.fit(data)\n",
    "    wcss.append(gaussian.lower_bound_)\n",
    "    \n",
    "# Mostrando los resultados en un gráfico para determinar un codo 'The elbow'\n",
    "plt.plot(range(1, 11), wcss)\n",
    "plt.xlabel('Número de clusters')\n",
    "plt.ylabel('WCSS') # Suma de cuadrados dentro del cluster\n",
    "plt.show()"
   ]
  },
  {
   "cell_type": "code",
   "execution_count": null,
   "metadata": {},
   "outputs": [],
   "source": []
  },
  {
   "cell_type": "code",
   "execution_count": null,
   "metadata": {},
   "outputs": [],
   "source": []
  },
  {
   "cell_type": "code",
   "execution_count": 11,
   "metadata": {},
   "outputs": [
    {
     "name": "stdout",
     "output_type": "stream",
     "text": [
      "1      8990\n",
      "0    207381\n",
      "dtype: int64\n",
      " 59         4\n",
      " 151        4\n",
      " 156        5\n",
      " 89         6\n",
      " 221        6\n",
      "        ...  \n",
      " 2      14214\n",
      " 4      16931\n",
      " 0      35679\n",
      " 1      57651\n",
      "-1      66686\n",
      "Length: 227, dtype: int64\n"
     ]
    }
   ],
   "source": [
    "kmeans_clusters=pd.DataFrame(y_kmeans)\n",
    "db_clusters=pd.DataFrame(dbclusters)\n",
    "#ward_clusters=pd.DataFrame(wardclusters)\n",
    "print(kmeans_clusters.value_counts(ascending=True)) #kmeans\n",
    "print(db_clusters.value_counts(ascending=True)) #dbscan\n",
    "#print(ward_clusters.value_counts(ascending=True)) #ward"
   ]
  },
  {
   "cell_type": "code",
   "execution_count": 13,
   "metadata": {},
   "outputs": [
    {
     "data": {
      "text/plain": [
       "(216371, 25)"
      ]
     },
     "execution_count": 13,
     "metadata": {},
     "output_type": "execute_result"
    }
   ],
   "source": [
    "data.shape"
   ]
  },
  {
   "cell_type": "code",
   "execution_count": null,
   "metadata": {},
   "outputs": [],
   "source": []
  },
  {
   "cell_type": "code",
   "execution_count": null,
   "metadata": {},
   "outputs": [],
   "source": []
  },
  {
   "cell_type": "code",
   "execution_count": null,
   "metadata": {},
   "outputs": [],
   "source": []
  },
  {
   "cell_type": "code",
   "execution_count": null,
   "metadata": {},
   "outputs": [],
   "source": [
    "default_params = {'quantile': .3,\n",
    "                  'eps': .2,\n",
    "                  'damping': .9,\n",
    "                  'preference': -200,\n",
    "                  'n_neighbors': 10,\n",
    "                  'n_clusters': 3}\n",
    "datasets = [('Standard Normal', data, {}),\n",
    "            ('Various Normal', data, {'eps': .18, 'n_neighbors': 2}),\n",
    "            ('Anisotropic Normal', data, {'eps': .15, 'n_neighbors': 2}),\n",
    "            ('Uniform', data, {}),\n",
    "            ('Circles', data, {'damping': .77, 'preference': -240,\n",
    "                                        'quantile': .2, 'n_clusters': 2}),\n",
    "            ('Moons', data, {'damping': .75,\n",
    "                                    'preference': -220, 'n_clusters': 2})]\n",
    "fig, axes = plt.subplots(figsize=(15, 15),\n",
    "                         ncols=5,\n",
    "                         nrows=len(data),\n",
    "                         sharey=True,\n",
    "                         sharex=True)\n",
    "\n",
    "plt.setp(axes, xticks=[], yticks=[], xlim=(-2.5, 2.5), ylim=(-2.5, 2.5))\n",
    "\n",
    "for d, (dataset_label, dataset, algo_params) in enumerate(datasets):\n",
    "    params = default_params.copy()\n",
    "    params.update(algo_params)\n",
    "\n",
    "    X, y = dataset\n",
    "    X = StandardScaler().fit_transform(X)\n",
    "\n",
    "    # connectivity matrix for structured Ward\n",
    "    connectivity = kneighbors_graph(X, n_neighbors=params['n_neighbors'],\n",
    "                                    include_self=False)\n",
    "    connectivity = 0.5 * (connectivity + connectivity.T)\n",
    "\n",
    "    kmeans = KMeans(n_clusters=params['n_clusters'])\n",
    "\n",
    "    spectral = SpectralClustering(n_clusters=params['n_clusters'],\n",
    "                                  eigen_solver='arpack',\n",
    "                                  affinity='nearest_neighbors')\n",
    "\n",
    "    dbscan = DBSCAN(eps=params['eps'])\n",
    "    average_linkage = AgglomerativeClustering(linkage=\"average\",\n",
    "                                              affinity=\"cityblock\",\n",
    "                                              n_clusters=params['n_clusters'],\n",
    "                                              connectivity=connectivity)\n",
    "\n",
    "    gmm = GaussianMixture(n_components=params['n_clusters'],\n",
    "                          covariance_type='full')\n",
    "\n",
    "    clustering_algorithms = (('KMeans', kmeans),\n",
    "                             ('SpectralClustering', spectral),\n",
    "                             ('AgglomerativeClustering', average_linkage),\n",
    "                             ('DBSCAN', dbscan),\n",
    "                             ('GaussianMixture', gmm))\n",
    "\n",
    "    for a, (name, algorithm) in enumerate(clustering_algorithms):\n",
    "\n",
    "        if name == 'GaussianMixture':\n",
    "            algorithm.fit(X)\n",
    "            y_pred = algorithm.predict(X)\n",
    "        else:\n",
    "            y_pred = algorithm.fit_predict(X)\n",
    "\n",
    "        axes[d, a].scatter(X[:, 0], \n",
    "                           X[:, 1], \n",
    "                           s=5, \n",
    "                           c=y_pred, \n",
    "                           cmap=cmap)\n",
    "        \n",
    "        if d == 0:\n",
    "            axes[d, a].set_title(name, size=14)\n",
    "        if a == 0:\n",
    "            axes[d, a].set_ylabel(dataset_label, size=12)\n",
    "\n",
    "        if y is None:\n",
    "            y = [.5] * n_samples\n",
    "        mi = adjusted_mutual_info_score(labels_pred=y_pred, \n",
    "                                        labels_true=y)\n",
    "        axes[d, a].text(0.85, 0.91, \n",
    "                        f'MI: {mi:.2f}', \n",
    "                        transform=axes[d, a].transAxes, \n",
    "                        fontsize=12)\n",
    "        axes[d, a].axes.get_xaxis().set_visible(False)\n",
    "\n",
    "sns.despine()\n",
    "fig.tight_layout()"
   ]
  },
  {
   "cell_type": "code",
   "execution_count": null,
   "metadata": {},
   "outputs": [],
   "source": []
  },
  {
   "cell_type": "code",
   "execution_count": null,
   "metadata": {},
   "outputs": [],
   "source": []
  }
 ],
 "metadata": {
  "colab": {
   "collapsed_sections": [],
   "name": "MACH_final.ipynb",
   "provenance": []
  },
  "kernelspec": {
   "display_name": "Python 3",
   "language": "python",
   "name": "python3"
  },
  "language_info": {
   "codemirror_mode": {
    "name": "ipython",
    "version": 3
   },
   "file_extension": ".py",
   "mimetype": "text/x-python",
   "name": "python",
   "nbconvert_exporter": "python",
   "pygments_lexer": "ipython3",
   "version": "3.8.5"
  }
 },
 "nbformat": 4,
 "nbformat_minor": 5
}
